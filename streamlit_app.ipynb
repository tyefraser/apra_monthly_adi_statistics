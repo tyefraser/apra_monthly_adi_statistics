{
 "cells": [
  {
   "cell_type": "code",
   "execution_count": 30,
   "metadata": {},
   "outputs": [],
   "source": [
    "# Set up environment\n",
    "\n",
    "## PS> cd <repo>\n",
    "## PS> python -m venv venv\n",
    "## PS> venv\\Scripts\\activate #  for linux/gitbash: source venv/Scripts/activate\n",
    "## %pip install -r requirements.txt\n",
    "\n",
    "# Load required packages\n",
    "## (venv) $ python -m pip install dash==2.8.1 pandas==1.5.3\n",
    "\n",
    "# streamlit run streamlit_app.py\n"
   ]
  },
  {
   "cell_type": "code",
   "execution_count": 2,
   "metadata": {},
   "outputs": [
    {
     "name": "stdout",
     "output_type": "stream",
     "text": [
      "The autoreload extension is already loaded. To reload it, use:\n",
      "  %reload_ext autoreload\n"
     ]
    }
   ],
   "source": [
    "%load_ext autoreload\n",
    "%autoreload 2\n",
    "\n",
    "# sys.path.insert(1, '../')"
   ]
  },
  {
   "cell_type": "markdown",
   "metadata": {},
   "source": [
    "# Setup"
   ]
  },
  {
   "cell_type": "code",
   "execution_count": 3,
   "metadata": {},
   "outputs": [],
   "source": [
    "from utils_logging import close_log_handlers\n",
    "\n",
    "close_log_handlers()"
   ]
  },
  {
   "cell_type": "code",
   "execution_count": 4,
   "metadata": {},
   "outputs": [
    {
     "name": "stderr",
     "output_type": "stream",
     "text": [
      "INFO:__main__:Folder 'pickle_files' has been created or already exists.\n"
     ]
    }
   ],
   "source": [
    "import pandas as pd\n",
    "import logging\n",
    "import os\n",
    "\n",
    "from utils_logging import setup_logging, close_log_handlers\n",
    "\n",
    "# Setup logging\n",
    "close_log_handlers()\n",
    "setup_logging()\n",
    "logger = logging.getLogger(__name__)\n",
    "\n",
    "\n",
    "# Create the pickle_files directory if it doesn't exist\n",
    "pkl_folder_name=\"pickle_files\"\n",
    "os.makedirs(pkl_folder_name, exist_ok=True)\n",
    "logger.info(f\"Folder '{pkl_folder_name}' has been created or already exists.\")"
   ]
  },
  {
   "cell_type": "markdown",
   "metadata": {},
   "source": [
    "# Read Yamls"
   ]
  },
  {
   "cell_type": "code",
   "execution_count": 10,
   "metadata": {},
   "outputs": [],
   "source": [
    "from read_yaml_files import read_yamls\n",
    "\n",
    "(\n",
    "    aliases_dict,\n",
    "    color_discrete_map,\n",
    "    data_config_dict,\n",
    "    date_column,\n",
    "    outputs_config_dict,\n",
    ") = read_yamls()\n",
    "\n",
    "# Grouping Columns\n",
    "company_column = data_config_dict['column_settings']['company_column'] # 'Institution Name'\n",
    "default_company = data_config_dict['column_settings']['default_company'] # 'Macquarie Bank Limited'\n"
   ]
  },
  {
   "cell_type": "markdown",
   "metadata": {},
   "source": [
    "# Load data"
   ]
  },
  {
   "cell_type": "code",
   "execution_count": 6,
   "metadata": {},
   "outputs": [],
   "source": [
    "file = r\"C:\\Users\\tyewf\\github_projects\\apra_monthly_adi_statistics\\pickle_files\\df_original.pkl\"\n",
    "if os.path.exists(file):\n",
    "    os.remove(file)\n",
    "file = r\"C:\\Users\\tyewf\\github_projects\\apra_monthly_adi_statistics\\pickle_files\\df_summary.pkl\"\n",
    "if os.path.exists(file):\n",
    "    os.remove(file)"
   ]
  },
  {
   "cell_type": "code",
   "execution_count": 7,
   "metadata": {},
   "outputs": [
    {
     "name": "stderr",
     "output_type": "stream",
     "text": [
      "INFO:data_loading:Executing: data_loader\n",
      "INFO:data_loading:Loading data from APRA website\n",
      "INFO:data_loading:Excel file has already been downloaded.\n",
      "INFO:data_loading:Excel data loaded successfully.\n",
      "INFO:data_loading:Executed: data_loader\n"
     ]
    }
   ],
   "source": [
    "from data_loading import data_loader\n",
    "\n",
    "# Get data\n",
    "df_original, df_summary = data_loader(\n",
    "    pkl_folder_name=pkl_folder_name,\n",
    "    data_config_dict=data_config_dict,\n",
    "    date_column=date_column,\n",
    ")\n",
    "# TO DO: add in check that companies are all unique - if not, make them (add abn)"
   ]
  },
  {
   "cell_type": "code",
   "execution_count": 8,
   "metadata": {},
   "outputs": [],
   "source": [
    "file = r\"C:\\Users\\tyewf\\github_projects\\apra_monthly_adi_statistics\\pickle_files\\df_original.pkl\"\n",
    "if os.path.exists(file):\n",
    "    os.remove(file)\n",
    "file = r\"C:\\Users\\tyewf\\github_projects\\apra_monthly_adi_statistics\\pickle_files\\df_summary.pkl\"\n",
    "if os.path.exists(file):\n",
    "    os.remove(file)"
   ]
  },
  {
   "cell_type": "code",
   "execution_count": 9,
   "metadata": {},
   "outputs": [
    {
     "data": {
      "text/html": [
       "<div>\n",
       "<style scoped>\n",
       "    .dataframe tbody tr th:only-of-type {\n",
       "        vertical-align: middle;\n",
       "    }\n",
       "\n",
       "    .dataframe tbody tr th {\n",
       "        vertical-align: top;\n",
       "    }\n",
       "\n",
       "    .dataframe thead th {\n",
       "        text-align: right;\n",
       "    }\n",
       "</style>\n",
       "<table border=\"1\" class=\"dataframe\">\n",
       "  <thead>\n",
       "    <tr style=\"text-align: right;\">\n",
       "      <th></th>\n",
       "      <th>Period</th>\n",
       "      <th>Institution Name</th>\n",
       "      <th>Cash and deposits with financial institutions</th>\n",
       "      <th>Trading securities</th>\n",
       "      <th>Investment securities</th>\n",
       "      <th>Net acceptances of customers</th>\n",
       "      <th>Total residents assets</th>\n",
       "      <th>Total securitised assets on balance sheet</th>\n",
       "      <th>Loans to non-financial businesses</th>\n",
       "      <th>Loans to financial institutions</th>\n",
       "      <th>...</th>\n",
       "      <th>Loans to non-financial businesses - Rank</th>\n",
       "      <th>Loans to community service organisations - Rank</th>\n",
       "      <th>Deposits by households - Rank</th>\n",
       "      <th>Loans to financial institutions - Rank</th>\n",
       "      <th>Loans to households: Credit cards - Rank</th>\n",
       "      <th>Deposits by community service organisations - Rank</th>\n",
       "      <th>Total long-term borrowings - Rank</th>\n",
       "      <th>Loans to households: Housing: Investment - Rank</th>\n",
       "      <th>Deposits by financial institutions - Rank</th>\n",
       "      <th>Total short-term borrowings - Rank</th>\n",
       "    </tr>\n",
       "  </thead>\n",
       "  <tbody>\n",
       "    <tr>\n",
       "      <th>7542</th>\n",
       "      <td>2019-03-31</td>\n",
       "      <td>Woori Bank</td>\n",
       "      <td>3.090000e+07</td>\n",
       "      <td>0.0</td>\n",
       "      <td>2.920000e+07</td>\n",
       "      <td>0.0</td>\n",
       "      <td>3.945000e+08</td>\n",
       "      <td>0.000000e+00</td>\n",
       "      <td>3.506000e+08</td>\n",
       "      <td>0.000000e+00</td>\n",
       "      <td>...</td>\n",
       "      <td>47</td>\n",
       "      <td>23</td>\n",
       "      <td>87</td>\n",
       "      <td>70</td>\n",
       "      <td>50</td>\n",
       "      <td>66</td>\n",
       "      <td>56</td>\n",
       "      <td>77</td>\n",
       "      <td>100</td>\n",
       "      <td>66</td>\n",
       "    </tr>\n",
       "    <tr>\n",
       "      <th>7450</th>\n",
       "      <td>2019-03-31</td>\n",
       "      <td>Community CPS Australia Limited</td>\n",
       "      <td>9.870000e+07</td>\n",
       "      <td>0.0</td>\n",
       "      <td>7.426000e+08</td>\n",
       "      <td>0.0</td>\n",
       "      <td>6.763900e+09</td>\n",
       "      <td>1.655000e+09</td>\n",
       "      <td>1.638000e+08</td>\n",
       "      <td>7.540000e+07</td>\n",
       "      <td>...</td>\n",
       "      <td>58</td>\n",
       "      <td>27</td>\n",
       "      <td>21</td>\n",
       "      <td>41</td>\n",
       "      <td>24</td>\n",
       "      <td>17</td>\n",
       "      <td>56</td>\n",
       "      <td>23</td>\n",
       "      <td>56</td>\n",
       "      <td>76</td>\n",
       "    </tr>\n",
       "    <tr>\n",
       "      <th>7451</th>\n",
       "      <td>2019-03-31</td>\n",
       "      <td>Community First Credit Union Limited</td>\n",
       "      <td>5.920000e+07</td>\n",
       "      <td>0.0</td>\n",
       "      <td>1.231000e+08</td>\n",
       "      <td>0.0</td>\n",
       "      <td>1.059200e+09</td>\n",
       "      <td>0.000000e+00</td>\n",
       "      <td>3.200000e+06</td>\n",
       "      <td>0.000000e+00</td>\n",
       "      <td>...</td>\n",
       "      <td>99</td>\n",
       "      <td>27</td>\n",
       "      <td>41</td>\n",
       "      <td>70</td>\n",
       "      <td>19</td>\n",
       "      <td>47</td>\n",
       "      <td>56</td>\n",
       "      <td>42</td>\n",
       "      <td>94</td>\n",
       "      <td>79</td>\n",
       "    </tr>\n",
       "    <tr>\n",
       "      <th>7452</th>\n",
       "      <td>2019-03-31</td>\n",
       "      <td>Cooperatieve Rabobank U.A.</td>\n",
       "      <td>6.390000e+07</td>\n",
       "      <td>190100000.0</td>\n",
       "      <td>2.856000e+08</td>\n",
       "      <td>0.0</td>\n",
       "      <td>1.245400e+10</td>\n",
       "      <td>0.000000e+00</td>\n",
       "      <td>4.781200e+09</td>\n",
       "      <td>0.000000e+00</td>\n",
       "      <td>...</td>\n",
       "      <td>19</td>\n",
       "      <td>5</td>\n",
       "      <td>89</td>\n",
       "      <td>70</td>\n",
       "      <td>50</td>\n",
       "      <td>70</td>\n",
       "      <td>9</td>\n",
       "      <td>77</td>\n",
       "      <td>36</td>\n",
       "      <td>18</td>\n",
       "    </tr>\n",
       "    <tr>\n",
       "      <th>7453</th>\n",
       "      <td>2019-03-31</td>\n",
       "      <td>Credit Suisse AG</td>\n",
       "      <td>8.790000e+07</td>\n",
       "      <td>786600000.0</td>\n",
       "      <td>0.000000e+00</td>\n",
       "      <td>0.0</td>\n",
       "      <td>6.557700e+09</td>\n",
       "      <td>0.000000e+00</td>\n",
       "      <td>2.760100e+09</td>\n",
       "      <td>1.197900e+09</td>\n",
       "      <td>...</td>\n",
       "      <td>27</td>\n",
       "      <td>11</td>\n",
       "      <td>62</td>\n",
       "      <td>15</td>\n",
       "      <td>50</td>\n",
       "      <td>70</td>\n",
       "      <td>15</td>\n",
       "      <td>56</td>\n",
       "      <td>39</td>\n",
       "      <td>14</td>\n",
       "    </tr>\n",
       "    <tr>\n",
       "      <th>7454</th>\n",
       "      <td>2019-03-31</td>\n",
       "      <td>Credit Union Australia Ltd</td>\n",
       "      <td>3.447000e+08</td>\n",
       "      <td>0.0</td>\n",
       "      <td>1.883900e+09</td>\n",
       "      <td>0.0</td>\n",
       "      <td>1.762250e+10</td>\n",
       "      <td>3.989500e+09</td>\n",
       "      <td>1.073000e+08</td>\n",
       "      <td>0.000000e+00</td>\n",
       "      <td>...</td>\n",
       "      <td>63</td>\n",
       "      <td>27</td>\n",
       "      <td>11</td>\n",
       "      <td>70</td>\n",
       "      <td>14</td>\n",
       "      <td>62</td>\n",
       "      <td>27</td>\n",
       "      <td>13</td>\n",
       "      <td>24</td>\n",
       "      <td>30</td>\n",
       "    </tr>\n",
       "    <tr>\n",
       "      <th>7455</th>\n",
       "      <td>2019-03-31</td>\n",
       "      <td>Credit Union SA Ltd</td>\n",
       "      <td>3.550000e+07</td>\n",
       "      <td>0.0</td>\n",
       "      <td>1.385000e+08</td>\n",
       "      <td>0.0</td>\n",
       "      <td>1.165900e+09</td>\n",
       "      <td>9.110000e+07</td>\n",
       "      <td>5.900000e+06</td>\n",
       "      <td>0.000000e+00</td>\n",
       "      <td>...</td>\n",
       "      <td>96</td>\n",
       "      <td>27</td>\n",
       "      <td>39</td>\n",
       "      <td>70</td>\n",
       "      <td>29</td>\n",
       "      <td>42</td>\n",
       "      <td>56</td>\n",
       "      <td>46</td>\n",
       "      <td>67</td>\n",
       "      <td>79</td>\n",
       "    </tr>\n",
       "    <tr>\n",
       "      <th>7456</th>\n",
       "      <td>2019-03-31</td>\n",
       "      <td>Cuscal Limited</td>\n",
       "      <td>1.016400e+09</td>\n",
       "      <td>0.0</td>\n",
       "      <td>1.057500e+09</td>\n",
       "      <td>0.0</td>\n",
       "      <td>2.185200e+09</td>\n",
       "      <td>0.000000e+00</td>\n",
       "      <td>0.000000e+00</td>\n",
       "      <td>2.700000e+06</td>\n",
       "      <td>...</td>\n",
       "      <td>110</td>\n",
       "      <td>27</td>\n",
       "      <td>89</td>\n",
       "      <td>62</td>\n",
       "      <td>50</td>\n",
       "      <td>70</td>\n",
       "      <td>56</td>\n",
       "      <td>77</td>\n",
       "      <td>22</td>\n",
       "      <td>61</td>\n",
       "    </tr>\n",
       "    <tr>\n",
       "      <th>7457</th>\n",
       "      <td>2019-03-31</td>\n",
       "      <td>DBS Bank Ltd</td>\n",
       "      <td>1.861000e+08</td>\n",
       "      <td>0.0</td>\n",
       "      <td>1.291700e+09</td>\n",
       "      <td>0.0</td>\n",
       "      <td>6.097200e+09</td>\n",
       "      <td>0.000000e+00</td>\n",
       "      <td>4.198200e+09</td>\n",
       "      <td>1.000000e+08</td>\n",
       "      <td>...</td>\n",
       "      <td>24</td>\n",
       "      <td>27</td>\n",
       "      <td>89</td>\n",
       "      <td>37</td>\n",
       "      <td>50</td>\n",
       "      <td>70</td>\n",
       "      <td>28</td>\n",
       "      <td>77</td>\n",
       "      <td>43</td>\n",
       "      <td>22</td>\n",
       "    </tr>\n",
       "    <tr>\n",
       "      <th>7458</th>\n",
       "      <td>2019-03-31</td>\n",
       "      <td>Defence Bank Limited</td>\n",
       "      <td>7.070000e+07</td>\n",
       "      <td>0.0</td>\n",
       "      <td>2.555000e+08</td>\n",
       "      <td>0.0</td>\n",
       "      <td>2.431500e+09</td>\n",
       "      <td>0.000000e+00</td>\n",
       "      <td>4.000000e+05</td>\n",
       "      <td>1.000000e+05</td>\n",
       "      <td>...</td>\n",
       "      <td>107</td>\n",
       "      <td>27</td>\n",
       "      <td>35</td>\n",
       "      <td>69</td>\n",
       "      <td>28</td>\n",
       "      <td>30</td>\n",
       "      <td>39</td>\n",
       "      <td>35</td>\n",
       "      <td>51</td>\n",
       "      <td>49</td>\n",
       "    </tr>\n",
       "    <tr>\n",
       "      <th>7459</th>\n",
       "      <td>2019-03-31</td>\n",
       "      <td>Deutsche Bank Aktiengesellschaft</td>\n",
       "      <td>1.999000e+08</td>\n",
       "      <td>722000000.0</td>\n",
       "      <td>3.490400e+09</td>\n",
       "      <td>0.0</td>\n",
       "      <td>1.290700e+10</td>\n",
       "      <td>0.000000e+00</td>\n",
       "      <td>1.017600e+09</td>\n",
       "      <td>1.144300e+09</td>\n",
       "      <td>...</td>\n",
       "      <td>38</td>\n",
       "      <td>27</td>\n",
       "      <td>89</td>\n",
       "      <td>16</td>\n",
       "      <td>50</td>\n",
       "      <td>70</td>\n",
       "      <td>31</td>\n",
       "      <td>77</td>\n",
       "      <td>48</td>\n",
       "      <td>34</td>\n",
       "    </tr>\n",
       "    <tr>\n",
       "      <th>7460</th>\n",
       "      <td>2019-03-31</td>\n",
       "      <td>E.SUN Commercial Bank, Ltd.</td>\n",
       "      <td>1.400000e+06</td>\n",
       "      <td>0.0</td>\n",
       "      <td>4.247000e+08</td>\n",
       "      <td>0.0</td>\n",
       "      <td>1.130700e+09</td>\n",
       "      <td>0.000000e+00</td>\n",
       "      <td>6.019000e+08</td>\n",
       "      <td>9.510000e+07</td>\n",
       "      <td>...</td>\n",
       "      <td>41</td>\n",
       "      <td>27</td>\n",
       "      <td>77</td>\n",
       "      <td>39</td>\n",
       "      <td>50</td>\n",
       "      <td>70</td>\n",
       "      <td>56</td>\n",
       "      <td>77</td>\n",
       "      <td>100</td>\n",
       "      <td>46</td>\n",
       "    </tr>\n",
       "    <tr>\n",
       "      <th>7461</th>\n",
       "      <td>2019-03-31</td>\n",
       "      <td>EECU Limited</td>\n",
       "      <td>1.210000e+07</td>\n",
       "      <td>0.0</td>\n",
       "      <td>4.710000e+07</td>\n",
       "      <td>0.0</td>\n",
       "      <td>3.391000e+08</td>\n",
       "      <td>2.400000e+06</td>\n",
       "      <td>3.400000e+06</td>\n",
       "      <td>0.000000e+00</td>\n",
       "      <td>...</td>\n",
       "      <td>98</td>\n",
       "      <td>27</td>\n",
       "      <td>67</td>\n",
       "      <td>70</td>\n",
       "      <td>48</td>\n",
       "      <td>70</td>\n",
       "      <td>51</td>\n",
       "      <td>58</td>\n",
       "      <td>87</td>\n",
       "      <td>80</td>\n",
       "    </tr>\n",
       "    <tr>\n",
       "      <th>7462</th>\n",
       "      <td>2019-03-31</td>\n",
       "      <td>Endeavour Mutual Bank Ltd</td>\n",
       "      <td>6.290000e+07</td>\n",
       "      <td>0.0</td>\n",
       "      <td>8.050000e+07</td>\n",
       "      <td>0.0</td>\n",
       "      <td>6.283000e+08</td>\n",
       "      <td>0.000000e+00</td>\n",
       "      <td>8.000000e+05</td>\n",
       "      <td>0.000000e+00</td>\n",
       "      <td>...</td>\n",
       "      <td>103</td>\n",
       "      <td>27</td>\n",
       "      <td>53</td>\n",
       "      <td>70</td>\n",
       "      <td>38</td>\n",
       "      <td>56</td>\n",
       "      <td>56</td>\n",
       "      <td>52</td>\n",
       "      <td>83</td>\n",
       "      <td>80</td>\n",
       "    </tr>\n",
       "    <tr>\n",
       "      <th>7463</th>\n",
       "      <td>2019-03-31</td>\n",
       "      <td>First Commercial Bank</td>\n",
       "      <td>1.110000e+07</td>\n",
       "      <td>0.0</td>\n",
       "      <td>1.964000e+08</td>\n",
       "      <td>0.0</td>\n",
       "      <td>1.480100e+09</td>\n",
       "      <td>0.000000e+00</td>\n",
       "      <td>1.245600e+09</td>\n",
       "      <td>2.820000e+07</td>\n",
       "      <td>...</td>\n",
       "      <td>36</td>\n",
       "      <td>27</td>\n",
       "      <td>86</td>\n",
       "      <td>53</td>\n",
       "      <td>50</td>\n",
       "      <td>70</td>\n",
       "      <td>56</td>\n",
       "      <td>77</td>\n",
       "      <td>100</td>\n",
       "      <td>29</td>\n",
       "    </tr>\n",
       "    <tr>\n",
       "      <th>7464</th>\n",
       "      <td>2019-03-31</td>\n",
       "      <td>First Option Bank Ltd</td>\n",
       "      <td>2.690000e+07</td>\n",
       "      <td>0.0</td>\n",
       "      <td>2.000000e+07</td>\n",
       "      <td>0.0</td>\n",
       "      <td>2.184000e+08</td>\n",
       "      <td>0.000000e+00</td>\n",
       "      <td>3.900000e+06</td>\n",
       "      <td>0.000000e+00</td>\n",
       "      <td>...</td>\n",
       "      <td>97</td>\n",
       "      <td>27</td>\n",
       "      <td>71</td>\n",
       "      <td>70</td>\n",
       "      <td>43</td>\n",
       "      <td>70</td>\n",
       "      <td>56</td>\n",
       "      <td>68</td>\n",
       "      <td>100</td>\n",
       "      <td>80</td>\n",
       "    </tr>\n",
       "    <tr>\n",
       "      <th>7465</th>\n",
       "      <td>2019-03-31</td>\n",
       "      <td>G&amp;C Mutual Bank Limited</td>\n",
       "      <td>1.177000e+08</td>\n",
       "      <td>0.0</td>\n",
       "      <td>2.761000e+08</td>\n",
       "      <td>0.0</td>\n",
       "      <td>1.276300e+09</td>\n",
       "      <td>1.330000e+08</td>\n",
       "      <td>6.520000e+07</td>\n",
       "      <td>0.000000e+00</td>\n",
       "      <td>...</td>\n",
       "      <td>72</td>\n",
       "      <td>26</td>\n",
       "      <td>48</td>\n",
       "      <td>70</td>\n",
       "      <td>33</td>\n",
       "      <td>41</td>\n",
       "      <td>56</td>\n",
       "      <td>41</td>\n",
       "      <td>55</td>\n",
       "      <td>54</td>\n",
       "    </tr>\n",
       "    <tr>\n",
       "      <th>7466</th>\n",
       "      <td>2019-03-31</td>\n",
       "      <td>Gateway Bank Ltd</td>\n",
       "      <td>3.510000e+07</td>\n",
       "      <td>0.0</td>\n",
       "      <td>1.401000e+08</td>\n",
       "      <td>0.0</td>\n",
       "      <td>1.111700e+09</td>\n",
       "      <td>0.000000e+00</td>\n",
       "      <td>1.200000e+06</td>\n",
       "      <td>0.000000e+00</td>\n",
       "      <td>...</td>\n",
       "      <td>101</td>\n",
       "      <td>27</td>\n",
       "      <td>46</td>\n",
       "      <td>70</td>\n",
       "      <td>50</td>\n",
       "      <td>54</td>\n",
       "      <td>56</td>\n",
       "      <td>43</td>\n",
       "      <td>61</td>\n",
       "      <td>51</td>\n",
       "    </tr>\n",
       "    <tr>\n",
       "      <th>7467</th>\n",
       "      <td>2019-03-31</td>\n",
       "      <td>Goldfields Money Limited</td>\n",
       "      <td>4.660000e+07</td>\n",
       "      <td>0.0</td>\n",
       "      <td>2.500000e+07</td>\n",
       "      <td>0.0</td>\n",
       "      <td>3.335000e+08</td>\n",
       "      <td>0.000000e+00</td>\n",
       "      <td>1.850000e+07</td>\n",
       "      <td>1.420000e+07</td>\n",
       "      <td>...</td>\n",
       "      <td>87</td>\n",
       "      <td>27</td>\n",
       "      <td>74</td>\n",
       "      <td>56</td>\n",
       "      <td>50</td>\n",
       "      <td>67</td>\n",
       "      <td>56</td>\n",
       "      <td>63</td>\n",
       "      <td>90</td>\n",
       "      <td>80</td>\n",
       "    </tr>\n",
       "    <tr>\n",
       "      <th>7468</th>\n",
       "      <td>2019-03-31</td>\n",
       "      <td>Goulburn Murray Credit Union Co-operative Limited</td>\n",
       "      <td>3.280000e+07</td>\n",
       "      <td>0.0</td>\n",
       "      <td>6.520000e+07</td>\n",
       "      <td>0.0</td>\n",
       "      <td>3.879000e+08</td>\n",
       "      <td>0.000000e+00</td>\n",
       "      <td>2.630000e+07</td>\n",
       "      <td>2.300000e+06</td>\n",
       "      <td>...</td>\n",
       "      <td>85</td>\n",
       "      <td>16</td>\n",
       "      <td>64</td>\n",
       "      <td>63</td>\n",
       "      <td>50</td>\n",
       "      <td>44</td>\n",
       "      <td>56</td>\n",
       "      <td>65</td>\n",
       "      <td>89</td>\n",
       "      <td>80</td>\n",
       "    </tr>\n",
       "  </tbody>\n",
       "</table>\n",
       "<p>20 rows × 58 columns</p>\n",
       "</div>"
      ],
      "text/plain": [
       "         Period                                   Institution Name  \\\n",
       "7542 2019-03-31                                         Woori Bank   \n",
       "7450 2019-03-31                    Community CPS Australia Limited   \n",
       "7451 2019-03-31               Community First Credit Union Limited   \n",
       "7452 2019-03-31                         Cooperatieve Rabobank U.A.   \n",
       "7453 2019-03-31                                   Credit Suisse AG   \n",
       "7454 2019-03-31                         Credit Union Australia Ltd   \n",
       "7455 2019-03-31                                Credit Union SA Ltd   \n",
       "7456 2019-03-31                                     Cuscal Limited   \n",
       "7457 2019-03-31                                       DBS Bank Ltd   \n",
       "7458 2019-03-31                               Defence Bank Limited   \n",
       "7459 2019-03-31                   Deutsche Bank Aktiengesellschaft   \n",
       "7460 2019-03-31                        E.SUN Commercial Bank, Ltd.   \n",
       "7461 2019-03-31                                       EECU Limited   \n",
       "7462 2019-03-31                          Endeavour Mutual Bank Ltd   \n",
       "7463 2019-03-31                              First Commercial Bank   \n",
       "7464 2019-03-31                              First Option Bank Ltd   \n",
       "7465 2019-03-31                            G&C Mutual Bank Limited   \n",
       "7466 2019-03-31                                   Gateway Bank Ltd   \n",
       "7467 2019-03-31                           Goldfields Money Limited   \n",
       "7468 2019-03-31  Goulburn Murray Credit Union Co-operative Limited   \n",
       "\n",
       "      Cash and deposits with financial institutions  Trading securities  \\\n",
       "7542                                   3.090000e+07                 0.0   \n",
       "7450                                   9.870000e+07                 0.0   \n",
       "7451                                   5.920000e+07                 0.0   \n",
       "7452                                   6.390000e+07         190100000.0   \n",
       "7453                                   8.790000e+07         786600000.0   \n",
       "7454                                   3.447000e+08                 0.0   \n",
       "7455                                   3.550000e+07                 0.0   \n",
       "7456                                   1.016400e+09                 0.0   \n",
       "7457                                   1.861000e+08                 0.0   \n",
       "7458                                   7.070000e+07                 0.0   \n",
       "7459                                   1.999000e+08         722000000.0   \n",
       "7460                                   1.400000e+06                 0.0   \n",
       "7461                                   1.210000e+07                 0.0   \n",
       "7462                                   6.290000e+07                 0.0   \n",
       "7463                                   1.110000e+07                 0.0   \n",
       "7464                                   2.690000e+07                 0.0   \n",
       "7465                                   1.177000e+08                 0.0   \n",
       "7466                                   3.510000e+07                 0.0   \n",
       "7467                                   4.660000e+07                 0.0   \n",
       "7468                                   3.280000e+07                 0.0   \n",
       "\n",
       "      Investment securities  Net acceptances of customers  \\\n",
       "7542           2.920000e+07                           0.0   \n",
       "7450           7.426000e+08                           0.0   \n",
       "7451           1.231000e+08                           0.0   \n",
       "7452           2.856000e+08                           0.0   \n",
       "7453           0.000000e+00                           0.0   \n",
       "7454           1.883900e+09                           0.0   \n",
       "7455           1.385000e+08                           0.0   \n",
       "7456           1.057500e+09                           0.0   \n",
       "7457           1.291700e+09                           0.0   \n",
       "7458           2.555000e+08                           0.0   \n",
       "7459           3.490400e+09                           0.0   \n",
       "7460           4.247000e+08                           0.0   \n",
       "7461           4.710000e+07                           0.0   \n",
       "7462           8.050000e+07                           0.0   \n",
       "7463           1.964000e+08                           0.0   \n",
       "7464           2.000000e+07                           0.0   \n",
       "7465           2.761000e+08                           0.0   \n",
       "7466           1.401000e+08                           0.0   \n",
       "7467           2.500000e+07                           0.0   \n",
       "7468           6.520000e+07                           0.0   \n",
       "\n",
       "      Total residents assets  Total securitised assets on balance sheet  \\\n",
       "7542            3.945000e+08                               0.000000e+00   \n",
       "7450            6.763900e+09                               1.655000e+09   \n",
       "7451            1.059200e+09                               0.000000e+00   \n",
       "7452            1.245400e+10                               0.000000e+00   \n",
       "7453            6.557700e+09                               0.000000e+00   \n",
       "7454            1.762250e+10                               3.989500e+09   \n",
       "7455            1.165900e+09                               9.110000e+07   \n",
       "7456            2.185200e+09                               0.000000e+00   \n",
       "7457            6.097200e+09                               0.000000e+00   \n",
       "7458            2.431500e+09                               0.000000e+00   \n",
       "7459            1.290700e+10                               0.000000e+00   \n",
       "7460            1.130700e+09                               0.000000e+00   \n",
       "7461            3.391000e+08                               2.400000e+06   \n",
       "7462            6.283000e+08                               0.000000e+00   \n",
       "7463            1.480100e+09                               0.000000e+00   \n",
       "7464            2.184000e+08                               0.000000e+00   \n",
       "7465            1.276300e+09                               1.330000e+08   \n",
       "7466            1.111700e+09                               0.000000e+00   \n",
       "7467            3.335000e+08                               0.000000e+00   \n",
       "7468            3.879000e+08                               0.000000e+00   \n",
       "\n",
       "      Loans to non-financial businesses  Loans to financial institutions  ...  \\\n",
       "7542                       3.506000e+08                     0.000000e+00  ...   \n",
       "7450                       1.638000e+08                     7.540000e+07  ...   \n",
       "7451                       3.200000e+06                     0.000000e+00  ...   \n",
       "7452                       4.781200e+09                     0.000000e+00  ...   \n",
       "7453                       2.760100e+09                     1.197900e+09  ...   \n",
       "7454                       1.073000e+08                     0.000000e+00  ...   \n",
       "7455                       5.900000e+06                     0.000000e+00  ...   \n",
       "7456                       0.000000e+00                     2.700000e+06  ...   \n",
       "7457                       4.198200e+09                     1.000000e+08  ...   \n",
       "7458                       4.000000e+05                     1.000000e+05  ...   \n",
       "7459                       1.017600e+09                     1.144300e+09  ...   \n",
       "7460                       6.019000e+08                     9.510000e+07  ...   \n",
       "7461                       3.400000e+06                     0.000000e+00  ...   \n",
       "7462                       8.000000e+05                     0.000000e+00  ...   \n",
       "7463                       1.245600e+09                     2.820000e+07  ...   \n",
       "7464                       3.900000e+06                     0.000000e+00  ...   \n",
       "7465                       6.520000e+07                     0.000000e+00  ...   \n",
       "7466                       1.200000e+06                     0.000000e+00  ...   \n",
       "7467                       1.850000e+07                     1.420000e+07  ...   \n",
       "7468                       2.630000e+07                     2.300000e+06  ...   \n",
       "\n",
       "      Loans to non-financial businesses - Rank  \\\n",
       "7542                                        47   \n",
       "7450                                        58   \n",
       "7451                                        99   \n",
       "7452                                        19   \n",
       "7453                                        27   \n",
       "7454                                        63   \n",
       "7455                                        96   \n",
       "7456                                       110   \n",
       "7457                                        24   \n",
       "7458                                       107   \n",
       "7459                                        38   \n",
       "7460                                        41   \n",
       "7461                                        98   \n",
       "7462                                       103   \n",
       "7463                                        36   \n",
       "7464                                        97   \n",
       "7465                                        72   \n",
       "7466                                       101   \n",
       "7467                                        87   \n",
       "7468                                        85   \n",
       "\n",
       "      Loans to community service organisations - Rank  \\\n",
       "7542                                               23   \n",
       "7450                                               27   \n",
       "7451                                               27   \n",
       "7452                                                5   \n",
       "7453                                               11   \n",
       "7454                                               27   \n",
       "7455                                               27   \n",
       "7456                                               27   \n",
       "7457                                               27   \n",
       "7458                                               27   \n",
       "7459                                               27   \n",
       "7460                                               27   \n",
       "7461                                               27   \n",
       "7462                                               27   \n",
       "7463                                               27   \n",
       "7464                                               27   \n",
       "7465                                               26   \n",
       "7466                                               27   \n",
       "7467                                               27   \n",
       "7468                                               16   \n",
       "\n",
       "      Deposits by households - Rank  Loans to financial institutions - Rank  \\\n",
       "7542                             87                                      70   \n",
       "7450                             21                                      41   \n",
       "7451                             41                                      70   \n",
       "7452                             89                                      70   \n",
       "7453                             62                                      15   \n",
       "7454                             11                                      70   \n",
       "7455                             39                                      70   \n",
       "7456                             89                                      62   \n",
       "7457                             89                                      37   \n",
       "7458                             35                                      69   \n",
       "7459                             89                                      16   \n",
       "7460                             77                                      39   \n",
       "7461                             67                                      70   \n",
       "7462                             53                                      70   \n",
       "7463                             86                                      53   \n",
       "7464                             71                                      70   \n",
       "7465                             48                                      70   \n",
       "7466                             46                                      70   \n",
       "7467                             74                                      56   \n",
       "7468                             64                                      63   \n",
       "\n",
       "      Loans to households: Credit cards - Rank  \\\n",
       "7542                                        50   \n",
       "7450                                        24   \n",
       "7451                                        19   \n",
       "7452                                        50   \n",
       "7453                                        50   \n",
       "7454                                        14   \n",
       "7455                                        29   \n",
       "7456                                        50   \n",
       "7457                                        50   \n",
       "7458                                        28   \n",
       "7459                                        50   \n",
       "7460                                        50   \n",
       "7461                                        48   \n",
       "7462                                        38   \n",
       "7463                                        50   \n",
       "7464                                        43   \n",
       "7465                                        33   \n",
       "7466                                        50   \n",
       "7467                                        50   \n",
       "7468                                        50   \n",
       "\n",
       "      Deposits by community service organisations - Rank  \\\n",
       "7542                                                 66    \n",
       "7450                                                 17    \n",
       "7451                                                 47    \n",
       "7452                                                 70    \n",
       "7453                                                 70    \n",
       "7454                                                 62    \n",
       "7455                                                 42    \n",
       "7456                                                 70    \n",
       "7457                                                 70    \n",
       "7458                                                 30    \n",
       "7459                                                 70    \n",
       "7460                                                 70    \n",
       "7461                                                 70    \n",
       "7462                                                 56    \n",
       "7463                                                 70    \n",
       "7464                                                 70    \n",
       "7465                                                 41    \n",
       "7466                                                 54    \n",
       "7467                                                 67    \n",
       "7468                                                 44    \n",
       "\n",
       "      Total long-term borrowings - Rank  \\\n",
       "7542                                 56   \n",
       "7450                                 56   \n",
       "7451                                 56   \n",
       "7452                                  9   \n",
       "7453                                 15   \n",
       "7454                                 27   \n",
       "7455                                 56   \n",
       "7456                                 56   \n",
       "7457                                 28   \n",
       "7458                                 39   \n",
       "7459                                 31   \n",
       "7460                                 56   \n",
       "7461                                 51   \n",
       "7462                                 56   \n",
       "7463                                 56   \n",
       "7464                                 56   \n",
       "7465                                 56   \n",
       "7466                                 56   \n",
       "7467                                 56   \n",
       "7468                                 56   \n",
       "\n",
       "      Loans to households: Housing: Investment - Rank  \\\n",
       "7542                                               77   \n",
       "7450                                               23   \n",
       "7451                                               42   \n",
       "7452                                               77   \n",
       "7453                                               56   \n",
       "7454                                               13   \n",
       "7455                                               46   \n",
       "7456                                               77   \n",
       "7457                                               77   \n",
       "7458                                               35   \n",
       "7459                                               77   \n",
       "7460                                               77   \n",
       "7461                                               58   \n",
       "7462                                               52   \n",
       "7463                                               77   \n",
       "7464                                               68   \n",
       "7465                                               41   \n",
       "7466                                               43   \n",
       "7467                                               63   \n",
       "7468                                               65   \n",
       "\n",
       "      Deposits by financial institutions - Rank  \\\n",
       "7542                                        100   \n",
       "7450                                         56   \n",
       "7451                                         94   \n",
       "7452                                         36   \n",
       "7453                                         39   \n",
       "7454                                         24   \n",
       "7455                                         67   \n",
       "7456                                         22   \n",
       "7457                                         43   \n",
       "7458                                         51   \n",
       "7459                                         48   \n",
       "7460                                        100   \n",
       "7461                                         87   \n",
       "7462                                         83   \n",
       "7463                                        100   \n",
       "7464                                        100   \n",
       "7465                                         55   \n",
       "7466                                         61   \n",
       "7467                                         90   \n",
       "7468                                         89   \n",
       "\n",
       "      Total short-term borrowings - Rank  \n",
       "7542                                  66  \n",
       "7450                                  76  \n",
       "7451                                  79  \n",
       "7452                                  18  \n",
       "7453                                  14  \n",
       "7454                                  30  \n",
       "7455                                  79  \n",
       "7456                                  61  \n",
       "7457                                  22  \n",
       "7458                                  49  \n",
       "7459                                  34  \n",
       "7460                                  46  \n",
       "7461                                  80  \n",
       "7462                                  80  \n",
       "7463                                  29  \n",
       "7464                                  80  \n",
       "7465                                  54  \n",
       "7466                                  51  \n",
       "7467                                  80  \n",
       "7468                                  80  \n",
       "\n",
       "[20 rows x 58 columns]"
      ]
     },
     "execution_count": 9,
     "metadata": {},
     "output_type": "execute_result"
    }
   ],
   "source": [
    "df_original[0:20]\n",
    "# df_summary[0:2]"
   ]
  },
  {
   "cell_type": "code",
   "execution_count": 9,
   "metadata": {},
   "outputs": [
    {
     "data": {
      "text/html": [
       "<div>\n",
       "<style scoped>\n",
       "    .dataframe tbody tr th:only-of-type {\n",
       "        vertical-align: middle;\n",
       "    }\n",
       "\n",
       "    .dataframe tbody tr th {\n",
       "        vertical-align: top;\n",
       "    }\n",
       "\n",
       "    .dataframe thead th {\n",
       "        text-align: right;\n",
       "    }\n",
       "</style>\n",
       "<table border=\"1\" class=\"dataframe\">\n",
       "  <thead>\n",
       "    <tr style=\"text-align: right;\">\n",
       "      <th></th>\n",
       "      <th>Period</th>\n",
       "      <th>Cash and deposits with financial institutions</th>\n",
       "      <th>Cash and deposits with financial institutions - Rank</th>\n",
       "    </tr>\n",
       "  </thead>\n",
       "  <tbody>\n",
       "    <tr>\n",
       "      <th>43</th>\n",
       "      <td>2024-02-29</td>\n",
       "      <td>1.519000e+08</td>\n",
       "      <td>53</td>\n",
       "    </tr>\n",
       "    <tr>\n",
       "      <th>42</th>\n",
       "      <td>2024-02-29</td>\n",
       "      <td>1.833000e+08</td>\n",
       "      <td>48</td>\n",
       "    </tr>\n",
       "    <tr>\n",
       "      <th>41</th>\n",
       "      <td>2024-02-29</td>\n",
       "      <td>2.142100e+09</td>\n",
       "      <td>12</td>\n",
       "    </tr>\n",
       "    <tr>\n",
       "      <th>40</th>\n",
       "      <td>2024-02-29</td>\n",
       "      <td>8.380000e+07</td>\n",
       "      <td>66</td>\n",
       "    </tr>\n",
       "    <tr>\n",
       "      <th>39</th>\n",
       "      <td>2024-02-29</td>\n",
       "      <td>4.365000e+08</td>\n",
       "      <td>31</td>\n",
       "    </tr>\n",
       "    <tr>\n",
       "      <th>...</th>\n",
       "      <td>...</td>\n",
       "      <td>...</td>\n",
       "      <td>...</td>\n",
       "    </tr>\n",
       "    <tr>\n",
       "      <th>91</th>\n",
       "      <td>2024-02-29</td>\n",
       "      <td>1.628000e+08</td>\n",
       "      <td>51</td>\n",
       "    </tr>\n",
       "    <tr>\n",
       "      <th>92</th>\n",
       "      <td>2024-02-29</td>\n",
       "      <td>1.505000e+08</td>\n",
       "      <td>54</td>\n",
       "    </tr>\n",
       "    <tr>\n",
       "      <th>93</th>\n",
       "      <td>2024-02-29</td>\n",
       "      <td>1.107300e+09</td>\n",
       "      <td>22</td>\n",
       "    </tr>\n",
       "    <tr>\n",
       "      <th>63</th>\n",
       "      <td>2024-02-29</td>\n",
       "      <td>2.109000e+09</td>\n",
       "      <td>13</td>\n",
       "    </tr>\n",
       "    <tr>\n",
       "      <th>0</th>\n",
       "      <td>2024-02-29</td>\n",
       "      <td>4.750000e+07</td>\n",
       "      <td>85</td>\n",
       "    </tr>\n",
       "  </tbody>\n",
       "</table>\n",
       "<p>127 rows × 3 columns</p>\n",
       "</div>"
      ],
      "text/plain": [
       "       Period  Cash and deposits with financial institutions  \\\n",
       "43 2024-02-29                                   1.519000e+08   \n",
       "42 2024-02-29                                   1.833000e+08   \n",
       "41 2024-02-29                                   2.142100e+09   \n",
       "40 2024-02-29                                   8.380000e+07   \n",
       "39 2024-02-29                                   4.365000e+08   \n",
       "..        ...                                            ...   \n",
       "91 2024-02-29                                   1.628000e+08   \n",
       "92 2024-02-29                                   1.505000e+08   \n",
       "93 2024-02-29                                   1.107300e+09   \n",
       "63 2024-02-29                                   2.109000e+09   \n",
       "0  2024-02-29                                   4.750000e+07   \n",
       "\n",
       "    Cash and deposits with financial institutions - Rank  \n",
       "43                                                 53     \n",
       "42                                                 48     \n",
       "41                                                 12     \n",
       "40                                                 66     \n",
       "39                                                 31     \n",
       "..                                                ...     \n",
       "91                                                 51     \n",
       "92                                                 54     \n",
       "93                                                 22     \n",
       "63                                                 13     \n",
       "0                                                  85     \n",
       "\n",
       "[127 rows x 3 columns]"
      ]
     },
     "execution_count": 9,
     "metadata": {},
     "output_type": "execute_result"
    }
   ],
   "source": [
    "date = df_original['Period'][0]\n",
    "df_original[df_original['Period'] == date][['Period', 'Cash and deposits with financial institutions', 'Cash and deposits with financial institutions - Rank']]"
   ]
  },
  {
   "cell_type": "markdown",
   "metadata": {},
   "source": [
    "## Sub-processes"
   ]
  },
  {
   "cell_type": "code",
   "execution_count": 10,
   "metadata": {},
   "outputs": [
    {
     "data": {
      "text/plain": [
       "'pickle_files'"
      ]
     },
     "execution_count": 10,
     "metadata": {},
     "output_type": "execute_result"
    }
   ],
   "source": [
    "# Arguments\n",
    "data_config_dict\n",
    "pkl_folder_name"
   ]
  },
  {
   "cell_type": "code",
   "execution_count": 11,
   "metadata": {},
   "outputs": [],
   "source": [
    "# initiate data_dict\n",
    "data_dict = {}"
   ]
  },
  {
   "cell_type": "code",
   "execution_count": 12,
   "metadata": {},
   "outputs": [
    {
     "name": "stderr",
     "output_type": "stream",
     "text": [
      "INFO:data_loading:Excel file has already been downloaded.\n"
     ]
    },
    {
     "data": {
      "text/plain": [
       "'data/madis_February_2024.xlsx'"
      ]
     },
     "execution_count": 12,
     "metadata": {},
     "output_type": "execute_result"
    }
   ],
   "source": [
    "from data_loading import load_url_xlsx\n",
    "\n",
    "original_file_name=load_url_xlsx()\n",
    "original_file_name"
   ]
  },
  {
   "cell_type": "markdown",
   "metadata": {},
   "source": [
    "### read and process data"
   ]
  },
  {
   "cell_type": "code",
   "execution_count": 13,
   "metadata": {},
   "outputs": [
    {
     "name": "stderr",
     "output_type": "stream",
     "text": [
      "INFO:data_loading:Excel data loaded successfully.\n"
     ]
    },
    {
     "data": {
      "text/html": [
       "<div>\n",
       "<style scoped>\n",
       "    .dataframe tbody tr th:only-of-type {\n",
       "        vertical-align: middle;\n",
       "    }\n",
       "\n",
       "    .dataframe tbody tr th {\n",
       "        vertical-align: top;\n",
       "    }\n",
       "\n",
       "    .dataframe thead th {\n",
       "        text-align: right;\n",
       "    }\n",
       "</style>\n",
       "<table border=\"1\" class=\"dataframe\">\n",
       "  <thead>\n",
       "    <tr style=\"text-align: right;\">\n",
       "      <th></th>\n",
       "      <th>Period</th>\n",
       "      <th>ABN</th>\n",
       "      <th>Institution Name</th>\n",
       "      <th>Cash and deposits with financial institutions</th>\n",
       "      <th>Trading securities</th>\n",
       "      <th>Investment securities</th>\n",
       "      <th>Net acceptances of customers</th>\n",
       "      <th>Total residents assets</th>\n",
       "      <th>Total securitised assets on balance sheet</th>\n",
       "      <th>Loans to non-financial businesses</th>\n",
       "      <th>...</th>\n",
       "      <th>Negotiable Certificates of Deposit</th>\n",
       "      <th>Total short-term borrowings</th>\n",
       "      <th>Total long-term borrowings</th>\n",
       "      <th>Deposits by non-financial businesses</th>\n",
       "      <th>Deposits by financial institutions</th>\n",
       "      <th>Deposits by general government</th>\n",
       "      <th>Deposits by households</th>\n",
       "      <th>Deposits by community service organisations</th>\n",
       "      <th>Total residents deposits</th>\n",
       "      <th>Business Loans</th>\n",
       "    </tr>\n",
       "  </thead>\n",
       "  <tbody>\n",
       "    <tr>\n",
       "      <th>7542</th>\n",
       "      <td>2019-03-31</td>\n",
       "      <td>94150148299</td>\n",
       "      <td>Woori Bank</td>\n",
       "      <td>30900000.0</td>\n",
       "      <td>0.0</td>\n",
       "      <td>29200000.0</td>\n",
       "      <td>0.0</td>\n",
       "      <td>3.945000e+08</td>\n",
       "      <td>0.000000e+00</td>\n",
       "      <td>3.506000e+08</td>\n",
       "      <td>...</td>\n",
       "      <td>0.000000e+00</td>\n",
       "      <td>4.240000e+07</td>\n",
       "      <td>0.000000e+00</td>\n",
       "      <td>7.180000e+07</td>\n",
       "      <td>0.0</td>\n",
       "      <td>0.0</td>\n",
       "      <td>5.000000e+05</td>\n",
       "      <td>1300000.0</td>\n",
       "      <td>7.360000e+07</td>\n",
       "      <td>3.506000e+08</td>\n",
       "    </tr>\n",
       "    <tr>\n",
       "      <th>7450</th>\n",
       "      <td>2019-03-31</td>\n",
       "      <td>15087651143</td>\n",
       "      <td>Community CPS Australia Limited</td>\n",
       "      <td>98700000.0</td>\n",
       "      <td>0.0</td>\n",
       "      <td>742600000.0</td>\n",
       "      <td>0.0</td>\n",
       "      <td>6.763900e+09</td>\n",
       "      <td>1.655000e+09</td>\n",
       "      <td>1.638000e+08</td>\n",
       "      <td>...</td>\n",
       "      <td>0.000000e+00</td>\n",
       "      <td>1.000000e+06</td>\n",
       "      <td>0.000000e+00</td>\n",
       "      <td>5.002000e+08</td>\n",
       "      <td>165300000.0</td>\n",
       "      <td>96900000.0</td>\n",
       "      <td>3.643800e+09</td>\n",
       "      <td>113400000.0</td>\n",
       "      <td>4.519700e+09</td>\n",
       "      <td>2.392000e+08</td>\n",
       "    </tr>\n",
       "    <tr>\n",
       "      <th>7451</th>\n",
       "      <td>2019-03-31</td>\n",
       "      <td>80087649938</td>\n",
       "      <td>Community First Credit Union Limited</td>\n",
       "      <td>59200000.0</td>\n",
       "      <td>0.0</td>\n",
       "      <td>123100000.0</td>\n",
       "      <td>0.0</td>\n",
       "      <td>1.059200e+09</td>\n",
       "      <td>0.000000e+00</td>\n",
       "      <td>3.200000e+06</td>\n",
       "      <td>...</td>\n",
       "      <td>0.000000e+00</td>\n",
       "      <td>1.000000e+05</td>\n",
       "      <td>0.000000e+00</td>\n",
       "      <td>1.387000e+08</td>\n",
       "      <td>2000000.0</td>\n",
       "      <td>0.0</td>\n",
       "      <td>8.127000e+08</td>\n",
       "      <td>10400000.0</td>\n",
       "      <td>9.638000e+08</td>\n",
       "      <td>3.200000e+06</td>\n",
       "    </tr>\n",
       "    <tr>\n",
       "      <th>7452</th>\n",
       "      <td>2019-03-31</td>\n",
       "      <td>70003917655</td>\n",
       "      <td>Cooperatieve Rabobank U.A.</td>\n",
       "      <td>63900000.0</td>\n",
       "      <td>190100000.0</td>\n",
       "      <td>285600000.0</td>\n",
       "      <td>0.0</td>\n",
       "      <td>1.245400e+10</td>\n",
       "      <td>0.000000e+00</td>\n",
       "      <td>4.781200e+09</td>\n",
       "      <td>...</td>\n",
       "      <td>1.265200e+09</td>\n",
       "      <td>4.780000e+09</td>\n",
       "      <td>5.986400e+09</td>\n",
       "      <td>2.280000e+07</td>\n",
       "      <td>375300000.0</td>\n",
       "      <td>0.0</td>\n",
       "      <td>0.000000e+00</td>\n",
       "      <td>0.0</td>\n",
       "      <td>3.981000e+08</td>\n",
       "      <td>4.781200e+09</td>\n",
       "    </tr>\n",
       "    <tr>\n",
       "      <th>7453</th>\n",
       "      <td>2019-03-31</td>\n",
       "      <td>17061700712</td>\n",
       "      <td>Credit Suisse AG</td>\n",
       "      <td>87900000.0</td>\n",
       "      <td>786600000.0</td>\n",
       "      <td>0.0</td>\n",
       "      <td>0.0</td>\n",
       "      <td>6.557700e+09</td>\n",
       "      <td>0.000000e+00</td>\n",
       "      <td>2.760100e+09</td>\n",
       "      <td>...</td>\n",
       "      <td>3.990000e+07</td>\n",
       "      <td>5.049300e+09</td>\n",
       "      <td>3.008500e+09</td>\n",
       "      <td>1.924000e+09</td>\n",
       "      <td>332700000.0</td>\n",
       "      <td>0.0</td>\n",
       "      <td>3.291000e+08</td>\n",
       "      <td>0.0</td>\n",
       "      <td>2.585900e+09</td>\n",
       "      <td>3.958000e+09</td>\n",
       "    </tr>\n",
       "  </tbody>\n",
       "</table>\n",
       "<p>5 rows × 31 columns</p>\n",
       "</div>"
      ],
      "text/plain": [
       "         Period          ABN                      Institution Name  \\\n",
       "7542 2019-03-31  94150148299                            Woori Bank   \n",
       "7450 2019-03-31  15087651143       Community CPS Australia Limited   \n",
       "7451 2019-03-31  80087649938  Community First Credit Union Limited   \n",
       "7452 2019-03-31  70003917655            Cooperatieve Rabobank U.A.   \n",
       "7453 2019-03-31  17061700712                      Credit Suisse AG   \n",
       "\n",
       "      Cash and deposits with financial institutions  Trading securities  \\\n",
       "7542                                     30900000.0                 0.0   \n",
       "7450                                     98700000.0                 0.0   \n",
       "7451                                     59200000.0                 0.0   \n",
       "7452                                     63900000.0         190100000.0   \n",
       "7453                                     87900000.0         786600000.0   \n",
       "\n",
       "      Investment securities  Net acceptances of customers  \\\n",
       "7542             29200000.0                           0.0   \n",
       "7450            742600000.0                           0.0   \n",
       "7451            123100000.0                           0.0   \n",
       "7452            285600000.0                           0.0   \n",
       "7453                    0.0                           0.0   \n",
       "\n",
       "      Total residents assets  Total securitised assets on balance sheet  \\\n",
       "7542            3.945000e+08                               0.000000e+00   \n",
       "7450            6.763900e+09                               1.655000e+09   \n",
       "7451            1.059200e+09                               0.000000e+00   \n",
       "7452            1.245400e+10                               0.000000e+00   \n",
       "7453            6.557700e+09                               0.000000e+00   \n",
       "\n",
       "      Loans to non-financial businesses  ...  \\\n",
       "7542                       3.506000e+08  ...   \n",
       "7450                       1.638000e+08  ...   \n",
       "7451                       3.200000e+06  ...   \n",
       "7452                       4.781200e+09  ...   \n",
       "7453                       2.760100e+09  ...   \n",
       "\n",
       "      Negotiable Certificates of Deposit  Total short-term borrowings  \\\n",
       "7542                        0.000000e+00                 4.240000e+07   \n",
       "7450                        0.000000e+00                 1.000000e+06   \n",
       "7451                        0.000000e+00                 1.000000e+05   \n",
       "7452                        1.265200e+09                 4.780000e+09   \n",
       "7453                        3.990000e+07                 5.049300e+09   \n",
       "\n",
       "      Total long-term borrowings  Deposits by non-financial businesses  \\\n",
       "7542                0.000000e+00                          7.180000e+07   \n",
       "7450                0.000000e+00                          5.002000e+08   \n",
       "7451                0.000000e+00                          1.387000e+08   \n",
       "7452                5.986400e+09                          2.280000e+07   \n",
       "7453                3.008500e+09                          1.924000e+09   \n",
       "\n",
       "      Deposits by financial institutions  Deposits by general government  \\\n",
       "7542                                 0.0                             0.0   \n",
       "7450                         165300000.0                      96900000.0   \n",
       "7451                           2000000.0                             0.0   \n",
       "7452                         375300000.0                             0.0   \n",
       "7453                         332700000.0                             0.0   \n",
       "\n",
       "      Deposits by households  Deposits by community service organisations  \\\n",
       "7542            5.000000e+05                                    1300000.0   \n",
       "7450            3.643800e+09                                  113400000.0   \n",
       "7451            8.127000e+08                                   10400000.0   \n",
       "7452            0.000000e+00                                          0.0   \n",
       "7453            3.291000e+08                                          0.0   \n",
       "\n",
       "      Total residents deposits  Business Loans  \n",
       "7542              7.360000e+07    3.506000e+08  \n",
       "7450              4.519700e+09    2.392000e+08  \n",
       "7451              9.638000e+08    3.200000e+06  \n",
       "7452              3.981000e+08    4.781200e+09  \n",
       "7453              2.585900e+09    3.958000e+09  \n",
       "\n",
       "[5 rows x 31 columns]"
      ]
     },
     "execution_count": 13,
     "metadata": {},
     "output_type": "execute_result"
    }
   ],
   "source": [
    "from data_loading import read_and_process_data\n",
    "\n",
    "# Read and process data\n",
    "df_source = read_and_process_data(\n",
    "    data_config_dict=data_config_dict,\n",
    "    file_name=original_file_name,\n",
    "    date_column=date_column,\n",
    ")\n",
    "\n",
    "df_source[0:5]"
   ]
  },
  {
   "cell_type": "code",
   "execution_count": 14,
   "metadata": {},
   "outputs": [
    {
     "data": {
      "text/plain": [
       "'data/madis_February_2024.xlsx'"
      ]
     },
     "execution_count": 14,
     "metadata": {},
     "output_type": "execute_result"
    }
   ],
   "source": [
    "# Arguments\n",
    "data_config_dict\n",
    "file_name = original_file_name\n",
    "file_name"
   ]
  },
  {
   "cell_type": "code",
   "execution_count": 15,
   "metadata": {},
   "outputs": [
    {
     "name": "stderr",
     "output_type": "stream",
     "text": [
      "INFO:__main__:Excel file loaded successfully.\n"
     ]
    }
   ],
   "source": [
    "try:\n",
    "    # Load the Excel file\n",
    "    df = pd.read_excel(\n",
    "        io=file_name,\n",
    "        sheet_name=data_config_dict['file_loading_details']['sheet_name'],\n",
    "        skiprows=data_config_dict['file_loading_details']['skiprows'],\n",
    "    )\n",
    "    logger.info(\"Excel file loaded successfully.\")\n",
    "except Exception as e:\n",
    "    logger.error(f\"Failed to load Excel file: {e}\")\n",
    "    raise"
   ]
  },
  {
   "cell_type": "code",
   "execution_count": 49,
   "metadata": {},
   "outputs": [],
   "source": [
    "# Ensure the expected columns exist\n",
    "expected_columns = set(data_config_dict['expected_columns_and_types_dict'].keys())\n",
    "if not expected_columns.issubset(df.columns):\n",
    "    missing_columns = expected_columns - set(df.columns)\n",
    "    logger.error(f\"Missing expected columns: {missing_columns}\")\n",
    "    raise ValueError(f\"Missing expected columns: {missing_columns}\")"
   ]
  },
  {
   "cell_type": "code",
   "execution_count": 50,
   "metadata": {},
   "outputs": [],
   "source": [
    " # Identify columns in the DataFrame that are not in the expected columns list\n",
    "unexpected_columns = set(df.columns) - expected_columns\n",
    "if unexpected_columns:\n",
    "    logger.info(f\"Dropping unexpected columns: {unexpected_columns}\")\n",
    "    df = df.drop(columns=unexpected_columns)"
   ]
  },
  {
   "cell_type": "code",
   "execution_count": 51,
   "metadata": {},
   "outputs": [],
   "source": [
    "from data_loading import convert_columns_dict_type_allocation\n",
    "\n",
    "# Column Data Types\n",
    "df=convert_columns_dict_type_allocation(\n",
    "    df=df.copy(),\n",
    "    col_types_dict=data_config_dict['expected_columns_and_types_dict'],\n",
    ")"
   ]
  },
  {
   "cell_type": "code",
   "execution_count": 52,
   "metadata": {},
   "outputs": [],
   "source": [
    "# Processing steps\n",
    "df.sort_values(by=date_column, inplace=True)\n",
    "df[date_column] = pd.to_datetime(df[date_column], errors='coerce')"
   ]
  },
  {
   "cell_type": "code",
   "execution_count": 53,
   "metadata": {},
   "outputs": [],
   "source": [
    "# Identify columns for processing\n",
    "drop_cols_list = [date_column] + data_config_dict['column_type_lists']['str']\n",
    "numeric_cols = df.select_dtypes(include=['float64']).columns.difference(drop_cols_list)"
   ]
  },
  {
   "cell_type": "code",
   "execution_count": 54,
   "metadata": {},
   "outputs": [],
   "source": [
    "from data_loading import check_column_coverage\n",
    "\n",
    "# Integrity checks\n",
    "check_column_coverage(df, drop_cols_list, numeric_cols)\n"
   ]
  },
  {
   "cell_type": "code",
   "execution_count": 55,
   "metadata": {},
   "outputs": [],
   "source": [
    "# Clean data\n",
    "df.dropna(subset=drop_cols_list, inplace=True)\n",
    "df = df.drop_duplicates(subset=drop_cols_list, keep='first')\n",
    "df[numeric_cols] = df[numeric_cols].fillna(0)"
   ]
  },
  {
   "cell_type": "code",
   "execution_count": 56,
   "metadata": {},
   "outputs": [],
   "source": [
    "from data_loading import column_adjustments\n",
    "\n",
    "# Column Adjustments - convert to dollar amounts (not scaled)\n",
    "df=column_adjustments(df, data_config_dict)"
   ]
  },
  {
   "cell_type": "markdown",
   "metadata": {},
   "source": [
    "### Generate Summary"
   ]
  },
  {
   "cell_type": "code",
   "execution_count": 58,
   "metadata": {},
   "outputs": [],
   "source": [
    "from data_loading import generate_summary\n",
    "\n",
    "# Generate summary data frame\n",
    "df_summary = generate_summary(\n",
    "        df=df_source,\n",
    "        date_column=date_column,\n",
    "        data_config_dict=data_config_dict,\n",
    ")"
   ]
  },
  {
   "cell_type": "code",
   "execution_count": 35,
   "metadata": {},
   "outputs": [
    {
     "data": {
      "text/html": [
       "<div>\n",
       "<style scoped>\n",
       "    .dataframe tbody tr th:only-of-type {\n",
       "        vertical-align: middle;\n",
       "    }\n",
       "\n",
       "    .dataframe tbody tr th {\n",
       "        vertical-align: top;\n",
       "    }\n",
       "\n",
       "    .dataframe thead th {\n",
       "        text-align: right;\n",
       "    }\n",
       "</style>\n",
       "<table border=\"1\" class=\"dataframe\">\n",
       "  <thead>\n",
       "    <tr style=\"text-align: right;\">\n",
       "      <th></th>\n",
       "      <th>Period</th>\n",
       "      <th>Cash and deposits with financial institutions</th>\n",
       "      <th>Trading securities</th>\n",
       "      <th>Investment securities</th>\n",
       "      <th>Net acceptances of customers</th>\n",
       "      <th>Total residents assets</th>\n",
       "      <th>Total securitised assets on balance sheet</th>\n",
       "      <th>Loans to non-financial businesses</th>\n",
       "      <th>Loans to financial institutions</th>\n",
       "      <th>Loans to general government</th>\n",
       "      <th>...</th>\n",
       "      <th>Deposits by non-financial businesses</th>\n",
       "      <th>Deposits by financial institutions</th>\n",
       "      <th>Deposits by general government</th>\n",
       "      <th>Deposits by households</th>\n",
       "      <th>Deposits by community service organisations</th>\n",
       "      <th>Total residents deposits</th>\n",
       "      <th>Business Loans</th>\n",
       "      <th>Total Loans for Housing</th>\n",
       "      <th>Loans to Housing: Owner-occupied Property Percentage</th>\n",
       "      <th>Loans to Housing: Investment Property Percentage</th>\n",
       "    </tr>\n",
       "  </thead>\n",
       "  <tbody>\n",
       "    <tr>\n",
       "      <th>0</th>\n",
       "      <td>2019-03-31</td>\n",
       "      <td>7.147850e+10</td>\n",
       "      <td>1.440137e+11</td>\n",
       "      <td>3.324018e+11</td>\n",
       "      <td>261600000.0</td>\n",
       "      <td>4.041000e+12</td>\n",
       "      <td>5.216342e+11</td>\n",
       "      <td>7.608791e+11</td>\n",
       "      <td>1.379800e+11</td>\n",
       "      <td>5.132000e+09</td>\n",
       "      <td>...</td>\n",
       "      <td>5.662527e+11</td>\n",
       "      <td>4.268540e+11</td>\n",
       "      <td>6.825570e+10</td>\n",
       "      <td>9.475580e+11</td>\n",
       "      <td>3.060230e+10</td>\n",
       "      <td>2.039523e+12</td>\n",
       "      <td>8.988591e+11</td>\n",
       "      <td>1.709224e+12</td>\n",
       "      <td>0.619733</td>\n",
       "      <td>0.380267</td>\n",
       "    </tr>\n",
       "    <tr>\n",
       "      <th>1</th>\n",
       "      <td>2019-04-30</td>\n",
       "      <td>6.741980e+10</td>\n",
       "      <td>1.380200e+11</td>\n",
       "      <td>3.335516e+11</td>\n",
       "      <td>317200000.0</td>\n",
       "      <td>4.036934e+12</td>\n",
       "      <td>5.412223e+11</td>\n",
       "      <td>7.626436e+11</td>\n",
       "      <td>1.332940e+11</td>\n",
       "      <td>4.928200e+09</td>\n",
       "      <td>...</td>\n",
       "      <td>5.667469e+11</td>\n",
       "      <td>4.287321e+11</td>\n",
       "      <td>6.671510e+10</td>\n",
       "      <td>9.499294e+11</td>\n",
       "      <td>3.059880e+10</td>\n",
       "      <td>2.042721e+12</td>\n",
       "      <td>8.959376e+11</td>\n",
       "      <td>1.713047e+12</td>\n",
       "      <td>0.620398</td>\n",
       "      <td>0.379602</td>\n",
       "    </tr>\n",
       "  </tbody>\n",
       "</table>\n",
       "<p>2 rows × 32 columns</p>\n",
       "</div>"
      ],
      "text/plain": [
       "      Period  Cash and deposits with financial institutions  \\\n",
       "0 2019-03-31                                   7.147850e+10   \n",
       "1 2019-04-30                                   6.741980e+10   \n",
       "\n",
       "   Trading securities  Investment securities  Net acceptances of customers  \\\n",
       "0        1.440137e+11           3.324018e+11                   261600000.0   \n",
       "1        1.380200e+11           3.335516e+11                   317200000.0   \n",
       "\n",
       "   Total residents assets  Total securitised assets on balance sheet  \\\n",
       "0            4.041000e+12                               5.216342e+11   \n",
       "1            4.036934e+12                               5.412223e+11   \n",
       "\n",
       "   Loans to non-financial businesses  Loans to financial institutions  \\\n",
       "0                       7.608791e+11                     1.379800e+11   \n",
       "1                       7.626436e+11                     1.332940e+11   \n",
       "\n",
       "   Loans to general government  ...  Deposits by non-financial businesses  \\\n",
       "0                 5.132000e+09  ...                          5.662527e+11   \n",
       "1                 4.928200e+09  ...                          5.667469e+11   \n",
       "\n",
       "   Deposits by financial institutions  Deposits by general government  \\\n",
       "0                        4.268540e+11                    6.825570e+10   \n",
       "1                        4.287321e+11                    6.671510e+10   \n",
       "\n",
       "   Deposits by households  Deposits by community service organisations  \\\n",
       "0            9.475580e+11                                 3.060230e+10   \n",
       "1            9.499294e+11                                 3.059880e+10   \n",
       "\n",
       "   Total residents deposits  Business Loans  Total Loans for Housing  \\\n",
       "0              2.039523e+12    8.988591e+11             1.709224e+12   \n",
       "1              2.042721e+12    8.959376e+11             1.713047e+12   \n",
       "\n",
       "   Loans to Housing: Owner-occupied Property Percentage  \\\n",
       "0                                           0.619733      \n",
       "1                                           0.620398      \n",
       "\n",
       "   Loans to Housing: Investment Property Percentage  \n",
       "0                                          0.380267  \n",
       "1                                          0.379602  \n",
       "\n",
       "[2 rows x 32 columns]"
      ]
     },
     "execution_count": 35,
     "metadata": {},
     "output_type": "execute_result"
    }
   ],
   "source": [
    "df_summary[0:2]"
   ]
  },
  {
   "cell_type": "markdown",
   "metadata": {},
   "source": [
    "### Generate Original"
   ]
  },
  {
   "cell_type": "code",
   "execution_count": 119,
   "metadata": {},
   "outputs": [
    {
     "data": {
      "text/html": [
       "<div>\n",
       "<style scoped>\n",
       "    .dataframe tbody tr th:only-of-type {\n",
       "        vertical-align: middle;\n",
       "    }\n",
       "\n",
       "    .dataframe tbody tr th {\n",
       "        vertical-align: top;\n",
       "    }\n",
       "\n",
       "    .dataframe thead th {\n",
       "        text-align: right;\n",
       "    }\n",
       "</style>\n",
       "<table border=\"1\" class=\"dataframe\">\n",
       "  <thead>\n",
       "    <tr style=\"text-align: right;\">\n",
       "      <th></th>\n",
       "      <th>Period</th>\n",
       "      <th>Institution Name</th>\n",
       "      <th>Cash and deposits with financial institutions</th>\n",
       "      <th>Trading securities</th>\n",
       "      <th>Investment securities</th>\n",
       "      <th>Net acceptances of customers</th>\n",
       "      <th>Total residents assets</th>\n",
       "      <th>Total securitised assets on balance sheet</th>\n",
       "      <th>Loans to non-financial businesses</th>\n",
       "      <th>Loans to financial institutions</th>\n",
       "      <th>...</th>\n",
       "      <th>Negotiable Certificates of Deposit - Rank</th>\n",
       "      <th>Intra-group loans and finance leases - Rank</th>\n",
       "      <th>Cash and deposits with financial institutions - Rank</th>\n",
       "      <th>Intra-group deposits - Rank</th>\n",
       "      <th>Loans to community service organisations - Rank</th>\n",
       "      <th>Total long-term borrowings - Rank</th>\n",
       "      <th>Loans to households: Housing: Investment - Rank</th>\n",
       "      <th>Trading securities - Rank</th>\n",
       "      <th>Loans to households: Housing: Owner-occupied - Rank</th>\n",
       "      <th>Loans to financial institutions - Rank</th>\n",
       "    </tr>\n",
       "  </thead>\n",
       "  <tbody>\n",
       "    <tr>\n",
       "      <th>7542</th>\n",
       "      <td>2019-03-31</td>\n",
       "      <td>Woori Bank</td>\n",
       "      <td>30900000.0</td>\n",
       "      <td>0.0</td>\n",
       "      <td>29200000.0</td>\n",
       "      <td>0.0</td>\n",
       "      <td>3.945000e+08</td>\n",
       "      <td>0.000000e+00</td>\n",
       "      <td>350600000.0</td>\n",
       "      <td>0.0</td>\n",
       "      <td>...</td>\n",
       "      <td>56</td>\n",
       "      <td>35</td>\n",
       "      <td>96</td>\n",
       "      <td>35</td>\n",
       "      <td>23</td>\n",
       "      <td>56</td>\n",
       "      <td>77</td>\n",
       "      <td>21</td>\n",
       "      <td>76</td>\n",
       "      <td>70</td>\n",
       "    </tr>\n",
       "    <tr>\n",
       "      <th>7450</th>\n",
       "      <td>2019-03-31</td>\n",
       "      <td>Community CPS Australia Limited</td>\n",
       "      <td>98700000.0</td>\n",
       "      <td>0.0</td>\n",
       "      <td>742600000.0</td>\n",
       "      <td>0.0</td>\n",
       "      <td>6.763900e+09</td>\n",
       "      <td>1.655000e+09</td>\n",
       "      <td>163800000.0</td>\n",
       "      <td>75400000.0</td>\n",
       "      <td>...</td>\n",
       "      <td>56</td>\n",
       "      <td>31</td>\n",
       "      <td>50</td>\n",
       "      <td>35</td>\n",
       "      <td>27</td>\n",
       "      <td>56</td>\n",
       "      <td>23</td>\n",
       "      <td>21</td>\n",
       "      <td>21</td>\n",
       "      <td>41</td>\n",
       "    </tr>\n",
       "  </tbody>\n",
       "</table>\n",
       "<p>2 rows × 58 columns</p>\n",
       "</div>"
      ],
      "text/plain": [
       "         Period                 Institution Name  \\\n",
       "7542 2019-03-31                       Woori Bank   \n",
       "7450 2019-03-31  Community CPS Australia Limited   \n",
       "\n",
       "      Cash and deposits with financial institutions  Trading securities  \\\n",
       "7542                                     30900000.0                 0.0   \n",
       "7450                                     98700000.0                 0.0   \n",
       "\n",
       "      Investment securities  Net acceptances of customers  \\\n",
       "7542             29200000.0                           0.0   \n",
       "7450            742600000.0                           0.0   \n",
       "\n",
       "      Total residents assets  Total securitised assets on balance sheet  \\\n",
       "7542            3.945000e+08                               0.000000e+00   \n",
       "7450            6.763900e+09                               1.655000e+09   \n",
       "\n",
       "      Loans to non-financial businesses  Loans to financial institutions  ...  \\\n",
       "7542                        350600000.0                              0.0  ...   \n",
       "7450                        163800000.0                       75400000.0  ...   \n",
       "\n",
       "      Negotiable Certificates of Deposit - Rank  \\\n",
       "7542                                         56   \n",
       "7450                                         56   \n",
       "\n",
       "      Intra-group loans and finance leases - Rank  \\\n",
       "7542                                           35   \n",
       "7450                                           31   \n",
       "\n",
       "      Cash and deposits with financial institutions - Rank  \\\n",
       "7542                                                 96      \n",
       "7450                                                 50      \n",
       "\n",
       "      Intra-group deposits - Rank  \\\n",
       "7542                           35   \n",
       "7450                           35   \n",
       "\n",
       "      Loans to community service organisations - Rank  \\\n",
       "7542                                               23   \n",
       "7450                                               27   \n",
       "\n",
       "      Total long-term borrowings - Rank  \\\n",
       "7542                                 56   \n",
       "7450                                 56   \n",
       "\n",
       "      Loans to households: Housing: Investment - Rank  \\\n",
       "7542                                               77   \n",
       "7450                                               23   \n",
       "\n",
       "      Trading securities - Rank  \\\n",
       "7542                         21   \n",
       "7450                         21   \n",
       "\n",
       "      Loans to households: Housing: Owner-occupied - Rank  \\\n",
       "7542                                                 76     \n",
       "7450                                                 21     \n",
       "\n",
       "      Loans to financial institutions - Rank  \n",
       "7542                                      70  \n",
       "7450                                      41  \n",
       "\n",
       "[2 rows x 58 columns]"
      ]
     },
     "execution_count": 119,
     "metadata": {},
     "output_type": "execute_result"
    }
   ],
   "source": [
    "from data_loading import generate_original\n",
    "\n",
    "# Generate original data frame\n",
    "df_original = generate_original(\n",
    "    df=df_source,\n",
    "    date_column=date_column,\n",
    "    data_config_dict=data_config_dict,\n",
    ")\n",
    "\n",
    "df_original[0:2]"
   ]
  },
  {
   "cell_type": "markdown",
   "metadata": {},
   "source": [
    "# Select filters"
   ]
  },
  {
   "cell_type": "code",
   "execution_count": 11,
   "metadata": {},
   "outputs": [
    {
     "name": "stdout",
     "output_type": "stream",
     "text": [
      "date_column:Period\n",
      "selected_date:2023-12-31 00:00:00\n",
      "selected_company:Macquarie Bank Limited\n",
      "top_x_value:15\n"
     ]
    }
   ],
   "source": [
    "# Arguments\n",
    "\n",
    "# Date\n",
    "print(f\"date_column:{date_column}\")\n",
    "selected_date = pd.to_datetime('2023-12-31')\n",
    "# Company\n",
    "company_column = data_config_dict['column_settings']['company_column'] # 'Institution Name'\n",
    "default_company = data_config_dict['column_settings']['default_company'] # 'Macquarie Bank Limited'\n",
    "selected_company = default_company\n",
    "\n",
    "# Top X\n",
    "top_x_value = 15\n",
    "\n",
    "print(f\"selected_date:{selected_date}\")\n",
    "print(f\"selected_company:{selected_company}\")\n",
    "print(f\"top_x_value:{top_x_value}\")"
   ]
  },
  {
   "cell_type": "markdown",
   "metadata": {},
   "source": [
    "# Generate Summary Outputs"
   ]
  },
  {
   "cell_type": "code",
   "execution_count": 120,
   "metadata": {},
   "outputs": [],
   "source": [
    "from outputs.outputs_summary import generate_summary_outputs\n",
    "\n",
    "summary_dict = generate_summary_outputs(\n",
    "    df_summary=df_summary,\n",
    "    date_column=date_column,\n",
    "    selected_date=selected_date,\n",
    "    top_x_value=top_x_value,\n",
    "    outputs_config_dict=outputs_config_dict,\n",
    ")\n",
    "\n",
    "# summary_dict"
   ]
  },
  {
   "cell_type": "code",
   "execution_count": null,
   "metadata": {},
   "outputs": [],
   "source": []
  },
  {
   "cell_type": "markdown",
   "metadata": {},
   "source": [
    "## Sub processes"
   ]
  },
  {
   "cell_type": "code",
   "execution_count": 107,
   "metadata": {},
   "outputs": [
    {
     "data": {
      "text/plain": [
       "{'1_month': {'months_int': 1,\n",
       "  'name': '1 month',\n",
       "  'over_period': 'Over the last month',\n",
       "  'date': Timestamp('2023-11-30 00:00:00')},\n",
       " '6_months': {'months_int': 6,\n",
       "  'name': '6 months',\n",
       "  'over_period': 'Over the last 6 months',\n",
       "  'date': Timestamp('2023-06-30 00:00:00')},\n",
       " '12_months': {'months_int': 12,\n",
       "  'name': '1 year',\n",
       "  'over_period': 'Over the last year',\n",
       "  'date': Timestamp('2022-12-31 00:00:00')},\n",
       " 'long_term': {'months_int': 40,\n",
       "  'name': '4 years',\n",
       "  'over_period': 'Over the past 4 years',\n",
       "  'date': Timestamp('2020-08-31 00:00:00')}}"
      ]
     },
     "execution_count": 107,
     "metadata": {},
     "output_type": "execute_result"
    }
   ],
   "source": [
    "from outputs.outputs_utils import determine_reference_dates\n",
    "\n",
    "reference_dates = determine_reference_dates(\n",
    "    selected_date=selected_date,\n",
    "    available_dates=set(df_summary[date_column]),\n",
    "    date_periods=outputs_config_dict['reference_dates_config'],\n",
    ")\n",
    "\n",
    "reference_dates"
   ]
  },
  {
   "cell_type": "code",
   "execution_count": 108,
   "metadata": {},
   "outputs": [
    {
     "data": {
      "text/html": [
       "<div>\n",
       "<style scoped>\n",
       "    .dataframe tbody tr th:only-of-type {\n",
       "        vertical-align: middle;\n",
       "    }\n",
       "\n",
       "    .dataframe tbody tr th {\n",
       "        vertical-align: top;\n",
       "    }\n",
       "\n",
       "    .dataframe thead th {\n",
       "        text-align: right;\n",
       "    }\n",
       "</style>\n",
       "<table border=\"1\" class=\"dataframe\">\n",
       "  <thead>\n",
       "    <tr style=\"text-align: right;\">\n",
       "      <th></th>\n",
       "      <th>Period</th>\n",
       "      <th>Cash and deposits with financial institutions</th>\n",
       "      <th>Trading securities</th>\n",
       "      <th>Investment securities</th>\n",
       "      <th>Net acceptances of customers</th>\n",
       "      <th>Total residents assets</th>\n",
       "      <th>Total securitised assets on balance sheet</th>\n",
       "      <th>Loans to non-financial businesses</th>\n",
       "      <th>Loans to financial institutions</th>\n",
       "      <th>Loans to general government</th>\n",
       "      <th>...</th>\n",
       "      <th>Deposits by financial institutions - movement</th>\n",
       "      <th>Deposits by general government - movement</th>\n",
       "      <th>Deposits by households - movement</th>\n",
       "      <th>Deposits by community service organisations - movement</th>\n",
       "      <th>Total residents deposits - movement</th>\n",
       "      <th>Business Loans - movement</th>\n",
       "      <th>Total Loans for Housing - movement</th>\n",
       "      <th>Loans to Housing: Owner-occupied Property Percentage - movement</th>\n",
       "      <th>Loans to Housing: Investment Property Percentage - movement</th>\n",
       "      <th>date_reference</th>\n",
       "    </tr>\n",
       "  </thead>\n",
       "  <tbody>\n",
       "    <tr>\n",
       "      <th>17</th>\n",
       "      <td>2020-08-31</td>\n",
       "      <td>1.267999e+11</td>\n",
       "      <td>1.424447e+11</td>\n",
       "      <td>4.059920e+11</td>\n",
       "      <td>205100000.0</td>\n",
       "      <td>4.578001e+12</td>\n",
       "      <td>8.125458e+11</td>\n",
       "      <td>7.949628e+11</td>\n",
       "      <td>1.186064e+11</td>\n",
       "      <td>2.681100e+10</td>\n",
       "      <td>...</td>\n",
       "      <td>5.203710e+10</td>\n",
       "      <td>1.876580e+10</td>\n",
       "      <td>3.744258e+11</td>\n",
       "      <td>3.405900e+09</td>\n",
       "      <td>5.708889e+11</td>\n",
       "      <td>2.660626e+11</td>\n",
       "      <td>3.873475e+11</td>\n",
       "      <td>0.038182</td>\n",
       "      <td>-0.038182</td>\n",
       "      <td>long_term</td>\n",
       "    </tr>\n",
       "    <tr>\n",
       "      <th>45</th>\n",
       "      <td>2022-12-31</td>\n",
       "      <td>4.818866e+11</td>\n",
       "      <td>8.933100e+10</td>\n",
       "      <td>3.913061e+11</td>\n",
       "      <td>904200000.0</td>\n",
       "      <td>5.324649e+12</td>\n",
       "      <td>8.102827e+11</td>\n",
       "      <td>9.574374e+11</td>\n",
       "      <td>1.564566e+11</td>\n",
       "      <td>2.428540e+10</td>\n",
       "      <td>...</td>\n",
       "      <td>2.994500e+10</td>\n",
       "      <td>-1.430010e+10</td>\n",
       "      <td>9.992740e+10</td>\n",
       "      <td>1.404600e+09</td>\n",
       "      <td>1.191648e+11</td>\n",
       "      <td>6.573780e+10</td>\n",
       "      <td>9.706220e+10</td>\n",
       "      <td>0.004635</td>\n",
       "      <td>-0.004635</td>\n",
       "      <td>12_months</td>\n",
       "    </tr>\n",
       "    <tr>\n",
       "      <th>51</th>\n",
       "      <td>2023-06-30</td>\n",
       "      <td>4.419963e+11</td>\n",
       "      <td>9.177400e+10</td>\n",
       "      <td>3.898616e+11</td>\n",
       "      <td>709100000.0</td>\n",
       "      <td>5.351066e+12</td>\n",
       "      <td>7.813440e+11</td>\n",
       "      <td>9.864215e+11</td>\n",
       "      <td>1.578252e+11</td>\n",
       "      <td>2.739770e+10</td>\n",
       "      <td>...</td>\n",
       "      <td>9.091900e+09</td>\n",
       "      <td>-1.764710e+10</td>\n",
       "      <td>7.532620e+10</td>\n",
       "      <td>1.860500e+09</td>\n",
       "      <td>6.511860e+10</td>\n",
       "      <td>3.538510e+10</td>\n",
       "      <td>4.473140e+10</td>\n",
       "      <td>0.002345</td>\n",
       "      <td>-0.002345</td>\n",
       "      <td>6_months</td>\n",
       "    </tr>\n",
       "    <tr>\n",
       "      <th>56</th>\n",
       "      <td>2023-11-30</td>\n",
       "      <td>3.783372e+11</td>\n",
       "      <td>9.157700e+10</td>\n",
       "      <td>4.461174e+11</td>\n",
       "      <td>700100000.0</td>\n",
       "      <td>5.386107e+12</td>\n",
       "      <td>7.615941e+11</td>\n",
       "      <td>1.008193e+12</td>\n",
       "      <td>1.672067e+11</td>\n",
       "      <td>1.992650e+10</td>\n",
       "      <td>...</td>\n",
       "      <td>8.383500e+09</td>\n",
       "      <td>-3.568500e+09</td>\n",
       "      <td>1.145190e+10</td>\n",
       "      <td>-7.597000e+08</td>\n",
       "      <td>1.708380e+10</td>\n",
       "      <td>4.231700e+09</td>\n",
       "      <td>9.181100e+09</td>\n",
       "      <td>0.000532</td>\n",
       "      <td>-0.000532</td>\n",
       "      <td>1_month</td>\n",
       "    </tr>\n",
       "    <tr>\n",
       "      <th>57</th>\n",
       "      <td>2023-12-31</td>\n",
       "      <td>3.837380e+11</td>\n",
       "      <td>9.317160e+10</td>\n",
       "      <td>4.596660e+11</td>\n",
       "      <td>929400000.0</td>\n",
       "      <td>5.394862e+12</td>\n",
       "      <td>7.537521e+11</td>\n",
       "      <td>1.010780e+12</td>\n",
       "      <td>1.688514e+11</td>\n",
       "      <td>1.829080e+10</td>\n",
       "      <td>...</td>\n",
       "      <td>0.000000e+00</td>\n",
       "      <td>0.000000e+00</td>\n",
       "      <td>0.000000e+00</td>\n",
       "      <td>0.000000e+00</td>\n",
       "      <td>0.000000e+00</td>\n",
       "      <td>0.000000e+00</td>\n",
       "      <td>0.000000e+00</td>\n",
       "      <td>0.000000</td>\n",
       "      <td>0.000000</td>\n",
       "      <td>selected_date</td>\n",
       "    </tr>\n",
       "  </tbody>\n",
       "</table>\n",
       "<p>5 rows × 64 columns</p>\n",
       "</div>"
      ],
      "text/plain": [
       "       Period  Cash and deposits with financial institutions  \\\n",
       "17 2020-08-31                                   1.267999e+11   \n",
       "45 2022-12-31                                   4.818866e+11   \n",
       "51 2023-06-30                                   4.419963e+11   \n",
       "56 2023-11-30                                   3.783372e+11   \n",
       "57 2023-12-31                                   3.837380e+11   \n",
       "\n",
       "    Trading securities  Investment securities  Net acceptances of customers  \\\n",
       "17        1.424447e+11           4.059920e+11                   205100000.0   \n",
       "45        8.933100e+10           3.913061e+11                   904200000.0   \n",
       "51        9.177400e+10           3.898616e+11                   709100000.0   \n",
       "56        9.157700e+10           4.461174e+11                   700100000.0   \n",
       "57        9.317160e+10           4.596660e+11                   929400000.0   \n",
       "\n",
       "    Total residents assets  Total securitised assets on balance sheet  \\\n",
       "17            4.578001e+12                               8.125458e+11   \n",
       "45            5.324649e+12                               8.102827e+11   \n",
       "51            5.351066e+12                               7.813440e+11   \n",
       "56            5.386107e+12                               7.615941e+11   \n",
       "57            5.394862e+12                               7.537521e+11   \n",
       "\n",
       "    Loans to non-financial businesses  Loans to financial institutions  \\\n",
       "17                       7.949628e+11                     1.186064e+11   \n",
       "45                       9.574374e+11                     1.564566e+11   \n",
       "51                       9.864215e+11                     1.578252e+11   \n",
       "56                       1.008193e+12                     1.672067e+11   \n",
       "57                       1.010780e+12                     1.688514e+11   \n",
       "\n",
       "    Loans to general government  ...  \\\n",
       "17                 2.681100e+10  ...   \n",
       "45                 2.428540e+10  ...   \n",
       "51                 2.739770e+10  ...   \n",
       "56                 1.992650e+10  ...   \n",
       "57                 1.829080e+10  ...   \n",
       "\n",
       "    Deposits by financial institutions - movement  \\\n",
       "17                                   5.203710e+10   \n",
       "45                                   2.994500e+10   \n",
       "51                                   9.091900e+09   \n",
       "56                                   8.383500e+09   \n",
       "57                                   0.000000e+00   \n",
       "\n",
       "    Deposits by general government - movement  \\\n",
       "17                               1.876580e+10   \n",
       "45                              -1.430010e+10   \n",
       "51                              -1.764710e+10   \n",
       "56                              -3.568500e+09   \n",
       "57                               0.000000e+00   \n",
       "\n",
       "    Deposits by households - movement  \\\n",
       "17                       3.744258e+11   \n",
       "45                       9.992740e+10   \n",
       "51                       7.532620e+10   \n",
       "56                       1.145190e+10   \n",
       "57                       0.000000e+00   \n",
       "\n",
       "    Deposits by community service organisations - movement  \\\n",
       "17                                       3.405900e+09        \n",
       "45                                       1.404600e+09        \n",
       "51                                       1.860500e+09        \n",
       "56                                      -7.597000e+08        \n",
       "57                                       0.000000e+00        \n",
       "\n",
       "    Total residents deposits - movement  Business Loans - movement  \\\n",
       "17                         5.708889e+11               2.660626e+11   \n",
       "45                         1.191648e+11               6.573780e+10   \n",
       "51                         6.511860e+10               3.538510e+10   \n",
       "56                         1.708380e+10               4.231700e+09   \n",
       "57                         0.000000e+00               0.000000e+00   \n",
       "\n",
       "    Total Loans for Housing - movement  \\\n",
       "17                        3.873475e+11   \n",
       "45                        9.706220e+10   \n",
       "51                        4.473140e+10   \n",
       "56                        9.181100e+09   \n",
       "57                        0.000000e+00   \n",
       "\n",
       "    Loans to Housing: Owner-occupied Property Percentage - movement  \\\n",
       "17                                           0.038182                 \n",
       "45                                           0.004635                 \n",
       "51                                           0.002345                 \n",
       "56                                           0.000532                 \n",
       "57                                           0.000000                 \n",
       "\n",
       "    Loans to Housing: Investment Property Percentage - movement  \\\n",
       "17                                          -0.038182             \n",
       "45                                          -0.004635             \n",
       "51                                          -0.002345             \n",
       "56                                          -0.000532             \n",
       "57                                           0.000000             \n",
       "\n",
       "    date_reference  \n",
       "17       long_term  \n",
       "45       12_months  \n",
       "51        6_months  \n",
       "56         1_month  \n",
       "57   selected_date  \n",
       "\n",
       "[5 rows x 64 columns]"
      ]
     },
     "execution_count": 108,
     "metadata": {},
     "output_type": "execute_result"
    }
   ],
   "source": [
    "from outputs.outputs_summary import generate_df_summary_output\n",
    "\n",
    "# Create the summary output df for the selected date\n",
    "df_summary_output = generate_df_summary_output(\n",
    "    df_summary=df_summary,\n",
    "    date_column=date_column,\n",
    "    selected_date=selected_date,\n",
    "    reference_dates=reference_dates,\n",
    ")\n",
    "\n",
    "df_summary_output"
   ]
  },
  {
   "cell_type": "markdown",
   "metadata": {},
   "source": [
    "### Generate summary loans dict"
   ]
  },
  {
   "cell_type": "code",
   "execution_count": 109,
   "metadata": {},
   "outputs": [
    {
     "name": "stderr",
     "output_type": "stream",
     "text": [
      "INFO:utils:7.37\n",
      "INFO:utils:1.81\n",
      "INFO:utils:35.2\n",
      "INFO:utils:9.45\n",
      "INFO:utils:75.3\n",
      "INFO:utils:21.7\n",
      "INFO:utils:330\n",
      "INFO:utils:57.1\n"
     ]
    }
   ],
   "source": [
    "from outputs.outputs_summary_loans import generate_summary_loans_dict\n",
    "# Initialise summary dictionary\n",
    "summary_dict = {}\n",
    "\n",
    "# Generate df_summary_output for selected date\n",
    "summary_dict['summary_loans_dict'] = generate_summary_loans_dict(\n",
    "    df_summary_output=df_summary_output,\n",
    "    date_column=date_column,\n",
    "    selected_date=selected_date,\n",
    "    reference_dates=reference_dates,\n",
    ")"
   ]
  },
  {
   "cell_type": "code",
   "execution_count": 121,
   "metadata": {},
   "outputs": [],
   "source": [
    "summary_loans_dict = {}\n",
    "\n",
    "# List the loan columns\n",
    "loan_column_names = [\n",
    "    \"Loans to non-financial businesses\",\n",
    "    \"Loans to financial institutions\",\n",
    "    \"Loans to general government\",\n",
    "    \"Loans to households: Housing: Owner-occupied\",\n",
    "    \"Loans to households: Housing: Investment\",\n",
    "    \"Loans to households: Credit cards\",\n",
    "    \"Loans to households: Other\",\n",
    "    \"Loans to community service organisations\",\n",
    "]"
   ]
  },
  {
   "cell_type": "code",
   "execution_count": 146,
   "metadata": {},
   "outputs": [
    {
     "data": {
      "application/vnd.plotly.v1+json": {
       "config": {
        "plotlyServerURL": "https://plot.ly"
       },
       "data": [
        {
         "marker": {
          "color": "lightblue"
         },
         "name": "Total Loan Amount",
         "type": "bar",
         "x": [
          "Loans to non-financial businesses",
          "Loans to financial institutions",
          "Loans to general government",
          "Loans to households: Housing: Owner-occupied",
          "Loans to households: Housing: Investment",
          "Loans to households: Credit cards",
          "Loans to households: Other",
          "Loans to community service organisations"
         ],
         "y": [
          1010780400000,
          168851400000,
          18290800000,
          1463326000000,
          695583700000,
          30086600000,
          68614300000,
          2864900000
         ]
        }
       ],
       "layout": {
        "barmode": "overlay",
        "margin": {
         "b": 180,
         "l": 50,
         "r": 200,
         "t": 50
        },
        "template": {
         "data": {
          "candlestick": [
           {
            "decreasing": {
             "line": {
              "color": "#000033"
             }
            },
            "increasing": {
             "line": {
              "color": "#000032"
             }
            },
            "type": "candlestick"
           }
          ],
          "contour": [
           {
            "colorscale": [
             [
              0,
              "#000011"
             ],
             [
              0.1111111111111111,
              "#000012"
             ],
             [
              0.2222222222222222,
              "#000013"
             ],
             [
              0.3333333333333333,
              "#000014"
             ],
             [
              0.4444444444444444,
              "#000015"
             ],
             [
              0.5555555555555556,
              "#000016"
             ],
             [
              0.6666666666666666,
              "#000017"
             ],
             [
              0.7777777777777778,
              "#000018"
             ],
             [
              0.8888888888888888,
              "#000019"
             ],
             [
              1,
              "#000020"
             ]
            ],
            "type": "contour"
           }
          ],
          "contourcarpet": [
           {
            "colorscale": [
             [
              0,
              "#000011"
             ],
             [
              0.1111111111111111,
              "#000012"
             ],
             [
              0.2222222222222222,
              "#000013"
             ],
             [
              0.3333333333333333,
              "#000014"
             ],
             [
              0.4444444444444444,
              "#000015"
             ],
             [
              0.5555555555555556,
              "#000016"
             ],
             [
              0.6666666666666666,
              "#000017"
             ],
             [
              0.7777777777777778,
              "#000018"
             ],
             [
              0.8888888888888888,
              "#000019"
             ],
             [
              1,
              "#000020"
             ]
            ],
            "type": "contourcarpet"
           }
          ],
          "heatmap": [
           {
            "colorscale": [
             [
              0,
              "#000011"
             ],
             [
              0.1111111111111111,
              "#000012"
             ],
             [
              0.2222222222222222,
              "#000013"
             ],
             [
              0.3333333333333333,
              "#000014"
             ],
             [
              0.4444444444444444,
              "#000015"
             ],
             [
              0.5555555555555556,
              "#000016"
             ],
             [
              0.6666666666666666,
              "#000017"
             ],
             [
              0.7777777777777778,
              "#000018"
             ],
             [
              0.8888888888888888,
              "#000019"
             ],
             [
              1,
              "#000020"
             ]
            ],
            "type": "heatmap"
           }
          ],
          "histogram2d": [
           {
            "colorscale": [
             [
              0,
              "#000011"
             ],
             [
              0.1111111111111111,
              "#000012"
             ],
             [
              0.2222222222222222,
              "#000013"
             ],
             [
              0.3333333333333333,
              "#000014"
             ],
             [
              0.4444444444444444,
              "#000015"
             ],
             [
              0.5555555555555556,
              "#000016"
             ],
             [
              0.6666666666666666,
              "#000017"
             ],
             [
              0.7777777777777778,
              "#000018"
             ],
             [
              0.8888888888888888,
              "#000019"
             ],
             [
              1,
              "#000020"
             ]
            ],
            "type": "histogram2d"
           }
          ],
          "icicle": [
           {
            "textfont": {
             "color": "white"
            },
            "type": "icicle"
           }
          ],
          "sankey": [
           {
            "textfont": {
             "color": "#000036"
            },
            "type": "sankey"
           }
          ],
          "scatter": [
           {
            "marker": {
             "line": {
              "width": 0
             }
            },
            "type": "scatter"
           }
          ],
          "table": [
           {
            "cells": {
             "fill": {
              "color": "#000038"
             },
             "font": {
              "color": "#000037"
             },
             "line": {
              "color": "#000039"
             }
            },
            "header": {
             "fill": {
              "color": "#000040"
             },
             "font": {
              "color": "#000036"
             },
             "line": {
              "color": "#000039"
             }
            },
            "type": "table"
           }
          ],
          "waterfall": [
           {
            "connector": {
             "line": {
              "color": "#000036",
              "width": 2
             }
            },
            "decreasing": {
             "marker": {
              "color": "#000033"
             }
            },
            "increasing": {
             "marker": {
              "color": "#000032"
             }
            },
            "totals": {
             "marker": {
              "color": "#000034"
             }
            },
            "type": "waterfall"
           }
          ]
         },
         "layout": {
          "coloraxis": {
           "colorscale": [
            [
             0,
             "#000011"
            ],
            [
             0.1111111111111111,
             "#000012"
            ],
            [
             0.2222222222222222,
             "#000013"
            ],
            [
             0.3333333333333333,
             "#000014"
            ],
            [
             0.4444444444444444,
             "#000015"
            ],
            [
             0.5555555555555556,
             "#000016"
            ],
            [
             0.6666666666666666,
             "#000017"
            ],
            [
             0.7777777777777778,
             "#000018"
            ],
            [
             0.8888888888888888,
             "#000019"
            ],
            [
             1,
             "#000020"
            ]
           ]
          },
          "colorscale": {
           "diverging": [
            [
             0,
             "#000021"
            ],
            [
             0.1,
             "#000022"
            ],
            [
             0.2,
             "#000023"
            ],
            [
             0.3,
             "#000024"
            ],
            [
             0.4,
             "#000025"
            ],
            [
             0.5,
             "#000026"
            ],
            [
             0.6,
             "#000027"
            ],
            [
             0.7,
             "#000028"
            ],
            [
             0.8,
             "#000029"
            ],
            [
             0.9,
             "#000030"
            ],
            [
             1,
             "#000031"
            ]
           ],
           "sequential": [
            [
             0,
             "#000011"
            ],
            [
             0.1111111111111111,
             "#000012"
            ],
            [
             0.2222222222222222,
             "#000013"
            ],
            [
             0.3333333333333333,
             "#000014"
            ],
            [
             0.4444444444444444,
             "#000015"
            ],
            [
             0.5555555555555556,
             "#000016"
            ],
            [
             0.6666666666666666,
             "#000017"
            ],
            [
             0.7777777777777778,
             "#000018"
            ],
            [
             0.8888888888888888,
             "#000019"
            ],
            [
             1,
             "#000020"
            ]
           ],
           "sequentialminus": [
            [
             0,
             "#000011"
            ],
            [
             0.1111111111111111,
             "#000012"
            ],
            [
             0.2222222222222222,
             "#000013"
            ],
            [
             0.3333333333333333,
             "#000014"
            ],
            [
             0.4444444444444444,
             "#000015"
            ],
            [
             0.5555555555555556,
             "#000016"
            ],
            [
             0.6666666666666666,
             "#000017"
            ],
            [
             0.7777777777777778,
             "#000018"
            ],
            [
             0.8888888888888888,
             "#000019"
            ],
            [
             1,
             "#000020"
            ]
           ]
          },
          "colorway": [
           "#000001",
           "#000002",
           "#000003",
           "#000004",
           "#000005",
           "#000006",
           "#000007",
           "#000008",
           "#000009",
           "#000010"
          ]
         }
        },
        "title": {
         "text": "Loan Category Totals as at 31 December 2023"
        },
        "xaxis": {
         "title": {
          "text": "Loan Category"
         }
        },
        "yaxis": {
         "title": {
          "text": "Total Loan Amount"
         }
        }
       }
      }
     },
     "metadata": {},
     "output_type": "display_data"
    }
   ],
   "source": [
    "from outputs.outputs_utils import generate_bar_chart\n",
    "\n",
    "char = generate_bar_chart(\n",
    "    df_summary_output=df_summary_output,\n",
    "    selected_date=selected_date,\n",
    "    loan_column_names=loan_column_names,\n",
    "    category_column='Loan Category',\n",
    "    columns_label = 'Total Loan Amount',\n",
    "    marker_color='lightblue',\n",
    "    title=f\"Loan Category Totals as at {selected_date.strftime('%d %B %Y')}\",\n",
    "    yaxis_title='Total Loan Amount',\n",
    "    margin_l=50,\n",
    "    margin_r=200,\n",
    "    margin_t=50,\n",
    "    margin_b=180,\n",
    ")\n",
    "\n",
    "char"
   ]
  },
  {
   "cell_type": "code",
   "execution_count": 151,
   "metadata": {},
   "outputs": [],
   "source": [
    "from outputs.outputs_summary_loans import generate_loan_pos_neg_charts\n",
    "\n",
    "# Generate Loans positive and negative movements charts\n",
    "summary_loans_dict['loan_pos_neg_charts'] = generate_loan_pos_neg_charts(\n",
    "    df_summary_output=df_summary_output,\n",
    "    loan_column_names = loan_column_names,\n",
    "    reference_dates=reference_dates,\n",
    "    category_column='Loan Category',\n",
    "    prior_label = 'Prior Month Total',\n",
    "    movement_label = 'Movement - 1 Month',\n",
    ")"
   ]
  },
  {
   "cell_type": "code",
   "execution_count": 154,
   "metadata": {},
   "outputs": [
    {
     "data": {
      "text/plain": [
       "Index(['Period', 'Cash and deposits with financial institutions',\n",
       "       'Trading securities', 'Investment securities',\n",
       "       'Net acceptances of customers', 'Total residents assets',\n",
       "       'Total securitised assets on balance sheet',\n",
       "       'Loans to non-financial businesses', 'Loans to financial institutions',\n",
       "       'Loans to general government',\n",
       "       'Loans to households: Housing: Owner-occupied',\n",
       "       'Loans to households: Housing: Investment',\n",
       "       'Loans to households: Credit cards', 'Loans to households: Other',\n",
       "       'Loans to community service organisations',\n",
       "       'Total residents loans and finance leases',\n",
       "       'Intra-group loans and finance leases', 'Acceptances',\n",
       "       'Intra-group deposits', 'Negotiable Certificates of Deposit',\n",
       "       'Total short-term borrowings', 'Total long-term borrowings',\n",
       "       'Deposits by non-financial businesses',\n",
       "       'Deposits by financial institutions', 'Deposits by general government',\n",
       "       'Deposits by households', 'Deposits by community service organisations',\n",
       "       'Total residents deposits', 'Business Loans', 'Total Loans for Housing',\n",
       "       'Loans to Housing: Owner-occupied Property Percentage',\n",
       "       'Loans to Housing: Investment Property Percentage',\n",
       "       'Cash and deposits with financial institutions - movement',\n",
       "       'Trading securities - movement', 'Investment securities - movement',\n",
       "       'Net acceptances of customers - movement',\n",
       "       'Total residents assets - movement',\n",
       "       'Total securitised assets on balance sheet - movement',\n",
       "       'Loans to non-financial businesses - movement',\n",
       "       'Loans to financial institutions - movement',\n",
       "       'Loans to general government - movement',\n",
       "       'Loans to households: Housing: Owner-occupied - movement',\n",
       "       'Loans to households: Housing: Investment - movement',\n",
       "       'Loans to households: Credit cards - movement',\n",
       "       'Loans to households: Other - movement',\n",
       "       'Loans to community service organisations - movement',\n",
       "       'Total residents loans and finance leases - movement',\n",
       "       'Intra-group loans and finance leases - movement',\n",
       "       'Acceptances - movement', 'Intra-group deposits - movement',\n",
       "       'Negotiable Certificates of Deposit - movement',\n",
       "       'Total short-term borrowings - movement',\n",
       "       'Total long-term borrowings - movement',\n",
       "       'Deposits by non-financial businesses - movement',\n",
       "       'Deposits by financial institutions - movement',\n",
       "       'Deposits by general government - movement',\n",
       "       'Deposits by households - movement',\n",
       "       'Deposits by community service organisations - movement',\n",
       "       'Total residents deposits - movement', 'Business Loans - movement',\n",
       "       'Total Loans for Housing - movement',\n",
       "       'Loans to Housing: Owner-occupied Property Percentage - movement',\n",
       "       'Loans to Housing: Investment Property Percentage - movement',\n",
       "       'date_reference'],\n",
       "      dtype='object')"
      ]
     },
     "execution_count": 154,
     "metadata": {},
     "output_type": "execute_result"
    }
   ],
   "source": [
    "reference_dates\n",
    "df_summary_output.columns"
   ]
  },
  {
   "cell_type": "code",
   "execution_count": 159,
   "metadata": {},
   "outputs": [
    {
     "data": {
      "text/plain": [
       "'test'"
      ]
     },
     "execution_count": 159,
     "metadata": {},
     "output_type": "execute_result"
    }
   ],
   "source": [
    "testing = 'Test'\n",
    "testing.lower()\n"
   ]
  },
  {
   "cell_type": "code",
   "execution_count": 152,
   "metadata": {},
   "outputs": [
    {
     "data": {
      "application/vnd.plotly.v1+json": {
       "config": {
        "plotlyServerURL": "https://plot.ly"
       },
       "data": [
        {
         "marker": {
          "color": "lightblue"
         },
         "name": "Prior Month Total",
         "type": "bar",
         "x": [
          "Loans to non-financial businesses",
          "Loans to financial institutions",
          "Loans to general government",
          "Loans to households: Housing: Owner-occupied",
          "Loans to households: Housing: Investment",
          "Loans to households: Credit cards",
          "Loans to households: Other",
          "Loans to community service organisations"
         ],
         "y": [
          986421500000,
          157825200000,
          27397700000,
          1428048900000,
          686129400000,
          29109600000,
          70711200000,
          2769200000
         ]
        },
        {
         "base": [
          986421500000,
          157825200000,
          27397700000,
          1428048900000,
          686129400000,
          29109600000,
          70711200000,
          2769200000
         ],
         "marker": {
          "color": "blue"
         },
         "name": "Positive Movement - 1 Month",
         "type": "bar",
         "x": [
          "Loans to non-financial businesses",
          "Loans to financial institutions",
          "Loans to general government",
          "Loans to households: Housing: Owner-occupied",
          "Loans to households: Housing: Investment",
          "Loans to households: Credit cards",
          "Loans to households: Other",
          "Loans to community service organisations"
         ],
         "y": [
          24358900000,
          11026200000,
          0,
          35277100000,
          9454300000,
          977000000,
          0,
          95700000
         ]
        },
        {
         "base": [
          0,
          0,
          0,
          0,
          0,
          0,
          0,
          0
         ],
         "marker": {
          "color": "red"
         },
         "name": "Negative Movement - 1 Month",
         "type": "bar",
         "x": [
          "Loans to non-financial businesses",
          "Loans to financial institutions",
          "Loans to general government",
          "Loans to households: Housing: Owner-occupied",
          "Loans to households: Housing: Investment",
          "Loans to households: Credit cards",
          "Loans to households: Other",
          "Loans to community service organisations"
         ],
         "y": [
          0,
          0,
          -9106900000,
          0,
          0,
          0,
          -2096900000,
          0
         ]
        }
       ],
       "layout": {
        "barmode": "overlay",
        "legend": {
         "orientation": "h",
         "x": 0.5,
         "xanchor": "center",
         "y": 1.05
        },
        "margin": {
         "b": 180,
         "l": 50,
         "r": 200,
         "t": 80
        },
        "template": {
         "data": {
          "candlestick": [
           {
            "decreasing": {
             "line": {
              "color": "#000033"
             }
            },
            "increasing": {
             "line": {
              "color": "#000032"
             }
            },
            "type": "candlestick"
           }
          ],
          "contour": [
           {
            "colorscale": [
             [
              0,
              "#000011"
             ],
             [
              0.1111111111111111,
              "#000012"
             ],
             [
              0.2222222222222222,
              "#000013"
             ],
             [
              0.3333333333333333,
              "#000014"
             ],
             [
              0.4444444444444444,
              "#000015"
             ],
             [
              0.5555555555555556,
              "#000016"
             ],
             [
              0.6666666666666666,
              "#000017"
             ],
             [
              0.7777777777777778,
              "#000018"
             ],
             [
              0.8888888888888888,
              "#000019"
             ],
             [
              1,
              "#000020"
             ]
            ],
            "type": "contour"
           }
          ],
          "contourcarpet": [
           {
            "colorscale": [
             [
              0,
              "#000011"
             ],
             [
              0.1111111111111111,
              "#000012"
             ],
             [
              0.2222222222222222,
              "#000013"
             ],
             [
              0.3333333333333333,
              "#000014"
             ],
             [
              0.4444444444444444,
              "#000015"
             ],
             [
              0.5555555555555556,
              "#000016"
             ],
             [
              0.6666666666666666,
              "#000017"
             ],
             [
              0.7777777777777778,
              "#000018"
             ],
             [
              0.8888888888888888,
              "#000019"
             ],
             [
              1,
              "#000020"
             ]
            ],
            "type": "contourcarpet"
           }
          ],
          "heatmap": [
           {
            "colorscale": [
             [
              0,
              "#000011"
             ],
             [
              0.1111111111111111,
              "#000012"
             ],
             [
              0.2222222222222222,
              "#000013"
             ],
             [
              0.3333333333333333,
              "#000014"
             ],
             [
              0.4444444444444444,
              "#000015"
             ],
             [
              0.5555555555555556,
              "#000016"
             ],
             [
              0.6666666666666666,
              "#000017"
             ],
             [
              0.7777777777777778,
              "#000018"
             ],
             [
              0.8888888888888888,
              "#000019"
             ],
             [
              1,
              "#000020"
             ]
            ],
            "type": "heatmap"
           }
          ],
          "histogram2d": [
           {
            "colorscale": [
             [
              0,
              "#000011"
             ],
             [
              0.1111111111111111,
              "#000012"
             ],
             [
              0.2222222222222222,
              "#000013"
             ],
             [
              0.3333333333333333,
              "#000014"
             ],
             [
              0.4444444444444444,
              "#000015"
             ],
             [
              0.5555555555555556,
              "#000016"
             ],
             [
              0.6666666666666666,
              "#000017"
             ],
             [
              0.7777777777777778,
              "#000018"
             ],
             [
              0.8888888888888888,
              "#000019"
             ],
             [
              1,
              "#000020"
             ]
            ],
            "type": "histogram2d"
           }
          ],
          "icicle": [
           {
            "textfont": {
             "color": "white"
            },
            "type": "icicle"
           }
          ],
          "sankey": [
           {
            "textfont": {
             "color": "#000036"
            },
            "type": "sankey"
           }
          ],
          "scatter": [
           {
            "marker": {
             "line": {
              "width": 0
             }
            },
            "type": "scatter"
           }
          ],
          "table": [
           {
            "cells": {
             "fill": {
              "color": "#000038"
             },
             "font": {
              "color": "#000037"
             },
             "line": {
              "color": "#000039"
             }
            },
            "header": {
             "fill": {
              "color": "#000040"
             },
             "font": {
              "color": "#000036"
             },
             "line": {
              "color": "#000039"
             }
            },
            "type": "table"
           }
          ],
          "waterfall": [
           {
            "connector": {
             "line": {
              "color": "#000036",
              "width": 2
             }
            },
            "decreasing": {
             "marker": {
              "color": "#000033"
             }
            },
            "increasing": {
             "marker": {
              "color": "#000032"
             }
            },
            "totals": {
             "marker": {
              "color": "#000034"
             }
            },
            "type": "waterfall"
           }
          ]
         },
         "layout": {
          "coloraxis": {
           "colorscale": [
            [
             0,
             "#000011"
            ],
            [
             0.1111111111111111,
             "#000012"
            ],
            [
             0.2222222222222222,
             "#000013"
            ],
            [
             0.3333333333333333,
             "#000014"
            ],
            [
             0.4444444444444444,
             "#000015"
            ],
            [
             0.5555555555555556,
             "#000016"
            ],
            [
             0.6666666666666666,
             "#000017"
            ],
            [
             0.7777777777777778,
             "#000018"
            ],
            [
             0.8888888888888888,
             "#000019"
            ],
            [
             1,
             "#000020"
            ]
           ]
          },
          "colorscale": {
           "diverging": [
            [
             0,
             "#000021"
            ],
            [
             0.1,
             "#000022"
            ],
            [
             0.2,
             "#000023"
            ],
            [
             0.3,
             "#000024"
            ],
            [
             0.4,
             "#000025"
            ],
            [
             0.5,
             "#000026"
            ],
            [
             0.6,
             "#000027"
            ],
            [
             0.7,
             "#000028"
            ],
            [
             0.8,
             "#000029"
            ],
            [
             0.9,
             "#000030"
            ],
            [
             1,
             "#000031"
            ]
           ],
           "sequential": [
            [
             0,
             "#000011"
            ],
            [
             0.1111111111111111,
             "#000012"
            ],
            [
             0.2222222222222222,
             "#000013"
            ],
            [
             0.3333333333333333,
             "#000014"
            ],
            [
             0.4444444444444444,
             "#000015"
            ],
            [
             0.5555555555555556,
             "#000016"
            ],
            [
             0.6666666666666666,
             "#000017"
            ],
            [
             0.7777777777777778,
             "#000018"
            ],
            [
             0.8888888888888888,
             "#000019"
            ],
            [
             1,
             "#000020"
            ]
           ],
           "sequentialminus": [
            [
             0,
             "#000011"
            ],
            [
             0.1111111111111111,
             "#000012"
            ],
            [
             0.2222222222222222,
             "#000013"
            ],
            [
             0.3333333333333333,
             "#000014"
            ],
            [
             0.4444444444444444,
             "#000015"
            ],
            [
             0.5555555555555556,
             "#000016"
            ],
            [
             0.6666666666666666,
             "#000017"
            ],
            [
             0.7777777777777778,
             "#000018"
            ],
            [
             0.8888888888888888,
             "#000019"
            ],
            [
             1,
             "#000020"
            ]
           ]
          },
          "colorway": [
           "#000001",
           "#000002",
           "#000003",
           "#000004",
           "#000005",
           "#000006",
           "#000007",
           "#000008",
           "#000009",
           "#000010"
          ]
         }
        },
        "title": {
         "text": "Loan Movements by Category"
        },
        "xaxis": {
         "title": {
          "text": "Loan Category"
         }
        },
        "yaxis": {
         "title": {
          "text": "Loan Amount"
         }
        }
       }
      }
     },
     "metadata": {},
     "output_type": "display_data"
    }
   ],
   "source": [
    "#summary_loans_dict['loan_pos_neg_charts']['loan_pos_neg_chart_12_months']\n",
    "#summary_loans_dict['loan_pos_neg_charts'].keys()\n",
    "#summary_loans_dict['loan_pos_neg_charts']['loan_pos_neg_chart_1_month']\n",
    "summary_loans_dict['loan_pos_neg_charts']['loan_pos_neg_chart_6_months']\n",
    "#summary_loans_dict['loan_pos_neg_charts']['loan_pos_neg_chart_12_months']\n",
    "#summary_loans_dict['loan_pos_neg_charts']['loan_pos_neg_chart_long_term']"
   ]
  },
  {
   "cell_type": "code",
   "execution_count": null,
   "metadata": {},
   "outputs": [],
   "source": [
    "from outputs.outputs_summary_loans import generate_housing_percentages_pie\n",
    "\n",
    "# Generate housing percentage pic chart\n",
    "summary_loans_dict['housing_percentages_pie'] = generate_housing_percentages_pie(\n",
    "    df_summary_output,\n",
    "    date_column,\n",
    "    selected_date,\n",
    ")"
   ]
  },
  {
   "cell_type": "code",
   "execution_count": null,
   "metadata": {},
   "outputs": [],
   "source": []
  },
  {
   "cell_type": "code",
   "execution_count": 33,
   "metadata": {},
   "outputs": [
    {
     "data": {
      "text/plain": [
       "['Loans to non-financial businesses - movement',\n",
       " 'Loans to financial institutions - movement',\n",
       " 'Loans to general government - movement',\n",
       " 'Loans to households: Housing: Owner-occupied - movement',\n",
       " 'Loans to households: Housing: Investment - movement',\n",
       " 'Loans to households: Credit cards - movement',\n",
       " 'Loans to households: Other - movement',\n",
       " 'Loans to community service organisations - movement']"
      ]
     },
     "execution_count": 33,
     "metadata": {},
     "output_type": "execute_result"
    }
   ],
   "source": [
    "loan_column_names = [\n",
    "    \"Loans to non-financial businesses\",\n",
    "    \"Loans to financial institutions\",\n",
    "    \"Loans to general government\",\n",
    "    \"Loans to households: Housing: Owner-occupied\",\n",
    "    \"Loans to households: Housing: Investment\",\n",
    "    \"Loans to households: Credit cards\",\n",
    "    \"Loans to households: Other\",\n",
    "    \"Loans to community service organisations\",\n",
    "]\n",
    "\n",
    "loan_movement_column_names = [name + \" - movement\" for name in loan_column_names]\n",
    "loan_movement_column_names"
   ]
  },
  {
   "cell_type": "code",
   "execution_count": null,
   "metadata": {},
   "outputs": [],
   "source": []
  },
  {
   "cell_type": "code",
   "execution_count": null,
   "metadata": {},
   "outputs": [],
   "source": []
  },
  {
   "cell_type": "code",
   "execution_count": 401,
   "metadata": {},
   "outputs": [
    {
     "name": "stderr",
     "output_type": "stream",
     "text": [
      "INFO:utils:1.81\n",
      "INFO:utils:7.37\n",
      "INFO:utils:9.45\n",
      "INFO:utils:35.2\n",
      "INFO:utils:21.7\n",
      "INFO:utils:75.3\n",
      "INFO:utils:57.1\n",
      "INFO:utils:330\n"
     ]
    },
    {
     "data": {
      "text/plain": [
       "{'Period': ['Over the last month',\n",
       "  'Over the last 6 months',\n",
       "  'Over the last year',\n",
       "  'Over the past 4 years'],\n",
       " 'Owner-Occupied Loans Increase': ['$ 1.81 Bn',\n",
       "  '$ 9.45 Bn',\n",
       "  '$ 21.7 Bn',\n",
       "  '$ 57.1 Bn'],\n",
       " 'Investment Property Loans Increase': ['$ 7.37 Bn',\n",
       "  '$ 35.2 Bn',\n",
       "  '$ 75.3 Bn',\n",
       "  '$ 330 Bn']}"
      ]
     },
     "execution_count": 401,
     "metadata": {},
     "output_type": "execute_result"
    }
   ],
   "source": [
    "summary_housing_info = {}\n",
    "\n",
    "from utils import movement_text, dollar_movement_text, rounded_dollars\n",
    "\n",
    "# df_summary_output['']\n",
    "over_period = []\n",
    "investment_movements = []\n",
    "oo_movement = []\n",
    "for period, descriptors in reference_dates.items():\n",
    "    over_period.append(reference_dates[period]['over_period'])\n",
    "    investment_movements.append(rounded_dollars(dollars=df_summary_output.loc[df_summary_output['date_reference'] == period, 'Loans to households: Housing: Investment - movement'].values[0]))\n",
    "    oo_movement.append(rounded_dollars(dollars=df_summary_output.loc[df_summary_output['date_reference'] == period, 'Loans to households: Housing: Owner-occupied - movement'].values[0]))\n",
    "\n",
    "data = {\n",
    "    \"Period\": over_period,\n",
    "    \"Owner-Occupied Loans Increase\": investment_movements,\n",
    "    \"Investment Property Loans Increase\": oo_movement,\n",
    "}\n",
    "\n",
    "summary_housing_info['']\n",
    "data\n"
   ]
  },
  {
   "cell_type": "code",
   "execution_count": null,
   "metadata": {},
   "outputs": [],
   "source": [
    "summary_housing_info = {}\n",
    "\n",
    "from utils import movement_text, dollar_movement_text\n",
    "\n",
    "# df_summary_output['']\n",
    "over_period = []\n",
    "investment_movements = []\n",
    "oo_movement = []\n",
    "for period, descriptors in reference_dates.items():\n",
    "    over_period.extend(reference_dates[period]['over_period'])\n",
    "    over_period = reference_dates[period]['over_period']\n",
    "    \n",
    "    investment_movement = df_summary_output.loc[df_summary_output['date_reference'] == period, 'Loans to households: Housing: Investment - movement'].values[0]\n",
    "    oo_movement = df_summary_output.loc[df_summary_output['date_reference'] == period, 'Loans to Housing: Owner-occupied Property - movement'].values[0]\n",
    "\n",
    "    summary_housing_info[f\"housing_oo_i_movements_{period}\"] = (\n",
    "        over_period + \" owner-occupied loans have \" + dollar_movement_text(dollar_movement=oo_movement) +\n",
    "        \", whilst investment property loans have \" + dollar_movement_text(dollar_movement=investment_movement) + \".\"\n",
    "    )\n",
    "    # investment_movement = df_summary_output.loc[df_summary_output['date_reference'] == period, 'Loans to households: Housing: Investment - movement']\n",
    "    # print()\n",
    "    \n",
    "    # summary_housing_info[f\"housing_movements_investment_{period}\"] = \n"
   ]
  },
  {
   "cell_type": "code",
   "execution_count": null,
   "metadata": {},
   "outputs": [],
   "source": [
    "data = {\n",
    "    \"Period\": [\"Over the last month\", \"Over the last 6 months\", \"Over the last year\", \"Over the past 4 years\"],\n",
    "    \"Owner-Occupied Loans Increase\": [\"$4.79 Bn\", \"$37.1 Bn\", \"$74.4 Bn\", \"$326 Bn\"],\n",
    "    \"Investment Property Loans Increase\": [\"$841 M\", \"$8.47 Bn\", \"$21.2 Bn\", \"$60.4 Bn\"]\n",
    "}"
   ]
  },
  {
   "cell_type": "code",
   "execution_count": 390,
   "metadata": {},
   "outputs": [
    {
     "data": {
      "text/plain": [
       "17    0.038182\n",
       "Name: Loans to Housing: Owner-occupied Property Percentage - movement, dtype: float64"
      ]
     },
     "execution_count": 390,
     "metadata": {},
     "output_type": "execute_result"
    }
   ],
   "source": [
    "df_summary_output.loc[df_summary_output['date_reference'] == period, 'Loans to Housing: Owner-occupied Property Percentage - movement']"
   ]
  },
  {
   "cell_type": "code",
   "execution_count": 345,
   "metadata": {},
   "outputs": [
    {
     "data": {
      "text/plain": [
       "'over the last month'"
      ]
     },
     "execution_count": 345,
     "metadata": {},
     "output_type": "execute_result"
    }
   ],
   "source": [
    "df_summary_1_month = df_summary_output[df_summary_output[date_column] == reference_dates['1_month']['date']]\n",
    "\n",
    "df_summary_1_month['Loans to households: Housing: Investment - movement'].values[0]\n",
    "df_summary_1_month['Loans to households: Housing: Owner-occupied - movement'].values[0]\n",
    "\n",
    "reference_dates['1_month']['over_period']"
   ]
  },
  {
   "cell_type": "code",
   "execution_count": 336,
   "metadata": {},
   "outputs": [
    {
     "name": "stderr",
     "output_type": "stream",
     "text": [
      "INFO:utils:1.81\n"
     ]
    }
   ],
   "source": [
    "from utils import rounded_dollars, dollar_movement_text\n",
    "rounded_dollars(\n",
    "    df_summary_1_month['Loans to households: Housing: Investment - movement'].values[0]\n",
    ")\n",
    "\n",
    "df_summary_1_month = df_summary_output[df_summary_output[date_column] == reference_dates['1_month']['date']]\n",
    "df_summary_6_months = df_summary_output[df_summary_output[date_column] == reference_dates['6_months']['date']]\n",
    "df_summary_12_months = df_summary_output[df_summary_output[date_column] == reference_dates['12_months']['date']]\n",
    "df_summary_long_term = df_summary_output[df_summary_output[date_column] == reference_dates['long_term']['date']]\n",
    "\n",
    "investment_movement=df_summary_1_month['Loans to households: Housing: Investment - movement'].values[0]\n",
    "dollar_movement_text(dollar_movement=investment_movement)\n",
    "\n",
    "oo_movement = df_summary_1_month['Loans to households: Housing: Owner-occupied - movement'].values[0]\n",
    "dollar_movement_text(dollar_movement=oo_movement)"
   ]
  },
  {
   "cell_type": "code",
   "execution_count": 342,
   "metadata": {},
   "outputs": [
    {
     "data": {
      "application/vnd.plotly.v1+json": {
       "config": {
        "plotlyServerURL": "https://plot.ly"
       },
       "data": [
        {
         "marker": {
          "color": "indianred"
         },
         "name": "Investment loans movement",
         "type": "bar",
         "x": [
          "Previous month",
          "6 months ago",
          "a year ago",
          "4 years ago"
         ],
         "y": [
          1814300000,
          9454300000,
          21715500000,
          57158900000
         ]
        },
        {
         "marker": {
          "color": "lightsalmon"
         },
         "name": "Owner-occupied loans movement",
         "type": "bar",
         "x": [
          "Previous month",
          "6 months ago",
          "a year ago",
          "4 years ago"
         ],
         "y": [
          7366800000,
          35277100000,
          75346700000,
          330188600000
         ]
        }
       ],
       "layout": {
        "barmode": "group",
        "template": {
         "data": {
          "candlestick": [
           {
            "decreasing": {
             "line": {
              "color": "#000033"
             }
            },
            "increasing": {
             "line": {
              "color": "#000032"
             }
            },
            "type": "candlestick"
           }
          ],
          "contour": [
           {
            "colorscale": [
             [
              0,
              "#000011"
             ],
             [
              0.1111111111111111,
              "#000012"
             ],
             [
              0.2222222222222222,
              "#000013"
             ],
             [
              0.3333333333333333,
              "#000014"
             ],
             [
              0.4444444444444444,
              "#000015"
             ],
             [
              0.5555555555555556,
              "#000016"
             ],
             [
              0.6666666666666666,
              "#000017"
             ],
             [
              0.7777777777777778,
              "#000018"
             ],
             [
              0.8888888888888888,
              "#000019"
             ],
             [
              1,
              "#000020"
             ]
            ],
            "type": "contour"
           }
          ],
          "contourcarpet": [
           {
            "colorscale": [
             [
              0,
              "#000011"
             ],
             [
              0.1111111111111111,
              "#000012"
             ],
             [
              0.2222222222222222,
              "#000013"
             ],
             [
              0.3333333333333333,
              "#000014"
             ],
             [
              0.4444444444444444,
              "#000015"
             ],
             [
              0.5555555555555556,
              "#000016"
             ],
             [
              0.6666666666666666,
              "#000017"
             ],
             [
              0.7777777777777778,
              "#000018"
             ],
             [
              0.8888888888888888,
              "#000019"
             ],
             [
              1,
              "#000020"
             ]
            ],
            "type": "contourcarpet"
           }
          ],
          "heatmap": [
           {
            "colorscale": [
             [
              0,
              "#000011"
             ],
             [
              0.1111111111111111,
              "#000012"
             ],
             [
              0.2222222222222222,
              "#000013"
             ],
             [
              0.3333333333333333,
              "#000014"
             ],
             [
              0.4444444444444444,
              "#000015"
             ],
             [
              0.5555555555555556,
              "#000016"
             ],
             [
              0.6666666666666666,
              "#000017"
             ],
             [
              0.7777777777777778,
              "#000018"
             ],
             [
              0.8888888888888888,
              "#000019"
             ],
             [
              1,
              "#000020"
             ]
            ],
            "type": "heatmap"
           }
          ],
          "histogram2d": [
           {
            "colorscale": [
             [
              0,
              "#000011"
             ],
             [
              0.1111111111111111,
              "#000012"
             ],
             [
              0.2222222222222222,
              "#000013"
             ],
             [
              0.3333333333333333,
              "#000014"
             ],
             [
              0.4444444444444444,
              "#000015"
             ],
             [
              0.5555555555555556,
              "#000016"
             ],
             [
              0.6666666666666666,
              "#000017"
             ],
             [
              0.7777777777777778,
              "#000018"
             ],
             [
              0.8888888888888888,
              "#000019"
             ],
             [
              1,
              "#000020"
             ]
            ],
            "type": "histogram2d"
           }
          ],
          "icicle": [
           {
            "textfont": {
             "color": "white"
            },
            "type": "icicle"
           }
          ],
          "sankey": [
           {
            "textfont": {
             "color": "#000036"
            },
            "type": "sankey"
           }
          ],
          "scatter": [
           {
            "marker": {
             "line": {
              "width": 0
             }
            },
            "type": "scatter"
           }
          ],
          "table": [
           {
            "cells": {
             "fill": {
              "color": "#000038"
             },
             "font": {
              "color": "#000037"
             },
             "line": {
              "color": "#000039"
             }
            },
            "header": {
             "fill": {
              "color": "#000040"
             },
             "font": {
              "color": "#000036"
             },
             "line": {
              "color": "#000039"
             }
            },
            "type": "table"
           }
          ],
          "waterfall": [
           {
            "connector": {
             "line": {
              "color": "#000036",
              "width": 2
             }
            },
            "decreasing": {
             "marker": {
              "color": "#000033"
             }
            },
            "increasing": {
             "marker": {
              "color": "#000032"
             }
            },
            "totals": {
             "marker": {
              "color": "#000034"
             }
            },
            "type": "waterfall"
           }
          ]
         },
         "layout": {
          "coloraxis": {
           "colorscale": [
            [
             0,
             "#000011"
            ],
            [
             0.1111111111111111,
             "#000012"
            ],
            [
             0.2222222222222222,
             "#000013"
            ],
            [
             0.3333333333333333,
             "#000014"
            ],
            [
             0.4444444444444444,
             "#000015"
            ],
            [
             0.5555555555555556,
             "#000016"
            ],
            [
             0.6666666666666666,
             "#000017"
            ],
            [
             0.7777777777777778,
             "#000018"
            ],
            [
             0.8888888888888888,
             "#000019"
            ],
            [
             1,
             "#000020"
            ]
           ]
          },
          "colorscale": {
           "diverging": [
            [
             0,
             "#000021"
            ],
            [
             0.1,
             "#000022"
            ],
            [
             0.2,
             "#000023"
            ],
            [
             0.3,
             "#000024"
            ],
            [
             0.4,
             "#000025"
            ],
            [
             0.5,
             "#000026"
            ],
            [
             0.6,
             "#000027"
            ],
            [
             0.7,
             "#000028"
            ],
            [
             0.8,
             "#000029"
            ],
            [
             0.9,
             "#000030"
            ],
            [
             1,
             "#000031"
            ]
           ],
           "sequential": [
            [
             0,
             "#000011"
            ],
            [
             0.1111111111111111,
             "#000012"
            ],
            [
             0.2222222222222222,
             "#000013"
            ],
            [
             0.3333333333333333,
             "#000014"
            ],
            [
             0.4444444444444444,
             "#000015"
            ],
            [
             0.5555555555555556,
             "#000016"
            ],
            [
             0.6666666666666666,
             "#000017"
            ],
            [
             0.7777777777777778,
             "#000018"
            ],
            [
             0.8888888888888888,
             "#000019"
            ],
            [
             1,
             "#000020"
            ]
           ],
           "sequentialminus": [
            [
             0,
             "#000011"
            ],
            [
             0.1111111111111111,
             "#000012"
            ],
            [
             0.2222222222222222,
             "#000013"
            ],
            [
             0.3333333333333333,
             "#000014"
            ],
            [
             0.4444444444444444,
             "#000015"
            ],
            [
             0.5555555555555556,
             "#000016"
            ],
            [
             0.6666666666666666,
             "#000017"
            ],
            [
             0.7777777777777778,
             "#000018"
            ],
            [
             0.8888888888888888,
             "#000019"
            ],
            [
             1,
             "#000020"
            ]
           ]
          },
          "colorway": [
           "#000001",
           "#000002",
           "#000003",
           "#000004",
           "#000005",
           "#000006",
           "#000007",
           "#000008",
           "#000009",
           "#000010"
          ]
         }
        },
        "title": {
         "text": "Movement Comparison between Investment and Owner-occupied Property Loans"
        },
        "xaxis": {
         "tickangle": -45,
         "title": {
          "text": "Period"
         }
        },
        "yaxis": {
         "title": {
          "text": "Movement Value"
         }
        }
       }
      }
     },
     "metadata": {},
     "output_type": "display_data"
    }
   ],
   "source": [
    "import plotly.graph_objects as go\n",
    "\n",
    "# Sample data: movements for each category across four periods\n",
    "data = {\n",
    "    'Period': [\n",
    "        reference_dates['1_month']['name'],\n",
    "        reference_dates['6_months']['name'],\n",
    "        reference_dates['12_months']['name'],\n",
    "        reference_dates['long_term']['name'],\n",
    "    ],\n",
    "    'Investment loans movement': [\n",
    "        df_summary_1_month['Loans to households: Housing: Investment - movement'].values[0],\n",
    "        df_summary_6_months['Loans to households: Housing: Investment - movement'].values[0],\n",
    "        df_summary_12_months['Loans to households: Housing: Investment - movement'].values[0],\n",
    "        df_summary_long_term['Loans to households: Housing: Investment - movement'].values[0],\n",
    "    ],\n",
    "    'Owner-occupied loans movement': [\n",
    "        df_summary_1_month['Loans to households: Housing: Owner-occupied - movement'].values[0],\n",
    "        df_summary_6_months['Loans to households: Housing: Owner-occupied - movement'].values[0],\n",
    "        df_summary_12_months['Loans to households: Housing: Owner-occupied - movement'].values[0],\n",
    "        df_summary_long_term['Loans to households: Housing: Owner-occupied - movement'].values[0],\n",
    "    ],\n",
    "}\n",
    "\n",
    "# Create the figure object\n",
    "fig = go.Figure()\n",
    "\n",
    "# Add bars for investment data\n",
    "fig.add_trace(go.Bar(\n",
    "    x=data['Period'],\n",
    "    y=data['Investment loans movement'],\n",
    "    name='Investment loans movement',  # Legend entry\n",
    "    marker_color='indianred'  # Color of the bar\n",
    "))\n",
    "\n",
    "# Add bars for owner-occupied data\n",
    "fig.add_trace(go.Bar(\n",
    "    x=data['Period'],\n",
    "    y=data['Owner-occupied loans movement'],\n",
    "    name='Owner-occupied loans movement',\n",
    "    marker_color='lightsalmon'  # Color of the bar\n",
    "))\n",
    "\n",
    "# Update the layout for a grouped bar chart\n",
    "fig.update_layout(\n",
    "    title='Movement Comparison between Investment and Owner-occupied Property Loans',\n",
    "    xaxis_title='Period',\n",
    "    yaxis_title='Movement Value',\n",
    "    barmode='group',  # Group bars of different traces at each x value\n",
    "    xaxis_tickangle=-45  # Rotate labels for better readability\n",
    ")\n",
    "\n",
    "# Show the plot\n",
    "fig.show()\n"
   ]
  },
  {
   "cell_type": "code",
   "execution_count": 335,
   "metadata": {},
   "outputs": [
    {
     "data": {
      "text/plain": [
       "{'1_month': {'months_int': 1,\n",
       "  'name': 'Previous month',\n",
       "  'over_period': 'over the last month',\n",
       "  'date': Timestamp('2023-11-30 00:00:00')},\n",
       " '6_months': {'months_int': 6,\n",
       "  'name': '6 months ago',\n",
       "  'over_period': 'over the last 6 months',\n",
       "  'date': Timestamp('2023-06-30 00:00:00')},\n",
       " '12_months': {'months_int': 12,\n",
       "  'name': 'a year ago',\n",
       "  'over_period': 'over the last year',\n",
       "  'date': Timestamp('2022-12-31 00:00:00')},\n",
       " 'long_term': {'months_int': 40,\n",
       "  'name': '4 years ago',\n",
       "  'over_period': 'over the past 4 years',\n",
       "  'date': Timestamp('2020-08-31 00:00:00')}}"
      ]
     },
     "execution_count": 335,
     "metadata": {},
     "output_type": "execute_result"
    }
   ],
   "source": [
    "reference_dates"
   ]
  },
  {
   "cell_type": "code",
   "execution_count": 332,
   "metadata": {},
   "outputs": [
    {
     "data": {
      "application/vnd.plotly.v1+json": {
       "config": {
        "plotlyServerURL": "https://plot.ly"
       },
       "data": [
        {
         "marker": {
          "color": "indianred"
         },
         "name": "Investment",
         "type": "bar",
         "x": [
          "2020",
          "2021",
          "2022",
          "2023"
         ],
         "y": [
          10,
          15,
          5,
          12
         ]
        },
        {
         "marker": {
          "color": "lightsalmon"
         },
         "name": "Owner-occupied",
         "type": "bar",
         "x": [
          "2020",
          "2021",
          "2022",
          "2023"
         ],
         "y": [
          8,
          12,
          7,
          -9
         ]
        }
       ],
       "layout": {
        "barmode": "group",
        "template": {
         "data": {
          "candlestick": [
           {
            "decreasing": {
             "line": {
              "color": "#000033"
             }
            },
            "increasing": {
             "line": {
              "color": "#000032"
             }
            },
            "type": "candlestick"
           }
          ],
          "contour": [
           {
            "colorscale": [
             [
              0,
              "#000011"
             ],
             [
              0.1111111111111111,
              "#000012"
             ],
             [
              0.2222222222222222,
              "#000013"
             ],
             [
              0.3333333333333333,
              "#000014"
             ],
             [
              0.4444444444444444,
              "#000015"
             ],
             [
              0.5555555555555556,
              "#000016"
             ],
             [
              0.6666666666666666,
              "#000017"
             ],
             [
              0.7777777777777778,
              "#000018"
             ],
             [
              0.8888888888888888,
              "#000019"
             ],
             [
              1,
              "#000020"
             ]
            ],
            "type": "contour"
           }
          ],
          "contourcarpet": [
           {
            "colorscale": [
             [
              0,
              "#000011"
             ],
             [
              0.1111111111111111,
              "#000012"
             ],
             [
              0.2222222222222222,
              "#000013"
             ],
             [
              0.3333333333333333,
              "#000014"
             ],
             [
              0.4444444444444444,
              "#000015"
             ],
             [
              0.5555555555555556,
              "#000016"
             ],
             [
              0.6666666666666666,
              "#000017"
             ],
             [
              0.7777777777777778,
              "#000018"
             ],
             [
              0.8888888888888888,
              "#000019"
             ],
             [
              1,
              "#000020"
             ]
            ],
            "type": "contourcarpet"
           }
          ],
          "heatmap": [
           {
            "colorscale": [
             [
              0,
              "#000011"
             ],
             [
              0.1111111111111111,
              "#000012"
             ],
             [
              0.2222222222222222,
              "#000013"
             ],
             [
              0.3333333333333333,
              "#000014"
             ],
             [
              0.4444444444444444,
              "#000015"
             ],
             [
              0.5555555555555556,
              "#000016"
             ],
             [
              0.6666666666666666,
              "#000017"
             ],
             [
              0.7777777777777778,
              "#000018"
             ],
             [
              0.8888888888888888,
              "#000019"
             ],
             [
              1,
              "#000020"
             ]
            ],
            "type": "heatmap"
           }
          ],
          "histogram2d": [
           {
            "colorscale": [
             [
              0,
              "#000011"
             ],
             [
              0.1111111111111111,
              "#000012"
             ],
             [
              0.2222222222222222,
              "#000013"
             ],
             [
              0.3333333333333333,
              "#000014"
             ],
             [
              0.4444444444444444,
              "#000015"
             ],
             [
              0.5555555555555556,
              "#000016"
             ],
             [
              0.6666666666666666,
              "#000017"
             ],
             [
              0.7777777777777778,
              "#000018"
             ],
             [
              0.8888888888888888,
              "#000019"
             ],
             [
              1,
              "#000020"
             ]
            ],
            "type": "histogram2d"
           }
          ],
          "icicle": [
           {
            "textfont": {
             "color": "white"
            },
            "type": "icicle"
           }
          ],
          "sankey": [
           {
            "textfont": {
             "color": "#000036"
            },
            "type": "sankey"
           }
          ],
          "scatter": [
           {
            "marker": {
             "line": {
              "width": 0
             }
            },
            "type": "scatter"
           }
          ],
          "table": [
           {
            "cells": {
             "fill": {
              "color": "#000038"
             },
             "font": {
              "color": "#000037"
             },
             "line": {
              "color": "#000039"
             }
            },
            "header": {
             "fill": {
              "color": "#000040"
             },
             "font": {
              "color": "#000036"
             },
             "line": {
              "color": "#000039"
             }
            },
            "type": "table"
           }
          ],
          "waterfall": [
           {
            "connector": {
             "line": {
              "color": "#000036",
              "width": 2
             }
            },
            "decreasing": {
             "marker": {
              "color": "#000033"
             }
            },
            "increasing": {
             "marker": {
              "color": "#000032"
             }
            },
            "totals": {
             "marker": {
              "color": "#000034"
             }
            },
            "type": "waterfall"
           }
          ]
         },
         "layout": {
          "coloraxis": {
           "colorscale": [
            [
             0,
             "#000011"
            ],
            [
             0.1111111111111111,
             "#000012"
            ],
            [
             0.2222222222222222,
             "#000013"
            ],
            [
             0.3333333333333333,
             "#000014"
            ],
            [
             0.4444444444444444,
             "#000015"
            ],
            [
             0.5555555555555556,
             "#000016"
            ],
            [
             0.6666666666666666,
             "#000017"
            ],
            [
             0.7777777777777778,
             "#000018"
            ],
            [
             0.8888888888888888,
             "#000019"
            ],
            [
             1,
             "#000020"
            ]
           ]
          },
          "colorscale": {
           "diverging": [
            [
             0,
             "#000021"
            ],
            [
             0.1,
             "#000022"
            ],
            [
             0.2,
             "#000023"
            ],
            [
             0.3,
             "#000024"
            ],
            [
             0.4,
             "#000025"
            ],
            [
             0.5,
             "#000026"
            ],
            [
             0.6,
             "#000027"
            ],
            [
             0.7,
             "#000028"
            ],
            [
             0.8,
             "#000029"
            ],
            [
             0.9,
             "#000030"
            ],
            [
             1,
             "#000031"
            ]
           ],
           "sequential": [
            [
             0,
             "#000011"
            ],
            [
             0.1111111111111111,
             "#000012"
            ],
            [
             0.2222222222222222,
             "#000013"
            ],
            [
             0.3333333333333333,
             "#000014"
            ],
            [
             0.4444444444444444,
             "#000015"
            ],
            [
             0.5555555555555556,
             "#000016"
            ],
            [
             0.6666666666666666,
             "#000017"
            ],
            [
             0.7777777777777778,
             "#000018"
            ],
            [
             0.8888888888888888,
             "#000019"
            ],
            [
             1,
             "#000020"
            ]
           ],
           "sequentialminus": [
            [
             0,
             "#000011"
            ],
            [
             0.1111111111111111,
             "#000012"
            ],
            [
             0.2222222222222222,
             "#000013"
            ],
            [
             0.3333333333333333,
             "#000014"
            ],
            [
             0.4444444444444444,
             "#000015"
            ],
            [
             0.5555555555555556,
             "#000016"
            ],
            [
             0.6666666666666666,
             "#000017"
            ],
            [
             0.7777777777777778,
             "#000018"
            ],
            [
             0.8888888888888888,
             "#000019"
            ],
            [
             1,
             "#000020"
            ]
           ]
          },
          "colorway": [
           "#000001",
           "#000002",
           "#000003",
           "#000004",
           "#000005",
           "#000006",
           "#000007",
           "#000008",
           "#000009",
           "#000010"
          ]
         }
        },
        "title": {
         "text": "Movement Comparison between Investment and Owner-occupied Properties"
        },
        "xaxis": {
         "tickangle": -45,
         "title": {
          "text": "Period"
         }
        },
        "yaxis": {
         "title": {
          "text": "Movement Value"
         }
        }
       }
      }
     },
     "metadata": {},
     "output_type": "display_data"
    }
   ],
   "source": [
    "import plotly.graph_objects as go\n",
    "\n",
    "# Sample data: movements for each category across four periods\n",
    "data = {\n",
    "    'Period': ['2020', '2021', '2022', '2023'],\n",
    "    'Investment': [10, 15, 5, 12],  # Example data\n",
    "    'Owner-occupied': [8, 12, 7, -9]  # Example data\n",
    "}\n",
    "\n",
    "# Create the figure object\n",
    "fig = go.Figure()\n",
    "\n",
    "# Add bars for investment data\n",
    "fig.add_trace(go.Bar(\n",
    "    x=data['Period'],\n",
    "    y=data['Investment'],\n",
    "    name='Investment',  # Legend entry\n",
    "    marker_color='indianred'  # Color of the bar\n",
    "))\n",
    "\n",
    "# Add bars for owner-occupied data\n",
    "fig.add_trace(go.Bar(\n",
    "    x=data['Period'],\n",
    "    y=data['Owner-occupied'],\n",
    "    name='Owner-occupied',\n",
    "    marker_color='lightsalmon'  # Color of the bar\n",
    "))\n",
    "\n",
    "# Update the layout for a grouped bar chart\n",
    "fig.update_layout(\n",
    "    title='Movement Comparison between Investment and Owner-occupied Properties',\n",
    "    xaxis_title='Period',\n",
    "    yaxis_title='Movement Value',\n",
    "    barmode='group',  # Group bars of different traces at each x value\n",
    "    xaxis_tickangle=-45  # Rotate labels for better readability\n",
    ")\n",
    "\n",
    "# Show the plot\n",
    "fig.show()\n"
   ]
  },
  {
   "cell_type": "code",
   "execution_count": null,
   "metadata": {},
   "outputs": [],
   "source": []
  },
  {
   "cell_type": "code",
   "execution_count": null,
   "metadata": {},
   "outputs": [],
   "source": []
  },
  {
   "cell_type": "code",
   "execution_count": null,
   "metadata": {},
   "outputs": [],
   "source": []
  },
  {
   "cell_type": "markdown",
   "metadata": {},
   "source": [
    "# Generate Company Outputs"
   ]
  },
  {
   "cell_type": "code",
   "execution_count": null,
   "metadata": {},
   "outputs": [],
   "source": [
    "df_original\n",
    "print(f\"date_column:{date_column}\")\n",
    "print(f\"selected_date:{selected_date}\")\n",
    "print(f\"company_column:{company_column}\")\n",
    "print(f\"selected_company:{selected_company}\")\n",
    "print(f\"top_x_value:{top_x_value}\")"
   ]
  },
  {
   "cell_type": "markdown",
   "metadata": {},
   "source": [
    "# Generate Overall Summary\n",
    "The overall summary is based on the date selected. This will generate overall market statistics and movements as at that month end."
   ]
  },
  {
   "cell_type": "code",
   "execution_count": 45,
   "metadata": {},
   "outputs": [
    {
     "ename": "KeyError",
     "evalue": "'Loans to households: Housing: Owner-occupied - pct'",
     "output_type": "error",
     "traceback": [
      "\u001b[1;31m---------------------------------------------------------------------------\u001b[0m",
      "\u001b[1;31mKeyError\u001b[0m                                  Traceback (most recent call last)",
      "File \u001b[1;32m~\\AppData\\Local\\Packages\\PythonSoftwareFoundation.Python.3.11_qbz5n2kfra8p0\\LocalCache\\local-packages\\Python311\\site-packages\\pandas\\core\\indexes\\base.py:3802\u001b[0m, in \u001b[0;36mIndex.get_loc\u001b[1;34m(self, key)\u001b[0m\n\u001b[0;32m   3801\u001b[0m \u001b[38;5;28;01mtry\u001b[39;00m:\n\u001b[1;32m-> 3802\u001b[0m     \u001b[38;5;28;01mreturn\u001b[39;00m \u001b[38;5;28;43mself\u001b[39;49m\u001b[38;5;241;43m.\u001b[39;49m\u001b[43m_engine\u001b[49m\u001b[38;5;241;43m.\u001b[39;49m\u001b[43mget_loc\u001b[49m\u001b[43m(\u001b[49m\u001b[43mcasted_key\u001b[49m\u001b[43m)\u001b[49m\n\u001b[0;32m   3803\u001b[0m \u001b[38;5;28;01mexcept\u001b[39;00m \u001b[38;5;167;01mKeyError\u001b[39;00m \u001b[38;5;28;01mas\u001b[39;00m err:\n",
      "File \u001b[1;32mindex.pyx:153\u001b[0m, in \u001b[0;36mpandas._libs.index.IndexEngine.get_loc\u001b[1;34m()\u001b[0m\n",
      "File \u001b[1;32mindex.pyx:182\u001b[0m, in \u001b[0;36mpandas._libs.index.IndexEngine.get_loc\u001b[1;34m()\u001b[0m\n",
      "File \u001b[1;32mpandas\\\\_libs\\\\hashtable_class_helper.pxi:7081\u001b[0m, in \u001b[0;36mpandas._libs.hashtable.PyObjectHashTable.get_item\u001b[1;34m()\u001b[0m\n",
      "File \u001b[1;32mpandas\\\\_libs\\\\hashtable_class_helper.pxi:7089\u001b[0m, in \u001b[0;36mpandas._libs.hashtable.PyObjectHashTable.get_item\u001b[1;34m()\u001b[0m\n",
      "\u001b[1;31mKeyError\u001b[0m: 'Loans to households: Housing: Owner-occupied - pct'",
      "\nThe above exception was the direct cause of the following exception:\n",
      "\u001b[1;31mKeyError\u001b[0m                                  Traceback (most recent call last)",
      "Cell \u001b[1;32mIn[45], line 4\u001b[0m\n\u001b[0;32m      1\u001b[0m \u001b[38;5;28;01mfrom\u001b[39;00m \u001b[38;5;21;01msummary_generator\u001b[39;00m \u001b[38;5;28;01mimport\u001b[39;00m generate_summary\n\u001b[0;32m      3\u001b[0m \u001b[38;5;66;03m# Generate Summary Dictionary\u001b[39;00m\n\u001b[1;32m----> 4\u001b[0m summary_dict\u001b[38;5;241m=\u001b[39m\u001b[43mgenerate_summary\u001b[49m\u001b[43m(\u001b[49m\n\u001b[0;32m      5\u001b[0m \u001b[43m    \u001b[49m\u001b[43mdf\u001b[49m\u001b[38;5;241;43m=\u001b[39;49m\u001b[43mdf\u001b[49m\u001b[43m,\u001b[49m\n\u001b[0;32m      6\u001b[0m \u001b[43m    \u001b[49m\u001b[43mdate_column\u001b[49m\u001b[38;5;241;43m=\u001b[39;49m\u001b[43mdate_column\u001b[49m\u001b[43m,\u001b[49m\n\u001b[0;32m      7\u001b[0m \u001b[43m    \u001b[49m\u001b[43mselected_date\u001b[49m\u001b[38;5;241;43m=\u001b[39;49m\u001b[43mselected_date\u001b[49m\u001b[43m,\u001b[49m\n\u001b[0;32m      8\u001b[0m \u001b[43m    \u001b[49m\u001b[43mpkl_folder_name\u001b[49m\u001b[38;5;241;43m=\u001b[39;49m\u001b[43mpkl_folder_name\u001b[49m\u001b[43m,\u001b[49m\n\u001b[0;32m      9\u001b[0m \u001b[43m)\u001b[49m\n",
      "File \u001b[1;32mc:\\Users\\tyewf\\github_projects\\rba_monthly_adi_statistics_excel\\summary_generator.py:110\u001b[0m, in \u001b[0;36mgenerate_summary\u001b[1;34m(df, date_column, selected_date, pkl_folder_name)\u001b[0m\n\u001b[0;32m    102\u001b[0m summary_dict[\u001b[38;5;124m'\u001b[39m\u001b[38;5;124mdata\u001b[39m\u001b[38;5;124m'\u001b[39m] \u001b[38;5;241m=\u001b[39m generate_summary_data(\n\u001b[0;32m    103\u001b[0m     df\u001b[38;5;241m=\u001b[39mdf,\n\u001b[0;32m    104\u001b[0m     date_column\u001b[38;5;241m=\u001b[39mdate_column,\n\u001b[0;32m    105\u001b[0m     selected_date\u001b[38;5;241m=\u001b[39mselected_date,\n\u001b[0;32m    106\u001b[0m )\n\u001b[0;32m    108\u001b[0m \u001b[38;5;66;03m# Generate plots\u001b[39;00m\n\u001b[0;32m    109\u001b[0m summary_dict\u001b[38;5;241m.\u001b[39mupdate(\n\u001b[1;32m--> 110\u001b[0m     \u001b[43mgenerate_plots\u001b[49m\u001b[43m(\u001b[49m\n\u001b[0;32m    111\u001b[0m \u001b[43m        \u001b[49m\u001b[43mdf\u001b[49m\u001b[38;5;241;43m=\u001b[39;49m\u001b[43mdf\u001b[49m\u001b[43m,\u001b[49m\n\u001b[0;32m    112\u001b[0m \u001b[43m        \u001b[49m\u001b[43mdate_column\u001b[49m\u001b[38;5;241;43m=\u001b[39;49m\u001b[43mdate_column\u001b[49m\u001b[43m,\u001b[49m\n\u001b[0;32m    113\u001b[0m \u001b[43m    \u001b[49m\u001b[43m)\u001b[49m\n\u001b[0;32m    114\u001b[0m )\n\u001b[0;32m    116\u001b[0m \u001b[38;5;66;03m# Write data to pickle file\u001b[39;00m\n\u001b[0;32m    117\u001b[0m \u001b[38;5;28;01mwith\u001b[39;00m \u001b[38;5;28mopen\u001b[39m(summary_dict_pkl, \u001b[38;5;124m'\u001b[39m\u001b[38;5;124mwb\u001b[39m\u001b[38;5;124m'\u001b[39m) \u001b[38;5;28;01mas\u001b[39;00m f:\n",
      "File \u001b[1;32mc:\\Users\\tyewf\\github_projects\\rba_monthly_adi_statistics_excel\\summary_generator.py:68\u001b[0m, in \u001b[0;36mgenerate_plots\u001b[1;34m(df, date_column)\u001b[0m\n\u001b[0;32m     65\u001b[0m plots \u001b[38;5;241m=\u001b[39m {}\n\u001b[0;32m     67\u001b[0m \u001b[38;5;66;03m# Owner Occupied to Investment Plot\u001b[39;00m\n\u001b[1;32m---> 68\u001b[0m plots[\u001b[38;5;124m'\u001b[39m\u001b[38;5;124moo_to_inv_fig\u001b[39m\u001b[38;5;124m'\u001b[39m] \u001b[38;5;241m=\u001b[39m \u001b[43moo_to_investment_plot\u001b[49m\u001b[43m(\u001b[49m\n\u001b[0;32m     69\u001b[0m \u001b[43m    \u001b[49m\u001b[43mdf\u001b[49m\u001b[38;5;241;43m=\u001b[39;49m\u001b[43mdf\u001b[49m\u001b[43m,\u001b[49m\n\u001b[0;32m     70\u001b[0m \u001b[43m    \u001b[49m\u001b[43mdate_column\u001b[49m\u001b[38;5;241;43m=\u001b[39;49m\u001b[43mdate_column\u001b[49m\u001b[43m,\u001b[49m\n\u001b[0;32m     71\u001b[0m \u001b[43m\u001b[49m\u001b[43m)\u001b[49m\n\u001b[0;32m     73\u001b[0m \u001b[38;5;28;01mreturn\u001b[39;00m plots\n",
      "File \u001b[1;32mc:\\Users\\tyewf\\github_projects\\rba_monthly_adi_statistics_excel\\summary_generator.py:43\u001b[0m, in \u001b[0;36moo_to_investment_plot\u001b[1;34m(df, date_column)\u001b[0m\n\u001b[0;32m     41\u001b[0m oo_col \u001b[38;5;241m=\u001b[39m \u001b[38;5;124m'\u001b[39m\u001b[38;5;124mLoans to households: Housing: Owner-occupied - pct\u001b[39m\u001b[38;5;124m'\u001b[39m\n\u001b[0;32m     42\u001b[0m inv_col \u001b[38;5;241m=\u001b[39m \u001b[38;5;124m'\u001b[39m\u001b[38;5;124mLoans to households: Housing: Investment - pct\u001b[39m\u001b[38;5;124m'\u001b[39m\n\u001b[1;32m---> 43\u001b[0m ax\u001b[38;5;241m.\u001b[39mstackplot(df[date_column], \u001b[43mdf\u001b[49m\u001b[43m[\u001b[49m\u001b[43moo_col\u001b[49m\u001b[43m]\u001b[49m, df[inv_col], labels\u001b[38;5;241m=\u001b[39m[oo_col, inv_col], alpha\u001b[38;5;241m=\u001b[39m\u001b[38;5;241m0.8\u001b[39m)\n\u001b[0;32m     45\u001b[0m \u001b[38;5;66;03m# Formatting the plot\u001b[39;00m\n\u001b[0;32m     46\u001b[0m ax\u001b[38;5;241m.\u001b[39mset_title(\u001b[38;5;124m'\u001b[39m\u001b[38;5;124mOwner Occupied to Investment - 100\u001b[39m\u001b[38;5;124m%\u001b[39m\u001b[38;5;124m Stacked Area Chart\u001b[39m\u001b[38;5;124m'\u001b[39m)\n",
      "File \u001b[1;32m~\\AppData\\Local\\Packages\\PythonSoftwareFoundation.Python.3.11_qbz5n2kfra8p0\\LocalCache\\local-packages\\Python311\\site-packages\\pandas\\core\\frame.py:4090\u001b[0m, in \u001b[0;36mDataFrame.__getitem__\u001b[1;34m(self, key)\u001b[0m\n\u001b[0;32m   4088\u001b[0m \u001b[38;5;28;01mif\u001b[39;00m \u001b[38;5;28mself\u001b[39m\u001b[38;5;241m.\u001b[39mcolumns\u001b[38;5;241m.\u001b[39mnlevels \u001b[38;5;241m>\u001b[39m \u001b[38;5;241m1\u001b[39m:\n\u001b[0;32m   4089\u001b[0m     \u001b[38;5;28;01mreturn\u001b[39;00m \u001b[38;5;28mself\u001b[39m\u001b[38;5;241m.\u001b[39m_getitem_multilevel(key)\n\u001b[1;32m-> 4090\u001b[0m indexer \u001b[38;5;241m=\u001b[39m \u001b[38;5;28;43mself\u001b[39;49m\u001b[38;5;241;43m.\u001b[39;49m\u001b[43mcolumns\u001b[49m\u001b[38;5;241;43m.\u001b[39;49m\u001b[43mget_loc\u001b[49m\u001b[43m(\u001b[49m\u001b[43mkey\u001b[49m\u001b[43m)\u001b[49m\n\u001b[0;32m   4091\u001b[0m \u001b[38;5;28;01mif\u001b[39;00m is_integer(indexer):\n\u001b[0;32m   4092\u001b[0m     indexer \u001b[38;5;241m=\u001b[39m [indexer]\n",
      "File \u001b[1;32m~\\AppData\\Local\\Packages\\PythonSoftwareFoundation.Python.3.11_qbz5n2kfra8p0\\LocalCache\\local-packages\\Python311\\site-packages\\pandas\\core\\indexes\\base.py:3809\u001b[0m, in \u001b[0;36mIndex.get_loc\u001b[1;34m(self, key)\u001b[0m\n\u001b[0;32m   3804\u001b[0m     \u001b[38;5;28;01mif\u001b[39;00m \u001b[38;5;28misinstance\u001b[39m(casted_key, \u001b[38;5;28mslice\u001b[39m) \u001b[38;5;129;01mor\u001b[39;00m (\n\u001b[0;32m   3805\u001b[0m         \u001b[38;5;28misinstance\u001b[39m(casted_key, abc\u001b[38;5;241m.\u001b[39mIterable)\n\u001b[0;32m   3806\u001b[0m         \u001b[38;5;129;01mand\u001b[39;00m \u001b[38;5;28many\u001b[39m(\u001b[38;5;28misinstance\u001b[39m(x, \u001b[38;5;28mslice\u001b[39m) \u001b[38;5;28;01mfor\u001b[39;00m x \u001b[38;5;129;01min\u001b[39;00m casted_key)\n\u001b[0;32m   3807\u001b[0m     ):\n\u001b[0;32m   3808\u001b[0m         \u001b[38;5;28;01mraise\u001b[39;00m InvalidIndexError(key)\n\u001b[1;32m-> 3809\u001b[0m     \u001b[38;5;28;01mraise\u001b[39;00m \u001b[38;5;167;01mKeyError\u001b[39;00m(key) \u001b[38;5;28;01mfrom\u001b[39;00m \u001b[38;5;21;01merr\u001b[39;00m\n\u001b[0;32m   3810\u001b[0m \u001b[38;5;28;01mexcept\u001b[39;00m \u001b[38;5;167;01mTypeError\u001b[39;00m:\n\u001b[0;32m   3811\u001b[0m     \u001b[38;5;66;03m# If we have a listlike key, _check_indexing_error will raise\u001b[39;00m\n\u001b[0;32m   3812\u001b[0m     \u001b[38;5;66;03m#  InvalidIndexError. Otherwise we fall through and re-raise\u001b[39;00m\n\u001b[0;32m   3813\u001b[0m     \u001b[38;5;66;03m#  the TypeError.\u001b[39;00m\n\u001b[0;32m   3814\u001b[0m     \u001b[38;5;28mself\u001b[39m\u001b[38;5;241m.\u001b[39m_check_indexing_error(key)\n",
      "\u001b[1;31mKeyError\u001b[0m: 'Loans to households: Housing: Owner-occupied - pct'"
     ]
    },
    {
     "data": {
      "image/png": "[encoded data removed]",
      "text/plain": [
       "<Figure size 1000x600 with 1 Axes>"
      ]
     },
     "metadata": {},
     "output_type": "display_data"
    }
   ],
   "source": [
    "from summary_generator import generate_summary\n",
    "\n",
    "# Generate Summary Dictionary\n",
    "summary_dict=generate_summary(\n",
    "    df=df,\n",
    "    date_column=date_column,\n",
    "    selected_date=selected_date,\n",
    "    pkl_folder_name=pkl_folder_name,\n",
    ")"
   ]
  },
  {
   "cell_type": "code",
   "execution_count": 13,
   "metadata": {},
   "outputs": [],
   "source": [
    "df = df[df[date_column] <= selected_date].copy()"
   ]
  },
  {
   "cell_type": "code",
   "execution_count": 38,
   "metadata": {},
   "outputs": [],
   "source": [
    "from summary_generator import generate_summary_data\n",
    "\n",
    "df_summary_data=generate_summary_data(\n",
    "    df=df,\n",
    "    date_column=date_column,\n",
    "    selected_date=selected_date,\n",
    ")"
   ]
  },
  {
   "cell_type": "code",
   "execution_count": null,
   "metadata": {},
   "outputs": [],
   "source": [
    "df_summary_data['Loans to households: Housing: Owner-occupied - pct']\n",
    "'Loans to households: Housing: Owner-occupied - pct'\n",
    "'Loans to households: Housing: Owner-occupied - pct'"
   ]
  },
  {
   "cell_type": "code",
   "execution_count": 43,
   "metadata": {},
   "outputs": [
    {
     "data": {
      "image/png": "[encoded data removed]",
      "text/plain": [
       "<Figure size 640x480 with 1 Axes>"
      ]
     },
     "metadata": {},
     "output_type": "display_data"
    },
    {
     "data": {
      "image/png": "[encoded data removed]",
      "text/plain": [
       "<Figure size 1000x600 with 1 Axes>"
      ]
     },
     "metadata": {},
     "output_type": "display_data"
    }
   ],
   "source": [
    "from summary_generator import generate_plots\n",
    "\n",
    "fig = generate_plots(\n",
    "    df=df_summary_data,\n",
    "    date_column=date_column,\n",
    ")\n"
   ]
  },
  {
   "cell_type": "code",
   "execution_count": null,
   "metadata": {},
   "outputs": [],
   "source": []
  },
  {
   "cell_type": "code",
   "execution_count": null,
   "metadata": {},
   "outputs": [],
   "source": [
    "import pandas as pd\n",
    "import numpy as np\n",
    "import matplotlib.pyplot as plt\n",
    "\n",
    "# Sample data: Months and values for Variable1 and Variable2\n",
    "data = {\n",
    "    'Date': pd.date_range(start='2023-01-01', periods=6, freq='M'),\n",
    "    'Variable1': np.random.randint(10, 50, size=6),\n",
    "    'Variable2': np.random.randint(20, 60, size=6),\n",
    "}\n",
    "\n",
    "df = pd.DataFrame(data)\n",
    "df['Total'] = df['Variable1'] + df['Variable2']\n",
    "\n",
    "# Calculate the percentage of each variable\n",
    "df['Variable1_pct'] = df['Variable1'] / df['Total']\n",
    "df['Variable2_pct'] = df['Variable2'] / df['Total']\n",
    "\n",
    "# Plotting\n",
    "fig, ax = plt.subplots(figsize=(10, 6))\n",
    "ax.stackplot(df['Date'], df['Variable1_pct'], df['Variable2_pct'], labels=['Variable1', 'Variable2'], alpha=0.8)\n",
    "\n",
    "# Formatting the plot\n",
    "ax.set_title('100% Stacked Area Chart')\n",
    "ax.set_ylabel('Percentage')\n",
    "ax.margins(0, 0)  # Remove empty space around the plot\n",
    "ax.legend(loc='upper left')\n",
    "\n",
    "plt.xticks(rotation=45)  # Rotate date labels for better readability\n",
    "plt.tight_layout()\n",
    "plt.show()"
   ]
  },
  {
   "cell_type": "markdown",
   "metadata": {},
   "source": [
    "# Filter Data"
   ]
  },
  {
   "cell_type": "code",
   "execution_count": 54,
   "metadata": {},
   "outputs": [
    {
     "name": "stderr",
     "output_type": "stream",
     "text": [
      "c:\\Users\\tyewf\\Documents\\GitHub\\rba_monthly_adi_statistics_excel\\data_filtering.py:287: SettingWithCopyWarning:\n",
      "\n",
      "\n",
      "A value is trying to be set on a copy of a slice from a DataFrame.\n",
      "Try using .loc[row_indexer,col_indexer] = value instead\n",
      "\n",
      "See the caveats in the documentation: https://pandas.pydata.org/pandas-docs/stable/user_guide/indexing.html#returning-a-view-versus-a-copy\n",
      "\n",
      "c:\\Users\\tyewf\\Documents\\GitHub\\rba_monthly_adi_statistics_excel\\data_filtering.py:287: SettingWithCopyWarning:\n",
      "\n",
      "\n",
      "A value is trying to be set on a copy of a slice from a DataFrame.\n",
      "Try using .loc[row_indexer,col_indexer] = value instead\n",
      "\n",
      "See the caveats in the documentation: https://pandas.pydata.org/pandas-docs/stable/user_guide/indexing.html#returning-a-view-versus-a-copy\n",
      "\n",
      "c:\\Users\\tyewf\\Documents\\GitHub\\rba_monthly_adi_statistics_excel\\data_filtering.py:287: SettingWithCopyWarning:\n",
      "\n",
      "\n",
      "A value is trying to be set on a copy of a slice from a DataFrame.\n",
      "Try using .loc[row_indexer,col_indexer] = value instead\n",
      "\n",
      "See the caveats in the documentation: https://pandas.pydata.org/pandas-docs/stable/user_guide/indexing.html#returning-a-view-versus-a-copy\n",
      "\n"
     ]
    }
   ],
   "source": [
    "from archive.data_filtering import filter_data\n",
    "\n",
    "dfs_dict, details_dicts = filter_data(\n",
    "    df = df,\n",
    "    date_column = date_column,\n",
    "    selected_date = selected_date,\n",
    "    selected_column = selected_column,\n",
    "    category_column = company_column,\n",
    "    selected_company = selected_company,\n",
    "    top_x_company_list = top_x_company_list,\n",
    "    group_by_columns = group_by_columns,\n",
    ")\n",
    "\n",
    "# print(details_dicts.keys())\n",
    "# print(dfs_dict.keys())"
   ]
  },
  {
   "cell_type": "code",
   "execution_count": 50,
   "metadata": {},
   "outputs": [
    {
     "data": {
      "text/plain": [
       "dict_keys(['original_df', 'dated_df', 'market_position_df', 'aggregates_df_dict', 'top_x_df_dict', 'MoM', 'YoY', '4 years'])"
      ]
     },
     "execution_count": 50,
     "metadata": {},
     "output_type": "execute_result"
    }
   ],
   "source": [
    "dfs_dict.keys()"
   ]
  },
  {
   "cell_type": "markdown",
   "metadata": {},
   "source": [
    "## Descriptions"
   ]
  },
  {
   "cell_type": "code",
   "execution_count": 736,
   "metadata": {},
   "outputs": [],
   "source": [
    "from archive.descriptions import generate_descriptions\n",
    "\n",
    "descriptions_dict = generate_descriptions(\n",
    "    dfs_dict = dfs_dict,\n",
    "    date_column = date_column,\n",
    "    selected_column = selected_column,\n",
    "    company_column = company_column,\n",
    "    selected_company = selected_company,\n",
    "    aliases_dict = aliases_dict,\n",
    "    details_dicts = details_dicts,\n",
    ")"
   ]
  },
  {
   "cell_type": "markdown",
   "metadata": {},
   "source": [
    "# Chart"
   ]
  },
  {
   "cell_type": "code",
   "execution_count": 22,
   "metadata": {},
   "outputs": [],
   "source": [
    "close_log_handlers()"
   ]
  },
  {
   "cell_type": "code",
   "execution_count": 55,
   "metadata": {},
   "outputs": [
    {
     "name": "stderr",
     "output_type": "stream",
     "text": [
      "c:\\Users\\tyewf\\Documents\\GitHub\\rba_monthly_adi_statistics_excel\\chart_generator.py:133: SettingWithCopyWarning:\n",
      "\n",
      "\n",
      "A value is trying to be set on a copy of a slice from a DataFrame.\n",
      "Try using .loc[row_indexer,col_indexer] = value instead\n",
      "\n",
      "See the caveats in the documentation: https://pandas.pydata.org/pandas-docs/stable/user_guide/indexing.html#returning-a-view-versus-a-copy\n",
      "\n"
     ]
    }
   ],
   "source": [
    "from chart_generator import generate_charts\n",
    "\n",
    "charts_dict = generate_charts(\n",
    "    dfs_dict = dfs_dict,\n",
    "    details_dicts = details_dicts,\n",
    "    date_column = date_column,\n",
    "    selected_date = selected_date,\n",
    "    company_column = company_column,\n",
    "    selected_company = selected_company,\n",
    "    selected_column = selected_column,\n",
    "    top_x_company_list = top_x_company_list,\n",
    "    color_discrete_map = color_discrete_map,\n",
    ")\n"
   ]
  },
  {
   "cell_type": "code",
   "execution_count": 58,
   "metadata": {},
   "outputs": [
    {
     "data": {
      "application/vnd.plotly.v1+json": {
       "config": {
        "plotlyServerURL": "https://plot.ly"
       },
       "data": [
        {
         "alignmentgroup": "True",
         "hovertemplate": "Institution Name=%{y}<br>Business Loans - 4 years Movement ($)=%{x}<br>chart_txt=%{text}<extra></extra>",
         "legendgroup": "National Australia Bank Limited",
         "marker": {
          "color": "#2D373C",
          "pattern": {
           "shape": ""
          }
         },
         "name": "National Australia Bank Limited",
         "offsetgroup": "National Australia Bank Limited",
         "orientation": "h",
         "showlegend": true,
         "text": [
          "$ 57.3 Bn"
         ],
         "textposition": "auto",
         "type": "bar",
         "x": [
          57314500000
         ],
         "xaxis": "x",
         "y": [
          "National Australia Bank Limited"
         ],
         "yaxis": "y"
        },
        {
         "alignmentgroup": "True",
         "hovertemplate": "Institution Name=%{y}<br>Business Loans - 4 years Movement ($)=%{x}<br>chart_txt=%{text}<extra></extra>",
         "legendgroup": "Commonwealth Bank of Australia",
         "marker": {
          "color": "#fee215",
          "pattern": {
           "shape": ""
          }
         },
         "name": "Commonwealth Bank of Australia",
         "offsetgroup": "Commonwealth Bank of Australia",
         "orientation": "h",
         "showlegend": true,
         "text": [
          "$ 61.3 Bn"
         ],
         "textposition": "auto",
         "type": "bar",
         "x": [
          61328800000
         ],
         "xaxis": "x",
         "y": [
          "Commonwealth Bank of Australia"
         ],
         "yaxis": "y"
        },
        {
         "alignmentgroup": "True",
         "hovertemplate": "Institution Name=%{y}<br>Business Loans - 4 years Movement ($)=%{x}<br>chart_txt=%{text}<extra></extra>",
         "legendgroup": "Westpac Banking Corporation",
         "marker": {
          "color": "#E21D26",
          "pattern": {
           "shape": ""
          }
         },
         "name": "Westpac Banking Corporation",
         "offsetgroup": "Westpac Banking Corporation",
         "orientation": "h",
         "showlegend": true,
         "text": [
          "$ 34.1 Bn"
         ],
         "textposition": "auto",
         "type": "bar",
         "x": [
          34136600000
         ],
         "xaxis": "x",
         "y": [
          "Westpac Banking Corporation"
         ],
         "yaxis": "y"
        },
        {
         "alignmentgroup": "True",
         "hovertemplate": "Institution Name=%{y}<br>Business Loans - 4 years Movement ($)=%{x}<br>chart_txt=%{text}<extra></extra>",
         "legendgroup": "Australia and New Zealand Banking Group Limited",
         "marker": {
          "color": "#004165",
          "pattern": {
           "shape": ""
          }
         },
         "name": "Australia and New Zealand Banking Group Limited",
         "offsetgroup": "Australia and New Zealand Banking Group Limited",
         "orientation": "h",
         "showlegend": true,
         "text": [
          "$ 25.9 Bn"
         ],
         "textposition": "auto",
         "type": "bar",
         "x": [
          25932500000
         ],
         "xaxis": "x",
         "y": [
          "Australia and New Zealand Banking Group Limited"
         ],
         "yaxis": "y"
        },
        {
         "alignmentgroup": "True",
         "hovertemplate": "Institution Name=%{y}<br>Business Loans - 4 years Movement ($)=%{x}<br>chart_txt=%{text}<extra></extra>",
         "legendgroup": "Sumitomo Mitsui Banking Corporation",
         "marker": {
          "color": "#83C9FF",
          "pattern": {
           "shape": ""
          }
         },
         "name": "Sumitomo Mitsui Banking Corporation",
         "offsetgroup": "Sumitomo Mitsui Banking Corporation",
         "orientation": "h",
         "showlegend": true,
         "text": [
          "$ 9.08 Bn"
         ],
         "textposition": "auto",
         "type": "bar",
         "x": [
          9081900000
         ],
         "xaxis": "x",
         "y": [
          "Sumitomo Mitsui Banking Corporation"
         ],
         "yaxis": "y"
        },
        {
         "alignmentgroup": "True",
         "hovertemplate": "Institution Name=%{y}<br>Business Loans - 4 years Movement ($)=%{x}<br>chart_txt=%{text}<extra></extra>",
         "legendgroup": "MUFG Bank, Ltd.",
         "marker": {
          "color": "#83C9FF",
          "pattern": {
           "shape": ""
          }
         },
         "name": "MUFG Bank, Ltd.",
         "offsetgroup": "MUFG Bank, Ltd.",
         "orientation": "h",
         "showlegend": true,
         "text": [
          "$ 90.9 M"
         ],
         "textposition": "auto",
         "type": "bar",
         "x": [
          90900000
         ],
         "xaxis": "x",
         "y": [
          "MUFG Bank, Ltd."
         ],
         "yaxis": "y"
        },
        {
         "alignmentgroup": "True",
         "hovertemplate": "Institution Name=%{y}<br>Business Loans - 4 years Movement ($)=%{x}<br>chart_txt=%{text}<extra></extra>",
         "legendgroup": "Bank of China Limited",
         "marker": {
          "color": "#83C9FF",
          "pattern": {
           "shape": ""
          }
         },
         "name": "Bank of China Limited",
         "offsetgroup": "Bank of China Limited",
         "orientation": "h",
         "showlegend": true,
         "text": [
          "$ 2.91 Bn"
         ],
         "textposition": "auto",
         "type": "bar",
         "x": [
          2910400000
         ],
         "xaxis": "x",
         "y": [
          "Bank of China Limited"
         ],
         "yaxis": "y"
        },
        {
         "alignmentgroup": "True",
         "hovertemplate": "Institution Name=%{y}<br>Business Loans - 4 years Movement ($)=%{x}<br>chart_txt=%{text}<extra></extra>",
         "legendgroup": "Macquarie Bank Limited",
         "marker": {
          "color": "#000000",
          "pattern": {
           "shape": ""
          }
         },
         "name": "Macquarie Bank Limited",
         "offsetgroup": "Macquarie Bank Limited",
         "orientation": "h",
         "showlegend": true,
         "text": [
          "$ 9.29 Bn"
         ],
         "textposition": "auto",
         "type": "bar",
         "x": [
          9289900000
         ],
         "xaxis": "x",
         "y": [
          "Macquarie Bank Limited"
         ],
         "yaxis": "y"
        },
        {
         "alignmentgroup": "True",
         "hovertemplate": "Institution Name=%{y}<br>Business Loans - 4 years Movement ($)=%{x}<br>chart_txt=%{text}<extra></extra>",
         "legendgroup": "Rabobank Australia Limited",
         "marker": {
          "color": "#83C9FF",
          "pattern": {
           "shape": ""
          }
         },
         "name": "Rabobank Australia Limited",
         "offsetgroup": "Rabobank Australia Limited",
         "orientation": "h",
         "showlegend": true,
         "text": [
          "$ 3.83 Bn"
         ],
         "textposition": "auto",
         "type": "bar",
         "x": [
          3831500000
         ],
         "xaxis": "x",
         "y": [
          "Rabobank Australia Limited"
         ],
         "yaxis": "y"
        },
        {
         "alignmentgroup": "True",
         "hovertemplate": "Institution Name=%{y}<br>Business Loans - 4 years Movement ($)=%{x}<br>chart_txt=%{text}<extra></extra>",
         "legendgroup": "Bank of America, National Association",
         "marker": {
          "color": "#83C9FF",
          "pattern": {
           "shape": ""
          }
         },
         "name": "Bank of America, National Association",
         "offsetgroup": "Bank of America, National Association",
         "orientation": "h",
         "showlegend": true,
         "text": [
          "$ 9.86 Bn"
         ],
         "textposition": "auto",
         "type": "bar",
         "x": [
          9861700000
         ],
         "xaxis": "x",
         "y": [
          "Bank of America, National Association"
         ],
         "yaxis": "y"
        },
        {
         "alignmentgroup": "True",
         "hovertemplate": "Institution Name=%{y}<br>Business Loans - 4 years Movement ($)=%{x}<br>chart_txt=%{text}<extra></extra>",
         "legendgroup": "Mizuho Bank, Ltd.",
         "marker": {
          "color": "#83C9FF",
          "pattern": {
           "shape": ""
          }
         },
         "name": "Mizuho Bank, Ltd.",
         "offsetgroup": "Mizuho Bank, Ltd.",
         "orientation": "h",
         "showlegend": true,
         "text": [
          "$ 4.80 Bn"
         ],
         "textposition": "auto",
         "type": "bar",
         "x": [
          4797500000
         ],
         "xaxis": "x",
         "y": [
          "Mizuho Bank, Ltd."
         ],
         "yaxis": "y"
        },
        {
         "alignmentgroup": "True",
         "hovertemplate": "Institution Name=%{y}<br>Business Loans - 4 years Movement ($)=%{x}<br>chart_txt=%{text}<extra></extra>",
         "legendgroup": "Bendigo and Adelaide Bank Limited",
         "marker": {
          "color": "#83C9FF",
          "pattern": {
           "shape": ""
          }
         },
         "name": "Bendigo and Adelaide Bank Limited",
         "offsetgroup": "Bendigo and Adelaide Bank Limited",
         "orientation": "h",
         "showlegend": true,
         "text": [
          "$ 861 M"
         ],
         "textposition": "auto",
         "type": "bar",
         "x": [
          861800000
         ],
         "xaxis": "x",
         "y": [
          "Bendigo and Adelaide Bank Limited"
         ],
         "yaxis": "y"
        },
        {
         "alignmentgroup": "True",
         "hovertemplate": "Institution Name=%{y}<br>Business Loans - 4 years Movement ($)=%{x}<br>chart_txt=%{text}<extra></extra>",
         "legendgroup": "The Hongkong and Shanghai Banking Corporation Limited",
         "marker": {
          "color": "#83C9FF",
          "pattern": {
           "shape": ""
          }
         },
         "name": "The Hongkong and Shanghai Banking Corporation Limited",
         "offsetgroup": "The Hongkong and Shanghai Banking Corporation Limited",
         "orientation": "h",
         "showlegend": true,
         "text": [
          "$ 3.00 Bn"
         ],
         "textposition": "auto",
         "type": "bar",
         "x": [
          3000500000
         ],
         "xaxis": "x",
         "y": [
          "The Hongkong and Shanghai Banking Corporation Limited"
         ],
         "yaxis": "y"
        },
        {
         "alignmentgroup": "True",
         "hovertemplate": "Institution Name=%{y}<br>Business Loans - 4 years Movement ($)=%{x}<br>chart_txt=%{text}<extra></extra>",
         "legendgroup": "Bank of Queensland Limited",
         "marker": {
          "color": "#83C9FF",
          "pattern": {
           "shape": ""
          }
         },
         "name": "Bank of Queensland Limited",
         "offsetgroup": "Bank of Queensland Limited",
         "orientation": "h",
         "showlegend": true,
         "text": [
          "$ 1.41 Bn"
         ],
         "textposition": "auto",
         "type": "bar",
         "x": [
          1408100000
         ],
         "xaxis": "x",
         "y": [
          "Bank of Queensland Limited"
         ],
         "yaxis": "y"
        },
        {
         "alignmentgroup": "True",
         "hovertemplate": "Institution Name=%{y}<br>Business Loans - 4 years Movement ($)=%{x}<br>chart_txt=%{text}<extra></extra>",
         "legendgroup": "ING Bank (Australia) Limited",
         "marker": {
          "color": "#83C9FF",
          "pattern": {
           "shape": ""
          }
         },
         "name": "ING Bank (Australia) Limited",
         "offsetgroup": "ING Bank (Australia) Limited",
         "orientation": "h",
         "showlegend": true,
         "text": [
          "$ 2.76 Bn"
         ],
         "textposition": "auto",
         "type": "bar",
         "x": [
          2760100000
         ],
         "xaxis": "x",
         "y": [
          "ING Bank (Australia) Limited"
         ],
         "yaxis": "y"
        },
        {
         "alignmentgroup": "True",
         "hovertemplate": "Institution Name=%{y}<br>Business Loans - 4 years Movement ($)=%{x}<br>chart_txt=%{text}<extra></extra>",
         "legendgroup": "Suncorp-Metway Limited",
         "marker": {
          "color": "#83C9FF",
          "pattern": {
           "shape": ""
          }
         },
         "name": "Suncorp-Metway Limited",
         "offsetgroup": "Suncorp-Metway Limited",
         "orientation": "h",
         "showlegend": true,
         "text": [
          "$ 1.28 Bn"
         ],
         "textposition": "auto",
         "type": "bar",
         "x": [
          1278500000
         ],
         "xaxis": "x",
         "y": [
          "Suncorp-Metway Limited"
         ],
         "yaxis": "y"
        },
        {
         "alignmentgroup": "True",
         "hovertemplate": "Institution Name=%{y}<br>Business Loans - 4 years Movement ($)=%{x}<br>chart_txt=%{text}<extra></extra>",
         "legendgroup": "other",
         "marker": {
          "color": "#83C9FF",
          "pattern": {
           "shape": ""
          }
         },
         "name": "other",
         "offsetgroup": "other",
         "orientation": "h",
         "showlegend": true,
         "text": [
          "$ 54.5 Bn"
         ],
         "textposition": "auto",
         "type": "bar",
         "x": [
          54544200000
         ],
         "xaxis": "x",
         "y": [
          "other"
         ],
         "yaxis": "y"
        }
       ],
       "layout": {
        "barmode": "relative",
        "height": 800,
        "legend": {
         "orientation": "h",
         "title": {
          "text": "Institution Name"
         },
         "tracegroupgap": 0,
         "x": 1,
         "xanchor": "right",
         "y": 1.02,
         "yanchor": "bottom"
        },
        "showlegend": false,
        "template": {
         "data": {
          "bar": [
           {
            "error_x": {
             "color": "#2a3f5f"
            },
            "error_y": {
             "color": "#2a3f5f"
            },
            "marker": {
             "line": {
              "color": "#E5ECF6",
              "width": 0.5
             },
             "pattern": {
              "fillmode": "overlay",
              "size": 10,
              "solidity": 0.2
             }
            },
            "type": "bar"
           }
          ],
          "barpolar": [
           {
            "marker": {
             "line": {
              "color": "#E5ECF6",
              "width": 0.5
             },
             "pattern": {
              "fillmode": "overlay",
              "size": 10,
              "solidity": 0.2
             }
            },
            "type": "barpolar"
           }
          ],
          "carpet": [
           {
            "aaxis": {
             "endlinecolor": "#2a3f5f",
             "gridcolor": "white",
             "linecolor": "white",
             "minorgridcolor": "white",
             "startlinecolor": "#2a3f5f"
            },
            "baxis": {
             "endlinecolor": "#2a3f5f",
             "gridcolor": "white",
             "linecolor": "white",
             "minorgridcolor": "white",
             "startlinecolor": "#2a3f5f"
            },
            "type": "carpet"
           }
          ],
          "choropleth": [
           {
            "colorbar": {
             "outlinewidth": 0,
             "ticks": ""
            },
            "type": "choropleth"
           }
          ],
          "contour": [
           {
            "colorbar": {
             "outlinewidth": 0,
             "ticks": ""
            },
            "colorscale": [
             [
              0,
              "#0d0887"
             ],
             [
              0.1111111111111111,
              "#46039f"
             ],
             [
              0.2222222222222222,
              "#7201a8"
             ],
             [
              0.3333333333333333,
              "#9c179e"
             ],
             [
              0.4444444444444444,
              "#bd3786"
             ],
             [
              0.5555555555555556,
              "#d8576b"
             ],
             [
              0.6666666666666666,
              "#ed7953"
             ],
             [
              0.7777777777777778,
              "#fb9f3a"
             ],
             [
              0.8888888888888888,
              "#fdca26"
             ],
             [
              1,
              "#f0f921"
             ]
            ],
            "type": "contour"
           }
          ],
          "contourcarpet": [
           {
            "colorbar": {
             "outlinewidth": 0,
             "ticks": ""
            },
            "type": "contourcarpet"
           }
          ],
          "heatmap": [
           {
            "colorbar": {
             "outlinewidth": 0,
             "ticks": ""
            },
            "colorscale": [
             [
              0,
              "#0d0887"
             ],
             [
              0.1111111111111111,
              "#46039f"
             ],
             [
              0.2222222222222222,
              "#7201a8"
             ],
             [
              0.3333333333333333,
              "#9c179e"
             ],
             [
              0.4444444444444444,
              "#bd3786"
             ],
             [
              0.5555555555555556,
              "#d8576b"
             ],
             [
              0.6666666666666666,
              "#ed7953"
             ],
             [
              0.7777777777777778,
              "#fb9f3a"
             ],
             [
              0.8888888888888888,
              "#fdca26"
             ],
             [
              1,
              "#f0f921"
             ]
            ],
            "type": "heatmap"
           }
          ],
          "heatmapgl": [
           {
            "colorbar": {
             "outlinewidth": 0,
             "ticks": ""
            },
            "colorscale": [
             [
              0,
              "#0d0887"
             ],
             [
              0.1111111111111111,
              "#46039f"
             ],
             [
              0.2222222222222222,
              "#7201a8"
             ],
             [
              0.3333333333333333,
              "#9c179e"
             ],
             [
              0.4444444444444444,
              "#bd3786"
             ],
             [
              0.5555555555555556,
              "#d8576b"
             ],
             [
              0.6666666666666666,
              "#ed7953"
             ],
             [
              0.7777777777777778,
              "#fb9f3a"
             ],
             [
              0.8888888888888888,
              "#fdca26"
             ],
             [
              1,
              "#f0f921"
             ]
            ],
            "type": "heatmapgl"
           }
          ],
          "histogram": [
           {
            "marker": {
             "pattern": {
              "fillmode": "overlay",
              "size": 10,
              "solidity": 0.2
             }
            },
            "type": "histogram"
           }
          ],
          "histogram2d": [
           {
            "colorbar": {
             "outlinewidth": 0,
             "ticks": ""
            },
            "colorscale": [
             [
              0,
              "#0d0887"
             ],
             [
              0.1111111111111111,
              "#46039f"
             ],
             [
              0.2222222222222222,
              "#7201a8"
             ],
             [
              0.3333333333333333,
              "#9c179e"
             ],
             [
              0.4444444444444444,
              "#bd3786"
             ],
             [
              0.5555555555555556,
              "#d8576b"
             ],
             [
              0.6666666666666666,
              "#ed7953"
             ],
             [
              0.7777777777777778,
              "#fb9f3a"
             ],
             [
              0.8888888888888888,
              "#fdca26"
             ],
             [
              1,
              "#f0f921"
             ]
            ],
            "type": "histogram2d"
           }
          ],
          "histogram2dcontour": [
           {
            "colorbar": {
             "outlinewidth": 0,
             "ticks": ""
            },
            "colorscale": [
             [
              0,
              "#0d0887"
             ],
             [
              0.1111111111111111,
              "#46039f"
             ],
             [
              0.2222222222222222,
              "#7201a8"
             ],
             [
              0.3333333333333333,
              "#9c179e"
             ],
             [
              0.4444444444444444,
              "#bd3786"
             ],
             [
              0.5555555555555556,
              "#d8576b"
             ],
             [
              0.6666666666666666,
              "#ed7953"
             ],
             [
              0.7777777777777778,
              "#fb9f3a"
             ],
             [
              0.8888888888888888,
              "#fdca26"
             ],
             [
              1,
              "#f0f921"
             ]
            ],
            "type": "histogram2dcontour"
           }
          ],
          "mesh3d": [
           {
            "colorbar": {
             "outlinewidth": 0,
             "ticks": ""
            },
            "type": "mesh3d"
           }
          ],
          "parcoords": [
           {
            "line": {
             "colorbar": {
              "outlinewidth": 0,
              "ticks": ""
             }
            },
            "type": "parcoords"
           }
          ],
          "pie": [
           {
            "automargin": true,
            "type": "pie"
           }
          ],
          "scatter": [
           {
            "fillpattern": {
             "fillmode": "overlay",
             "size": 10,
             "solidity": 0.2
            },
            "type": "scatter"
           }
          ],
          "scatter3d": [
           {
            "line": {
             "colorbar": {
              "outlinewidth": 0,
              "ticks": ""
             }
            },
            "marker": {
             "colorbar": {
              "outlinewidth": 0,
              "ticks": ""
             }
            },
            "type": "scatter3d"
           }
          ],
          "scattercarpet": [
           {
            "marker": {
             "colorbar": {
              "outlinewidth": 0,
              "ticks": ""
             }
            },
            "type": "scattercarpet"
           }
          ],
          "scattergeo": [
           {
            "marker": {
             "colorbar": {
              "outlinewidth": 0,
              "ticks": ""
             }
            },
            "type": "scattergeo"
           }
          ],
          "scattergl": [
           {
            "marker": {
             "colorbar": {
              "outlinewidth": 0,
              "ticks": ""
             }
            },
            "type": "scattergl"
           }
          ],
          "scattermapbox": [
           {
            "marker": {
             "colorbar": {
              "outlinewidth": 0,
              "ticks": ""
             }
            },
            "type": "scattermapbox"
           }
          ],
          "scatterpolar": [
           {
            "marker": {
             "colorbar": {
              "outlinewidth": 0,
              "ticks": ""
             }
            },
            "type": "scatterpolar"
           }
          ],
          "scatterpolargl": [
           {
            "marker": {
             "colorbar": {
              "outlinewidth": 0,
              "ticks": ""
             }
            },
            "type": "scatterpolargl"
           }
          ],
          "scatterternary": [
           {
            "marker": {
             "colorbar": {
              "outlinewidth": 0,
              "ticks": ""
             }
            },
            "type": "scatterternary"
           }
          ],
          "surface": [
           {
            "colorbar": {
             "outlinewidth": 0,
             "ticks": ""
            },
            "colorscale": [
             [
              0,
              "#0d0887"
             ],
             [
              0.1111111111111111,
              "#46039f"
             ],
             [
              0.2222222222222222,
              "#7201a8"
             ],
             [
              0.3333333333333333,
              "#9c179e"
             ],
             [
              0.4444444444444444,
              "#bd3786"
             ],
             [
              0.5555555555555556,
              "#d8576b"
             ],
             [
              0.6666666666666666,
              "#ed7953"
             ],
             [
              0.7777777777777778,
              "#fb9f3a"
             ],
             [
              0.8888888888888888,
              "#fdca26"
             ],
             [
              1,
              "#f0f921"
             ]
            ],
            "type": "surface"
           }
          ],
          "table": [
           {
            "cells": {
             "fill": {
              "color": "#EBF0F8"
             },
             "line": {
              "color": "white"
             }
            },
            "header": {
             "fill": {
              "color": "#C8D4E3"
             },
             "line": {
              "color": "white"
             }
            },
            "type": "table"
           }
          ]
         },
         "layout": {
          "annotationdefaults": {
           "arrowcolor": "#2a3f5f",
           "arrowhead": 0,
           "arrowwidth": 1
          },
          "autotypenumbers": "strict",
          "coloraxis": {
           "colorbar": {
            "outlinewidth": 0,
            "ticks": ""
           }
          },
          "colorscale": {
           "diverging": [
            [
             0,
             "#8e0152"
            ],
            [
             0.1,
             "#c51b7d"
            ],
            [
             0.2,
             "#de77ae"
            ],
            [
             0.3,
             "#f1b6da"
            ],
            [
             0.4,
             "#fde0ef"
            ],
            [
             0.5,
             "#f7f7f7"
            ],
            [
             0.6,
             "#e6f5d0"
            ],
            [
             0.7,
             "#b8e186"
            ],
            [
             0.8,
             "#7fbc41"
            ],
            [
             0.9,
             "#4d9221"
            ],
            [
             1,
             "#276419"
            ]
           ],
           "sequential": [
            [
             0,
             "#0d0887"
            ],
            [
             0.1111111111111111,
             "#46039f"
            ],
            [
             0.2222222222222222,
             "#7201a8"
            ],
            [
             0.3333333333333333,
             "#9c179e"
            ],
            [
             0.4444444444444444,
             "#bd3786"
            ],
            [
             0.5555555555555556,
             "#d8576b"
            ],
            [
             0.6666666666666666,
             "#ed7953"
            ],
            [
             0.7777777777777778,
             "#fb9f3a"
            ],
            [
             0.8888888888888888,
             "#fdca26"
            ],
            [
             1,
             "#f0f921"
            ]
           ],
           "sequentialminus": [
            [
             0,
             "#0d0887"
            ],
            [
             0.1111111111111111,
             "#46039f"
            ],
            [
             0.2222222222222222,
             "#7201a8"
            ],
            [
             0.3333333333333333,
             "#9c179e"
            ],
            [
             0.4444444444444444,
             "#bd3786"
            ],
            [
             0.5555555555555556,
             "#d8576b"
            ],
            [
             0.6666666666666666,
             "#ed7953"
            ],
            [
             0.7777777777777778,
             "#fb9f3a"
            ],
            [
             0.8888888888888888,
             "#fdca26"
            ],
            [
             1,
             "#f0f921"
            ]
           ]
          },
          "colorway": [
           "#636efa",
           "#EF553B",
           "#00cc96",
           "#ab63fa",
           "#FFA15A",
           "#19d3f3",
           "#FF6692",
           "#B6E880",
           "#FF97FF",
           "#FECB52"
          ],
          "font": {
           "color": "#2a3f5f"
          },
          "geo": {
           "bgcolor": "white",
           "lakecolor": "white",
           "landcolor": "#E5ECF6",
           "showlakes": true,
           "showland": true,
           "subunitcolor": "white"
          },
          "hoverlabel": {
           "align": "left"
          },
          "hovermode": "closest",
          "mapbox": {
           "style": "light"
          },
          "paper_bgcolor": "white",
          "plot_bgcolor": "#E5ECF6",
          "polar": {
           "angularaxis": {
            "gridcolor": "white",
            "linecolor": "white",
            "ticks": ""
           },
           "bgcolor": "#E5ECF6",
           "radialaxis": {
            "gridcolor": "white",
            "linecolor": "white",
            "ticks": ""
           }
          },
          "scene": {
           "xaxis": {
            "backgroundcolor": "#E5ECF6",
            "gridcolor": "white",
            "gridwidth": 2,
            "linecolor": "white",
            "showbackground": true,
            "ticks": "",
            "zerolinecolor": "white"
           },
           "yaxis": {
            "backgroundcolor": "#E5ECF6",
            "gridcolor": "white",
            "gridwidth": 2,
            "linecolor": "white",
            "showbackground": true,
            "ticks": "",
            "zerolinecolor": "white"
           },
           "zaxis": {
            "backgroundcolor": "#E5ECF6",
            "gridcolor": "white",
            "gridwidth": 2,
            "linecolor": "white",
            "showbackground": true,
            "ticks": "",
            "zerolinecolor": "white"
           }
          },
          "shapedefaults": {
           "line": {
            "color": "#2a3f5f"
           }
          },
          "ternary": {
           "aaxis": {
            "gridcolor": "white",
            "linecolor": "white",
            "ticks": ""
           },
           "baxis": {
            "gridcolor": "white",
            "linecolor": "white",
            "ticks": ""
           },
           "bgcolor": "#E5ECF6",
           "caxis": {
            "gridcolor": "white",
            "linecolor": "white",
            "ticks": ""
           }
          },
          "title": {
           "x": 0.05
          },
          "xaxis": {
           "automargin": true,
           "gridcolor": "white",
           "linecolor": "white",
           "ticks": "",
           "title": {
            "standoff": 15
           },
           "zerolinecolor": "white",
           "zerolinewidth": 2
          },
          "yaxis": {
           "automargin": true,
           "gridcolor": "white",
           "linecolor": "white",
           "ticks": "",
           "title": {
            "standoff": 15
           },
           "zerolinecolor": "white",
           "zerolinewidth": 2
          }
         }
        },
        "title": {
         "text": "Business Loans - 4 years Movement ($)"
        },
        "xaxis": {
         "anchor": "y",
         "domain": [
          0,
          1
         ],
         "gridcolor": "Grey",
         "gridwidth": 1,
         "showgrid": true,
         "title": {
          "text": "Business Loans - 4 years Movement ($)"
         }
        },
        "yaxis": {
         "anchor": "x",
         "categoryarray": [
          "other",
          "Suncorp-Metway Limited",
          "ING Bank (Australia) Limited",
          "Bank of Queensland Limited",
          "The Hongkong and Shanghai Banking Corporation Limited",
          "Bendigo and Adelaide Bank Limited",
          "Mizuho Bank, Ltd.",
          "Bank of America, National Association",
          "Rabobank Australia Limited",
          "Macquarie Bank Limited",
          "Bank of China Limited",
          "MUFG Bank, Ltd.",
          "Sumitomo Mitsui Banking Corporation",
          "Australia and New Zealand Banking Group Limited",
          "Westpac Banking Corporation",
          "Commonwealth Bank of Australia",
          "National Australia Bank Limited"
         ],
         "categoryorder": "array",
         "domain": [
          0,
          1
         ],
         "title": {
          "text": "Institution Name"
         }
        }
       }
      }
     },
     "metadata": {},
     "output_type": "display_data"
    }
   ],
   "source": [
    "charts_dict.keys()\n",
    "\n",
    "# charts_dict['Business Loans']\n",
    "charts_dict['Business Loans - MoM Movement ($)']\n",
    "# charts_dict['Business Loans - MoM Movement (%)']\n",
    "# charts_dict['Business Loans - YoY Movement ($)']\n",
    "# charts_dict['Business Loans - YoY Movement (%)']\n",
    "charts_dict['Business Loans - 4 years Movement ($)']\n",
    "# charts_dict['Business Loans - 4 years Movement (%)']"
   ]
  },
  {
   "cell_type": "code",
   "execution_count": 19,
   "metadata": {},
   "outputs": [
    {
     "data": {
      "text/plain": [
       "'Business Loans - Month Movement ($)'"
      ]
     },
     "execution_count": 19,
     "metadata": {},
     "output_type": "execute_result"
    }
   ],
   "source": [
    "dfs_dict['month']['percentage_movements_col_name']\n",
    "dfs_dict['month'].keys()\n",
    "'prefix'\n",
    "'df'\n",
    "'dollar_movements_col_name'\n",
    "'movements_direction_col_name'\n",
    "'percentage_movements_col_name'\n",
    "'percentage_of_market_movements_col_name'\n",
    "'selected_date'\n",
    "'comparison_date'\n",
    "\n",
    "dfs_dict['month']['dollar_movements_col_name']"
   ]
  },
  {
   "cell_type": "code",
   "execution_count": 36,
   "metadata": {},
   "outputs": [
    {
     "name": "stdout",
     "output_type": "stream",
     "text": [
      "month\n",
      "year\n",
      "4 years\n"
     ]
    }
   ],
   "source": [
    "from utils import rounded_dollars\n",
    "\n",
    "mom_df = dfs_dict['month']['df']\n",
    "mom_df.loc[:, 'chart_txt'] = mom_df[dfs_dict['month']['dollar_movements_col_name']].apply(rounded_dollars)\n",
    "mom_df.loc[:, 'chart_txt']\n",
    "# .apply(lambda x: f\"({x * 100:.1f} %)\")\n",
    "\n",
    "# formatted_percentages = top_x_df_current['Market Share'].apply(lambda x: f\"({x * 100:.1f} %)\")\n",
    "dfs_dict.keys()\n",
    "details_dicts.keys()\n",
    "\n",
    "for months_ago in details_dicts['months_ago_list']:\n",
    "    print(details_dicts[f'date_{months_ago}_wording'])"
   ]
  },
  {
   "cell_type": "code",
   "execution_count": 30,
   "metadata": {},
   "outputs": [
    {
     "data": {
      "application/vnd.plotly.v1+json": {
       "config": {
        "plotlyServerURL": "https://plot.ly"
       },
       "data": [
        {
         "alignmentgroup": "True",
         "hovertemplate": "Institution Name=%{y}<br>Business Loans - Month Movement ($)=%{x}<br>chart_txt=%{text}<extra></extra>",
         "legendgroup": "National Australia Bank Limited",
         "marker": {
          "color": "#2D373C",
          "pattern": {
           "shape": ""
          }
         },
         "name": "National Australia Bank Limited",
         "offsetgroup": "National Australia Bank Limited",
         "orientation": "h",
         "showlegend": true,
         "text": [
          "$ 1.19 Bn"
         ],
         "textposition": "auto",
         "type": "bar",
         "x": [
          1192800000
         ],
         "xaxis": "x",
         "y": [
          "National Australia Bank Limited"
         ],
         "yaxis": "y"
        },
        {
         "alignmentgroup": "True",
         "hovertemplate": "Institution Name=%{y}<br>Business Loans - Month Movement ($)=%{x}<br>chart_txt=%{text}<extra></extra>",
         "legendgroup": "Commonwealth Bank of Australia",
         "marker": {
          "color": "#fee215",
          "pattern": {
           "shape": ""
          }
         },
         "name": "Commonwealth Bank of Australia",
         "offsetgroup": "Commonwealth Bank of Australia",
         "orientation": "h",
         "showlegend": true,
         "text": [
          "$ 782 M"
         ],
         "textposition": "auto",
         "type": "bar",
         "x": [
          782100000
         ],
         "xaxis": "x",
         "y": [
          "Commonwealth Bank of Australia"
         ],
         "yaxis": "y"
        },
        {
         "alignmentgroup": "True",
         "hovertemplate": "Institution Name=%{y}<br>Business Loans - Month Movement ($)=%{x}<br>chart_txt=%{text}<extra></extra>",
         "legendgroup": "Westpac Banking Corporation",
         "marker": {
          "color": "#E21D26",
          "pattern": {
           "shape": ""
          }
         },
         "name": "Westpac Banking Corporation",
         "offsetgroup": "Westpac Banking Corporation",
         "orientation": "h",
         "showlegend": true,
         "text": [
          "-$ 392 M"
         ],
         "textposition": "auto",
         "type": "bar",
         "x": [
          -392500000
         ],
         "xaxis": "x",
         "y": [
          "Westpac Banking Corporation"
         ],
         "yaxis": "y"
        },
        {
         "alignmentgroup": "True",
         "hovertemplate": "Institution Name=%{y}<br>Business Loans - Month Movement ($)=%{x}<br>chart_txt=%{text}<extra></extra>",
         "legendgroup": "Australia and New Zealand Banking Group Limited",
         "marker": {
          "color": "#004165",
          "pattern": {
           "shape": ""
          }
         },
         "name": "Australia and New Zealand Banking Group Limited",
         "offsetgroup": "Australia and New Zealand Banking Group Limited",
         "orientation": "h",
         "showlegend": true,
         "text": [
          "$ 1.15 Bn"
         ],
         "textposition": "auto",
         "type": "bar",
         "x": [
          1152300000
         ],
         "xaxis": "x",
         "y": [
          "Australia and New Zealand Banking Group Limited"
         ],
         "yaxis": "y"
        },
        {
         "alignmentgroup": "True",
         "hovertemplate": "Institution Name=%{y}<br>Business Loans - Month Movement ($)=%{x}<br>chart_txt=%{text}<extra></extra>",
         "legendgroup": "Sumitomo Mitsui Banking Corporation",
         "marker": {
          "color": "#83C9FF",
          "pattern": {
           "shape": ""
          }
         },
         "name": "Sumitomo Mitsui Banking Corporation",
         "offsetgroup": "Sumitomo Mitsui Banking Corporation",
         "orientation": "h",
         "showlegend": true,
         "text": [
          "$ 949 M"
         ],
         "textposition": "auto",
         "type": "bar",
         "x": [
          949100000
         ],
         "xaxis": "x",
         "y": [
          "Sumitomo Mitsui Banking Corporation"
         ],
         "yaxis": "y"
        },
        {
         "alignmentgroup": "True",
         "hovertemplate": "Institution Name=%{y}<br>Business Loans - Month Movement ($)=%{x}<br>chart_txt=%{text}<extra></extra>",
         "legendgroup": "MUFG Bank, Ltd.",
         "marker": {
          "color": "#83C9FF",
          "pattern": {
           "shape": ""
          }
         },
         "name": "MUFG Bank, Ltd.",
         "offsetgroup": "MUFG Bank, Ltd.",
         "orientation": "h",
         "showlegend": true,
         "text": [
          "-$ 187 M"
         ],
         "textposition": "auto",
         "type": "bar",
         "x": [
          -187100000
         ],
         "xaxis": "x",
         "y": [
          "MUFG Bank, Ltd."
         ],
         "yaxis": "y"
        },
        {
         "alignmentgroup": "True",
         "hovertemplate": "Institution Name=%{y}<br>Business Loans - Month Movement ($)=%{x}<br>chart_txt=%{text}<extra></extra>",
         "legendgroup": "Bank of China Limited",
         "marker": {
          "color": "#83C9FF",
          "pattern": {
           "shape": ""
          }
         },
         "name": "Bank of China Limited",
         "offsetgroup": "Bank of China Limited",
         "orientation": "h",
         "showlegend": true,
         "text": [
          "$ 1.35 Bn"
         ],
         "textposition": "auto",
         "type": "bar",
         "x": [
          1352200000
         ],
         "xaxis": "x",
         "y": [
          "Bank of China Limited"
         ],
         "yaxis": "y"
        },
        {
         "alignmentgroup": "True",
         "hovertemplate": "Institution Name=%{y}<br>Business Loans - Month Movement ($)=%{x}<br>chart_txt=%{text}<extra></extra>",
         "legendgroup": "Macquarie Bank Limited",
         "marker": {
          "color": "#000000",
          "pattern": {
           "shape": ""
          }
         },
         "name": "Macquarie Bank Limited",
         "offsetgroup": "Macquarie Bank Limited",
         "orientation": "h",
         "showlegend": true,
         "text": [
          "$ 714 M"
         ],
         "textposition": "auto",
         "type": "bar",
         "x": [
          714200000
         ],
         "xaxis": "x",
         "y": [
          "Macquarie Bank Limited"
         ],
         "yaxis": "y"
        },
        {
         "alignmentgroup": "True",
         "hovertemplate": "Institution Name=%{y}<br>Business Loans - Month Movement ($)=%{x}<br>chart_txt=%{text}<extra></extra>",
         "legendgroup": "Rabobank Australia Limited",
         "marker": {
          "color": "#83C9FF",
          "pattern": {
           "shape": ""
          }
         },
         "name": "Rabobank Australia Limited",
         "offsetgroup": "Rabobank Australia Limited",
         "orientation": "h",
         "showlegend": true,
         "text": [
          "-$ 200 M"
         ],
         "textposition": "auto",
         "type": "bar",
         "x": [
          -200500000
         ],
         "xaxis": "x",
         "y": [
          "Rabobank Australia Limited"
         ],
         "yaxis": "y"
        },
        {
         "alignmentgroup": "True",
         "hovertemplate": "Institution Name=%{y}<br>Business Loans - Month Movement ($)=%{x}<br>chart_txt=%{text}<extra></extra>",
         "legendgroup": "Bank of America, National Association",
         "marker": {
          "color": "#83C9FF",
          "pattern": {
           "shape": ""
          }
         },
         "name": "Bank of America, National Association",
         "offsetgroup": "Bank of America, National Association",
         "orientation": "h",
         "showlegend": true,
         "text": [
          "-$ 653 M"
         ],
         "textposition": "auto",
         "type": "bar",
         "x": [
          -653900000
         ],
         "xaxis": "x",
         "y": [
          "Bank of America, National Association"
         ],
         "yaxis": "y"
        },
        {
         "alignmentgroup": "True",
         "hovertemplate": "Institution Name=%{y}<br>Business Loans - Month Movement ($)=%{x}<br>chart_txt=%{text}<extra></extra>",
         "legendgroup": "Mizuho Bank, Ltd.",
         "marker": {
          "color": "#83C9FF",
          "pattern": {
           "shape": ""
          }
         },
         "name": "Mizuho Bank, Ltd.",
         "offsetgroup": "Mizuho Bank, Ltd.",
         "orientation": "h",
         "showlegend": true,
         "text": [
          "-$ 365 M"
         ],
         "textposition": "auto",
         "type": "bar",
         "x": [
          -365300000
         ],
         "xaxis": "x",
         "y": [
          "Mizuho Bank, Ltd."
         ],
         "yaxis": "y"
        },
        {
         "alignmentgroup": "True",
         "hovertemplate": "Institution Name=%{y}<br>Business Loans - Month Movement ($)=%{x}<br>chart_txt=%{text}<extra></extra>",
         "legendgroup": "Bendigo and Adelaide Bank Limited",
         "marker": {
          "color": "#83C9FF",
          "pattern": {
           "shape": ""
          }
         },
         "name": "Bendigo and Adelaide Bank Limited",
         "offsetgroup": "Bendigo and Adelaide Bank Limited",
         "orientation": "h",
         "showlegend": true,
         "text": [
          "-$ 6.60 M"
         ],
         "textposition": "auto",
         "type": "bar",
         "x": [
          -6600000
         ],
         "xaxis": "x",
         "y": [
          "Bendigo and Adelaide Bank Limited"
         ],
         "yaxis": "y"
        },
        {
         "alignmentgroup": "True",
         "hovertemplate": "Institution Name=%{y}<br>Business Loans - Month Movement ($)=%{x}<br>chart_txt=%{text}<extra></extra>",
         "legendgroup": "The Hongkong and Shanghai Banking Corporation Limited",
         "marker": {
          "color": "#83C9FF",
          "pattern": {
           "shape": ""
          }
         },
         "name": "The Hongkong and Shanghai Banking Corporation Limited",
         "offsetgroup": "The Hongkong and Shanghai Banking Corporation Limited",
         "orientation": "h",
         "showlegend": true,
         "text": [
          "$ 117 M"
         ],
         "textposition": "auto",
         "type": "bar",
         "x": [
          117300000
         ],
         "xaxis": "x",
         "y": [
          "The Hongkong and Shanghai Banking Corporation Limited"
         ],
         "yaxis": "y"
        },
        {
         "alignmentgroup": "True",
         "hovertemplate": "Institution Name=%{y}<br>Business Loans - Month Movement ($)=%{x}<br>chart_txt=%{text}<extra></extra>",
         "legendgroup": "Bank of Queensland Limited",
         "marker": {
          "color": "#83C9FF",
          "pattern": {
           "shape": ""
          }
         },
         "name": "Bank of Queensland Limited",
         "offsetgroup": "Bank of Queensland Limited",
         "orientation": "h",
         "showlegend": true,
         "text": [
          "-$ 112 M"
         ],
         "textposition": "auto",
         "type": "bar",
         "x": [
          -112600000
         ],
         "xaxis": "x",
         "y": [
          "Bank of Queensland Limited"
         ],
         "yaxis": "y"
        },
        {
         "alignmentgroup": "True",
         "hovertemplate": "Institution Name=%{y}<br>Business Loans - Month Movement ($)=%{x}<br>chart_txt=%{text}<extra></extra>",
         "legendgroup": "ING Bank (Australia) Limited",
         "marker": {
          "color": "#83C9FF",
          "pattern": {
           "shape": ""
          }
         },
         "name": "ING Bank (Australia) Limited",
         "offsetgroup": "ING Bank (Australia) Limited",
         "orientation": "h",
         "showlegend": true,
         "text": [
          "-$ 56.9 M"
         ],
         "textposition": "auto",
         "type": "bar",
         "x": [
          -56900000
         ],
         "xaxis": "x",
         "y": [
          "ING Bank (Australia) Limited"
         ],
         "yaxis": "y"
        },
        {
         "alignmentgroup": "True",
         "hovertemplate": "Institution Name=%{y}<br>Business Loans - Month Movement ($)=%{x}<br>chart_txt=%{text}<extra></extra>",
         "legendgroup": "Suncorp-Metway Limited",
         "marker": {
          "color": "#83C9FF",
          "pattern": {
           "shape": ""
          }
         },
         "name": "Suncorp-Metway Limited",
         "offsetgroup": "Suncorp-Metway Limited",
         "orientation": "h",
         "showlegend": true,
         "text": [
          "$ 97.4 M"
         ],
         "textposition": "auto",
         "type": "bar",
         "x": [
          97400000
         ],
         "xaxis": "x",
         "y": [
          "Suncorp-Metway Limited"
         ],
         "yaxis": "y"
        },
        {
         "alignmentgroup": "True",
         "hovertemplate": "Institution Name=%{y}<br>Business Loans - Month Movement ($)=%{x}<br>chart_txt=%{text}<extra></extra>",
         "legendgroup": "other",
         "marker": {
          "color": "#83C9FF",
          "pattern": {
           "shape": ""
          }
         },
         "name": "other",
         "offsetgroup": "other",
         "orientation": "h",
         "showlegend": true,
         "text": [
          "-$ 147 M"
         ],
         "textposition": "auto",
         "type": "bar",
         "x": [
          -147500000
         ],
         "xaxis": "x",
         "y": [
          "other"
         ],
         "yaxis": "y"
        }
       ],
       "layout": {
        "barmode": "relative",
        "height": 800,
        "legend": {
         "orientation": "h",
         "title": {
          "text": "Institution Name"
         },
         "tracegroupgap": 0,
         "x": 1,
         "xanchor": "right",
         "y": 1.02,
         "yanchor": "bottom"
        },
        "showlegend": false,
        "template": {
         "data": {
          "bar": [
           {
            "error_x": {
             "color": "#2a3f5f"
            },
            "error_y": {
             "color": "#2a3f5f"
            },
            "marker": {
             "line": {
              "color": "#E5ECF6",
              "width": 0.5
             },
             "pattern": {
              "fillmode": "overlay",
              "size": 10,
              "solidity": 0.2
             }
            },
            "type": "bar"
           }
          ],
          "barpolar": [
           {
            "marker": {
             "line": {
              "color": "#E5ECF6",
              "width": 0.5
             },
             "pattern": {
              "fillmode": "overlay",
              "size": 10,
              "solidity": 0.2
             }
            },
            "type": "barpolar"
           }
          ],
          "carpet": [
           {
            "aaxis": {
             "endlinecolor": "#2a3f5f",
             "gridcolor": "white",
             "linecolor": "white",
             "minorgridcolor": "white",
             "startlinecolor": "#2a3f5f"
            },
            "baxis": {
             "endlinecolor": "#2a3f5f",
             "gridcolor": "white",
             "linecolor": "white",
             "minorgridcolor": "white",
             "startlinecolor": "#2a3f5f"
            },
            "type": "carpet"
           }
          ],
          "choropleth": [
           {
            "colorbar": {
             "outlinewidth": 0,
             "ticks": ""
            },
            "type": "choropleth"
           }
          ],
          "contour": [
           {
            "colorbar": {
             "outlinewidth": 0,
             "ticks": ""
            },
            "colorscale": [
             [
              0,
              "#0d0887"
             ],
             [
              0.1111111111111111,
              "#46039f"
             ],
             [
              0.2222222222222222,
              "#7201a8"
             ],
             [
              0.3333333333333333,
              "#9c179e"
             ],
             [
              0.4444444444444444,
              "#bd3786"
             ],
             [
              0.5555555555555556,
              "#d8576b"
             ],
             [
              0.6666666666666666,
              "#ed7953"
             ],
             [
              0.7777777777777778,
              "#fb9f3a"
             ],
             [
              0.8888888888888888,
              "#fdca26"
             ],
             [
              1,
              "#f0f921"
             ]
            ],
            "type": "contour"
           }
          ],
          "contourcarpet": [
           {
            "colorbar": {
             "outlinewidth": 0,
             "ticks": ""
            },
            "type": "contourcarpet"
           }
          ],
          "heatmap": [
           {
            "colorbar": {
             "outlinewidth": 0,
             "ticks": ""
            },
            "colorscale": [
             [
              0,
              "#0d0887"
             ],
             [
              0.1111111111111111,
              "#46039f"
             ],
             [
              0.2222222222222222,
              "#7201a8"
             ],
             [
              0.3333333333333333,
              "#9c179e"
             ],
             [
              0.4444444444444444,
              "#bd3786"
             ],
             [
              0.5555555555555556,
              "#d8576b"
             ],
             [
              0.6666666666666666,
              "#ed7953"
             ],
             [
              0.7777777777777778,
              "#fb9f3a"
             ],
             [
              0.8888888888888888,
              "#fdca26"
             ],
             [
              1,
              "#f0f921"
             ]
            ],
            "type": "heatmap"
           }
          ],
          "heatmapgl": [
           {
            "colorbar": {
             "outlinewidth": 0,
             "ticks": ""
            },
            "colorscale": [
             [
              0,
              "#0d0887"
             ],
             [
              0.1111111111111111,
              "#46039f"
             ],
             [
              0.2222222222222222,
              "#7201a8"
             ],
             [
              0.3333333333333333,
              "#9c179e"
             ],
             [
              0.4444444444444444,
              "#bd3786"
             ],
             [
              0.5555555555555556,
              "#d8576b"
             ],
             [
              0.6666666666666666,
              "#ed7953"
             ],
             [
              0.7777777777777778,
              "#fb9f3a"
             ],
             [
              0.8888888888888888,
              "#fdca26"
             ],
             [
              1,
              "#f0f921"
             ]
            ],
            "type": "heatmapgl"
           }
          ],
          "histogram": [
           {
            "marker": {
             "pattern": {
              "fillmode": "overlay",
              "size": 10,
              "solidity": 0.2
             }
            },
            "type": "histogram"
           }
          ],
          "histogram2d": [
           {
            "colorbar": {
             "outlinewidth": 0,
             "ticks": ""
            },
            "colorscale": [
             [
              0,
              "#0d0887"
             ],
             [
              0.1111111111111111,
              "#46039f"
             ],
             [
              0.2222222222222222,
              "#7201a8"
             ],
             [
              0.3333333333333333,
              "#9c179e"
             ],
             [
              0.4444444444444444,
              "#bd3786"
             ],
             [
              0.5555555555555556,
              "#d8576b"
             ],
             [
              0.6666666666666666,
              "#ed7953"
             ],
             [
              0.7777777777777778,
              "#fb9f3a"
             ],
             [
              0.8888888888888888,
              "#fdca26"
             ],
             [
              1,
              "#f0f921"
             ]
            ],
            "type": "histogram2d"
           }
          ],
          "histogram2dcontour": [
           {
            "colorbar": {
             "outlinewidth": 0,
             "ticks": ""
            },
            "colorscale": [
             [
              0,
              "#0d0887"
             ],
             [
              0.1111111111111111,
              "#46039f"
             ],
             [
              0.2222222222222222,
              "#7201a8"
             ],
             [
              0.3333333333333333,
              "#9c179e"
             ],
             [
              0.4444444444444444,
              "#bd3786"
             ],
             [
              0.5555555555555556,
              "#d8576b"
             ],
             [
              0.6666666666666666,
              "#ed7953"
             ],
             [
              0.7777777777777778,
              "#fb9f3a"
             ],
             [
              0.8888888888888888,
              "#fdca26"
             ],
             [
              1,
              "#f0f921"
             ]
            ],
            "type": "histogram2dcontour"
           }
          ],
          "mesh3d": [
           {
            "colorbar": {
             "outlinewidth": 0,
             "ticks": ""
            },
            "type": "mesh3d"
           }
          ],
          "parcoords": [
           {
            "line": {
             "colorbar": {
              "outlinewidth": 0,
              "ticks": ""
             }
            },
            "type": "parcoords"
           }
          ],
          "pie": [
           {
            "automargin": true,
            "type": "pie"
           }
          ],
          "scatter": [
           {
            "fillpattern": {
             "fillmode": "overlay",
             "size": 10,
             "solidity": 0.2
            },
            "type": "scatter"
           }
          ],
          "scatter3d": [
           {
            "line": {
             "colorbar": {
              "outlinewidth": 0,
              "ticks": ""
             }
            },
            "marker": {
             "colorbar": {
              "outlinewidth": 0,
              "ticks": ""
             }
            },
            "type": "scatter3d"
           }
          ],
          "scattercarpet": [
           {
            "marker": {
             "colorbar": {
              "outlinewidth": 0,
              "ticks": ""
             }
            },
            "type": "scattercarpet"
           }
          ],
          "scattergeo": [
           {
            "marker": {
             "colorbar": {
              "outlinewidth": 0,
              "ticks": ""
             }
            },
            "type": "scattergeo"
           }
          ],
          "scattergl": [
           {
            "marker": {
             "colorbar": {
              "outlinewidth": 0,
              "ticks": ""
             }
            },
            "type": "scattergl"
           }
          ],
          "scattermapbox": [
           {
            "marker": {
             "colorbar": {
              "outlinewidth": 0,
              "ticks": ""
             }
            },
            "type": "scattermapbox"
           }
          ],
          "scatterpolar": [
           {
            "marker": {
             "colorbar": {
              "outlinewidth": 0,
              "ticks": ""
             }
            },
            "type": "scatterpolar"
           }
          ],
          "scatterpolargl": [
           {
            "marker": {
             "colorbar": {
              "outlinewidth": 0,
              "ticks": ""
             }
            },
            "type": "scatterpolargl"
           }
          ],
          "scatterternary": [
           {
            "marker": {
             "colorbar": {
              "outlinewidth": 0,
              "ticks": ""
             }
            },
            "type": "scatterternary"
           }
          ],
          "surface": [
           {
            "colorbar": {
             "outlinewidth": 0,
             "ticks": ""
            },
            "colorscale": [
             [
              0,
              "#0d0887"
             ],
             [
              0.1111111111111111,
              "#46039f"
             ],
             [
              0.2222222222222222,
              "#7201a8"
             ],
             [
              0.3333333333333333,
              "#9c179e"
             ],
             [
              0.4444444444444444,
              "#bd3786"
             ],
             [
              0.5555555555555556,
              "#d8576b"
             ],
             [
              0.6666666666666666,
              "#ed7953"
             ],
             [
              0.7777777777777778,
              "#fb9f3a"
             ],
             [
              0.8888888888888888,
              "#fdca26"
             ],
             [
              1,
              "#f0f921"
             ]
            ],
            "type": "surface"
           }
          ],
          "table": [
           {
            "cells": {
             "fill": {
              "color": "#EBF0F8"
             },
             "line": {
              "color": "white"
             }
            },
            "header": {
             "fill": {
              "color": "#C8D4E3"
             },
             "line": {
              "color": "white"
             }
            },
            "type": "table"
           }
          ]
         },
         "layout": {
          "annotationdefaults": {
           "arrowcolor": "#2a3f5f",
           "arrowhead": 0,
           "arrowwidth": 1
          },
          "autotypenumbers": "strict",
          "coloraxis": {
           "colorbar": {
            "outlinewidth": 0,
            "ticks": ""
           }
          },
          "colorscale": {
           "diverging": [
            [
             0,
             "#8e0152"
            ],
            [
             0.1,
             "#c51b7d"
            ],
            [
             0.2,
             "#de77ae"
            ],
            [
             0.3,
             "#f1b6da"
            ],
            [
             0.4,
             "#fde0ef"
            ],
            [
             0.5,
             "#f7f7f7"
            ],
            [
             0.6,
             "#e6f5d0"
            ],
            [
             0.7,
             "#b8e186"
            ],
            [
             0.8,
             "#7fbc41"
            ],
            [
             0.9,
             "#4d9221"
            ],
            [
             1,
             "#276419"
            ]
           ],
           "sequential": [
            [
             0,
             "#0d0887"
            ],
            [
             0.1111111111111111,
             "#46039f"
            ],
            [
             0.2222222222222222,
             "#7201a8"
            ],
            [
             0.3333333333333333,
             "#9c179e"
            ],
            [
             0.4444444444444444,
             "#bd3786"
            ],
            [
             0.5555555555555556,
             "#d8576b"
            ],
            [
             0.6666666666666666,
             "#ed7953"
            ],
            [
             0.7777777777777778,
             "#fb9f3a"
            ],
            [
             0.8888888888888888,
             "#fdca26"
            ],
            [
             1,
             "#f0f921"
            ]
           ],
           "sequentialminus": [
            [
             0,
             "#0d0887"
            ],
            [
             0.1111111111111111,
             "#46039f"
            ],
            [
             0.2222222222222222,
             "#7201a8"
            ],
            [
             0.3333333333333333,
             "#9c179e"
            ],
            [
             0.4444444444444444,
             "#bd3786"
            ],
            [
             0.5555555555555556,
             "#d8576b"
            ],
            [
             0.6666666666666666,
             "#ed7953"
            ],
            [
             0.7777777777777778,
             "#fb9f3a"
            ],
            [
             0.8888888888888888,
             "#fdca26"
            ],
            [
             1,
             "#f0f921"
            ]
           ]
          },
          "colorway": [
           "#636efa",
           "#EF553B",
           "#00cc96",
           "#ab63fa",
           "#FFA15A",
           "#19d3f3",
           "#FF6692",
           "#B6E880",
           "#FF97FF",
           "#FECB52"
          ],
          "font": {
           "color": "#2a3f5f"
          },
          "geo": {
           "bgcolor": "white",
           "lakecolor": "white",
           "landcolor": "#E5ECF6",
           "showlakes": true,
           "showland": true,
           "subunitcolor": "white"
          },
          "hoverlabel": {
           "align": "left"
          },
          "hovermode": "closest",
          "mapbox": {
           "style": "light"
          },
          "paper_bgcolor": "white",
          "plot_bgcolor": "#E5ECF6",
          "polar": {
           "angularaxis": {
            "gridcolor": "white",
            "linecolor": "white",
            "ticks": ""
           },
           "bgcolor": "#E5ECF6",
           "radialaxis": {
            "gridcolor": "white",
            "linecolor": "white",
            "ticks": ""
           }
          },
          "scene": {
           "xaxis": {
            "backgroundcolor": "#E5ECF6",
            "gridcolor": "white",
            "gridwidth": 2,
            "linecolor": "white",
            "showbackground": true,
            "ticks": "",
            "zerolinecolor": "white"
           },
           "yaxis": {
            "backgroundcolor": "#E5ECF6",
            "gridcolor": "white",
            "gridwidth": 2,
            "linecolor": "white",
            "showbackground": true,
            "ticks": "",
            "zerolinecolor": "white"
           },
           "zaxis": {
            "backgroundcolor": "#E5ECF6",
            "gridcolor": "white",
            "gridwidth": 2,
            "linecolor": "white",
            "showbackground": true,
            "ticks": "",
            "zerolinecolor": "white"
           }
          },
          "shapedefaults": {
           "line": {
            "color": "#2a3f5f"
           }
          },
          "ternary": {
           "aaxis": {
            "gridcolor": "white",
            "linecolor": "white",
            "ticks": ""
           },
           "baxis": {
            "gridcolor": "white",
            "linecolor": "white",
            "ticks": ""
           },
           "bgcolor": "#E5ECF6",
           "caxis": {
            "gridcolor": "white",
            "linecolor": "white",
            "ticks": ""
           }
          },
          "title": {
           "x": 0.05
          },
          "xaxis": {
           "automargin": true,
           "gridcolor": "white",
           "linecolor": "white",
           "ticks": "",
           "title": {
            "standoff": 15
           },
           "zerolinecolor": "white",
           "zerolinewidth": 2
          },
          "yaxis": {
           "automargin": true,
           "gridcolor": "white",
           "linecolor": "white",
           "ticks": "",
           "title": {
            "standoff": 15
           },
           "zerolinecolor": "white",
           "zerolinewidth": 2
          }
         }
        },
        "title": {
         "text": "Business Loans - Month Movement ($)"
        },
        "xaxis": {
         "anchor": "y",
         "domain": [
          0,
          1
         ],
         "gridcolor": "Grey",
         "gridwidth": 1,
         "showgrid": true,
         "title": {
          "text": "Business Loans - Month Movement ($)"
         }
        },
        "yaxis": {
         "anchor": "x",
         "categoryarray": [
          "other",
          "Suncorp-Metway Limited",
          "ING Bank (Australia) Limited",
          "Bank of Queensland Limited",
          "The Hongkong and Shanghai Banking Corporation Limited",
          "Bendigo and Adelaide Bank Limited",
          "Mizuho Bank, Ltd.",
          "Bank of America, National Association",
          "Rabobank Australia Limited",
          "Macquarie Bank Limited",
          "Bank of China Limited",
          "MUFG Bank, Ltd.",
          "Sumitomo Mitsui Banking Corporation",
          "Australia and New Zealand Banking Group Limited",
          "Westpac Banking Corporation",
          "Commonwealth Bank of Australia",
          "National Australia Bank Limited"
         ],
         "categoryorder": "array",
         "domain": [
          0,
          1
         ],
         "title": {
          "text": "Institution Name"
         }
        }
       }
      }
     },
     "metadata": {},
     "output_type": "display_data"
    }
   ],
   "source": [
    "from chart_generator import chart_selected_col_bar\n",
    "\n",
    "mom_df = dfs_dict['month']['df']\n",
    "mom_df.loc[:, 'chart_txt'] = mom_df[dfs_dict['month']['dollar_movements_col_name']].apply(rounded_dollars)\n",
    "chart_selected_col_bar(\n",
    "    df = mom_df,\n",
    "    company_column = company_column,\n",
    "    reference_col = dfs_dict['month']['dollar_movements_col_name'],\n",
    "    # title = dfs_dict['month']['dollar_movements_col_name'],\n",
    "    ordered_category_list= details_dicts['ordered_company_list'],\n",
    "    show_xaxis_labels = True,\n",
    "    x_tickformat = None,\n",
    "    x_gridcolor='Grey',\n",
    "    color_discrete_map= color_discrete_map,\n",
    ")"
   ]
  },
  {
   "cell_type": "code",
   "execution_count": 710,
   "metadata": {},
   "outputs": [
    {
     "name": "stdout",
     "output_type": "stream",
     "text": [
      "Business Loans\n"
     ]
    },
    {
     "data": {
      "application/vnd.plotly.v1+json": {
       "config": {
        "plotlyServerURL": "https://plot.ly"
       },
       "data": [
        {
         "alignmentgroup": "True",
         "hovertemplate": "Institution Name=%{y}<br>Business Loans=%{x}<br>chart_txt=%{text}<extra></extra>",
         "legendgroup": "National Australia Bank Limited",
         "marker": {
          "color": "#2D373C",
          "pattern": {
           "shape": ""
          }
         },
         "name": "National Australia Bank Limited",
         "offsetgroup": "National Australia Bank Limited",
         "orientation": "h",
         "showlegend": true,
         "text": [
          "$ 246 Bn (20.9 %)"
         ],
         "textposition": "auto",
         "type": "bar",
         "x": [
          246430500000
         ],
         "xaxis": "x",
         "y": [
          "National Australia Bank Limited"
         ],
         "yaxis": "y"
        },
        {
         "alignmentgroup": "True",
         "hovertemplate": "Institution Name=%{y}<br>Business Loans=%{x}<br>chart_txt=%{text}<extra></extra>",
         "legendgroup": "Commonwealth Bank of Australia",
         "marker": {
          "color": "#fee215",
          "pattern": {
           "shape": ""
          }
         },
         "name": "Commonwealth Bank of Australia",
         "offsetgroup": "Commonwealth Bank of Australia",
         "orientation": "h",
         "showlegend": true,
         "text": [
          "$ 204 Bn (17.3 %)"
         ],
         "textposition": "auto",
         "type": "bar",
         "x": [
          204025600000
         ],
         "xaxis": "x",
         "y": [
          "Commonwealth Bank of Australia"
         ],
         "yaxis": "y"
        },
        {
         "alignmentgroup": "True",
         "hovertemplate": "Institution Name=%{y}<br>Business Loans=%{x}<br>chart_txt=%{text}<extra></extra>",
         "legendgroup": "Westpac Banking Corporation",
         "marker": {
          "color": "#E21D26",
          "pattern": {
           "shape": ""
          }
         },
         "name": "Westpac Banking Corporation",
         "offsetgroup": "Westpac Banking Corporation",
         "orientation": "h",
         "showlegend": true,
         "text": [
          "$ 188 Bn (16.0 %)"
         ],
         "textposition": "auto",
         "type": "bar",
         "x": [
          188435400000
         ],
         "xaxis": "x",
         "y": [
          "Westpac Banking Corporation"
         ],
         "yaxis": "y"
        },
        {
         "alignmentgroup": "True",
         "hovertemplate": "Institution Name=%{y}<br>Business Loans=%{x}<br>chart_txt=%{text}<extra></extra>",
         "legendgroup": "Australia and New Zealand Banking Group Limited",
         "marker": {
          "color": "#004165",
          "pattern": {
           "shape": ""
          }
         },
         "name": "Australia and New Zealand Banking Group Limited",
         "offsetgroup": "Australia and New Zealand Banking Group Limited",
         "orientation": "h",
         "showlegend": true,
         "text": [
          "$ 155 Bn (13.2 %)"
         ],
         "textposition": "auto",
         "type": "bar",
         "x": [
          155933500000
         ],
         "xaxis": "x",
         "y": [
          "Australia and New Zealand Banking Group Limited"
         ],
         "yaxis": "y"
        },
        {
         "alignmentgroup": "True",
         "hovertemplate": "Institution Name=%{y}<br>Business Loans=%{x}<br>chart_txt=%{text}<extra></extra>",
         "legendgroup": "Sumitomo Mitsui Banking Corporation",
         "marker": {
          "color": "#83C9FF",
          "pattern": {
           "shape": ""
          }
         },
         "name": "Sumitomo Mitsui Banking Corporation",
         "offsetgroup": "Sumitomo Mitsui Banking Corporation",
         "orientation": "h",
         "showlegend": true,
         "text": [
          "$ 29.0 Bn (2.5 %)"
         ],
         "textposition": "auto",
         "type": "bar",
         "x": [
          29000600000
         ],
         "xaxis": "x",
         "y": [
          "Sumitomo Mitsui Banking Corporation"
         ],
         "yaxis": "y"
        },
        {
         "alignmentgroup": "True",
         "hovertemplate": "Institution Name=%{y}<br>Business Loans=%{x}<br>chart_txt=%{text}<extra></extra>",
         "legendgroup": "MUFG Bank, Ltd.",
         "marker": {
          "color": "#83C9FF",
          "pattern": {
           "shape": ""
          }
         },
         "name": "MUFG Bank, Ltd.",
         "offsetgroup": "MUFG Bank, Ltd.",
         "orientation": "h",
         "showlegend": true,
         "text": [
          "$ 22.2 Bn (1.9 %)"
         ],
         "textposition": "auto",
         "type": "bar",
         "x": [
          22273000000
         ],
         "xaxis": "x",
         "y": [
          "MUFG Bank, Ltd."
         ],
         "yaxis": "y"
        },
        {
         "alignmentgroup": "True",
         "hovertemplate": "Institution Name=%{y}<br>Business Loans=%{x}<br>chart_txt=%{text}<extra></extra>",
         "legendgroup": "Bank of China Limited",
         "marker": {
          "color": "#83C9FF",
          "pattern": {
           "shape": ""
          }
         },
         "name": "Bank of China Limited",
         "offsetgroup": "Bank of China Limited",
         "orientation": "h",
         "showlegend": true,
         "text": [
          "$ 20.4 Bn (1.7 %)"
         ],
         "textposition": "auto",
         "type": "bar",
         "x": [
          20453800000
         ],
         "xaxis": "x",
         "y": [
          "Bank of China Limited"
         ],
         "yaxis": "y"
        },
        {
         "alignmentgroup": "True",
         "hovertemplate": "Institution Name=%{y}<br>Business Loans=%{x}<br>chart_txt=%{text}<extra></extra>",
         "legendgroup": "Macquarie Bank Limited",
         "marker": {
          "color": "#000000",
          "pattern": {
           "shape": ""
          }
         },
         "name": "Macquarie Bank Limited",
         "offsetgroup": "Macquarie Bank Limited",
         "orientation": "h",
         "showlegend": true,
         "text": [
          "$ 19.8 Bn (1.7 %)"
         ],
         "textposition": "auto",
         "type": "bar",
         "x": [
          19808000000
         ],
         "xaxis": "x",
         "y": [
          "Macquarie Bank Limited"
         ],
         "yaxis": "y"
        },
        {
         "alignmentgroup": "True",
         "hovertemplate": "Institution Name=%{y}<br>Business Loans=%{x}<br>chart_txt=%{text}<extra></extra>",
         "legendgroup": "Rabobank Australia Limited",
         "marker": {
          "color": "#83C9FF",
          "pattern": {
           "shape": ""
          }
         },
         "name": "Rabobank Australia Limited",
         "offsetgroup": "Rabobank Australia Limited",
         "orientation": "h",
         "showlegend": true,
         "text": [
          "$ 19.6 Bn (1.7 %)"
         ],
         "textposition": "auto",
         "type": "bar",
         "x": [
          19632400000
         ],
         "xaxis": "x",
         "y": [
          "Rabobank Australia Limited"
         ],
         "yaxis": "y"
        },
        {
         "alignmentgroup": "True",
         "hovertemplate": "Institution Name=%{y}<br>Business Loans=%{x}<br>chart_txt=%{text}<extra></extra>",
         "legendgroup": "Bank of America, National Association",
         "marker": {
          "color": "#83C9FF",
          "pattern": {
           "shape": ""
          }
         },
         "name": "Bank of America, National Association",
         "offsetgroup": "Bank of America, National Association",
         "orientation": "h",
         "showlegend": true,
         "text": [
          "$ 19.4 Bn (1.6 %)"
         ],
         "textposition": "auto",
         "type": "bar",
         "x": [
          19404200000
         ],
         "xaxis": "x",
         "y": [
          "Bank of America, National Association"
         ],
         "yaxis": "y"
        },
        {
         "alignmentgroup": "True",
         "hovertemplate": "Institution Name=%{y}<br>Business Loans=%{x}<br>chart_txt=%{text}<extra></extra>",
         "legendgroup": "Mizuho Bank, Ltd.",
         "marker": {
          "color": "#83C9FF",
          "pattern": {
           "shape": ""
          }
         },
         "name": "Mizuho Bank, Ltd.",
         "offsetgroup": "Mizuho Bank, Ltd.",
         "orientation": "h",
         "showlegend": true,
         "text": [
          "$ 19.3 Bn (1.6 %)"
         ],
         "textposition": "auto",
         "type": "bar",
         "x": [
          19301200000
         ],
         "xaxis": "x",
         "y": [
          "Mizuho Bank, Ltd."
         ],
         "yaxis": "y"
        },
        {
         "alignmentgroup": "True",
         "hovertemplate": "Institution Name=%{y}<br>Business Loans=%{x}<br>chart_txt=%{text}<extra></extra>",
         "legendgroup": "Bendigo and Adelaide Bank Limited",
         "marker": {
          "color": "#83C9FF",
          "pattern": {
           "shape": ""
          }
         },
         "name": "Bendigo and Adelaide Bank Limited",
         "offsetgroup": "Bendigo and Adelaide Bank Limited",
         "orientation": "h",
         "showlegend": true,
         "text": [
          "$ 16.2 Bn (1.4 %)"
         ],
         "textposition": "auto",
         "type": "bar",
         "x": [
          16223300000
         ],
         "xaxis": "x",
         "y": [
          "Bendigo and Adelaide Bank Limited"
         ],
         "yaxis": "y"
        },
        {
         "alignmentgroup": "True",
         "hovertemplate": "Institution Name=%{y}<br>Business Loans=%{x}<br>chart_txt=%{text}<extra></extra>",
         "legendgroup": "The Hongkong and Shanghai Banking Corporation Limited",
         "marker": {
          "color": "#83C9FF",
          "pattern": {
           "shape": ""
          }
         },
         "name": "The Hongkong and Shanghai Banking Corporation Limited",
         "offsetgroup": "The Hongkong and Shanghai Banking Corporation Limited",
         "orientation": "h",
         "showlegend": true,
         "text": [
          "$ 14.8 Bn (1.3 %)"
         ],
         "textposition": "auto",
         "type": "bar",
         "x": [
          14831900000
         ],
         "xaxis": "x",
         "y": [
          "The Hongkong and Shanghai Banking Corporation Limited"
         ],
         "yaxis": "y"
        },
        {
         "alignmentgroup": "True",
         "hovertemplate": "Institution Name=%{y}<br>Business Loans=%{x}<br>chart_txt=%{text}<extra></extra>",
         "legendgroup": "Bank of Queensland Limited",
         "marker": {
          "color": "#83C9FF",
          "pattern": {
           "shape": ""
          }
         },
         "name": "Bank of Queensland Limited",
         "offsetgroup": "Bank of Queensland Limited",
         "orientation": "h",
         "showlegend": true,
         "text": [
          "$ 13.8 Bn (1.2 %)"
         ],
         "textposition": "auto",
         "type": "bar",
         "x": [
          13834500000
         ],
         "xaxis": "x",
         "y": [
          "Bank of Queensland Limited"
         ],
         "yaxis": "y"
        },
        {
         "alignmentgroup": "True",
         "hovertemplate": "Institution Name=%{y}<br>Business Loans=%{x}<br>chart_txt=%{text}<extra></extra>",
         "legendgroup": "ING Bank (Australia) Limited",
         "marker": {
          "color": "#83C9FF",
          "pattern": {
           "shape": ""
          }
         },
         "name": "ING Bank (Australia) Limited",
         "offsetgroup": "ING Bank (Australia) Limited",
         "orientation": "h",
         "showlegend": true,
         "text": [
          "$ 13.7 Bn (1.2 %)"
         ],
         "textposition": "auto",
         "type": "bar",
         "x": [
          13698900000
         ],
         "xaxis": "x",
         "y": [
          "ING Bank (Australia) Limited"
         ],
         "yaxis": "y"
        },
        {
         "alignmentgroup": "True",
         "hovertemplate": "Institution Name=%{y}<br>Business Loans=%{x}<br>chart_txt=%{text}<extra></extra>",
         "legendgroup": "Suncorp-Metway Limited",
         "marker": {
          "color": "#83C9FF",
          "pattern": {
           "shape": ""
          }
         },
         "name": "Suncorp-Metway Limited",
         "offsetgroup": "Suncorp-Metway Limited",
         "orientation": "h",
         "showlegend": true,
         "text": [
          "$ 13.4 Bn (1.1 %)"
         ],
         "textposition": "auto",
         "type": "bar",
         "x": [
          13439500000
         ],
         "xaxis": "x",
         "y": [
          "Suncorp-Metway Limited"
         ],
         "yaxis": "y"
        },
        {
         "alignmentgroup": "True",
         "hovertemplate": "Institution Name=%{y}<br>Business Loans=%{x}<br>chart_txt=%{text}<extra></extra>",
         "legendgroup": "other",
         "marker": {
          "color": "#83C9FF",
          "pattern": {
           "shape": ""
          }
         },
         "name": "other",
         "offsetgroup": "other",
         "orientation": "h",
         "showlegend": true,
         "text": [
          "$ 162 Bn (13.8 %)"
         ],
         "textposition": "auto",
         "type": "bar",
         "x": [
          162908300000
         ],
         "xaxis": "x",
         "y": [
          "other"
         ],
         "yaxis": "y"
        }
       ],
       "layout": {
        "barmode": "relative",
        "height": 800,
        "legend": {
         "orientation": "h",
         "title": {
          "text": "Institution Name"
         },
         "tracegroupgap": 0,
         "x": 1,
         "xanchor": "right",
         "y": 1.02,
         "yanchor": "bottom"
        },
        "showlegend": false,
        "template": {
         "data": {
          "bar": [
           {
            "error_x": {
             "color": "#2a3f5f"
            },
            "error_y": {
             "color": "#2a3f5f"
            },
            "marker": {
             "line": {
              "color": "#E5ECF6",
              "width": 0.5
             },
             "pattern": {
              "fillmode": "overlay",
              "size": 10,
              "solidity": 0.2
             }
            },
            "type": "bar"
           }
          ],
          "barpolar": [
           {
            "marker": {
             "line": {
              "color": "#E5ECF6",
              "width": 0.5
             },
             "pattern": {
              "fillmode": "overlay",
              "size": 10,
              "solidity": 0.2
             }
            },
            "type": "barpolar"
           }
          ],
          "carpet": [
           {
            "aaxis": {
             "endlinecolor": "#2a3f5f",
             "gridcolor": "white",
             "linecolor": "white",
             "minorgridcolor": "white",
             "startlinecolor": "#2a3f5f"
            },
            "baxis": {
             "endlinecolor": "#2a3f5f",
             "gridcolor": "white",
             "linecolor": "white",
             "minorgridcolor": "white",
             "startlinecolor": "#2a3f5f"
            },
            "type": "carpet"
           }
          ],
          "choropleth": [
           {
            "colorbar": {
             "outlinewidth": 0,
             "ticks": ""
            },
            "type": "choropleth"
           }
          ],
          "contour": [
           {
            "colorbar": {
             "outlinewidth": 0,
             "ticks": ""
            },
            "colorscale": [
             [
              0,
              "#0d0887"
             ],
             [
              0.1111111111111111,
              "#46039f"
             ],
             [
              0.2222222222222222,
              "#7201a8"
             ],
             [
              0.3333333333333333,
              "#9c179e"
             ],
             [
              0.4444444444444444,
              "#bd3786"
             ],
             [
              0.5555555555555556,
              "#d8576b"
             ],
             [
              0.6666666666666666,
              "#ed7953"
             ],
             [
              0.7777777777777778,
              "#fb9f3a"
             ],
             [
              0.8888888888888888,
              "#fdca26"
             ],
             [
              1,
              "#f0f921"
             ]
            ],
            "type": "contour"
           }
          ],
          "contourcarpet": [
           {
            "colorbar": {
             "outlinewidth": 0,
             "ticks": ""
            },
            "type": "contourcarpet"
           }
          ],
          "heatmap": [
           {
            "colorbar": {
             "outlinewidth": 0,
             "ticks": ""
            },
            "colorscale": [
             [
              0,
              "#0d0887"
             ],
             [
              0.1111111111111111,
              "#46039f"
             ],
             [
              0.2222222222222222,
              "#7201a8"
             ],
             [
              0.3333333333333333,
              "#9c179e"
             ],
             [
              0.4444444444444444,
              "#bd3786"
             ],
             [
              0.5555555555555556,
              "#d8576b"
             ],
             [
              0.6666666666666666,
              "#ed7953"
             ],
             [
              0.7777777777777778,
              "#fb9f3a"
             ],
             [
              0.8888888888888888,
              "#fdca26"
             ],
             [
              1,
              "#f0f921"
             ]
            ],
            "type": "heatmap"
           }
          ],
          "heatmapgl": [
           {
            "colorbar": {
             "outlinewidth": 0,
             "ticks": ""
            },
            "colorscale": [
             [
              0,
              "#0d0887"
             ],
             [
              0.1111111111111111,
              "#46039f"
             ],
             [
              0.2222222222222222,
              "#7201a8"
             ],
             [
              0.3333333333333333,
              "#9c179e"
             ],
             [
              0.4444444444444444,
              "#bd3786"
             ],
             [
              0.5555555555555556,
              "#d8576b"
             ],
             [
              0.6666666666666666,
              "#ed7953"
             ],
             [
              0.7777777777777778,
              "#fb9f3a"
             ],
             [
              0.8888888888888888,
              "#fdca26"
             ],
             [
              1,
              "#f0f921"
             ]
            ],
            "type": "heatmapgl"
           }
          ],
          "histogram": [
           {
            "marker": {
             "pattern": {
              "fillmode": "overlay",
              "size": 10,
              "solidity": 0.2
             }
            },
            "type": "histogram"
           }
          ],
          "histogram2d": [
           {
            "colorbar": {
             "outlinewidth": 0,
             "ticks": ""
            },
            "colorscale": [
             [
              0,
              "#0d0887"
             ],
             [
              0.1111111111111111,
              "#46039f"
             ],
             [
              0.2222222222222222,
              "#7201a8"
             ],
             [
              0.3333333333333333,
              "#9c179e"
             ],
             [
              0.4444444444444444,
              "#bd3786"
             ],
             [
              0.5555555555555556,
              "#d8576b"
             ],
             [
              0.6666666666666666,
              "#ed7953"
             ],
             [
              0.7777777777777778,
              "#fb9f3a"
             ],
             [
              0.8888888888888888,
              "#fdca26"
             ],
             [
              1,
              "#f0f921"
             ]
            ],
            "type": "histogram2d"
           }
          ],
          "histogram2dcontour": [
           {
            "colorbar": {
             "outlinewidth": 0,
             "ticks": ""
            },
            "colorscale": [
             [
              0,
              "#0d0887"
             ],
             [
              0.1111111111111111,
              "#46039f"
             ],
             [
              0.2222222222222222,
              "#7201a8"
             ],
             [
              0.3333333333333333,
              "#9c179e"
             ],
             [
              0.4444444444444444,
              "#bd3786"
             ],
             [
              0.5555555555555556,
              "#d8576b"
             ],
             [
              0.6666666666666666,
              "#ed7953"
             ],
             [
              0.7777777777777778,
              "#fb9f3a"
             ],
             [
              0.8888888888888888,
              "#fdca26"
             ],
             [
              1,
              "#f0f921"
             ]
            ],
            "type": "histogram2dcontour"
           }
          ],
          "mesh3d": [
           {
            "colorbar": {
             "outlinewidth": 0,
             "ticks": ""
            },
            "type": "mesh3d"
           }
          ],
          "parcoords": [
           {
            "line": {
             "colorbar": {
              "outlinewidth": 0,
              "ticks": ""
             }
            },
            "type": "parcoords"
           }
          ],
          "pie": [
           {
            "automargin": true,
            "type": "pie"
           }
          ],
          "scatter": [
           {
            "fillpattern": {
             "fillmode": "overlay",
             "size": 10,
             "solidity": 0.2
            },
            "type": "scatter"
           }
          ],
          "scatter3d": [
           {
            "line": {
             "colorbar": {
              "outlinewidth": 0,
              "ticks": ""
             }
            },
            "marker": {
             "colorbar": {
              "outlinewidth": 0,
              "ticks": ""
             }
            },
            "type": "scatter3d"
           }
          ],
          "scattercarpet": [
           {
            "marker": {
             "colorbar": {
              "outlinewidth": 0,
              "ticks": ""
             }
            },
            "type": "scattercarpet"
           }
          ],
          "scattergeo": [
           {
            "marker": {
             "colorbar": {
              "outlinewidth": 0,
              "ticks": ""
             }
            },
            "type": "scattergeo"
           }
          ],
          "scattergl": [
           {
            "marker": {
             "colorbar": {
              "outlinewidth": 0,
              "ticks": ""
             }
            },
            "type": "scattergl"
           }
          ],
          "scattermapbox": [
           {
            "marker": {
             "colorbar": {
              "outlinewidth": 0,
              "ticks": ""
             }
            },
            "type": "scattermapbox"
           }
          ],
          "scatterpolar": [
           {
            "marker": {
             "colorbar": {
              "outlinewidth": 0,
              "ticks": ""
             }
            },
            "type": "scatterpolar"
           }
          ],
          "scatterpolargl": [
           {
            "marker": {
             "colorbar": {
              "outlinewidth": 0,
              "ticks": ""
             }
            },
            "type": "scatterpolargl"
           }
          ],
          "scatterternary": [
           {
            "marker": {
             "colorbar": {
              "outlinewidth": 0,
              "ticks": ""
             }
            },
            "type": "scatterternary"
           }
          ],
          "surface": [
           {
            "colorbar": {
             "outlinewidth": 0,
             "ticks": ""
            },
            "colorscale": [
             [
              0,
              "#0d0887"
             ],
             [
              0.1111111111111111,
              "#46039f"
             ],
             [
              0.2222222222222222,
              "#7201a8"
             ],
             [
              0.3333333333333333,
              "#9c179e"
             ],
             [
              0.4444444444444444,
              "#bd3786"
             ],
             [
              0.5555555555555556,
              "#d8576b"
             ],
             [
              0.6666666666666666,
              "#ed7953"
             ],
             [
              0.7777777777777778,
              "#fb9f3a"
             ],
             [
              0.8888888888888888,
              "#fdca26"
             ],
             [
              1,
              "#f0f921"
             ]
            ],
            "type": "surface"
           }
          ],
          "table": [
           {
            "cells": {
             "fill": {
              "color": "#EBF0F8"
             },
             "line": {
              "color": "white"
             }
            },
            "header": {
             "fill": {
              "color": "#C8D4E3"
             },
             "line": {
              "color": "white"
             }
            },
            "type": "table"
           }
          ]
         },
         "layout": {
          "annotationdefaults": {
           "arrowcolor": "#2a3f5f",
           "arrowhead": 0,
           "arrowwidth": 1
          },
          "autotypenumbers": "strict",
          "coloraxis": {
           "colorbar": {
            "outlinewidth": 0,
            "ticks": ""
           }
          },
          "colorscale": {
           "diverging": [
            [
             0,
             "#8e0152"
            ],
            [
             0.1,
             "#c51b7d"
            ],
            [
             0.2,
             "#de77ae"
            ],
            [
             0.3,
             "#f1b6da"
            ],
            [
             0.4,
             "#fde0ef"
            ],
            [
             0.5,
             "#f7f7f7"
            ],
            [
             0.6,
             "#e6f5d0"
            ],
            [
             0.7,
             "#b8e186"
            ],
            [
             0.8,
             "#7fbc41"
            ],
            [
             0.9,
             "#4d9221"
            ],
            [
             1,
             "#276419"
            ]
           ],
           "sequential": [
            [
             0,
             "#0d0887"
            ],
            [
             0.1111111111111111,
             "#46039f"
            ],
            [
             0.2222222222222222,
             "#7201a8"
            ],
            [
             0.3333333333333333,
             "#9c179e"
            ],
            [
             0.4444444444444444,
             "#bd3786"
            ],
            [
             0.5555555555555556,
             "#d8576b"
            ],
            [
             0.6666666666666666,
             "#ed7953"
            ],
            [
             0.7777777777777778,
             "#fb9f3a"
            ],
            [
             0.8888888888888888,
             "#fdca26"
            ],
            [
             1,
             "#f0f921"
            ]
           ],
           "sequentialminus": [
            [
             0,
             "#0d0887"
            ],
            [
             0.1111111111111111,
             "#46039f"
            ],
            [
             0.2222222222222222,
             "#7201a8"
            ],
            [
             0.3333333333333333,
             "#9c179e"
            ],
            [
             0.4444444444444444,
             "#bd3786"
            ],
            [
             0.5555555555555556,
             "#d8576b"
            ],
            [
             0.6666666666666666,
             "#ed7953"
            ],
            [
             0.7777777777777778,
             "#fb9f3a"
            ],
            [
             0.8888888888888888,
             "#fdca26"
            ],
            [
             1,
             "#f0f921"
            ]
           ]
          },
          "colorway": [
           "#636efa",
           "#EF553B",
           "#00cc96",
           "#ab63fa",
           "#FFA15A",
           "#19d3f3",
           "#FF6692",
           "#B6E880",
           "#FF97FF",
           "#FECB52"
          ],
          "font": {
           "color": "#2a3f5f"
          },
          "geo": {
           "bgcolor": "white",
           "lakecolor": "white",
           "landcolor": "#E5ECF6",
           "showlakes": true,
           "showland": true,
           "subunitcolor": "white"
          },
          "hoverlabel": {
           "align": "left"
          },
          "hovermode": "closest",
          "mapbox": {
           "style": "light"
          },
          "paper_bgcolor": "white",
          "plot_bgcolor": "#E5ECF6",
          "polar": {
           "angularaxis": {
            "gridcolor": "white",
            "linecolor": "white",
            "ticks": ""
           },
           "bgcolor": "#E5ECF6",
           "radialaxis": {
            "gridcolor": "white",
            "linecolor": "white",
            "ticks": ""
           }
          },
          "scene": {
           "xaxis": {
            "backgroundcolor": "#E5ECF6",
            "gridcolor": "white",
            "gridwidth": 2,
            "linecolor": "white",
            "showbackground": true,
            "ticks": "",
            "zerolinecolor": "white"
           },
           "yaxis": {
            "backgroundcolor": "#E5ECF6",
            "gridcolor": "white",
            "gridwidth": 2,
            "linecolor": "white",
            "showbackground": true,
            "ticks": "",
            "zerolinecolor": "white"
           },
           "zaxis": {
            "backgroundcolor": "#E5ECF6",
            "gridcolor": "white",
            "gridwidth": 2,
            "linecolor": "white",
            "showbackground": true,
            "ticks": "",
            "zerolinecolor": "white"
           }
          },
          "shapedefaults": {
           "line": {
            "color": "#2a3f5f"
           }
          },
          "ternary": {
           "aaxis": {
            "gridcolor": "white",
            "linecolor": "white",
            "ticks": ""
           },
           "baxis": {
            "gridcolor": "white",
            "linecolor": "white",
            "ticks": ""
           },
           "bgcolor": "#E5ECF6",
           "caxis": {
            "gridcolor": "white",
            "linecolor": "white",
            "ticks": ""
           }
          },
          "title": {
           "x": 0.05
          },
          "xaxis": {
           "automargin": true,
           "gridcolor": "white",
           "linecolor": "white",
           "ticks": "",
           "title": {
            "standoff": 15
           },
           "zerolinecolor": "white",
           "zerolinewidth": 2
          },
          "yaxis": {
           "automargin": true,
           "gridcolor": "white",
           "linecolor": "white",
           "ticks": "",
           "title": {
            "standoff": 15
           },
           "zerolinecolor": "white",
           "zerolinewidth": 2
          }
         }
        },
        "title": {
         "text": "Business Loans"
        },
        "xaxis": {
         "anchor": "y",
         "domain": [
          0,
          1
         ],
         "gridcolor": "Grey",
         "gridwidth": 1,
         "showgrid": true,
         "title": {
          "text": "Business Loans"
         }
        },
        "yaxis": {
         "anchor": "x",
         "categoryarray": [
          "other",
          "Suncorp-Metway Limited",
          "ING Bank (Australia) Limited",
          "Bank of Queensland Limited",
          "The Hongkong and Shanghai Banking Corporation Limited",
          "Bendigo and Adelaide Bank Limited",
          "Mizuho Bank, Ltd.",
          "Bank of America, National Association",
          "Rabobank Australia Limited",
          "Macquarie Bank Limited",
          "Bank of China Limited",
          "MUFG Bank, Ltd.",
          "Sumitomo Mitsui Banking Corporation",
          "Australia and New Zealand Banking Group Limited",
          "Westpac Banking Corporation",
          "Commonwealth Bank of Australia",
          "National Australia Bank Limited"
         ],
         "categoryorder": "array",
         "domain": [
          0,
          1
         ],
         "title": {
          "text": "Institution Name"
         }
        }
       }
      }
     },
     "metadata": {},
     "output_type": "display_data"
    }
   ],
   "source": [
    "for key in charts_dict.keys():\n",
    "    print(key)\n",
    "#charts_dict['fig_balance_as_at'].show()\n",
    "charts_dict['Business Loans']\n"
   ]
  },
  {
   "cell_type": "code",
   "execution_count": 711,
   "metadata": {},
   "outputs": [
    {
     "data": {
      "text/plain": [
       "[1, 12, 48]"
      ]
     },
     "execution_count": 711,
     "metadata": {},
     "output_type": "execute_result"
    }
   ],
   "source": [
    "from chart_generator import chart_selected_col_bar\n",
    "from utils import get_months_ago_list\n",
    "\n",
    "top_x_df = dfs_dict['top_x_df_dict']['df']\n",
    "top_x_df\n",
    "details_dicts\n",
    "\n",
    "# Get number of months within data\n",
    "months_ago_list = get_months_ago_list(\n",
    "    df = top_x_df,\n",
    "    date_column = date_column\n",
    ")\n",
    "months_ago_list\n",
    "\n",
    "\n",
    "## 'date_0_months_ago': Timestamp('2023-12-31 00:00:00'),\n",
    "##  'date_0_wording': 'current month',\n",
    "##  'date_1_months_ago': Timestamp('2023-11-30 00:00:00'),\n",
    "##  'date_1_wording': 'month',\n",
    "##  'date_12_months_ago': Timestamp('2022-12-31 00:00:00'),\n",
    "##  'date_12_wording': 'year',\n",
    "##  'date_48_months_ago': Timestamp('2019-12-31 00:00:00'),\n",
    "##  'date_48_wording': '4 years',\n",
    "\n",
    "# top_x_df_current = top_x_df[top_x_df[date_column] == selected_date]\n",
    "# formatted_dollars  = top_x_df_current[selected_column].apply(rounded_dollars)\n",
    "# formatted_percentages = top_x_df_current['Market Share'].apply(lambda x: f\"({x * 100:.1f} %)\")\n",
    "# top_x_df_current.loc[:, 'chart_txt'] = formatted_dollars + ' ' + formatted_percentages\n",
    "\n",
    "# charts_dict[selected_column] = chart_selected_col_bar(\n",
    "#         df = top_x_df_current,\n",
    "#         category_column = category_column,\n",
    "#         reference_col = f'{selected_column}',\n",
    "#         ordered_category_list= details_dicts['ordered_category_list'],\n",
    "#         show_xaxis_labels = True,\n",
    "#         x_tickformat = None,\n",
    "#         x_gridcolor='Grey',\n",
    "#         color_discrete_map= color_discrete_map,\n",
    "#     )"
   ]
  },
  {
   "cell_type": "code",
   "execution_count": 436,
   "metadata": {},
   "outputs": [
    {
     "name": "stderr",
     "output_type": "stream",
     "text": [
      "C:\\Users\\tyewf\\AppData\\Local\\Packages\\PythonSoftwareFoundation.Python.3.11_qbz5n2kfra8p0\\LocalCache\\local-packages\\Python311\\site-packages\\plotly\\express\\_core.py:2065: FutureWarning:\n",
      "\n",
      "When grouping with a length-1 list-like, you will need to pass a length-1 tuple to get_group in a future version of pandas. Pass `(name,)` instead of `name` to silence this warning.\n",
      "\n"
     ]
    },
    {
     "ename": "ValueError",
     "evalue": "Invalid property specified for object of type plotly.graph_objs.Layout: 'text'\n\nDid you mean \"font\"?\n\n    Valid properties:\n        activeselection\n            :class:`plotly.graph_objects.layout.Activeselection`\n            instance or dict with compatible properties\n        activeshape\n            :class:`plotly.graph_objects.layout.Activeshape`\n            instance or dict with compatible properties\n        annotations\n            A tuple of\n            :class:`plotly.graph_objects.layout.Annotation`\n            instances or dicts with compatible properties\n        annotationdefaults\n            When used in a template (as\n            layout.template.layout.annotationdefaults), sets the\n            default property values to use for elements of\n            layout.annotations\n        autosize\n            Determines whether or not a layout width or height that\n            has been left undefined by the user is initialized on\n            each relayout. Note that, regardless of this attribute,\n            an undefined layout width or height is always\n            initialized on the first call to plot.\n        autotypenumbers\n            Using \"strict\" a numeric string in trace data is not\n            converted to a number. Using *convert types* a numeric\n            string in trace data may be treated as a number during\n            automatic axis `type` detection. This is the default\n            value; however it could be overridden for individual\n            axes.\n        bargap\n            Sets the gap (in plot fraction) between bars of\n            adjacent location coordinates.\n        bargroupgap\n            Sets the gap (in plot fraction) between bars of the\n            same location coordinate.\n        barmode\n            Determines how bars at the same location coordinate are\n            displayed on the graph. With \"stack\", the bars are\n            stacked on top of one another With \"relative\", the bars\n            are stacked on top of one another, with negative values\n            below the axis, positive values above With \"group\", the\n            bars are plotted next to one another centered around\n            the shared location. With \"overlay\", the bars are\n            plotted over one another, you might need to reduce\n            \"opacity\" to see multiple bars.\n        barnorm\n            Sets the normalization for bar traces on the graph.\n            With \"fraction\", the value of each bar is divided by\n            the sum of all values at that location coordinate.\n            \"percent\" is the same but multiplied by 100 to show\n            percentages.\n        boxgap\n            Sets the gap (in plot fraction) between boxes of\n            adjacent location coordinates. Has no effect on traces\n            that have \"width\" set.\n        boxgroupgap\n            Sets the gap (in plot fraction) between boxes of the\n            same location coordinate. Has no effect on traces that\n            have \"width\" set.\n        boxmode\n            Determines how boxes at the same location coordinate\n            are displayed on the graph. If \"group\", the boxes are\n            plotted next to one another centered around the shared\n            location. If \"overlay\", the boxes are plotted over one\n            another, you might need to set \"opacity\" to see them\n            multiple boxes. Has no effect on traces that have\n            \"width\" set.\n        calendar\n            Sets the default calendar system to use for\n            interpreting and displaying dates throughout the plot.\n        clickmode\n            Determines the mode of single click interactions.\n            \"event\" is the default value and emits the\n            `plotly_click` event. In addition this mode emits the\n            `plotly_selected` event in drag modes \"lasso\" and\n            \"select\", but with no event data attached (kept for\n            compatibility reasons). The \"select\" flag enables\n            selecting single data points via click. This mode also\n            supports persistent selections, meaning that pressing\n            Shift while clicking, adds to / subtracts from an\n            existing selection. \"select\" with `hovermode`: \"x\" can\n            be confusing, consider explicitly setting `hovermode`:\n            \"closest\" when using this feature. Selection events are\n            sent accordingly as long as \"event\" flag is set as\n            well. When the \"event\" flag is missing, `plotly_click`\n            and `plotly_selected` events are not fired.\n        coloraxis\n            :class:`plotly.graph_objects.layout.Coloraxis` instance\n            or dict with compatible properties\n        colorscale\n            :class:`plotly.graph_objects.layout.Colorscale`\n            instance or dict with compatible properties\n        colorway\n            Sets the default trace colors.\n        computed\n            Placeholder for exporting automargin-impacting values\n            namely `margin.t`, `margin.b`, `margin.l` and\n            `margin.r` in \"full-json\" mode.\n        datarevision\n            If provided, a changed value tells `Plotly.react` that\n            one or more data arrays has changed. This way you can\n            modify arrays in-place rather than making a complete\n            new copy for an incremental change. If NOT provided,\n            `Plotly.react` assumes that data arrays are being\n            treated as immutable, thus any data array with a\n            different identity from its predecessor contains new\n            data.\n        dragmode\n            Determines the mode of drag interactions. \"select\" and\n            \"lasso\" apply only to scatter traces with markers or\n            text. \"orbit\" and \"turntable\" apply only to 3D scenes.\n        editrevision\n            Controls persistence of user-driven changes in\n            `editable: true` configuration, other than trace names\n            and axis titles. Defaults to `layout.uirevision`.\n        extendfunnelareacolors\n            If `true`, the funnelarea slice colors (whether given\n            by `funnelareacolorway` or inherited from `colorway`)\n            will be extended to three times its original length by\n            first repeating every color 20% lighter then each color\n            20% darker. This is intended to reduce the likelihood\n            of reusing the same color when you have many slices,\n            but you can set `false` to disable. Colors provided in\n            the trace, using `marker.colors`, are never extended.\n        extendiciclecolors\n            If `true`, the icicle slice colors (whether given by\n            `iciclecolorway` or inherited from `colorway`) will be\n            extended to three times its original length by first\n            repeating every color 20% lighter then each color 20%\n            darker. This is intended to reduce the likelihood of\n            reusing the same color when you have many slices, but\n            you can set `false` to disable. Colors provided in the\n            trace, using `marker.colors`, are never extended.\n        extendpiecolors\n            If `true`, the pie slice colors (whether given by\n            `piecolorway` or inherited from `colorway`) will be\n            extended to three times its original length by first\n            repeating every color 20% lighter then each color 20%\n            darker. This is intended to reduce the likelihood of\n            reusing the same color when you have many slices, but\n            you can set `false` to disable. Colors provided in the\n            trace, using `marker.colors`, are never extended.\n        extendsunburstcolors\n            If `true`, the sunburst slice colors (whether given by\n            `sunburstcolorway` or inherited from `colorway`) will\n            be extended to three times its original length by first\n            repeating every color 20% lighter then each color 20%\n            darker. This is intended to reduce the likelihood of\n            reusing the same color when you have many slices, but\n            you can set `false` to disable. Colors provided in the\n            trace, using `marker.colors`, are never extended.\n        extendtreemapcolors\n            If `true`, the treemap slice colors (whether given by\n            `treemapcolorway` or inherited from `colorway`) will be\n            extended to three times its original length by first\n            repeating every color 20% lighter then each color 20%\n            darker. This is intended to reduce the likelihood of\n            reusing the same color when you have many slices, but\n            you can set `false` to disable. Colors provided in the\n            trace, using `marker.colors`, are never extended.\n        font\n            Sets the global font. Note that fonts used in traces\n            and other layout components inherit from the global\n            font.\n        funnelareacolorway\n            Sets the default funnelarea slice colors. Defaults to\n            the main `colorway` used for trace colors. If you\n            specify a new list here it can still be extended with\n            lighter and darker colors, see\n            `extendfunnelareacolors`.\n        funnelgap\n            Sets the gap (in plot fraction) between bars of\n            adjacent location coordinates.\n        funnelgroupgap\n            Sets the gap (in plot fraction) between bars of the\n            same location coordinate.\n        funnelmode\n            Determines how bars at the same location coordinate are\n            displayed on the graph. With \"stack\", the bars are\n            stacked on top of one another With \"group\", the bars\n            are plotted next to one another centered around the\n            shared location. With \"overlay\", the bars are plotted\n            over one another, you might need to reduce \"opacity\" to\n            see multiple bars.\n        geo\n            :class:`plotly.graph_objects.layout.Geo` instance or\n            dict with compatible properties\n        grid\n            :class:`plotly.graph_objects.layout.Grid` instance or\n            dict with compatible properties\n        height\n            Sets the plot's height (in px).\n        hiddenlabels\n            hiddenlabels is the funnelarea & pie chart analog of\n            visible:'legendonly' but it can contain many labels,\n            and can simultaneously hide slices from several\n            pies/funnelarea charts\n        hiddenlabelssrc\n            Sets the source reference on Chart Studio Cloud for\n            `hiddenlabels`.\n        hidesources\n            Determines whether or not a text link citing the data\n            source is placed at the bottom-right cored of the\n            figure. Has only an effect only on graphs that have\n            been generated via forked graphs from the Chart Studio\n            Cloud (at https://chart-studio.plotly.com or on-\n            premise).\n        hoverdistance\n            Sets the default distance (in pixels) to look for data\n            to add hover labels (-1 means no cutoff, 0 means no\n            looking for data). This is only a real distance for\n            hovering on point-like objects, like scatter points.\n            For area-like objects (bars, scatter fills, etc)\n            hovering is on inside the area and off outside, but\n            these objects will not supersede hover on point-like\n            objects in case of conflict.\n        hoverlabel\n            :class:`plotly.graph_objects.layout.Hoverlabel`\n            instance or dict with compatible properties\n        hovermode\n            Determines the mode of hover interactions. If\n            \"closest\", a single hoverlabel will appear for the\n            \"closest\" point within the `hoverdistance`. If \"x\" (or\n            \"y\"), multiple hoverlabels will appear for multiple\n            points at the \"closest\" x- (or y-) coordinate within\n            the `hoverdistance`, with the caveat that no more than\n            one hoverlabel will appear per trace. If *x unified*\n            (or *y unified*), a single hoverlabel will appear\n            multiple points at the closest x- (or y-) coordinate\n            within the `hoverdistance` with the caveat that no more\n            than one hoverlabel will appear per trace. In this\n            mode, spikelines are enabled by default perpendicular\n            to the specified axis. If false, hover interactions are\n            disabled.\n        iciclecolorway\n            Sets the default icicle slice colors. Defaults to the\n            main `colorway` used for trace colors. If you specify a\n            new list here it can still be extended with lighter and\n            darker colors, see `extendiciclecolors`.\n        images\n            A tuple of :class:`plotly.graph_objects.layout.Image`\n            instances or dicts with compatible properties\n        imagedefaults\n            When used in a template (as\n            layout.template.layout.imagedefaults), sets the default\n            property values to use for elements of layout.images\n        legend\n            :class:`plotly.graph_objects.layout.Legend` instance or\n            dict with compatible properties\n        mapbox\n            :class:`plotly.graph_objects.layout.Mapbox` instance or\n            dict with compatible properties\n        margin\n            :class:`plotly.graph_objects.layout.Margin` instance or\n            dict with compatible properties\n        meta\n            Assigns extra meta information that can be used in\n            various `text` attributes. Attributes such as the\n            graph, axis and colorbar `title.text`, annotation\n            `text` `trace.name` in legend items, `rangeselector`,\n            `updatemenus` and `sliders` `label` text all support\n            `meta`. One can access `meta` fields using template\n            strings: `%{meta[i]}` where `i` is the index of the\n            `meta` item in question. `meta` can also be an object\n            for example `{key: value}` which can be accessed\n            %{meta[key]}.\n        metasrc\n            Sets the source reference on Chart Studio Cloud for\n            `meta`.\n        minreducedheight\n            Minimum height of the plot with margin.automargin\n            applied (in px)\n        minreducedwidth\n            Minimum width of the plot with margin.automargin\n            applied (in px)\n        modebar\n            :class:`plotly.graph_objects.layout.Modebar` instance\n            or dict with compatible properties\n        newselection\n            :class:`plotly.graph_objects.layout.Newselection`\n            instance or dict with compatible properties\n        newshape\n            :class:`plotly.graph_objects.layout.Newshape` instance\n            or dict with compatible properties\n        paper_bgcolor\n            Sets the background color of the paper where the graph\n            is drawn.\n        piecolorway\n            Sets the default pie slice colors. Defaults to the main\n            `colorway` used for trace colors. If you specify a new\n            list here it can still be extended with lighter and\n            darker colors, see `extendpiecolors`.\n        plot_bgcolor\n            Sets the background color of the plotting area in-\n            between x and y axes.\n        polar\n            :class:`plotly.graph_objects.layout.Polar` instance or\n            dict with compatible properties\n        scattergap\n            Sets the gap (in plot fraction) between scatter points\n            of adjacent location coordinates. Defaults to `bargap`.\n        scattermode\n            Determines how scatter points at the same location\n            coordinate are displayed on the graph. With \"group\",\n            the scatter points are plotted next to one another\n            centered around the shared location. With \"overlay\",\n            the scatter points are plotted over one another, you\n            might need to reduce \"opacity\" to see multiple scatter\n            points.\n        scene\n            :class:`plotly.graph_objects.layout.Scene` instance or\n            dict with compatible properties\n        selectdirection\n            When `dragmode` is set to \"select\", this limits the\n            selection of the drag to horizontal, vertical or\n            diagonal. \"h\" only allows horizontal selection, \"v\"\n            only vertical, \"d\" only diagonal and \"any\" sets no\n            limit.\n        selectionrevision\n            Controls persistence of user-driven changes in selected\n            points from all traces.\n        selections\n            A tuple of\n            :class:`plotly.graph_objects.layout.Selection`\n            instances or dicts with compatible properties\n        selectiondefaults\n            When used in a template (as\n            layout.template.layout.selectiondefaults), sets the\n            default property values to use for elements of\n            layout.selections\n        separators\n            Sets the decimal and thousand separators. For example,\n            *. * puts a '.' before decimals and a space between\n            thousands. In English locales, dflt is \".,\" but other\n            locales may alter this default.\n        shapes\n            A tuple of :class:`plotly.graph_objects.layout.Shape`\n            instances or dicts with compatible properties\n        shapedefaults\n            When used in a template (as\n            layout.template.layout.shapedefaults), sets the default\n            property values to use for elements of layout.shapes\n        showlegend\n            Determines whether or not a legend is drawn. Default is\n            `true` if there is a trace to show and any of these: a)\n            Two or more traces would by default be shown in the\n            legend. b) One pie trace is shown in the legend. c) One\n            trace is explicitly given with `showlegend: true`.\n        sliders\n            A tuple of :class:`plotly.graph_objects.layout.Slider`\n            instances or dicts with compatible properties\n        sliderdefaults\n            When used in a template (as\n            layout.template.layout.sliderdefaults), sets the\n            default property values to use for elements of\n            layout.sliders\n        smith\n            :class:`plotly.graph_objects.layout.Smith` instance or\n            dict with compatible properties\n        spikedistance\n            Sets the default distance (in pixels) to look for data\n            to draw spikelines to (-1 means no cutoff, 0 means no\n            looking for data). As with hoverdistance, distance does\n            not apply to area-like objects. In addition, some\n            objects can be hovered on but will not generate\n            spikelines, such as scatter fills.\n        sunburstcolorway\n            Sets the default sunburst slice colors. Defaults to the\n            main `colorway` used for trace colors. If you specify a\n            new list here it can still be extended with lighter and\n            darker colors, see `extendsunburstcolors`.\n        template\n            Default attributes to be applied to the plot. This\n            should be a dict with format: `{'layout':\n            layoutTemplate, 'data': {trace_type: [traceTemplate,\n            ...], ...}}` where `layoutTemplate` is a dict matching\n            the structure of `figure.layout` and `traceTemplate` is\n            a dict matching the structure of the trace with type\n            `trace_type` (e.g. 'scatter'). Alternatively, this may\n            be specified as an instance of\n            plotly.graph_objs.layout.Template.  Trace templates are\n            applied cyclically to traces of each type. Container\n            arrays (eg `annotations`) have special handling: An\n            object ending in `defaults` (eg `annotationdefaults`)\n            is applied to each array item. But if an item has a\n            `templateitemname` key we look in the template array\n            for an item with matching `name` and apply that\n            instead. If no matching `name` is found we mark the\n            item invisible. Any named template item not referenced\n            is appended to the end of the array, so this can be\n            used to add a watermark annotation or a logo image, for\n            example. To omit one of these items on the plot, make\n            an item with matching `templateitemname` and `visible:\n            false`.\n        ternary\n            :class:`plotly.graph_objects.layout.Ternary` instance\n            or dict with compatible properties\n        title\n            :class:`plotly.graph_objects.layout.Title` instance or\n            dict with compatible properties\n        titlefont\n            Deprecated: Please use layout.title.font instead. Sets\n            the title font. Note that the title's font used to be\n            customized by the now deprecated `titlefont` attribute.\n        transition\n            Sets transition options used during Plotly.react\n            updates.\n        treemapcolorway\n            Sets the default treemap slice colors. Defaults to the\n            main `colorway` used for trace colors. If you specify a\n            new list here it can still be extended with lighter and\n            darker colors, see `extendtreemapcolors`.\n        uirevision\n            Used to allow user interactions with the plot to\n            persist after `Plotly.react` calls that are unaware of\n            these interactions. If `uirevision` is omitted, or if\n            it is given and it changed from the previous\n            `Plotly.react` call, the exact new figure is used. If\n            `uirevision` is truthy and did NOT change, any\n            attribute that has been affected by user interactions\n            and did not receive a different value in the new figure\n            will keep the interaction value. `layout.uirevision`\n            attribute serves as the default for `uirevision`\n            attributes in various sub-containers. For finer control\n            you can set these sub-attributes directly. For example,\n            if your app separately controls the data on the x and y\n            axes you might set `xaxis.uirevision=*time*` and\n            `yaxis.uirevision=*cost*`. Then if only the y data is\n            changed, you can update `yaxis.uirevision=*quantity*`\n            and the y axis range will reset but the x axis range\n            will retain any user-driven zoom.\n        uniformtext\n            :class:`plotly.graph_objects.layout.Uniformtext`\n            instance or dict with compatible properties\n        updatemenus\n            A tuple of\n            :class:`plotly.graph_objects.layout.Updatemenu`\n            instances or dicts with compatible properties\n        updatemenudefaults\n            When used in a template (as\n            layout.template.layout.updatemenudefaults), sets the\n            default property values to use for elements of\n            layout.updatemenus\n        violingap\n            Sets the gap (in plot fraction) between violins of\n            adjacent location coordinates. Has no effect on traces\n            that have \"width\" set.\n        violingroupgap\n            Sets the gap (in plot fraction) between violins of the\n            same location coordinate. Has no effect on traces that\n            have \"width\" set.\n        violinmode\n            Determines how violins at the same location coordinate\n            are displayed on the graph. If \"group\", the violins are\n            plotted next to one another centered around the shared\n            location. If \"overlay\", the violins are plotted over\n            one another, you might need to set \"opacity\" to see\n            them multiple violins. Has no effect on traces that\n            have \"width\" set.\n        waterfallgap\n            Sets the gap (in plot fraction) between bars of\n            adjacent location coordinates.\n        waterfallgroupgap\n            Sets the gap (in plot fraction) between bars of the\n            same location coordinate.\n        waterfallmode\n            Determines how bars at the same location coordinate are\n            displayed on the graph. With \"group\", the bars are\n            plotted next to one another centered around the shared\n            location. With \"overlay\", the bars are plotted over one\n            another, you might need to reduce \"opacity\" to see\n            multiple bars.\n        width\n            Sets the plot's width (in px).\n        xaxis\n            :class:`plotly.graph_objects.layout.XAxis` instance or\n            dict with compatible properties\n        yaxis\n            :class:`plotly.graph_objects.layout.YAxis` instance or\n            dict with compatible properties\n        \nDid you mean \"font\"?\n\nBad property path:\ntext\n^^^^",
     "output_type": "error",
     "traceback": [
      "\u001b[1;31m---------------------------------------------------------------------------\u001b[0m",
      "\u001b[1;31mValueError\u001b[0m                                Traceback (most recent call last)",
      "Cell \u001b[1;32mIn[436], line 23\u001b[0m\n\u001b[0;32m      2\u001b[0m fig \u001b[38;5;241m=\u001b[39m px\u001b[38;5;241m.\u001b[39mbar(\n\u001b[0;32m      3\u001b[0m     data_frame\u001b[38;5;241m=\u001b[39mtop_x_df_at_date,\n\u001b[0;32m      4\u001b[0m     x\u001b[38;5;241m=\u001b[39mtop_x_df_at_date[\u001b[38;5;124m'\u001b[39m\u001b[38;5;124mMarket Share\u001b[39m\u001b[38;5;124m'\u001b[39m] \u001b[38;5;241m*\u001b[39m \u001b[38;5;241m100\u001b[39m,\n\u001b[1;32m   (...)\u001b[0m\n\u001b[0;32m     18\u001b[0m     \u001b[38;5;66;03m# barmode='relative', log_x=False, log_y=False, range_x=None, range_y=None, text_auto=False, title=None, template=None, width=None, height=None\u001b[39;00m\n\u001b[0;32m     19\u001b[0m )\n\u001b[0;32m     21\u001b[0m \u001b[38;5;66;03m# orientation='h',\u001b[39;00m\n\u001b[0;32m     22\u001b[0m \u001b[38;5;66;03m# title=f\"{reference_col}\",\u001b[39;00m\n\u001b[1;32m---> 23\u001b[0m \u001b[43mfig\u001b[49m\u001b[38;5;241;43m.\u001b[39;49m\u001b[43mupdate_layout\u001b[49m\u001b[43m(\u001b[49m\n\u001b[0;32m     24\u001b[0m \u001b[43m    \u001b[49m\u001b[43mtext\u001b[49m\u001b[38;5;241;43m=\u001b[39;49m\u001b[43mtop_x_df_at_date\u001b[49m\u001b[43m[\u001b[49m\u001b[38;5;124;43m'\u001b[39;49m\u001b[38;5;124;43mtxt\u001b[39;49m\u001b[38;5;124;43m'\u001b[39;49m\u001b[43m]\u001b[49m\u001b[43m)\u001b[49m\n\u001b[0;32m     26\u001b[0m fig\n\u001b[0;32m     28\u001b[0m \u001b[38;5;66;03m# height=800\u001b[39;00m\n",
      "File \u001b[1;32m~\\AppData\\Local\\Packages\\PythonSoftwareFoundation.Python.3.11_qbz5n2kfra8p0\\LocalCache\\local-packages\\Python311\\site-packages\\plotly\\graph_objs\\_figure.py:775\u001b[0m, in \u001b[0;36mFigure.update_layout\u001b[1;34m(self, dict1, overwrite, **kwargs)\u001b[0m\n\u001b[0;32m    749\u001b[0m \u001b[38;5;28;01mdef\u001b[39;00m \u001b[38;5;21mupdate_layout\u001b[39m(\u001b[38;5;28mself\u001b[39m, dict1\u001b[38;5;241m=\u001b[39m\u001b[38;5;28;01mNone\u001b[39;00m, overwrite\u001b[38;5;241m=\u001b[39m\u001b[38;5;28;01mFalse\u001b[39;00m, \u001b[38;5;241m*\u001b[39m\u001b[38;5;241m*\u001b[39mkwargs) \u001b[38;5;241m-\u001b[39m\u001b[38;5;241m>\u001b[39m \u001b[38;5;124m\"\u001b[39m\u001b[38;5;124mFigure\u001b[39m\u001b[38;5;124m\"\u001b[39m:\n\u001b[0;32m    750\u001b[0m \u001b[38;5;250m    \u001b[39m\u001b[38;5;124;03m\"\"\"\u001b[39;00m\n\u001b[0;32m    751\u001b[0m \n\u001b[0;32m    752\u001b[0m \u001b[38;5;124;03m    Update the properties of the figure's layout with a dict and/or with\u001b[39;00m\n\u001b[1;32m   (...)\u001b[0m\n\u001b[0;32m    773\u001b[0m \n\u001b[0;32m    774\u001b[0m \u001b[38;5;124;03m    \"\"\"\u001b[39;00m\n\u001b[1;32m--> 775\u001b[0m     \u001b[38;5;28;01mreturn\u001b[39;00m \u001b[38;5;28;43msuper\u001b[39;49m\u001b[43m(\u001b[49m\u001b[43mFigure\u001b[49m\u001b[43m,\u001b[49m\u001b[43m \u001b[49m\u001b[38;5;28;43mself\u001b[39;49m\u001b[43m)\u001b[49m\u001b[38;5;241;43m.\u001b[39;49m\u001b[43mupdate_layout\u001b[49m\u001b[43m(\u001b[49m\u001b[43mdict1\u001b[49m\u001b[43m,\u001b[49m\u001b[43m \u001b[49m\u001b[43moverwrite\u001b[49m\u001b[43m,\u001b[49m\u001b[43m \u001b[49m\u001b[38;5;241;43m*\u001b[39;49m\u001b[38;5;241;43m*\u001b[39;49m\u001b[43mkwargs\u001b[49m\u001b[43m)\u001b[49m\n",
      "File \u001b[1;32m~\\AppData\\Local\\Packages\\PythonSoftwareFoundation.Python.3.11_qbz5n2kfra8p0\\LocalCache\\local-packages\\Python311\\site-packages\\plotly\\basedatatypes.py:1391\u001b[0m, in \u001b[0;36mBaseFigure.update_layout\u001b[1;34m(self, dict1, overwrite, **kwargs)\u001b[0m\n\u001b[0;32m   1367\u001b[0m \u001b[38;5;28;01mdef\u001b[39;00m \u001b[38;5;21mupdate_layout\u001b[39m(\u001b[38;5;28mself\u001b[39m, dict1\u001b[38;5;241m=\u001b[39m\u001b[38;5;28;01mNone\u001b[39;00m, overwrite\u001b[38;5;241m=\u001b[39m\u001b[38;5;28;01mFalse\u001b[39;00m, \u001b[38;5;241m*\u001b[39m\u001b[38;5;241m*\u001b[39mkwargs):\n\u001b[0;32m   1368\u001b[0m \u001b[38;5;250m    \u001b[39m\u001b[38;5;124;03m\"\"\"\u001b[39;00m\n\u001b[0;32m   1369\u001b[0m \u001b[38;5;124;03m    Update the properties of the figure's layout with a dict and/or with\u001b[39;00m\n\u001b[0;32m   1370\u001b[0m \u001b[38;5;124;03m    keyword arguments.\u001b[39;00m\n\u001b[1;32m   (...)\u001b[0m\n\u001b[0;32m   1389\u001b[0m \u001b[38;5;124;03m        The Figure object that the update_layout method was called on\u001b[39;00m\n\u001b[0;32m   1390\u001b[0m \u001b[38;5;124;03m    \"\"\"\u001b[39;00m\n\u001b[1;32m-> 1391\u001b[0m     \u001b[38;5;28;43mself\u001b[39;49m\u001b[38;5;241;43m.\u001b[39;49m\u001b[43mlayout\u001b[49m\u001b[38;5;241;43m.\u001b[39;49m\u001b[43mupdate\u001b[49m\u001b[43m(\u001b[49m\u001b[43mdict1\u001b[49m\u001b[43m,\u001b[49m\u001b[43m \u001b[49m\u001b[43moverwrite\u001b[49m\u001b[38;5;241;43m=\u001b[39;49m\u001b[43moverwrite\u001b[49m\u001b[43m,\u001b[49m\u001b[43m \u001b[49m\u001b[38;5;241;43m*\u001b[39;49m\u001b[38;5;241;43m*\u001b[39;49m\u001b[43mkwargs\u001b[49m\u001b[43m)\u001b[49m\n\u001b[0;32m   1392\u001b[0m     \u001b[38;5;28;01mreturn\u001b[39;00m \u001b[38;5;28mself\u001b[39m\n",
      "File \u001b[1;32m~\\AppData\\Local\\Packages\\PythonSoftwareFoundation.Python.3.11_qbz5n2kfra8p0\\LocalCache\\local-packages\\Python311\\site-packages\\plotly\\basedatatypes.py:5137\u001b[0m, in \u001b[0;36mBasePlotlyType.update\u001b[1;34m(self, dict1, overwrite, **kwargs)\u001b[0m\n\u001b[0;32m   5135\u001b[0m     \u001b[38;5;28;01mwith\u001b[39;00m \u001b[38;5;28mself\u001b[39m\u001b[38;5;241m.\u001b[39mfigure\u001b[38;5;241m.\u001b[39mbatch_update():\n\u001b[0;32m   5136\u001b[0m         BaseFigure\u001b[38;5;241m.\u001b[39m_perform_update(\u001b[38;5;28mself\u001b[39m, dict1, overwrite\u001b[38;5;241m=\u001b[39moverwrite)\n\u001b[1;32m-> 5137\u001b[0m         \u001b[43mBaseFigure\u001b[49m\u001b[38;5;241;43m.\u001b[39;49m\u001b[43m_perform_update\u001b[49m\u001b[43m(\u001b[49m\u001b[38;5;28;43mself\u001b[39;49m\u001b[43m,\u001b[49m\u001b[43m \u001b[49m\u001b[43mkwargs\u001b[49m\u001b[43m,\u001b[49m\u001b[43m \u001b[49m\u001b[43moverwrite\u001b[49m\u001b[38;5;241;43m=\u001b[39;49m\u001b[43moverwrite\u001b[49m\u001b[43m)\u001b[49m\n\u001b[0;32m   5138\u001b[0m \u001b[38;5;28;01melse\u001b[39;00m:\n\u001b[0;32m   5139\u001b[0m     BaseFigure\u001b[38;5;241m.\u001b[39m_perform_update(\u001b[38;5;28mself\u001b[39m, dict1, overwrite\u001b[38;5;241m=\u001b[39moverwrite)\n",
      "File \u001b[1;32m~\\AppData\\Local\\Packages\\PythonSoftwareFoundation.Python.3.11_qbz5n2kfra8p0\\LocalCache\\local-packages\\Python311\\site-packages\\plotly\\basedatatypes.py:3896\u001b[0m, in \u001b[0;36mBaseFigure._perform_update\u001b[1;34m(plotly_obj, update_obj, overwrite)\u001b[0m\n\u001b[0;32m   3894\u001b[0m     err \u001b[38;5;241m=\u001b[39m _check_path_in_prop_tree(plotly_obj, key, error_cast\u001b[38;5;241m=\u001b[39m\u001b[38;5;167;01mValueError\u001b[39;00m)\n\u001b[0;32m   3895\u001b[0m     \u001b[38;5;28;01mif\u001b[39;00m err \u001b[38;5;129;01mis\u001b[39;00m \u001b[38;5;129;01mnot\u001b[39;00m \u001b[38;5;28;01mNone\u001b[39;00m:\n\u001b[1;32m-> 3896\u001b[0m         \u001b[38;5;28;01mraise\u001b[39;00m err\n\u001b[0;32m   3898\u001b[0m \u001b[38;5;66;03m# Convert update_obj to dict\u001b[39;00m\n\u001b[0;32m   3899\u001b[0m \u001b[38;5;66;03m# --------------------------\u001b[39;00m\n\u001b[0;32m   3900\u001b[0m \u001b[38;5;28;01mif\u001b[39;00m \u001b[38;5;28misinstance\u001b[39m(update_obj, BasePlotlyType):\n",
      "\u001b[1;31mValueError\u001b[0m: Invalid property specified for object of type plotly.graph_objs.Layout: 'text'\n\nDid you mean \"font\"?\n\n    Valid properties:\n        activeselection\n            :class:`plotly.graph_objects.layout.Activeselection`\n            instance or dict with compatible properties\n        activeshape\n            :class:`plotly.graph_objects.layout.Activeshape`\n            instance or dict with compatible properties\n        annotations\n            A tuple of\n            :class:`plotly.graph_objects.layout.Annotation`\n            instances or dicts with compatible properties\n        annotationdefaults\n            When used in a template (as\n            layout.template.layout.annotationdefaults), sets the\n            default property values to use for elements of\n            layout.annotations\n        autosize\n            Determines whether or not a layout width or height that\n            has been left undefined by the user is initialized on\n            each relayout. Note that, regardless of this attribute,\n            an undefined layout width or height is always\n            initialized on the first call to plot.\n        autotypenumbers\n            Using \"strict\" a numeric string in trace data is not\n            converted to a number. Using *convert types* a numeric\n            string in trace data may be treated as a number during\n            automatic axis `type` detection. This is the default\n            value; however it could be overridden for individual\n            axes.\n        bargap\n            Sets the gap (in plot fraction) between bars of\n            adjacent location coordinates.\n        bargroupgap\n            Sets the gap (in plot fraction) between bars of the\n            same location coordinate.\n        barmode\n            Determines how bars at the same location coordinate are\n            displayed on the graph. With \"stack\", the bars are\n            stacked on top of one another With \"relative\", the bars\n            are stacked on top of one another, with negative values\n            below the axis, positive values above With \"group\", the\n            bars are plotted next to one another centered around\n            the shared location. With \"overlay\", the bars are\n            plotted over one another, you might need to reduce\n            \"opacity\" to see multiple bars.\n        barnorm\n            Sets the normalization for bar traces on the graph.\n            With \"fraction\", the value of each bar is divided by\n            the sum of all values at that location coordinate.\n            \"percent\" is the same but multiplied by 100 to show\n            percentages.\n        boxgap\n            Sets the gap (in plot fraction) between boxes of\n            adjacent location coordinates. Has no effect on traces\n            that have \"width\" set.\n        boxgroupgap\n            Sets the gap (in plot fraction) between boxes of the\n            same location coordinate. Has no effect on traces that\n            have \"width\" set.\n        boxmode\n            Determines how boxes at the same location coordinate\n            are displayed on the graph. If \"group\", the boxes are\n            plotted next to one another centered around the shared\n            location. If \"overlay\", the boxes are plotted over one\n            another, you might need to set \"opacity\" to see them\n            multiple boxes. Has no effect on traces that have\n            \"width\" set.\n        calendar\n            Sets the default calendar system to use for\n            interpreting and displaying dates throughout the plot.\n        clickmode\n            Determines the mode of single click interactions.\n            \"event\" is the default value and emits the\n            `plotly_click` event. In addition this mode emits the\n            `plotly_selected` event in drag modes \"lasso\" and\n            \"select\", but with no event data attached (kept for\n            compatibility reasons). The \"select\" flag enables\n            selecting single data points via click. This mode also\n            supports persistent selections, meaning that pressing\n            Shift while clicking, adds to / subtracts from an\n            existing selection. \"select\" with `hovermode`: \"x\" can\n            be confusing, consider explicitly setting `hovermode`:\n            \"closest\" when using this feature. Selection events are\n            sent accordingly as long as \"event\" flag is set as\n            well. When the \"event\" flag is missing, `plotly_click`\n            and `plotly_selected` events are not fired.\n        coloraxis\n            :class:`plotly.graph_objects.layout.Coloraxis` instance\n            or dict with compatible properties\n        colorscale\n            :class:`plotly.graph_objects.layout.Colorscale`\n            instance or dict with compatible properties\n        colorway\n            Sets the default trace colors.\n        computed\n            Placeholder for exporting automargin-impacting values\n            namely `margin.t`, `margin.b`, `margin.l` and\n            `margin.r` in \"full-json\" mode.\n        datarevision\n            If provided, a changed value tells `Plotly.react` that\n            one or more data arrays has changed. This way you can\n            modify arrays in-place rather than making a complete\n            new copy for an incremental change. If NOT provided,\n            `Plotly.react` assumes that data arrays are being\n            treated as immutable, thus any data array with a\n            different identity from its predecessor contains new\n            data.\n        dragmode\n            Determines the mode of drag interactions. \"select\" and\n            \"lasso\" apply only to scatter traces with markers or\n            text. \"orbit\" and \"turntable\" apply only to 3D scenes.\n        editrevision\n            Controls persistence of user-driven changes in\n            `editable: true` configuration, other than trace names\n            and axis titles. Defaults to `layout.uirevision`.\n        extendfunnelareacolors\n            If `true`, the funnelarea slice colors (whether given\n            by `funnelareacolorway` or inherited from `colorway`)\n            will be extended to three times its original length by\n            first repeating every color 20% lighter then each color\n            20% darker. This is intended to reduce the likelihood\n            of reusing the same color when you have many slices,\n            but you can set `false` to disable. Colors provided in\n            the trace, using `marker.colors`, are never extended.\n        extendiciclecolors\n            If `true`, the icicle slice colors (whether given by\n            `iciclecolorway` or inherited from `colorway`) will be\n            extended to three times its original length by first\n            repeating every color 20% lighter then each color 20%\n            darker. This is intended to reduce the likelihood of\n            reusing the same color when you have many slices, but\n            you can set `false` to disable. Colors provided in the\n            trace, using `marker.colors`, are never extended.\n        extendpiecolors\n            If `true`, the pie slice colors (whether given by\n            `piecolorway` or inherited from `colorway`) will be\n            extended to three times its original length by first\n            repeating every color 20% lighter then each color 20%\n            darker. This is intended to reduce the likelihood of\n            reusing the same color when you have many slices, but\n            you can set `false` to disable. Colors provided in the\n            trace, using `marker.colors`, are never extended.\n        extendsunburstcolors\n            If `true`, the sunburst slice colors (whether given by\n            `sunburstcolorway` or inherited from `colorway`) will\n            be extended to three times its original length by first\n            repeating every color 20% lighter then each color 20%\n            darker. This is intended to reduce the likelihood of\n            reusing the same color when you have many slices, but\n            you can set `false` to disable. Colors provided in the\n            trace, using `marker.colors`, are never extended.\n        extendtreemapcolors\n            If `true`, the treemap slice colors (whether given by\n            `treemapcolorway` or inherited from `colorway`) will be\n            extended to three times its original length by first\n            repeating every color 20% lighter then each color 20%\n            darker. This is intended to reduce the likelihood of\n            reusing the same color when you have many slices, but\n            you can set `false` to disable. Colors provided in the\n            trace, using `marker.colors`, are never extended.\n        font\n            Sets the global font. Note that fonts used in traces\n            and other layout components inherit from the global\n            font.\n        funnelareacolorway\n            Sets the default funnelarea slice colors. Defaults to\n            the main `colorway` used for trace colors. If you\n            specify a new list here it can still be extended with\n            lighter and darker colors, see\n            `extendfunnelareacolors`.\n        funnelgap\n            Sets the gap (in plot fraction) between bars of\n            adjacent location coordinates.\n        funnelgroupgap\n            Sets the gap (in plot fraction) between bars of the\n            same location coordinate.\n        funnelmode\n            Determines how bars at the same location coordinate are\n            displayed on the graph. With \"stack\", the bars are\n            stacked on top of one another With \"group\", the bars\n            are plotted next to one another centered around the\n            shared location. With \"overlay\", the bars are plotted\n            over one another, you might need to reduce \"opacity\" to\n            see multiple bars.\n        geo\n            :class:`plotly.graph_objects.layout.Geo` instance or\n            dict with compatible properties\n        grid\n            :class:`plotly.graph_objects.layout.Grid` instance or\n            dict with compatible properties\n        height\n            Sets the plot's height (in px).\n        hiddenlabels\n            hiddenlabels is the funnelarea & pie chart analog of\n            visible:'legendonly' but it can contain many labels,\n            and can simultaneously hide slices from several\n            pies/funnelarea charts\n        hiddenlabelssrc\n            Sets the source reference on Chart Studio Cloud for\n            `hiddenlabels`.\n        hidesources\n            Determines whether or not a text link citing the data\n            source is placed at the bottom-right cored of the\n            figure. Has only an effect only on graphs that have\n            been generated via forked graphs from the Chart Studio\n            Cloud (at https://chart-studio.plotly.com or on-\n            premise).\n        hoverdistance\n            Sets the default distance (in pixels) to look for data\n            to add hover labels (-1 means no cutoff, 0 means no\n            looking for data). This is only a real distance for\n            hovering on point-like objects, like scatter points.\n            For area-like objects (bars, scatter fills, etc)\n            hovering is on inside the area and off outside, but\n            these objects will not supersede hover on point-like\n            objects in case of conflict.\n        hoverlabel\n            :class:`plotly.graph_objects.layout.Hoverlabel`\n            instance or dict with compatible properties\n        hovermode\n            Determines the mode of hover interactions. If\n            \"closest\", a single hoverlabel will appear for the\n            \"closest\" point within the `hoverdistance`. If \"x\" (or\n            \"y\"), multiple hoverlabels will appear for multiple\n            points at the \"closest\" x- (or y-) coordinate within\n            the `hoverdistance`, with the caveat that no more than\n            one hoverlabel will appear per trace. If *x unified*\n            (or *y unified*), a single hoverlabel will appear\n            multiple points at the closest x- (or y-) coordinate\n            within the `hoverdistance` with the caveat that no more\n            than one hoverlabel will appear per trace. In this\n            mode, spikelines are enabled by default perpendicular\n            to the specified axis. If false, hover interactions are\n            disabled.\n        iciclecolorway\n            Sets the default icicle slice colors. Defaults to the\n            main `colorway` used for trace colors. If you specify a\n            new list here it can still be extended with lighter and\n            darker colors, see `extendiciclecolors`.\n        images\n            A tuple of :class:`plotly.graph_objects.layout.Image`\n            instances or dicts with compatible properties\n        imagedefaults\n            When used in a template (as\n            layout.template.layout.imagedefaults), sets the default\n            property values to use for elements of layout.images\n        legend\n            :class:`plotly.graph_objects.layout.Legend` instance or\n            dict with compatible properties\n        mapbox\n            :class:`plotly.graph_objects.layout.Mapbox` instance or\n            dict with compatible properties\n        margin\n            :class:`plotly.graph_objects.layout.Margin` instance or\n            dict with compatible properties\n        meta\n            Assigns extra meta information that can be used in\n            various `text` attributes. Attributes such as the\n            graph, axis and colorbar `title.text`, annotation\n            `text` `trace.name` in legend items, `rangeselector`,\n            `updatemenus` and `sliders` `label` text all support\n            `meta`. One can access `meta` fields using template\n            strings: `%{meta[i]}` where `i` is the index of the\n            `meta` item in question. `meta` can also be an object\n            for example `{key: value}` which can be accessed\n            %{meta[key]}.\n        metasrc\n            Sets the source reference on Chart Studio Cloud for\n            `meta`.\n        minreducedheight\n            Minimum height of the plot with margin.automargin\n            applied (in px)\n        minreducedwidth\n            Minimum width of the plot with margin.automargin\n            applied (in px)\n        modebar\n            :class:`plotly.graph_objects.layout.Modebar` instance\n            or dict with compatible properties\n        newselection\n            :class:`plotly.graph_objects.layout.Newselection`\n            instance or dict with compatible properties\n        newshape\n            :class:`plotly.graph_objects.layout.Newshape` instance\n            or dict with compatible properties\n        paper_bgcolor\n            Sets the background color of the paper where the graph\n            is drawn.\n        piecolorway\n            Sets the default pie slice colors. Defaults to the main\n            `colorway` used for trace colors. If you specify a new\n            list here it can still be extended with lighter and\n            darker colors, see `extendpiecolors`.\n        plot_bgcolor\n            Sets the background color of the plotting area in-\n            between x and y axes.\n        polar\n            :class:`plotly.graph_objects.layout.Polar` instance or\n            dict with compatible properties\n        scattergap\n            Sets the gap (in plot fraction) between scatter points\n            of adjacent location coordinates. Defaults to `bargap`.\n        scattermode\n            Determines how scatter points at the same location\n            coordinate are displayed on the graph. With \"group\",\n            the scatter points are plotted next to one another\n            centered around the shared location. With \"overlay\",\n            the scatter points are plotted over one another, you\n            might need to reduce \"opacity\" to see multiple scatter\n            points.\n        scene\n            :class:`plotly.graph_objects.layout.Scene` instance or\n            dict with compatible properties\n        selectdirection\n            When `dragmode` is set to \"select\", this limits the\n            selection of the drag to horizontal, vertical or\n            diagonal. \"h\" only allows horizontal selection, \"v\"\n            only vertical, \"d\" only diagonal and \"any\" sets no\n            limit.\n        selectionrevision\n            Controls persistence of user-driven changes in selected\n            points from all traces.\n        selections\n            A tuple of\n            :class:`plotly.graph_objects.layout.Selection`\n            instances or dicts with compatible properties\n        selectiondefaults\n            When used in a template (as\n            layout.template.layout.selectiondefaults), sets the\n            default property values to use for elements of\n            layout.selections\n        separators\n            Sets the decimal and thousand separators. For example,\n            *. * puts a '.' before decimals and a space between\n            thousands. In English locales, dflt is \".,\" but other\n            locales may alter this default.\n        shapes\n            A tuple of :class:`plotly.graph_objects.layout.Shape`\n            instances or dicts with compatible properties\n        shapedefaults\n            When used in a template (as\n            layout.template.layout.shapedefaults), sets the default\n            property values to use for elements of layout.shapes\n        showlegend\n            Determines whether or not a legend is drawn. Default is\n            `true` if there is a trace to show and any of these: a)\n            Two or more traces would by default be shown in the\n            legend. b) One pie trace is shown in the legend. c) One\n            trace is explicitly given with `showlegend: true`.\n        sliders\n            A tuple of :class:`plotly.graph_objects.layout.Slider`\n            instances or dicts with compatible properties\n        sliderdefaults\n            When used in a template (as\n            layout.template.layout.sliderdefaults), sets the\n            default property values to use for elements of\n            layout.sliders\n        smith\n            :class:`plotly.graph_objects.layout.Smith` instance or\n            dict with compatible properties\n        spikedistance\n            Sets the default distance (in pixels) to look for data\n            to draw spikelines to (-1 means no cutoff, 0 means no\n            looking for data). As with hoverdistance, distance does\n            not apply to area-like objects. In addition, some\n            objects can be hovered on but will not generate\n            spikelines, such as scatter fills.\n        sunburstcolorway\n            Sets the default sunburst slice colors. Defaults to the\n            main `colorway` used for trace colors. If you specify a\n            new list here it can still be extended with lighter and\n            darker colors, see `extendsunburstcolors`.\n        template\n            Default attributes to be applied to the plot. This\n            should be a dict with format: `{'layout':\n            layoutTemplate, 'data': {trace_type: [traceTemplate,\n            ...], ...}}` where `layoutTemplate` is a dict matching\n            the structure of `figure.layout` and `traceTemplate` is\n            a dict matching the structure of the trace with type\n            `trace_type` (e.g. 'scatter'). Alternatively, this may\n            be specified as an instance of\n            plotly.graph_objs.layout.Template.  Trace templates are\n            applied cyclically to traces of each type. Container\n            arrays (eg `annotations`) have special handling: An\n            object ending in `defaults` (eg `annotationdefaults`)\n            is applied to each array item. But if an item has a\n            `templateitemname` key we look in the template array\n            for an item with matching `name` and apply that\n            instead. If no matching `name` is found we mark the\n            item invisible. Any named template item not referenced\n            is appended to the end of the array, so this can be\n            used to add a watermark annotation or a logo image, for\n            example. To omit one of these items on the plot, make\n            an item with matching `templateitemname` and `visible:\n            false`.\n        ternary\n            :class:`plotly.graph_objects.layout.Ternary` instance\n            or dict with compatible properties\n        title\n            :class:`plotly.graph_objects.layout.Title` instance or\n            dict with compatible properties\n        titlefont\n            Deprecated: Please use layout.title.font instead. Sets\n            the title font. Note that the title's font used to be\n            customized by the now deprecated `titlefont` attribute.\n        transition\n            Sets transition options used during Plotly.react\n            updates.\n        treemapcolorway\n            Sets the default treemap slice colors. Defaults to the\n            main `colorway` used for trace colors. If you specify a\n            new list here it can still be extended with lighter and\n            darker colors, see `extendtreemapcolors`.\n        uirevision\n            Used to allow user interactions with the plot to\n            persist after `Plotly.react` calls that are unaware of\n            these interactions. If `uirevision` is omitted, or if\n            it is given and it changed from the previous\n            `Plotly.react` call, the exact new figure is used. If\n            `uirevision` is truthy and did NOT change, any\n            attribute that has been affected by user interactions\n            and did not receive a different value in the new figure\n            will keep the interaction value. `layout.uirevision`\n            attribute serves as the default for `uirevision`\n            attributes in various sub-containers. For finer control\n            you can set these sub-attributes directly. For example,\n            if your app separately controls the data on the x and y\n            axes you might set `xaxis.uirevision=*time*` and\n            `yaxis.uirevision=*cost*`. Then if only the y data is\n            changed, you can update `yaxis.uirevision=*quantity*`\n            and the y axis range will reset but the x axis range\n            will retain any user-driven zoom.\n        uniformtext\n            :class:`plotly.graph_objects.layout.Uniformtext`\n            instance or dict with compatible properties\n        updatemenus\n            A tuple of\n            :class:`plotly.graph_objects.layout.Updatemenu`\n            instances or dicts with compatible properties\n        updatemenudefaults\n            When used in a template (as\n            layout.template.layout.updatemenudefaults), sets the\n            default property values to use for elements of\n            layout.updatemenus\n        violingap\n            Sets the gap (in plot fraction) between violins of\n            adjacent location coordinates. Has no effect on traces\n            that have \"width\" set.\n        violingroupgap\n            Sets the gap (in plot fraction) between violins of the\n            same location coordinate. Has no effect on traces that\n            have \"width\" set.\n        violinmode\n            Determines how violins at the same location coordinate\n            are displayed on the graph. If \"group\", the violins are\n            plotted next to one another centered around the shared\n            location. If \"overlay\", the violins are plotted over\n            one another, you might need to set \"opacity\" to see\n            them multiple violins. Has no effect on traces that\n            have \"width\" set.\n        waterfallgap\n            Sets the gap (in plot fraction) between bars of\n            adjacent location coordinates.\n        waterfallgroupgap\n            Sets the gap (in plot fraction) between bars of the\n            same location coordinate.\n        waterfallmode\n            Determines how bars at the same location coordinate are\n            displayed on the graph. With \"group\", the bars are\n            plotted next to one another centered around the shared\n            location. With \"overlay\", the bars are plotted over one\n            another, you might need to reduce \"opacity\" to see\n            multiple bars.\n        width\n            Sets the plot's width (in px).\n        xaxis\n            :class:`plotly.graph_objects.layout.XAxis` instance or\n            dict with compatible properties\n        yaxis\n            :class:`plotly.graph_objects.layout.YAxis` instance or\n            dict with compatible properties\n        \nDid you mean \"font\"?\n\nBad property path:\ntext\n^^^^"
     ]
    }
   ],
   "source": [
    "import plotly.express as px\n",
    "fig = px.bar(\n",
    "    data_frame=top_x_df_at_date,\n",
    "    x=top_x_df_at_date['Market Share'] * 100,\n",
    "    y=top_x_df_at_date[category_column],\n",
    "    orientation='h',\n",
    "    title=f\"Test\",\n",
    "    color=category_column,\n",
    "    # hover_name=None, hover_data=None, custom_data=None,\n",
    "    text=top_x_df_at_date['txt'],\n",
    "    # base=None, error_x=None, error_x_minus=None, error_y=None,\n",
    "    # error_y_minus=None, animation_frame=None, animation_group=None,\n",
    "    category_orders={category_column: ordered_category_list},  # Ensure custom order is applied\n",
    "    # labels=None,\n",
    "    color_discrete_sequence=[color_discrete_map['default_color']],\n",
    "    color_discrete_map=color_discrete_map, # color_continuous_scale=None, pattern_shape_sequence=None, pattern_shape_map=None, range_color=None, color_continuous_midpoint=None, opacity=None,\n",
    "    \n",
    "    # barmode='relative', log_x=False, log_y=False, range_x=None, range_y=None, text_auto=False, title=None, template=None, width=None, height=None\n",
    ")\n",
    "\n",
    "# orientation='h',\n",
    "# title=f\"{reference_col}\",\n",
    "fig.update_layout(\n",
    "    text=top_x_df_at_date['txt'])\n",
    "\n",
    "fig.upda\n",
    "\n",
    "# height=800"
   ]
  },
  {
   "cell_type": "code",
   "execution_count": null,
   "metadata": {},
   "outputs": [],
   "source": [
    "go.Bar(\n",
    "        name=segment,\n",
    "        x=[share],  # Each segment's share\n",
    "        y=['Market Share'],  # Common 'category' for all segments\n",
    "        orientation='h',  # Make the bar horizontal        \n",
    "        text=f\"{share}%\",  # Optionally display the percentage on the segment\n",
    "        textposition='outside',\n",
    "    ))"
   ]
  },
  {
   "cell_type": "code",
   "execution_count": 380,
   "metadata": {},
   "outputs": [
    {
     "ename": "ValueError",
     "evalue": "Invalid property specified for object of type plotly.graph_objs.Layout: 'category'\n\nDid you mean \"barnorm\"?\n\n    Valid properties:\n        activeselection\n            :class:`plotly.graph_objects.layout.Activeselection`\n            instance or dict with compatible properties\n        activeshape\n            :class:`plotly.graph_objects.layout.Activeshape`\n            instance or dict with compatible properties\n        annotations\n            A tuple of\n            :class:`plotly.graph_objects.layout.Annotation`\n            instances or dicts with compatible properties\n        annotationdefaults\n            When used in a template (as\n            layout.template.layout.annotationdefaults), sets the\n            default property values to use for elements of\n            layout.annotations\n        autosize\n            Determines whether or not a layout width or height that\n            has been left undefined by the user is initialized on\n            each relayout. Note that, regardless of this attribute,\n            an undefined layout width or height is always\n            initialized on the first call to plot.\n        autotypenumbers\n            Using \"strict\" a numeric string in trace data is not\n            converted to a number. Using *convert types* a numeric\n            string in trace data may be treated as a number during\n            automatic axis `type` detection. This is the default\n            value; however it could be overridden for individual\n            axes.\n        bargap\n            Sets the gap (in plot fraction) between bars of\n            adjacent location coordinates.\n        bargroupgap\n            Sets the gap (in plot fraction) between bars of the\n            same location coordinate.\n        barmode\n            Determines how bars at the same location coordinate are\n            displayed on the graph. With \"stack\", the bars are\n            stacked on top of one another With \"relative\", the bars\n            are stacked on top of one another, with negative values\n            below the axis, positive values above With \"group\", the\n            bars are plotted next to one another centered around\n            the shared location. With \"overlay\", the bars are\n            plotted over one another, you might need to reduce\n            \"opacity\" to see multiple bars.\n        barnorm\n            Sets the normalization for bar traces on the graph.\n            With \"fraction\", the value of each bar is divided by\n            the sum of all values at that location coordinate.\n            \"percent\" is the same but multiplied by 100 to show\n            percentages.\n        boxgap\n            Sets the gap (in plot fraction) between boxes of\n            adjacent location coordinates. Has no effect on traces\n            that have \"width\" set.\n        boxgroupgap\n            Sets the gap (in plot fraction) between boxes of the\n            same location coordinate. Has no effect on traces that\n            have \"width\" set.\n        boxmode\n            Determines how boxes at the same location coordinate\n            are displayed on the graph. If \"group\", the boxes are\n            plotted next to one another centered around the shared\n            location. If \"overlay\", the boxes are plotted over one\n            another, you might need to set \"opacity\" to see them\n            multiple boxes. Has no effect on traces that have\n            \"width\" set.\n        calendar\n            Sets the default calendar system to use for\n            interpreting and displaying dates throughout the plot.\n        clickmode\n            Determines the mode of single click interactions.\n            \"event\" is the default value and emits the\n            `plotly_click` event. In addition this mode emits the\n            `plotly_selected` event in drag modes \"lasso\" and\n            \"select\", but with no event data attached (kept for\n            compatibility reasons). The \"select\" flag enables\n            selecting single data points via click. This mode also\n            supports persistent selections, meaning that pressing\n            Shift while clicking, adds to / subtracts from an\n            existing selection. \"select\" with `hovermode`: \"x\" can\n            be confusing, consider explicitly setting `hovermode`:\n            \"closest\" when using this feature. Selection events are\n            sent accordingly as long as \"event\" flag is set as\n            well. When the \"event\" flag is missing, `plotly_click`\n            and `plotly_selected` events are not fired.\n        coloraxis\n            :class:`plotly.graph_objects.layout.Coloraxis` instance\n            or dict with compatible properties\n        colorscale\n            :class:`plotly.graph_objects.layout.Colorscale`\n            instance or dict with compatible properties\n        colorway\n            Sets the default trace colors.\n        computed\n            Placeholder for exporting automargin-impacting values\n            namely `margin.t`, `margin.b`, `margin.l` and\n            `margin.r` in \"full-json\" mode.\n        datarevision\n            If provided, a changed value tells `Plotly.react` that\n            one or more data arrays has changed. This way you can\n            modify arrays in-place rather than making a complete\n            new copy for an incremental change. If NOT provided,\n            `Plotly.react` assumes that data arrays are being\n            treated as immutable, thus any data array with a\n            different identity from its predecessor contains new\n            data.\n        dragmode\n            Determines the mode of drag interactions. \"select\" and\n            \"lasso\" apply only to scatter traces with markers or\n            text. \"orbit\" and \"turntable\" apply only to 3D scenes.\n        editrevision\n            Controls persistence of user-driven changes in\n            `editable: true` configuration, other than trace names\n            and axis titles. Defaults to `layout.uirevision`.\n        extendfunnelareacolors\n            If `true`, the funnelarea slice colors (whether given\n            by `funnelareacolorway` or inherited from `colorway`)\n            will be extended to three times its original length by\n            first repeating every color 20% lighter then each color\n            20% darker. This is intended to reduce the likelihood\n            of reusing the same color when you have many slices,\n            but you can set `false` to disable. Colors provided in\n            the trace, using `marker.colors`, are never extended.\n        extendiciclecolors\n            If `true`, the icicle slice colors (whether given by\n            `iciclecolorway` or inherited from `colorway`) will be\n            extended to three times its original length by first\n            repeating every color 20% lighter then each color 20%\n            darker. This is intended to reduce the likelihood of\n            reusing the same color when you have many slices, but\n            you can set `false` to disable. Colors provided in the\n            trace, using `marker.colors`, are never extended.\n        extendpiecolors\n            If `true`, the pie slice colors (whether given by\n            `piecolorway` or inherited from `colorway`) will be\n            extended to three times its original length by first\n            repeating every color 20% lighter then each color 20%\n            darker. This is intended to reduce the likelihood of\n            reusing the same color when you have many slices, but\n            you can set `false` to disable. Colors provided in the\n            trace, using `marker.colors`, are never extended.\n        extendsunburstcolors\n            If `true`, the sunburst slice colors (whether given by\n            `sunburstcolorway` or inherited from `colorway`) will\n            be extended to three times its original length by first\n            repeating every color 20% lighter then each color 20%\n            darker. This is intended to reduce the likelihood of\n            reusing the same color when you have many slices, but\n            you can set `false` to disable. Colors provided in the\n            trace, using `marker.colors`, are never extended.\n        extendtreemapcolors\n            If `true`, the treemap slice colors (whether given by\n            `treemapcolorway` or inherited from `colorway`) will be\n            extended to three times its original length by first\n            repeating every color 20% lighter then each color 20%\n            darker. This is intended to reduce the likelihood of\n            reusing the same color when you have many slices, but\n            you can set `false` to disable. Colors provided in the\n            trace, using `marker.colors`, are never extended.\n        font\n            Sets the global font. Note that fonts used in traces\n            and other layout components inherit from the global\n            font.\n        funnelareacolorway\n            Sets the default funnelarea slice colors. Defaults to\n            the main `colorway` used for trace colors. If you\n            specify a new list here it can still be extended with\n            lighter and darker colors, see\n            `extendfunnelareacolors`.\n        funnelgap\n            Sets the gap (in plot fraction) between bars of\n            adjacent location coordinates.\n        funnelgroupgap\n            Sets the gap (in plot fraction) between bars of the\n            same location coordinate.\n        funnelmode\n            Determines how bars at the same location coordinate are\n            displayed on the graph. With \"stack\", the bars are\n            stacked on top of one another With \"group\", the bars\n            are plotted next to one another centered around the\n            shared location. With \"overlay\", the bars are plotted\n            over one another, you might need to reduce \"opacity\" to\n            see multiple bars.\n        geo\n            :class:`plotly.graph_objects.layout.Geo` instance or\n            dict with compatible properties\n        grid\n            :class:`plotly.graph_objects.layout.Grid` instance or\n            dict with compatible properties\n        height\n            Sets the plot's height (in px).\n        hiddenlabels\n            hiddenlabels is the funnelarea & pie chart analog of\n            visible:'legendonly' but it can contain many labels,\n            and can simultaneously hide slices from several\n            pies/funnelarea charts\n        hiddenlabelssrc\n            Sets the source reference on Chart Studio Cloud for\n            `hiddenlabels`.\n        hidesources\n            Determines whether or not a text link citing the data\n            source is placed at the bottom-right cored of the\n            figure. Has only an effect only on graphs that have\n            been generated via forked graphs from the Chart Studio\n            Cloud (at https://chart-studio.plotly.com or on-\n            premise).\n        hoverdistance\n            Sets the default distance (in pixels) to look for data\n            to add hover labels (-1 means no cutoff, 0 means no\n            looking for data). This is only a real distance for\n            hovering on point-like objects, like scatter points.\n            For area-like objects (bars, scatter fills, etc)\n            hovering is on inside the area and off outside, but\n            these objects will not supersede hover on point-like\n            objects in case of conflict.\n        hoverlabel\n            :class:`plotly.graph_objects.layout.Hoverlabel`\n            instance or dict with compatible properties\n        hovermode\n            Determines the mode of hover interactions. If\n            \"closest\", a single hoverlabel will appear for the\n            \"closest\" point within the `hoverdistance`. If \"x\" (or\n            \"y\"), multiple hoverlabels will appear for multiple\n            points at the \"closest\" x- (or y-) coordinate within\n            the `hoverdistance`, with the caveat that no more than\n            one hoverlabel will appear per trace. If *x unified*\n            (or *y unified*), a single hoverlabel will appear\n            multiple points at the closest x- (or y-) coordinate\n            within the `hoverdistance` with the caveat that no more\n            than one hoverlabel will appear per trace. In this\n            mode, spikelines are enabled by default perpendicular\n            to the specified axis. If false, hover interactions are\n            disabled.\n        iciclecolorway\n            Sets the default icicle slice colors. Defaults to the\n            main `colorway` used for trace colors. If you specify a\n            new list here it can still be extended with lighter and\n            darker colors, see `extendiciclecolors`.\n        images\n            A tuple of :class:`plotly.graph_objects.layout.Image`\n            instances or dicts with compatible properties\n        imagedefaults\n            When used in a template (as\n            layout.template.layout.imagedefaults), sets the default\n            property values to use for elements of layout.images\n        legend\n            :class:`plotly.graph_objects.layout.Legend` instance or\n            dict with compatible properties\n        mapbox\n            :class:`plotly.graph_objects.layout.Mapbox` instance or\n            dict with compatible properties\n        margin\n            :class:`plotly.graph_objects.layout.Margin` instance or\n            dict with compatible properties\n        meta\n            Assigns extra meta information that can be used in\n            various `text` attributes. Attributes such as the\n            graph, axis and colorbar `title.text`, annotation\n            `text` `trace.name` in legend items, `rangeselector`,\n            `updatemenus` and `sliders` `label` text all support\n            `meta`. One can access `meta` fields using template\n            strings: `%{meta[i]}` where `i` is the index of the\n            `meta` item in question. `meta` can also be an object\n            for example `{key: value}` which can be accessed\n            %{meta[key]}.\n        metasrc\n            Sets the source reference on Chart Studio Cloud for\n            `meta`.\n        minreducedheight\n            Minimum height of the plot with margin.automargin\n            applied (in px)\n        minreducedwidth\n            Minimum width of the plot with margin.automargin\n            applied (in px)\n        modebar\n            :class:`plotly.graph_objects.layout.Modebar` instance\n            or dict with compatible properties\n        newselection\n            :class:`plotly.graph_objects.layout.Newselection`\n            instance or dict with compatible properties\n        newshape\n            :class:`plotly.graph_objects.layout.Newshape` instance\n            or dict with compatible properties\n        paper_bgcolor\n            Sets the background color of the paper where the graph\n            is drawn.\n        piecolorway\n            Sets the default pie slice colors. Defaults to the main\n            `colorway` used for trace colors. If you specify a new\n            list here it can still be extended with lighter and\n            darker colors, see `extendpiecolors`.\n        plot_bgcolor\n            Sets the background color of the plotting area in-\n            between x and y axes.\n        polar\n            :class:`plotly.graph_objects.layout.Polar` instance or\n            dict with compatible properties\n        scattergap\n            Sets the gap (in plot fraction) between scatter points\n            of adjacent location coordinates. Defaults to `bargap`.\n        scattermode\n            Determines how scatter points at the same location\n            coordinate are displayed on the graph. With \"group\",\n            the scatter points are plotted next to one another\n            centered around the shared location. With \"overlay\",\n            the scatter points are plotted over one another, you\n            might need to reduce \"opacity\" to see multiple scatter\n            points.\n        scene\n            :class:`plotly.graph_objects.layout.Scene` instance or\n            dict with compatible properties\n        selectdirection\n            When `dragmode` is set to \"select\", this limits the\n            selection of the drag to horizontal, vertical or\n            diagonal. \"h\" only allows horizontal selection, \"v\"\n            only vertical, \"d\" only diagonal and \"any\" sets no\n            limit.\n        selectionrevision\n            Controls persistence of user-driven changes in selected\n            points from all traces.\n        selections\n            A tuple of\n            :class:`plotly.graph_objects.layout.Selection`\n            instances or dicts with compatible properties\n        selectiondefaults\n            When used in a template (as\n            layout.template.layout.selectiondefaults), sets the\n            default property values to use for elements of\n            layout.selections\n        separators\n            Sets the decimal and thousand separators. For example,\n            *. * puts a '.' before decimals and a space between\n            thousands. In English locales, dflt is \".,\" but other\n            locales may alter this default.\n        shapes\n            A tuple of :class:`plotly.graph_objects.layout.Shape`\n            instances or dicts with compatible properties\n        shapedefaults\n            When used in a template (as\n            layout.template.layout.shapedefaults), sets the default\n            property values to use for elements of layout.shapes\n        showlegend\n            Determines whether or not a legend is drawn. Default is\n            `true` if there is a trace to show and any of these: a)\n            Two or more traces would by default be shown in the\n            legend. b) One pie trace is shown in the legend. c) One\n            trace is explicitly given with `showlegend: true`.\n        sliders\n            A tuple of :class:`plotly.graph_objects.layout.Slider`\n            instances or dicts with compatible properties\n        sliderdefaults\n            When used in a template (as\n            layout.template.layout.sliderdefaults), sets the\n            default property values to use for elements of\n            layout.sliders\n        smith\n            :class:`plotly.graph_objects.layout.Smith` instance or\n            dict with compatible properties\n        spikedistance\n            Sets the default distance (in pixels) to look for data\n            to draw spikelines to (-1 means no cutoff, 0 means no\n            looking for data). As with hoverdistance, distance does\n            not apply to area-like objects. In addition, some\n            objects can be hovered on but will not generate\n            spikelines, such as scatter fills.\n        sunburstcolorway\n            Sets the default sunburst slice colors. Defaults to the\n            main `colorway` used for trace colors. If you specify a\n            new list here it can still be extended with lighter and\n            darker colors, see `extendsunburstcolors`.\n        template\n            Default attributes to be applied to the plot. This\n            should be a dict with format: `{'layout':\n            layoutTemplate, 'data': {trace_type: [traceTemplate,\n            ...], ...}}` where `layoutTemplate` is a dict matching\n            the structure of `figure.layout` and `traceTemplate` is\n            a dict matching the structure of the trace with type\n            `trace_type` (e.g. 'scatter'). Alternatively, this may\n            be specified as an instance of\n            plotly.graph_objs.layout.Template.  Trace templates are\n            applied cyclically to traces of each type. Container\n            arrays (eg `annotations`) have special handling: An\n            object ending in `defaults` (eg `annotationdefaults`)\n            is applied to each array item. But if an item has a\n            `templateitemname` key we look in the template array\n            for an item with matching `name` and apply that\n            instead. If no matching `name` is found we mark the\n            item invisible. Any named template item not referenced\n            is appended to the end of the array, so this can be\n            used to add a watermark annotation or a logo image, for\n            example. To omit one of these items on the plot, make\n            an item with matching `templateitemname` and `visible:\n            false`.\n        ternary\n            :class:`plotly.graph_objects.layout.Ternary` instance\n            or dict with compatible properties\n        title\n            :class:`plotly.graph_objects.layout.Title` instance or\n            dict with compatible properties\n        titlefont\n            Deprecated: Please use layout.title.font instead. Sets\n            the title font. Note that the title's font used to be\n            customized by the now deprecated `titlefont` attribute.\n        transition\n            Sets transition options used during Plotly.react\n            updates.\n        treemapcolorway\n            Sets the default treemap slice colors. Defaults to the\n            main `colorway` used for trace colors. If you specify a\n            new list here it can still be extended with lighter and\n            darker colors, see `extendtreemapcolors`.\n        uirevision\n            Used to allow user interactions with the plot to\n            persist after `Plotly.react` calls that are unaware of\n            these interactions. If `uirevision` is omitted, or if\n            it is given and it changed from the previous\n            `Plotly.react` call, the exact new figure is used. If\n            `uirevision` is truthy and did NOT change, any\n            attribute that has been affected by user interactions\n            and did not receive a different value in the new figure\n            will keep the interaction value. `layout.uirevision`\n            attribute serves as the default for `uirevision`\n            attributes in various sub-containers. For finer control\n            you can set these sub-attributes directly. For example,\n            if your app separately controls the data on the x and y\n            axes you might set `xaxis.uirevision=*time*` and\n            `yaxis.uirevision=*cost*`. Then if only the y data is\n            changed, you can update `yaxis.uirevision=*quantity*`\n            and the y axis range will reset but the x axis range\n            will retain any user-driven zoom.\n        uniformtext\n            :class:`plotly.graph_objects.layout.Uniformtext`\n            instance or dict with compatible properties\n        updatemenus\n            A tuple of\n            :class:`plotly.graph_objects.layout.Updatemenu`\n            instances or dicts with compatible properties\n        updatemenudefaults\n            When used in a template (as\n            layout.template.layout.updatemenudefaults), sets the\n            default property values to use for elements of\n            layout.updatemenus\n        violingap\n            Sets the gap (in plot fraction) between violins of\n            adjacent location coordinates. Has no effect on traces\n            that have \"width\" set.\n        violingroupgap\n            Sets the gap (in plot fraction) between violins of the\n            same location coordinate. Has no effect on traces that\n            have \"width\" set.\n        violinmode\n            Determines how violins at the same location coordinate\n            are displayed on the graph. If \"group\", the violins are\n            plotted next to one another centered around the shared\n            location. If \"overlay\", the violins are plotted over\n            one another, you might need to set \"opacity\" to see\n            them multiple violins. Has no effect on traces that\n            have \"width\" set.\n        waterfallgap\n            Sets the gap (in plot fraction) between bars of\n            adjacent location coordinates.\n        waterfallgroupgap\n            Sets the gap (in plot fraction) between bars of the\n            same location coordinate.\n        waterfallmode\n            Determines how bars at the same location coordinate are\n            displayed on the graph. With \"group\", the bars are\n            plotted next to one another centered around the shared\n            location. With \"overlay\", the bars are plotted over one\n            another, you might need to reduce \"opacity\" to see\n            multiple bars.\n        width\n            Sets the plot's width (in px).\n        xaxis\n            :class:`plotly.graph_objects.layout.XAxis` instance or\n            dict with compatible properties\n        yaxis\n            :class:`plotly.graph_objects.layout.YAxis` instance or\n            dict with compatible properties\n        \nDid you mean \"barnorm\"?\n\nBad property path:\ncategory_orders\n^^^^^^^^",
     "output_type": "error",
     "traceback": [
      "\u001b[1;31m---------------------------------------------------------------------------\u001b[0m",
      "\u001b[1;31mValueError\u001b[0m                                Traceback (most recent call last)",
      "Cell \u001b[1;32mIn[380], line 48\u001b[0m\n\u001b[0;32m     37\u001b[0m fig\u001b[38;5;241m.\u001b[39madd_annotation(\n\u001b[0;32m     38\u001b[0m     x\u001b[38;5;241m=\u001b[39mposition_for_annotation,\n\u001b[0;32m     39\u001b[0m     y\u001b[38;5;241m=\u001b[39m\u001b[38;5;124m'\u001b[39m\u001b[38;5;124mMarket Share\u001b[39m\u001b[38;5;124m'\u001b[39m,\n\u001b[1;32m   (...)\u001b[0m\n\u001b[0;32m     44\u001b[0m     ay\u001b[38;5;241m=\u001b[39m\u001b[38;5;241m-\u001b[39m\u001b[38;5;241m30\u001b[39m,\n\u001b[0;32m     45\u001b[0m )\n\u001b[0;32m     47\u001b[0m \u001b[38;5;66;03m# Update layout with stack mode and adjust other settings for aesthetics\u001b[39;00m\n\u001b[1;32m---> 48\u001b[0m \u001b[43mfig\u001b[49m\u001b[38;5;241;43m.\u001b[39;49m\u001b[43mupdate_layout\u001b[49m\u001b[43m(\u001b[49m\n\u001b[0;32m     49\u001b[0m \u001b[43m    \u001b[49m\u001b[43mtitle\u001b[49m\u001b[38;5;241;43m=\u001b[39;49m\u001b[38;5;124;43m'\u001b[39;49m\u001b[38;5;124;43mMarket Share by Segment\u001b[39;49m\u001b[38;5;124;43m'\u001b[39;49m\u001b[43m,\u001b[49m\n\u001b[0;32m     50\u001b[0m \u001b[43m    \u001b[49m\u001b[43mxaxis\u001b[49m\u001b[38;5;241;43m=\u001b[39;49m\u001b[38;5;28;43mdict\u001b[39;49m\u001b[43m(\u001b[49m\n\u001b[0;32m     51\u001b[0m \u001b[43m        \u001b[49m\u001b[43mtitle\u001b[49m\u001b[38;5;241;43m=\u001b[39;49m\u001b[38;5;124;43m'\u001b[39;49m\u001b[38;5;124;43mPercentage\u001b[39;49m\u001b[38;5;124;43m'\u001b[39;49m\u001b[43m,\u001b[49m\n\u001b[0;32m     52\u001b[0m \u001b[43m        \u001b[49m\u001b[43mticksuffix\u001b[49m\u001b[38;5;241;43m=\u001b[39;49m\u001b[38;5;124;43m\"\u001b[39;49m\u001b[38;5;124;43m%\u001b[39;49m\u001b[38;5;124;43m\"\u001b[39;49m\u001b[43m,\u001b[49m\u001b[43m  \u001b[49m\u001b[38;5;66;43;03m# Add a percentage sign to x-axis ticks\u001b[39;49;00m\n\u001b[0;32m     53\u001b[0m \u001b[43m        \u001b[49m\u001b[38;5;28;43mrange\u001b[39;49m\u001b[38;5;241;43m=\u001b[39;49m\u001b[43m[\u001b[49m\u001b[38;5;241;43m0\u001b[39;49m\u001b[43m,\u001b[49m\u001b[43m \u001b[49m\u001b[38;5;241;43m100\u001b[39;49m\u001b[43m]\u001b[49m\u001b[43m  \u001b[49m\u001b[38;5;66;43;03m# Ensure x-axis goes from 0 to 100 for the percentages\u001b[39;49;00m\n\u001b[0;32m     54\u001b[0m \u001b[43m    \u001b[49m\u001b[43m)\u001b[49m\u001b[43m,\u001b[49m\n\u001b[0;32m     55\u001b[0m \u001b[43m    \u001b[49m\u001b[43myaxis\u001b[49m\u001b[38;5;241;43m=\u001b[39;49m\u001b[38;5;28;43mdict\u001b[39;49m\u001b[43m(\u001b[49m\n\u001b[0;32m     56\u001b[0m \u001b[43m        \u001b[49m\u001b[43mtitle\u001b[49m\u001b[38;5;241;43m=\u001b[39;49m\u001b[38;5;124;43m'\u001b[39;49m\u001b[38;5;124;43m'\u001b[39;49m\u001b[43m,\u001b[49m\n\u001b[0;32m     57\u001b[0m \u001b[43m        \u001b[49m\u001b[43mshowticklabels\u001b[49m\u001b[38;5;241;43m=\u001b[39;49m\u001b[38;5;28;43;01mFalse\u001b[39;49;00m\u001b[43m  \u001b[49m\u001b[38;5;66;43;03m# Hide y-axis tick labels since there's only one 'category'\u001b[39;49;00m\n\u001b[0;32m     58\u001b[0m \u001b[43m    \u001b[49m\u001b[43m)\u001b[49m\u001b[43m,\u001b[49m\n\u001b[0;32m     59\u001b[0m \u001b[43m    \u001b[49m\u001b[43mbarmode\u001b[49m\u001b[38;5;241;43m=\u001b[39;49m\u001b[38;5;124;43m'\u001b[39;49m\u001b[38;5;124;43mstack\u001b[39;49m\u001b[38;5;124;43m'\u001b[39;49m\u001b[43m,\u001b[49m\n\u001b[0;32m     60\u001b[0m \u001b[43m    \u001b[49m\u001b[43muniformtext_minsize\u001b[49m\u001b[38;5;241;43m=\u001b[39;49m\u001b[38;5;241;43m8\u001b[39;49m\u001b[43m,\u001b[49m\u001b[43m \u001b[49m\n\u001b[0;32m     61\u001b[0m \u001b[43m    \u001b[49m\u001b[43muniformtext_mode\u001b[49m\u001b[38;5;241;43m=\u001b[39;49m\u001b[38;5;124;43m'\u001b[39;49m\u001b[38;5;124;43mhide\u001b[39;49m\u001b[38;5;124;43m'\u001b[39;49m\u001b[43m,\u001b[49m\n\u001b[0;32m     62\u001b[0m \u001b[43m    \u001b[49m\u001b[43mlegend_title_text\u001b[49m\u001b[38;5;241;43m=\u001b[39;49m\u001b[38;5;124;43m'\u001b[39;49m\u001b[38;5;124;43mSegment\u001b[39;49m\u001b[38;5;124;43m'\u001b[39;49m\u001b[43m,\u001b[49m\n\u001b[0;32m     63\u001b[0m \u001b[43m    \u001b[49m\u001b[38;5;66;43;03m#title=f\"Market Share\",\u001b[39;49;00m\n\u001b[0;32m     64\u001b[0m \u001b[43m    \u001b[49m\u001b[38;5;66;43;03m#color=category_column,\u001b[39;49;00m\n\u001b[0;32m     65\u001b[0m \u001b[43m    \u001b[49m\u001b[43mcategory_orders\u001b[49m\u001b[38;5;241;43m=\u001b[39;49m\u001b[43m{\u001b[49m\u001b[43mcategory_column\u001b[49m\u001b[43m:\u001b[49m\u001b[43m \u001b[49m\u001b[43mordered_category_list\u001b[49m\u001b[43m}\u001b[49m\u001b[43m,\u001b[49m\u001b[43m  \u001b[49m\u001b[38;5;66;43;03m# Ensure custom order is applied\u001b[39;49;00m\n\u001b[0;32m     66\u001b[0m \u001b[43m    \u001b[49m\u001b[38;5;66;43;03m#color_discrete_map=color_discrete_map,\u001b[39;49;00m\n\u001b[0;32m     67\u001b[0m \u001b[43m    \u001b[49m\u001b[38;5;66;43;03m#color_discrete_sequence=[color_discrete_map['default_color']],\u001b[39;49;00m\n\u001b[0;32m     68\u001b[0m \u001b[43m)\u001b[49m\n\u001b[0;32m     70\u001b[0m fig\u001b[38;5;241m.\u001b[39mshow()\n",
      "File \u001b[1;32m~\\AppData\\Local\\Packages\\PythonSoftwareFoundation.Python.3.11_qbz5n2kfra8p0\\LocalCache\\local-packages\\Python311\\site-packages\\plotly\\graph_objs\\_figure.py:775\u001b[0m, in \u001b[0;36mFigure.update_layout\u001b[1;34m(self, dict1, overwrite, **kwargs)\u001b[0m\n\u001b[0;32m    749\u001b[0m \u001b[38;5;28;01mdef\u001b[39;00m \u001b[38;5;21mupdate_layout\u001b[39m(\u001b[38;5;28mself\u001b[39m, dict1\u001b[38;5;241m=\u001b[39m\u001b[38;5;28;01mNone\u001b[39;00m, overwrite\u001b[38;5;241m=\u001b[39m\u001b[38;5;28;01mFalse\u001b[39;00m, \u001b[38;5;241m*\u001b[39m\u001b[38;5;241m*\u001b[39mkwargs) \u001b[38;5;241m-\u001b[39m\u001b[38;5;241m>\u001b[39m \u001b[38;5;124m\"\u001b[39m\u001b[38;5;124mFigure\u001b[39m\u001b[38;5;124m\"\u001b[39m:\n\u001b[0;32m    750\u001b[0m \u001b[38;5;250m    \u001b[39m\u001b[38;5;124;03m\"\"\"\u001b[39;00m\n\u001b[0;32m    751\u001b[0m \n\u001b[0;32m    752\u001b[0m \u001b[38;5;124;03m    Update the properties of the figure's layout with a dict and/or with\u001b[39;00m\n\u001b[1;32m   (...)\u001b[0m\n\u001b[0;32m    773\u001b[0m \n\u001b[0;32m    774\u001b[0m \u001b[38;5;124;03m    \"\"\"\u001b[39;00m\n\u001b[1;32m--> 775\u001b[0m     \u001b[38;5;28;01mreturn\u001b[39;00m \u001b[38;5;28;43msuper\u001b[39;49m\u001b[43m(\u001b[49m\u001b[43mFigure\u001b[49m\u001b[43m,\u001b[49m\u001b[43m \u001b[49m\u001b[38;5;28;43mself\u001b[39;49m\u001b[43m)\u001b[49m\u001b[38;5;241;43m.\u001b[39;49m\u001b[43mupdate_layout\u001b[49m\u001b[43m(\u001b[49m\u001b[43mdict1\u001b[49m\u001b[43m,\u001b[49m\u001b[43m \u001b[49m\u001b[43moverwrite\u001b[49m\u001b[43m,\u001b[49m\u001b[43m \u001b[49m\u001b[38;5;241;43m*\u001b[39;49m\u001b[38;5;241;43m*\u001b[39;49m\u001b[43mkwargs\u001b[49m\u001b[43m)\u001b[49m\n",
      "File \u001b[1;32m~\\AppData\\Local\\Packages\\PythonSoftwareFoundation.Python.3.11_qbz5n2kfra8p0\\LocalCache\\local-packages\\Python311\\site-packages\\plotly\\basedatatypes.py:1391\u001b[0m, in \u001b[0;36mBaseFigure.update_layout\u001b[1;34m(self, dict1, overwrite, **kwargs)\u001b[0m\n\u001b[0;32m   1367\u001b[0m \u001b[38;5;28;01mdef\u001b[39;00m \u001b[38;5;21mupdate_layout\u001b[39m(\u001b[38;5;28mself\u001b[39m, dict1\u001b[38;5;241m=\u001b[39m\u001b[38;5;28;01mNone\u001b[39;00m, overwrite\u001b[38;5;241m=\u001b[39m\u001b[38;5;28;01mFalse\u001b[39;00m, \u001b[38;5;241m*\u001b[39m\u001b[38;5;241m*\u001b[39mkwargs):\n\u001b[0;32m   1368\u001b[0m \u001b[38;5;250m    \u001b[39m\u001b[38;5;124;03m\"\"\"\u001b[39;00m\n\u001b[0;32m   1369\u001b[0m \u001b[38;5;124;03m    Update the properties of the figure's layout with a dict and/or with\u001b[39;00m\n\u001b[0;32m   1370\u001b[0m \u001b[38;5;124;03m    keyword arguments.\u001b[39;00m\n\u001b[1;32m   (...)\u001b[0m\n\u001b[0;32m   1389\u001b[0m \u001b[38;5;124;03m        The Figure object that the update_layout method was called on\u001b[39;00m\n\u001b[0;32m   1390\u001b[0m \u001b[38;5;124;03m    \"\"\"\u001b[39;00m\n\u001b[1;32m-> 1391\u001b[0m     \u001b[38;5;28;43mself\u001b[39;49m\u001b[38;5;241;43m.\u001b[39;49m\u001b[43mlayout\u001b[49m\u001b[38;5;241;43m.\u001b[39;49m\u001b[43mupdate\u001b[49m\u001b[43m(\u001b[49m\u001b[43mdict1\u001b[49m\u001b[43m,\u001b[49m\u001b[43m \u001b[49m\u001b[43moverwrite\u001b[49m\u001b[38;5;241;43m=\u001b[39;49m\u001b[43moverwrite\u001b[49m\u001b[43m,\u001b[49m\u001b[43m \u001b[49m\u001b[38;5;241;43m*\u001b[39;49m\u001b[38;5;241;43m*\u001b[39;49m\u001b[43mkwargs\u001b[49m\u001b[43m)\u001b[49m\n\u001b[0;32m   1392\u001b[0m     \u001b[38;5;28;01mreturn\u001b[39;00m \u001b[38;5;28mself\u001b[39m\n",
      "File \u001b[1;32m~\\AppData\\Local\\Packages\\PythonSoftwareFoundation.Python.3.11_qbz5n2kfra8p0\\LocalCache\\local-packages\\Python311\\site-packages\\plotly\\basedatatypes.py:5137\u001b[0m, in \u001b[0;36mBasePlotlyType.update\u001b[1;34m(self, dict1, overwrite, **kwargs)\u001b[0m\n\u001b[0;32m   5135\u001b[0m     \u001b[38;5;28;01mwith\u001b[39;00m \u001b[38;5;28mself\u001b[39m\u001b[38;5;241m.\u001b[39mfigure\u001b[38;5;241m.\u001b[39mbatch_update():\n\u001b[0;32m   5136\u001b[0m         BaseFigure\u001b[38;5;241m.\u001b[39m_perform_update(\u001b[38;5;28mself\u001b[39m, dict1, overwrite\u001b[38;5;241m=\u001b[39moverwrite)\n\u001b[1;32m-> 5137\u001b[0m         \u001b[43mBaseFigure\u001b[49m\u001b[38;5;241;43m.\u001b[39;49m\u001b[43m_perform_update\u001b[49m\u001b[43m(\u001b[49m\u001b[38;5;28;43mself\u001b[39;49m\u001b[43m,\u001b[49m\u001b[43m \u001b[49m\u001b[43mkwargs\u001b[49m\u001b[43m,\u001b[49m\u001b[43m \u001b[49m\u001b[43moverwrite\u001b[49m\u001b[38;5;241;43m=\u001b[39;49m\u001b[43moverwrite\u001b[49m\u001b[43m)\u001b[49m\n\u001b[0;32m   5138\u001b[0m \u001b[38;5;28;01melse\u001b[39;00m:\n\u001b[0;32m   5139\u001b[0m     BaseFigure\u001b[38;5;241m.\u001b[39m_perform_update(\u001b[38;5;28mself\u001b[39m, dict1, overwrite\u001b[38;5;241m=\u001b[39moverwrite)\n",
      "File \u001b[1;32m~\\AppData\\Local\\Packages\\PythonSoftwareFoundation.Python.3.11_qbz5n2kfra8p0\\LocalCache\\local-packages\\Python311\\site-packages\\plotly\\basedatatypes.py:3896\u001b[0m, in \u001b[0;36mBaseFigure._perform_update\u001b[1;34m(plotly_obj, update_obj, overwrite)\u001b[0m\n\u001b[0;32m   3894\u001b[0m     err \u001b[38;5;241m=\u001b[39m _check_path_in_prop_tree(plotly_obj, key, error_cast\u001b[38;5;241m=\u001b[39m\u001b[38;5;167;01mValueError\u001b[39;00m)\n\u001b[0;32m   3895\u001b[0m     \u001b[38;5;28;01mif\u001b[39;00m err \u001b[38;5;129;01mis\u001b[39;00m \u001b[38;5;129;01mnot\u001b[39;00m \u001b[38;5;28;01mNone\u001b[39;00m:\n\u001b[1;32m-> 3896\u001b[0m         \u001b[38;5;28;01mraise\u001b[39;00m err\n\u001b[0;32m   3898\u001b[0m \u001b[38;5;66;03m# Convert update_obj to dict\u001b[39;00m\n\u001b[0;32m   3899\u001b[0m \u001b[38;5;66;03m# --------------------------\u001b[39;00m\n\u001b[0;32m   3900\u001b[0m \u001b[38;5;28;01mif\u001b[39;00m \u001b[38;5;28misinstance\u001b[39m(update_obj, BasePlotlyType):\n",
      "\u001b[1;31mValueError\u001b[0m: Invalid property specified for object of type plotly.graph_objs.Layout: 'category'\n\nDid you mean \"barnorm\"?\n\n    Valid properties:\n        activeselection\n            :class:`plotly.graph_objects.layout.Activeselection`\n            instance or dict with compatible properties\n        activeshape\n            :class:`plotly.graph_objects.layout.Activeshape`\n            instance or dict with compatible properties\n        annotations\n            A tuple of\n            :class:`plotly.graph_objects.layout.Annotation`\n            instances or dicts with compatible properties\n        annotationdefaults\n            When used in a template (as\n            layout.template.layout.annotationdefaults), sets the\n            default property values to use for elements of\n            layout.annotations\n        autosize\n            Determines whether or not a layout width or height that\n            has been left undefined by the user is initialized on\n            each relayout. Note that, regardless of this attribute,\n            an undefined layout width or height is always\n            initialized on the first call to plot.\n        autotypenumbers\n            Using \"strict\" a numeric string in trace data is not\n            converted to a number. Using *convert types* a numeric\n            string in trace data may be treated as a number during\n            automatic axis `type` detection. This is the default\n            value; however it could be overridden for individual\n            axes.\n        bargap\n            Sets the gap (in plot fraction) between bars of\n            adjacent location coordinates.\n        bargroupgap\n            Sets the gap (in plot fraction) between bars of the\n            same location coordinate.\n        barmode\n            Determines how bars at the same location coordinate are\n            displayed on the graph. With \"stack\", the bars are\n            stacked on top of one another With \"relative\", the bars\n            are stacked on top of one another, with negative values\n            below the axis, positive values above With \"group\", the\n            bars are plotted next to one another centered around\n            the shared location. With \"overlay\", the bars are\n            plotted over one another, you might need to reduce\n            \"opacity\" to see multiple bars.\n        barnorm\n            Sets the normalization for bar traces on the graph.\n            With \"fraction\", the value of each bar is divided by\n            the sum of all values at that location coordinate.\n            \"percent\" is the same but multiplied by 100 to show\n            percentages.\n        boxgap\n            Sets the gap (in plot fraction) between boxes of\n            adjacent location coordinates. Has no effect on traces\n            that have \"width\" set.\n        boxgroupgap\n            Sets the gap (in plot fraction) between boxes of the\n            same location coordinate. Has no effect on traces that\n            have \"width\" set.\n        boxmode\n            Determines how boxes at the same location coordinate\n            are displayed on the graph. If \"group\", the boxes are\n            plotted next to one another centered around the shared\n            location. If \"overlay\", the boxes are plotted over one\n            another, you might need to set \"opacity\" to see them\n            multiple boxes. Has no effect on traces that have\n            \"width\" set.\n        calendar\n            Sets the default calendar system to use for\n            interpreting and displaying dates throughout the plot.\n        clickmode\n            Determines the mode of single click interactions.\n            \"event\" is the default value and emits the\n            `plotly_click` event. In addition this mode emits the\n            `plotly_selected` event in drag modes \"lasso\" and\n            \"select\", but with no event data attached (kept for\n            compatibility reasons). The \"select\" flag enables\n            selecting single data points via click. This mode also\n            supports persistent selections, meaning that pressing\n            Shift while clicking, adds to / subtracts from an\n            existing selection. \"select\" with `hovermode`: \"x\" can\n            be confusing, consider explicitly setting `hovermode`:\n            \"closest\" when using this feature. Selection events are\n            sent accordingly as long as \"event\" flag is set as\n            well. When the \"event\" flag is missing, `plotly_click`\n            and `plotly_selected` events are not fired.\n        coloraxis\n            :class:`plotly.graph_objects.layout.Coloraxis` instance\n            or dict with compatible properties\n        colorscale\n            :class:`plotly.graph_objects.layout.Colorscale`\n            instance or dict with compatible properties\n        colorway\n            Sets the default trace colors.\n        computed\n            Placeholder for exporting automargin-impacting values\n            namely `margin.t`, `margin.b`, `margin.l` and\n            `margin.r` in \"full-json\" mode.\n        datarevision\n            If provided, a changed value tells `Plotly.react` that\n            one or more data arrays has changed. This way you can\n            modify arrays in-place rather than making a complete\n            new copy for an incremental change. If NOT provided,\n            `Plotly.react` assumes that data arrays are being\n            treated as immutable, thus any data array with a\n            different identity from its predecessor contains new\n            data.\n        dragmode\n            Determines the mode of drag interactions. \"select\" and\n            \"lasso\" apply only to scatter traces with markers or\n            text. \"orbit\" and \"turntable\" apply only to 3D scenes.\n        editrevision\n            Controls persistence of user-driven changes in\n            `editable: true` configuration, other than trace names\n            and axis titles. Defaults to `layout.uirevision`.\n        extendfunnelareacolors\n            If `true`, the funnelarea slice colors (whether given\n            by `funnelareacolorway` or inherited from `colorway`)\n            will be extended to three times its original length by\n            first repeating every color 20% lighter then each color\n            20% darker. This is intended to reduce the likelihood\n            of reusing the same color when you have many slices,\n            but you can set `false` to disable. Colors provided in\n            the trace, using `marker.colors`, are never extended.\n        extendiciclecolors\n            If `true`, the icicle slice colors (whether given by\n            `iciclecolorway` or inherited from `colorway`) will be\n            extended to three times its original length by first\n            repeating every color 20% lighter then each color 20%\n            darker. This is intended to reduce the likelihood of\n            reusing the same color when you have many slices, but\n            you can set `false` to disable. Colors provided in the\n            trace, using `marker.colors`, are never extended.\n        extendpiecolors\n            If `true`, the pie slice colors (whether given by\n            `piecolorway` or inherited from `colorway`) will be\n            extended to three times its original length by first\n            repeating every color 20% lighter then each color 20%\n            darker. This is intended to reduce the likelihood of\n            reusing the same color when you have many slices, but\n            you can set `false` to disable. Colors provided in the\n            trace, using `marker.colors`, are never extended.\n        extendsunburstcolors\n            If `true`, the sunburst slice colors (whether given by\n            `sunburstcolorway` or inherited from `colorway`) will\n            be extended to three times its original length by first\n            repeating every color 20% lighter then each color 20%\n            darker. This is intended to reduce the likelihood of\n            reusing the same color when you have many slices, but\n            you can set `false` to disable. Colors provided in the\n            trace, using `marker.colors`, are never extended.\n        extendtreemapcolors\n            If `true`, the treemap slice colors (whether given by\n            `treemapcolorway` or inherited from `colorway`) will be\n            extended to three times its original length by first\n            repeating every color 20% lighter then each color 20%\n            darker. This is intended to reduce the likelihood of\n            reusing the same color when you have many slices, but\n            you can set `false` to disable. Colors provided in the\n            trace, using `marker.colors`, are never extended.\n        font\n            Sets the global font. Note that fonts used in traces\n            and other layout components inherit from the global\n            font.\n        funnelareacolorway\n            Sets the default funnelarea slice colors. Defaults to\n            the main `colorway` used for trace colors. If you\n            specify a new list here it can still be extended with\n            lighter and darker colors, see\n            `extendfunnelareacolors`.\n        funnelgap\n            Sets the gap (in plot fraction) between bars of\n            adjacent location coordinates.\n        funnelgroupgap\n            Sets the gap (in plot fraction) between bars of the\n            same location coordinate.\n        funnelmode\n            Determines how bars at the same location coordinate are\n            displayed on the graph. With \"stack\", the bars are\n            stacked on top of one another With \"group\", the bars\n            are plotted next to one another centered around the\n            shared location. With \"overlay\", the bars are plotted\n            over one another, you might need to reduce \"opacity\" to\n            see multiple bars.\n        geo\n            :class:`plotly.graph_objects.layout.Geo` instance or\n            dict with compatible properties\n        grid\n            :class:`plotly.graph_objects.layout.Grid` instance or\n            dict with compatible properties\n        height\n            Sets the plot's height (in px).\n        hiddenlabels\n            hiddenlabels is the funnelarea & pie chart analog of\n            visible:'legendonly' but it can contain many labels,\n            and can simultaneously hide slices from several\n            pies/funnelarea charts\n        hiddenlabelssrc\n            Sets the source reference on Chart Studio Cloud for\n            `hiddenlabels`.\n        hidesources\n            Determines whether or not a text link citing the data\n            source is placed at the bottom-right cored of the\n            figure. Has only an effect only on graphs that have\n            been generated via forked graphs from the Chart Studio\n            Cloud (at https://chart-studio.plotly.com or on-\n            premise).\n        hoverdistance\n            Sets the default distance (in pixels) to look for data\n            to add hover labels (-1 means no cutoff, 0 means no\n            looking for data). This is only a real distance for\n            hovering on point-like objects, like scatter points.\n            For area-like objects (bars, scatter fills, etc)\n            hovering is on inside the area and off outside, but\n            these objects will not supersede hover on point-like\n            objects in case of conflict.\n        hoverlabel\n            :class:`plotly.graph_objects.layout.Hoverlabel`\n            instance or dict with compatible properties\n        hovermode\n            Determines the mode of hover interactions. If\n            \"closest\", a single hoverlabel will appear for the\n            \"closest\" point within the `hoverdistance`. If \"x\" (or\n            \"y\"), multiple hoverlabels will appear for multiple\n            points at the \"closest\" x- (or y-) coordinate within\n            the `hoverdistance`, with the caveat that no more than\n            one hoverlabel will appear per trace. If *x unified*\n            (or *y unified*), a single hoverlabel will appear\n            multiple points at the closest x- (or y-) coordinate\n            within the `hoverdistance` with the caveat that no more\n            than one hoverlabel will appear per trace. In this\n            mode, spikelines are enabled by default perpendicular\n            to the specified axis. If false, hover interactions are\n            disabled.\n        iciclecolorway\n            Sets the default icicle slice colors. Defaults to the\n            main `colorway` used for trace colors. If you specify a\n            new list here it can still be extended with lighter and\n            darker colors, see `extendiciclecolors`.\n        images\n            A tuple of :class:`plotly.graph_objects.layout.Image`\n            instances or dicts with compatible properties\n        imagedefaults\n            When used in a template (as\n            layout.template.layout.imagedefaults), sets the default\n            property values to use for elements of layout.images\n        legend\n            :class:`plotly.graph_objects.layout.Legend` instance or\n            dict with compatible properties\n        mapbox\n            :class:`plotly.graph_objects.layout.Mapbox` instance or\n            dict with compatible properties\n        margin\n            :class:`plotly.graph_objects.layout.Margin` instance or\n            dict with compatible properties\n        meta\n            Assigns extra meta information that can be used in\n            various `text` attributes. Attributes such as the\n            graph, axis and colorbar `title.text`, annotation\n            `text` `trace.name` in legend items, `rangeselector`,\n            `updatemenus` and `sliders` `label` text all support\n            `meta`. One can access `meta` fields using template\n            strings: `%{meta[i]}` where `i` is the index of the\n            `meta` item in question. `meta` can also be an object\n            for example `{key: value}` which can be accessed\n            %{meta[key]}.\n        metasrc\n            Sets the source reference on Chart Studio Cloud for\n            `meta`.\n        minreducedheight\n            Minimum height of the plot with margin.automargin\n            applied (in px)\n        minreducedwidth\n            Minimum width of the plot with margin.automargin\n            applied (in px)\n        modebar\n            :class:`plotly.graph_objects.layout.Modebar` instance\n            or dict with compatible properties\n        newselection\n            :class:`plotly.graph_objects.layout.Newselection`\n            instance or dict with compatible properties\n        newshape\n            :class:`plotly.graph_objects.layout.Newshape` instance\n            or dict with compatible properties\n        paper_bgcolor\n            Sets the background color of the paper where the graph\n            is drawn.\n        piecolorway\n            Sets the default pie slice colors. Defaults to the main\n            `colorway` used for trace colors. If you specify a new\n            list here it can still be extended with lighter and\n            darker colors, see `extendpiecolors`.\n        plot_bgcolor\n            Sets the background color of the plotting area in-\n            between x and y axes.\n        polar\n            :class:`plotly.graph_objects.layout.Polar` instance or\n            dict with compatible properties\n        scattergap\n            Sets the gap (in plot fraction) between scatter points\n            of adjacent location coordinates. Defaults to `bargap`.\n        scattermode\n            Determines how scatter points at the same location\n            coordinate are displayed on the graph. With \"group\",\n            the scatter points are plotted next to one another\n            centered around the shared location. With \"overlay\",\n            the scatter points are plotted over one another, you\n            might need to reduce \"opacity\" to see multiple scatter\n            points.\n        scene\n            :class:`plotly.graph_objects.layout.Scene` instance or\n            dict with compatible properties\n        selectdirection\n            When `dragmode` is set to \"select\", this limits the\n            selection of the drag to horizontal, vertical or\n            diagonal. \"h\" only allows horizontal selection, \"v\"\n            only vertical, \"d\" only diagonal and \"any\" sets no\n            limit.\n        selectionrevision\n            Controls persistence of user-driven changes in selected\n            points from all traces.\n        selections\n            A tuple of\n            :class:`plotly.graph_objects.layout.Selection`\n            instances or dicts with compatible properties\n        selectiondefaults\n            When used in a template (as\n            layout.template.layout.selectiondefaults), sets the\n            default property values to use for elements of\n            layout.selections\n        separators\n            Sets the decimal and thousand separators. For example,\n            *. * puts a '.' before decimals and a space between\n            thousands. In English locales, dflt is \".,\" but other\n            locales may alter this default.\n        shapes\n            A tuple of :class:`plotly.graph_objects.layout.Shape`\n            instances or dicts with compatible properties\n        shapedefaults\n            When used in a template (as\n            layout.template.layout.shapedefaults), sets the default\n            property values to use for elements of layout.shapes\n        showlegend\n            Determines whether or not a legend is drawn. Default is\n            `true` if there is a trace to show and any of these: a)\n            Two or more traces would by default be shown in the\n            legend. b) One pie trace is shown in the legend. c) One\n            trace is explicitly given with `showlegend: true`.\n        sliders\n            A tuple of :class:`plotly.graph_objects.layout.Slider`\n            instances or dicts with compatible properties\n        sliderdefaults\n            When used in a template (as\n            layout.template.layout.sliderdefaults), sets the\n            default property values to use for elements of\n            layout.sliders\n        smith\n            :class:`plotly.graph_objects.layout.Smith` instance or\n            dict with compatible properties\n        spikedistance\n            Sets the default distance (in pixels) to look for data\n            to draw spikelines to (-1 means no cutoff, 0 means no\n            looking for data). As with hoverdistance, distance does\n            not apply to area-like objects. In addition, some\n            objects can be hovered on but will not generate\n            spikelines, such as scatter fills.\n        sunburstcolorway\n            Sets the default sunburst slice colors. Defaults to the\n            main `colorway` used for trace colors. If you specify a\n            new list here it can still be extended with lighter and\n            darker colors, see `extendsunburstcolors`.\n        template\n            Default attributes to be applied to the plot. This\n            should be a dict with format: `{'layout':\n            layoutTemplate, 'data': {trace_type: [traceTemplate,\n            ...], ...}}` where `layoutTemplate` is a dict matching\n            the structure of `figure.layout` and `traceTemplate` is\n            a dict matching the structure of the trace with type\n            `trace_type` (e.g. 'scatter'). Alternatively, this may\n            be specified as an instance of\n            plotly.graph_objs.layout.Template.  Trace templates are\n            applied cyclically to traces of each type. Container\n            arrays (eg `annotations`) have special handling: An\n            object ending in `defaults` (eg `annotationdefaults`)\n            is applied to each array item. But if an item has a\n            `templateitemname` key we look in the template array\n            for an item with matching `name` and apply that\n            instead. If no matching `name` is found we mark the\n            item invisible. Any named template item not referenced\n            is appended to the end of the array, so this can be\n            used to add a watermark annotation or a logo image, for\n            example. To omit one of these items on the plot, make\n            an item with matching `templateitemname` and `visible:\n            false`.\n        ternary\n            :class:`plotly.graph_objects.layout.Ternary` instance\n            or dict with compatible properties\n        title\n            :class:`plotly.graph_objects.layout.Title` instance or\n            dict with compatible properties\n        titlefont\n            Deprecated: Please use layout.title.font instead. Sets\n            the title font. Note that the title's font used to be\n            customized by the now deprecated `titlefont` attribute.\n        transition\n            Sets transition options used during Plotly.react\n            updates.\n        treemapcolorway\n            Sets the default treemap slice colors. Defaults to the\n            main `colorway` used for trace colors. If you specify a\n            new list here it can still be extended with lighter and\n            darker colors, see `extendtreemapcolors`.\n        uirevision\n            Used to allow user interactions with the plot to\n            persist after `Plotly.react` calls that are unaware of\n            these interactions. If `uirevision` is omitted, or if\n            it is given and it changed from the previous\n            `Plotly.react` call, the exact new figure is used. If\n            `uirevision` is truthy and did NOT change, any\n            attribute that has been affected by user interactions\n            and did not receive a different value in the new figure\n            will keep the interaction value. `layout.uirevision`\n            attribute serves as the default for `uirevision`\n            attributes in various sub-containers. For finer control\n            you can set these sub-attributes directly. For example,\n            if your app separately controls the data on the x and y\n            axes you might set `xaxis.uirevision=*time*` and\n            `yaxis.uirevision=*cost*`. Then if only the y data is\n            changed, you can update `yaxis.uirevision=*quantity*`\n            and the y axis range will reset but the x axis range\n            will retain any user-driven zoom.\n        uniformtext\n            :class:`plotly.graph_objects.layout.Uniformtext`\n            instance or dict with compatible properties\n        updatemenus\n            A tuple of\n            :class:`plotly.graph_objects.layout.Updatemenu`\n            instances or dicts with compatible properties\n        updatemenudefaults\n            When used in a template (as\n            layout.template.layout.updatemenudefaults), sets the\n            default property values to use for elements of\n            layout.updatemenus\n        violingap\n            Sets the gap (in plot fraction) between violins of\n            adjacent location coordinates. Has no effect on traces\n            that have \"width\" set.\n        violingroupgap\n            Sets the gap (in plot fraction) between violins of the\n            same location coordinate. Has no effect on traces that\n            have \"width\" set.\n        violinmode\n            Determines how violins at the same location coordinate\n            are displayed on the graph. If \"group\", the violins are\n            plotted next to one another centered around the shared\n            location. If \"overlay\", the violins are plotted over\n            one another, you might need to set \"opacity\" to see\n            them multiple violins. Has no effect on traces that\n            have \"width\" set.\n        waterfallgap\n            Sets the gap (in plot fraction) between bars of\n            adjacent location coordinates.\n        waterfallgroupgap\n            Sets the gap (in plot fraction) between bars of the\n            same location coordinate.\n        waterfallmode\n            Determines how bars at the same location coordinate are\n            displayed on the graph. With \"group\", the bars are\n            plotted next to one another centered around the shared\n            location. With \"overlay\", the bars are plotted over one\n            another, you might need to reduce \"opacity\" to see\n            multiple bars.\n        width\n            Sets the plot's width (in px).\n        xaxis\n            :class:`plotly.graph_objects.layout.XAxis` instance or\n            dict with compatible properties\n        yaxis\n            :class:`plotly.graph_objects.layout.YAxis` instance or\n            dict with compatible properties\n        \nDid you mean \"barnorm\"?\n\nBad property path:\ncategory_orders\n^^^^^^^^"
     ]
    }
   ],
   "source": [
    "import plotly.graph_objects as go\n",
    "\n",
    "# Market share segments and values\n",
    "## segments = dfs_dict['market_position_df']['Institution Name']\n",
    "## shares = dfs_dict['market_position_df']['Market Share'] * 100\n",
    "\n",
    "fig = go.Figure()\n",
    "\n",
    "# Accumulator to keep track of the x position for the annotation\n",
    "accumulated_share = 0\n",
    "\n",
    "# Segment to annotate\n",
    "segment_to_annotate = 'Segment B'\n",
    "annotation_text = ''  # We'll fill this in with the company's position and amount\n",
    "\n",
    "for segment, share in zip(segments, shares):\n",
    "    fig.add_trace(go.Bar(\n",
    "        name=segment,\n",
    "        x=[share],  # Each segment's share\n",
    "        y=['Market Share'],  # Common 'category' for all segments\n",
    "        orientation='h',  # Make the bar horizontal        \n",
    "        text=f\"{share}%\",  # Optionally display the percentage on the segment\n",
    "        textposition='outside',\n",
    "    ))\n",
    "\n",
    "    \n",
    "    if segment == segment_to_annotate:\n",
    "        # Set up annotation text\n",
    "        annotation_text = f\"{segment}: {share}%\"\n",
    "        # Position the annotation at the end of the current segment\n",
    "        position_for_annotation = accumulated_share + share / 2\n",
    "    \n",
    "    # Update the accumulated share\n",
    "    accumulated_share += share\n",
    "\n",
    "# Add the annotation to the figure\n",
    "fig.add_annotation(\n",
    "    x=position_for_annotation,\n",
    "    y='Market Share',\n",
    "    text=annotation_text,\n",
    "    showarrow=True,\n",
    "    arrowhead=1,\n",
    "    ax=20,  # Adjust arrow length and direction\n",
    "    ay=-30,\n",
    ")\n",
    "\n",
    "# Update layout with stack mode and adjust other settings for aesthetics\n",
    "fig.update_layout(\n",
    "    title='Market Share by Segment',\n",
    "    xaxis=dict(\n",
    "        title='Percentage',\n",
    "        ticksuffix=\"%\",  # Add a percentage sign to x-axis ticks\n",
    "        range=[0, 100]  # Ensure x-axis goes from 0 to 100 for the percentages\n",
    "    ),\n",
    "    yaxis=dict(\n",
    "        title='',\n",
    "        showticklabels=False  # Hide y-axis tick labels since there's only one 'category'\n",
    "    ),\n",
    "    barmode='stack',\n",
    "    uniformtext_minsize=8, \n",
    "    uniformtext_mode='hide',\n",
    "    legend_title_text='Segment',\n",
    "    #title=f\"Market Share\",\n",
    "    #color=category_column,\n",
    "    category_orders={category_column: ordered_category_list},  # Ensure custom order is applied\n",
    "    #color_discrete_map=color_discrete_map,\n",
    "    #color_discrete_sequence=[color_discrete_map['default_color']],\n",
    ")\n",
    "\n",
    "fig.show()\n"
   ]
  },
  {
   "cell_type": "code",
   "execution_count": 248,
   "metadata": {},
   "outputs": [
    {
     "data": {
      "application/vnd.plotly.v1+json": {
       "config": {
        "plotlyServerURL": "https://plot.ly"
       },
       "data": [
        {
         "name": "Segment A",
         "orientation": "h",
         "text": "40%",
         "textposition": "inside",
         "type": "bar",
         "x": [
          40
         ],
         "y": [
          "Market Share"
         ]
        },
        {
         "name": "Segment B",
         "orientation": "h",
         "text": "35%",
         "textposition": "inside",
         "type": "bar",
         "x": [
          35
         ],
         "y": [
          "Market Share"
         ]
        },
        {
         "name": "Segment C",
         "orientation": "h",
         "text": "25%",
         "textposition": "inside",
         "type": "bar",
         "x": [
          25
         ],
         "y": [
          "Market Share"
         ]
        }
       ],
       "layout": {
        "barmode": "stack",
        "legend": {
         "title": {
          "text": "Segment"
         }
        },
        "template": {
         "data": {
          "bar": [
           {
            "error_x": {
             "color": "#2a3f5f"
            },
            "error_y": {
             "color": "#2a3f5f"
            },
            "marker": {
             "line": {
              "color": "#E5ECF6",
              "width": 0.5
             },
             "pattern": {
              "fillmode": "overlay",
              "size": 10,
              "solidity": 0.2
             }
            },
            "type": "bar"
           }
          ],
          "barpolar": [
           {
            "marker": {
             "line": {
              "color": "#E5ECF6",
              "width": 0.5
             },
             "pattern": {
              "fillmode": "overlay",
              "size": 10,
              "solidity": 0.2
             }
            },
            "type": "barpolar"
           }
          ],
          "carpet": [
           {
            "aaxis": {
             "endlinecolor": "#2a3f5f",
             "gridcolor": "white",
             "linecolor": "white",
             "minorgridcolor": "white",
             "startlinecolor": "#2a3f5f"
            },
            "baxis": {
             "endlinecolor": "#2a3f5f",
             "gridcolor": "white",
             "linecolor": "white",
             "minorgridcolor": "white",
             "startlinecolor": "#2a3f5f"
            },
            "type": "carpet"
           }
          ],
          "choropleth": [
           {
            "colorbar": {
             "outlinewidth": 0,
             "ticks": ""
            },
            "type": "choropleth"
           }
          ],
          "contour": [
           {
            "colorbar": {
             "outlinewidth": 0,
             "ticks": ""
            },
            "colorscale": [
             [
              0,
              "#0d0887"
             ],
             [
              0.1111111111111111,
              "#46039f"
             ],
             [
              0.2222222222222222,
              "#7201a8"
             ],
             [
              0.3333333333333333,
              "#9c179e"
             ],
             [
              0.4444444444444444,
              "#bd3786"
             ],
             [
              0.5555555555555556,
              "#d8576b"
             ],
             [
              0.6666666666666666,
              "#ed7953"
             ],
             [
              0.7777777777777778,
              "#fb9f3a"
             ],
             [
              0.8888888888888888,
              "#fdca26"
             ],
             [
              1,
              "#f0f921"
             ]
            ],
            "type": "contour"
           }
          ],
          "contourcarpet": [
           {
            "colorbar": {
             "outlinewidth": 0,
             "ticks": ""
            },
            "type": "contourcarpet"
           }
          ],
          "heatmap": [
           {
            "colorbar": {
             "outlinewidth": 0,
             "ticks": ""
            },
            "colorscale": [
             [
              0,
              "#0d0887"
             ],
             [
              0.1111111111111111,
              "#46039f"
             ],
             [
              0.2222222222222222,
              "#7201a8"
             ],
             [
              0.3333333333333333,
              "#9c179e"
             ],
             [
              0.4444444444444444,
              "#bd3786"
             ],
             [
              0.5555555555555556,
              "#d8576b"
             ],
             [
              0.6666666666666666,
              "#ed7953"
             ],
             [
              0.7777777777777778,
              "#fb9f3a"
             ],
             [
              0.8888888888888888,
              "#fdca26"
             ],
             [
              1,
              "#f0f921"
             ]
            ],
            "type": "heatmap"
           }
          ],
          "heatmapgl": [
           {
            "colorbar": {
             "outlinewidth": 0,
             "ticks": ""
            },
            "colorscale": [
             [
              0,
              "#0d0887"
             ],
             [
              0.1111111111111111,
              "#46039f"
             ],
             [
              0.2222222222222222,
              "#7201a8"
             ],
             [
              0.3333333333333333,
              "#9c179e"
             ],
             [
              0.4444444444444444,
              "#bd3786"
             ],
             [
              0.5555555555555556,
              "#d8576b"
             ],
             [
              0.6666666666666666,
              "#ed7953"
             ],
             [
              0.7777777777777778,
              "#fb9f3a"
             ],
             [
              0.8888888888888888,
              "#fdca26"
             ],
             [
              1,
              "#f0f921"
             ]
            ],
            "type": "heatmapgl"
           }
          ],
          "histogram": [
           {
            "marker": {
             "pattern": {
              "fillmode": "overlay",
              "size": 10,
              "solidity": 0.2
             }
            },
            "type": "histogram"
           }
          ],
          "histogram2d": [
           {
            "colorbar": {
             "outlinewidth": 0,
             "ticks": ""
            },
            "colorscale": [
             [
              0,
              "#0d0887"
             ],
             [
              0.1111111111111111,
              "#46039f"
             ],
             [
              0.2222222222222222,
              "#7201a8"
             ],
             [
              0.3333333333333333,
              "#9c179e"
             ],
             [
              0.4444444444444444,
              "#bd3786"
             ],
             [
              0.5555555555555556,
              "#d8576b"
             ],
             [
              0.6666666666666666,
              "#ed7953"
             ],
             [
              0.7777777777777778,
              "#fb9f3a"
             ],
             [
              0.8888888888888888,
              "#fdca26"
             ],
             [
              1,
              "#f0f921"
             ]
            ],
            "type": "histogram2d"
           }
          ],
          "histogram2dcontour": [
           {
            "colorbar": {
             "outlinewidth": 0,
             "ticks": ""
            },
            "colorscale": [
             [
              0,
              "#0d0887"
             ],
             [
              0.1111111111111111,
              "#46039f"
             ],
             [
              0.2222222222222222,
              "#7201a8"
             ],
             [
              0.3333333333333333,
              "#9c179e"
             ],
             [
              0.4444444444444444,
              "#bd3786"
             ],
             [
              0.5555555555555556,
              "#d8576b"
             ],
             [
              0.6666666666666666,
              "#ed7953"
             ],
             [
              0.7777777777777778,
              "#fb9f3a"
             ],
             [
              0.8888888888888888,
              "#fdca26"
             ],
             [
              1,
              "#f0f921"
             ]
            ],
            "type": "histogram2dcontour"
           }
          ],
          "mesh3d": [
           {
            "colorbar": {
             "outlinewidth": 0,
             "ticks": ""
            },
            "type": "mesh3d"
           }
          ],
          "parcoords": [
           {
            "line": {
             "colorbar": {
              "outlinewidth": 0,
              "ticks": ""
             }
            },
            "type": "parcoords"
           }
          ],
          "pie": [
           {
            "automargin": true,
            "type": "pie"
           }
          ],
          "scatter": [
           {
            "fillpattern": {
             "fillmode": "overlay",
             "size": 10,
             "solidity": 0.2
            },
            "type": "scatter"
           }
          ],
          "scatter3d": [
           {
            "line": {
             "colorbar": {
              "outlinewidth": 0,
              "ticks": ""
             }
            },
            "marker": {
             "colorbar": {
              "outlinewidth": 0,
              "ticks": ""
             }
            },
            "type": "scatter3d"
           }
          ],
          "scattercarpet": [
           {
            "marker": {
             "colorbar": {
              "outlinewidth": 0,
              "ticks": ""
             }
            },
            "type": "scattercarpet"
           }
          ],
          "scattergeo": [
           {
            "marker": {
             "colorbar": {
              "outlinewidth": 0,
              "ticks": ""
             }
            },
            "type": "scattergeo"
           }
          ],
          "scattergl": [
           {
            "marker": {
             "colorbar": {
              "outlinewidth": 0,
              "ticks": ""
             }
            },
            "type": "scattergl"
           }
          ],
          "scattermapbox": [
           {
            "marker": {
             "colorbar": {
              "outlinewidth": 0,
              "ticks": ""
             }
            },
            "type": "scattermapbox"
           }
          ],
          "scatterpolar": [
           {
            "marker": {
             "colorbar": {
              "outlinewidth": 0,
              "ticks": ""
             }
            },
            "type": "scatterpolar"
           }
          ],
          "scatterpolargl": [
           {
            "marker": {
             "colorbar": {
              "outlinewidth": 0,
              "ticks": ""
             }
            },
            "type": "scatterpolargl"
           }
          ],
          "scatterternary": [
           {
            "marker": {
             "colorbar": {
              "outlinewidth": 0,
              "ticks": ""
             }
            },
            "type": "scatterternary"
           }
          ],
          "surface": [
           {
            "colorbar": {
             "outlinewidth": 0,
             "ticks": ""
            },
            "colorscale": [
             [
              0,
              "#0d0887"
             ],
             [
              0.1111111111111111,
              "#46039f"
             ],
             [
              0.2222222222222222,
              "#7201a8"
             ],
             [
              0.3333333333333333,
              "#9c179e"
             ],
             [
              0.4444444444444444,
              "#bd3786"
             ],
             [
              0.5555555555555556,
              "#d8576b"
             ],
             [
              0.6666666666666666,
              "#ed7953"
             ],
             [
              0.7777777777777778,
              "#fb9f3a"
             ],
             [
              0.8888888888888888,
              "#fdca26"
             ],
             [
              1,
              "#f0f921"
             ]
            ],
            "type": "surface"
           }
          ],
          "table": [
           {
            "cells": {
             "fill": {
              "color": "#EBF0F8"
             },
             "line": {
              "color": "white"
             }
            },
            "header": {
             "fill": {
              "color": "#C8D4E3"
             },
             "line": {
              "color": "white"
             }
            },
            "type": "table"
           }
          ]
         },
         "layout": {
          "annotationdefaults": {
           "arrowcolor": "#2a3f5f",
           "arrowhead": 0,
           "arrowwidth": 1
          },
          "autotypenumbers": "strict",
          "coloraxis": {
           "colorbar": {
            "outlinewidth": 0,
            "ticks": ""
           }
          },
          "colorscale": {
           "diverging": [
            [
             0,
             "#8e0152"
            ],
            [
             0.1,
             "#c51b7d"
            ],
            [
             0.2,
             "#de77ae"
            ],
            [
             0.3,
             "#f1b6da"
            ],
            [
             0.4,
             "#fde0ef"
            ],
            [
             0.5,
             "#f7f7f7"
            ],
            [
             0.6,
             "#e6f5d0"
            ],
            [
             0.7,
             "#b8e186"
            ],
            [
             0.8,
             "#7fbc41"
            ],
            [
             0.9,
             "#4d9221"
            ],
            [
             1,
             "#276419"
            ]
           ],
           "sequential": [
            [
             0,
             "#0d0887"
            ],
            [
             0.1111111111111111,
             "#46039f"
            ],
            [
             0.2222222222222222,
             "#7201a8"
            ],
            [
             0.3333333333333333,
             "#9c179e"
            ],
            [
             0.4444444444444444,
             "#bd3786"
            ],
            [
             0.5555555555555556,
             "#d8576b"
            ],
            [
             0.6666666666666666,
             "#ed7953"
            ],
            [
             0.7777777777777778,
             "#fb9f3a"
            ],
            [
             0.8888888888888888,
             "#fdca26"
            ],
            [
             1,
             "#f0f921"
            ]
           ],
           "sequentialminus": [
            [
             0,
             "#0d0887"
            ],
            [
             0.1111111111111111,
             "#46039f"
            ],
            [
             0.2222222222222222,
             "#7201a8"
            ],
            [
             0.3333333333333333,
             "#9c179e"
            ],
            [
             0.4444444444444444,
             "#bd3786"
            ],
            [
             0.5555555555555556,
             "#d8576b"
            ],
            [
             0.6666666666666666,
             "#ed7953"
            ],
            [
             0.7777777777777778,
             "#fb9f3a"
            ],
            [
             0.8888888888888888,
             "#fdca26"
            ],
            [
             1,
             "#f0f921"
            ]
           ]
          },
          "colorway": [
           "#636efa",
           "#EF553B",
           "#00cc96",
           "#ab63fa",
           "#FFA15A",
           "#19d3f3",
           "#FF6692",
           "#B6E880",
           "#FF97FF",
           "#FECB52"
          ],
          "font": {
           "color": "#2a3f5f"
          },
          "geo": {
           "bgcolor": "white",
           "lakecolor": "white",
           "landcolor": "#E5ECF6",
           "showlakes": true,
           "showland": true,
           "subunitcolor": "white"
          },
          "hoverlabel": {
           "align": "left"
          },
          "hovermode": "closest",
          "mapbox": {
           "style": "light"
          },
          "paper_bgcolor": "white",
          "plot_bgcolor": "#E5ECF6",
          "polar": {
           "angularaxis": {
            "gridcolor": "white",
            "linecolor": "white",
            "ticks": ""
           },
           "bgcolor": "#E5ECF6",
           "radialaxis": {
            "gridcolor": "white",
            "linecolor": "white",
            "ticks": ""
           }
          },
          "scene": {
           "xaxis": {
            "backgroundcolor": "#E5ECF6",
            "gridcolor": "white",
            "gridwidth": 2,
            "linecolor": "white",
            "showbackground": true,
            "ticks": "",
            "zerolinecolor": "white"
           },
           "yaxis": {
            "backgroundcolor": "#E5ECF6",
            "gridcolor": "white",
            "gridwidth": 2,
            "linecolor": "white",
            "showbackground": true,
            "ticks": "",
            "zerolinecolor": "white"
           },
           "zaxis": {
            "backgroundcolor": "#E5ECF6",
            "gridcolor": "white",
            "gridwidth": 2,
            "linecolor": "white",
            "showbackground": true,
            "ticks": "",
            "zerolinecolor": "white"
           }
          },
          "shapedefaults": {
           "line": {
            "color": "#2a3f5f"
           }
          },
          "ternary": {
           "aaxis": {
            "gridcolor": "white",
            "linecolor": "white",
            "ticks": ""
           },
           "baxis": {
            "gridcolor": "white",
            "linecolor": "white",
            "ticks": ""
           },
           "bgcolor": "#E5ECF6",
           "caxis": {
            "gridcolor": "white",
            "linecolor": "white",
            "ticks": ""
           }
          },
          "title": {
           "x": 0.05
          },
          "xaxis": {
           "automargin": true,
           "gridcolor": "white",
           "linecolor": "white",
           "ticks": "",
           "title": {
            "standoff": 15
           },
           "zerolinecolor": "white",
           "zerolinewidth": 2
          },
          "yaxis": {
           "automargin": true,
           "gridcolor": "white",
           "linecolor": "white",
           "ticks": "",
           "title": {
            "standoff": 15
           },
           "zerolinecolor": "white",
           "zerolinewidth": 2
          }
         }
        },
        "title": {
         "text": "Market Share by Segment"
        },
        "uniformtext": {
         "minsize": 8,
         "mode": "hide"
        },
        "xaxis": {
         "range": [
          0,
          100
         ],
         "ticksuffix": "%",
         "title": {
          "text": "Percentage"
         }
        },
        "yaxis": {
         "showticklabels": false,
         "title": {
          "text": ""
         }
        }
       }
      }
     },
     "metadata": {},
     "output_type": "display_data"
    }
   ],
   "source": [
    "import plotly.graph_objects as go\n",
    "\n",
    "# Market share segments (assuming these are parts of a whole for a single category)\n",
    "segments = ['Segment A', 'Segment B', 'Segment C']\n",
    "shares = [40, 35, 25]  # Represents the market shares in percentages\n",
    "\n",
    "fig = go.Figure()\n",
    "\n",
    "# Add a trace for each segment of the market share\n",
    "for segment, share in zip(segments, shares):\n",
    "    fig.add_trace(go.Bar(\n",
    "        name=segment,\n",
    "        x=[share],  # Each segment's share\n",
    "        y=['Market Share'],  # Common 'category' for all segments\n",
    "        orientation='h',  # Make the bar horizontal\n",
    "        text=f\"{share}%\",  # Display the percentage on the segment\n",
    "        textposition='inside',\n",
    "    ))\n",
    "\n",
    "# Update the layout for a 100% stacked look\n",
    "fig.update_layout(\n",
    "    title='Market Share by Segment',\n",
    "    xaxis=dict(\n",
    "        title='Percentage',\n",
    "        ticksuffix=\"%\",  # Add a percentage sign to x-axis ticks\n",
    "        range=[0, 100]  # Ensure x-axis goes from 0 to 100 for the percentages\n",
    "    ),\n",
    "    yaxis=dict(\n",
    "        title='',  # No specific title needed for a single category\n",
    "        showticklabels=False  # Hide y-axis tick labels since there's only one 'category'\n",
    "    ),\n",
    "    barmode='stack',\n",
    "    uniformtext_minsize=8, \n",
    "    uniformtext_mode='hide',\n",
    "    legend_title_text='Segment'\n",
    ")\n",
    "\n",
    "fig.show()\n"
   ]
  },
  {
   "cell_type": "code",
   "execution_count": 245,
   "metadata": {},
   "outputs": [
    {
     "data": {
      "application/vnd.plotly.v1+json": {
       "config": {
        "plotlyServerURL": "https://plot.ly"
       },
       "data": [
        {
         "labels": [
          "Acceptances",
          "Business Loans",
          "Cash and deposits with financial institutions",
          "Deposits by community service organisations",
          "Deposits by financial institutions",
          "Deposits by general government",
          "Deposits by households",
          "Deposits by non-financial businesses",
          "Intra-group deposits",
          "Intra-group loans and finance leases",
          "Investment securities",
          "Loans to community service organisations",
          "Loans to financial institutions",
          "Loans to general government",
          "Loans to households: Credit cards",
          "Loans to households: Housing: Investment",
          "Loans to households: Housing: Owner-occupied",
          "Loans to households: Other",
          "Loans to non-financial businesses",
          "Negotiable Certificates of Deposit",
          "Net acceptances of customers",
          "Total long-term borrowings",
          "Total residents assets",
          "Total residents deposits",
          "Total residents loans and finance leases",
          "Total securitised assets on balance sheet",
          "Total short-term borrowings",
          "Trading securities"
         ],
         "parents": [
          "",
          "",
          "",
          "",
          "",
          "",
          "",
          "",
          "",
          "",
          "",
          "",
          "",
          "",
          "",
          "",
          "",
          "",
          "",
          "",
          "",
          "",
          "",
          "",
          "",
          "",
          "",
          ""
         ],
         "textinfo": "label+value",
         "type": "treemap",
         "values": [
          931600000,
          1179634600000,
          383741700000,
          32469900000,
          531524500000,
          110505600000,
          1446435700000,
          793280400000,
          72391400000,
          198480000000,
          459660700000,
          2864900000,
          168851400000,
          18290800000,
          30086700000,
          695587000000,
          1463331600000,
          68615200000,
          1010783200000,
          227698500000,
          929400000,
          619737300000,
          5395296400000,
          2914216300000,
          3458412600000,
          753734800000,
          439782700000,
          93171600000
         ]
        }
       ],
       "layout": {
        "margin": {
         "b": 25,
         "l": 25,
         "r": 25,
         "t": 50
        },
        "template": {
         "data": {
          "bar": [
           {
            "error_x": {
             "color": "#2a3f5f"
            },
            "error_y": {
             "color": "#2a3f5f"
            },
            "marker": {
             "line": {
              "color": "#E5ECF6",
              "width": 0.5
             },
             "pattern": {
              "fillmode": "overlay",
              "size": 10,
              "solidity": 0.2
             }
            },
            "type": "bar"
           }
          ],
          "barpolar": [
           {
            "marker": {
             "line": {
              "color": "#E5ECF6",
              "width": 0.5
             },
             "pattern": {
              "fillmode": "overlay",
              "size": 10,
              "solidity": 0.2
             }
            },
            "type": "barpolar"
           }
          ],
          "carpet": [
           {
            "aaxis": {
             "endlinecolor": "#2a3f5f",
             "gridcolor": "white",
             "linecolor": "white",
             "minorgridcolor": "white",
             "startlinecolor": "#2a3f5f"
            },
            "baxis": {
             "endlinecolor": "#2a3f5f",
             "gridcolor": "white",
             "linecolor": "white",
             "minorgridcolor": "white",
             "startlinecolor": "#2a3f5f"
            },
            "type": "carpet"
           }
          ],
          "choropleth": [
           {
            "colorbar": {
             "outlinewidth": 0,
             "ticks": ""
            },
            "type": "choropleth"
           }
          ],
          "contour": [
           {
            "colorbar": {
             "outlinewidth": 0,
             "ticks": ""
            },
            "colorscale": [
             [
              0,
              "#0d0887"
             ],
             [
              0.1111111111111111,
              "#46039f"
             ],
             [
              0.2222222222222222,
              "#7201a8"
             ],
             [
              0.3333333333333333,
              "#9c179e"
             ],
             [
              0.4444444444444444,
              "#bd3786"
             ],
             [
              0.5555555555555556,
              "#d8576b"
             ],
             [
              0.6666666666666666,
              "#ed7953"
             ],
             [
              0.7777777777777778,
              "#fb9f3a"
             ],
             [
              0.8888888888888888,
              "#fdca26"
             ],
             [
              1,
              "#f0f921"
             ]
            ],
            "type": "contour"
           }
          ],
          "contourcarpet": [
           {
            "colorbar": {
             "outlinewidth": 0,
             "ticks": ""
            },
            "type": "contourcarpet"
           }
          ],
          "heatmap": [
           {
            "colorbar": {
             "outlinewidth": 0,
             "ticks": ""
            },
            "colorscale": [
             [
              0,
              "#0d0887"
             ],
             [
              0.1111111111111111,
              "#46039f"
             ],
             [
              0.2222222222222222,
              "#7201a8"
             ],
             [
              0.3333333333333333,
              "#9c179e"
             ],
             [
              0.4444444444444444,
              "#bd3786"
             ],
             [
              0.5555555555555556,
              "#d8576b"
             ],
             [
              0.6666666666666666,
              "#ed7953"
             ],
             [
              0.7777777777777778,
              "#fb9f3a"
             ],
             [
              0.8888888888888888,
              "#fdca26"
             ],
             [
              1,
              "#f0f921"
             ]
            ],
            "type": "heatmap"
           }
          ],
          "heatmapgl": [
           {
            "colorbar": {
             "outlinewidth": 0,
             "ticks": ""
            },
            "colorscale": [
             [
              0,
              "#0d0887"
             ],
             [
              0.1111111111111111,
              "#46039f"
             ],
             [
              0.2222222222222222,
              "#7201a8"
             ],
             [
              0.3333333333333333,
              "#9c179e"
             ],
             [
              0.4444444444444444,
              "#bd3786"
             ],
             [
              0.5555555555555556,
              "#d8576b"
             ],
             [
              0.6666666666666666,
              "#ed7953"
             ],
             [
              0.7777777777777778,
              "#fb9f3a"
             ],
             [
              0.8888888888888888,
              "#fdca26"
             ],
             [
              1,
              "#f0f921"
             ]
            ],
            "type": "heatmapgl"
           }
          ],
          "histogram": [
           {
            "marker": {
             "pattern": {
              "fillmode": "overlay",
              "size": 10,
              "solidity": 0.2
             }
            },
            "type": "histogram"
           }
          ],
          "histogram2d": [
           {
            "colorbar": {
             "outlinewidth": 0,
             "ticks": ""
            },
            "colorscale": [
             [
              0,
              "#0d0887"
             ],
             [
              0.1111111111111111,
              "#46039f"
             ],
             [
              0.2222222222222222,
              "#7201a8"
             ],
             [
              0.3333333333333333,
              "#9c179e"
             ],
             [
              0.4444444444444444,
              "#bd3786"
             ],
             [
              0.5555555555555556,
              "#d8576b"
             ],
             [
              0.6666666666666666,
              "#ed7953"
             ],
             [
              0.7777777777777778,
              "#fb9f3a"
             ],
             [
              0.8888888888888888,
              "#fdca26"
             ],
             [
              1,
              "#f0f921"
             ]
            ],
            "type": "histogram2d"
           }
          ],
          "histogram2dcontour": [
           {
            "colorbar": {
             "outlinewidth": 0,
             "ticks": ""
            },
            "colorscale": [
             [
              0,
              "#0d0887"
             ],
             [
              0.1111111111111111,
              "#46039f"
             ],
             [
              0.2222222222222222,
              "#7201a8"
             ],
             [
              0.3333333333333333,
              "#9c179e"
             ],
             [
              0.4444444444444444,
              "#bd3786"
             ],
             [
              0.5555555555555556,
              "#d8576b"
             ],
             [
              0.6666666666666666,
              "#ed7953"
             ],
             [
              0.7777777777777778,
              "#fb9f3a"
             ],
             [
              0.8888888888888888,
              "#fdca26"
             ],
             [
              1,
              "#f0f921"
             ]
            ],
            "type": "histogram2dcontour"
           }
          ],
          "mesh3d": [
           {
            "colorbar": {
             "outlinewidth": 0,
             "ticks": ""
            },
            "type": "mesh3d"
           }
          ],
          "parcoords": [
           {
            "line": {
             "colorbar": {
              "outlinewidth": 0,
              "ticks": ""
             }
            },
            "type": "parcoords"
           }
          ],
          "pie": [
           {
            "automargin": true,
            "type": "pie"
           }
          ],
          "scatter": [
           {
            "fillpattern": {
             "fillmode": "overlay",
             "size": 10,
             "solidity": 0.2
            },
            "type": "scatter"
           }
          ],
          "scatter3d": [
           {
            "line": {
             "colorbar": {
              "outlinewidth": 0,
              "ticks": ""
             }
            },
            "marker": {
             "colorbar": {
              "outlinewidth": 0,
              "ticks": ""
             }
            },
            "type": "scatter3d"
           }
          ],
          "scattercarpet": [
           {
            "marker": {
             "colorbar": {
              "outlinewidth": 0,
              "ticks": ""
             }
            },
            "type": "scattercarpet"
           }
          ],
          "scattergeo": [
           {
            "marker": {
             "colorbar": {
              "outlinewidth": 0,
              "ticks": ""
             }
            },
            "type": "scattergeo"
           }
          ],
          "scattergl": [
           {
            "marker": {
             "colorbar": {
              "outlinewidth": 0,
              "ticks": ""
             }
            },
            "type": "scattergl"
           }
          ],
          "scattermapbox": [
           {
            "marker": {
             "colorbar": {
              "outlinewidth": 0,
              "ticks": ""
             }
            },
            "type": "scattermapbox"
           }
          ],
          "scatterpolar": [
           {
            "marker": {
             "colorbar": {
              "outlinewidth": 0,
              "ticks": ""
             }
            },
            "type": "scatterpolar"
           }
          ],
          "scatterpolargl": [
           {
            "marker": {
             "colorbar": {
              "outlinewidth": 0,
              "ticks": ""
             }
            },
            "type": "scatterpolargl"
           }
          ],
          "scatterternary": [
           {
            "marker": {
             "colorbar": {
              "outlinewidth": 0,
              "ticks": ""
             }
            },
            "type": "scatterternary"
           }
          ],
          "surface": [
           {
            "colorbar": {
             "outlinewidth": 0,
             "ticks": ""
            },
            "colorscale": [
             [
              0,
              "#0d0887"
             ],
             [
              0.1111111111111111,
              "#46039f"
             ],
             [
              0.2222222222222222,
              "#7201a8"
             ],
             [
              0.3333333333333333,
              "#9c179e"
             ],
             [
              0.4444444444444444,
              "#bd3786"
             ],
             [
              0.5555555555555556,
              "#d8576b"
             ],
             [
              0.6666666666666666,
              "#ed7953"
             ],
             [
              0.7777777777777778,
              "#fb9f3a"
             ],
             [
              0.8888888888888888,
              "#fdca26"
             ],
             [
              1,
              "#f0f921"
             ]
            ],
            "type": "surface"
           }
          ],
          "table": [
           {
            "cells": {
             "fill": {
              "color": "#EBF0F8"
             },
             "line": {
              "color": "white"
             }
            },
            "header": {
             "fill": {
              "color": "#C8D4E3"
             },
             "line": {
              "color": "white"
             }
            },
            "type": "table"
           }
          ]
         },
         "layout": {
          "annotationdefaults": {
           "arrowcolor": "#2a3f5f",
           "arrowhead": 0,
           "arrowwidth": 1
          },
          "autotypenumbers": "strict",
          "coloraxis": {
           "colorbar": {
            "outlinewidth": 0,
            "ticks": ""
           }
          },
          "colorscale": {
           "diverging": [
            [
             0,
             "#8e0152"
            ],
            [
             0.1,
             "#c51b7d"
            ],
            [
             0.2,
             "#de77ae"
            ],
            [
             0.3,
             "#f1b6da"
            ],
            [
             0.4,
             "#fde0ef"
            ],
            [
             0.5,
             "#f7f7f7"
            ],
            [
             0.6,
             "#e6f5d0"
            ],
            [
             0.7,
             "#b8e186"
            ],
            [
             0.8,
             "#7fbc41"
            ],
            [
             0.9,
             "#4d9221"
            ],
            [
             1,
             "#276419"
            ]
           ],
           "sequential": [
            [
             0,
             "#0d0887"
            ],
            [
             0.1111111111111111,
             "#46039f"
            ],
            [
             0.2222222222222222,
             "#7201a8"
            ],
            [
             0.3333333333333333,
             "#9c179e"
            ],
            [
             0.4444444444444444,
             "#bd3786"
            ],
            [
             0.5555555555555556,
             "#d8576b"
            ],
            [
             0.6666666666666666,
             "#ed7953"
            ],
            [
             0.7777777777777778,
             "#fb9f3a"
            ],
            [
             0.8888888888888888,
             "#fdca26"
            ],
            [
             1,
             "#f0f921"
            ]
           ],
           "sequentialminus": [
            [
             0,
             "#0d0887"
            ],
            [
             0.1111111111111111,
             "#46039f"
            ],
            [
             0.2222222222222222,
             "#7201a8"
            ],
            [
             0.3333333333333333,
             "#9c179e"
            ],
            [
             0.4444444444444444,
             "#bd3786"
            ],
            [
             0.5555555555555556,
             "#d8576b"
            ],
            [
             0.6666666666666666,
             "#ed7953"
            ],
            [
             0.7777777777777778,
             "#fb9f3a"
            ],
            [
             0.8888888888888888,
             "#fdca26"
            ],
            [
             1,
             "#f0f921"
            ]
           ]
          },
          "colorway": [
           "#636efa",
           "#EF553B",
           "#00cc96",
           "#ab63fa",
           "#FFA15A",
           "#19d3f3",
           "#FF6692",
           "#B6E880",
           "#FF97FF",
           "#FECB52"
          ],
          "font": {
           "color": "#2a3f5f"
          },
          "geo": {
           "bgcolor": "white",
           "lakecolor": "white",
           "landcolor": "#E5ECF6",
           "showlakes": true,
           "showland": true,
           "subunitcolor": "white"
          },
          "hoverlabel": {
           "align": "left"
          },
          "hovermode": "closest",
          "mapbox": {
           "style": "light"
          },
          "paper_bgcolor": "white",
          "plot_bgcolor": "#E5ECF6",
          "polar": {
           "angularaxis": {
            "gridcolor": "white",
            "linecolor": "white",
            "ticks": ""
           },
           "bgcolor": "#E5ECF6",
           "radialaxis": {
            "gridcolor": "white",
            "linecolor": "white",
            "ticks": ""
           }
          },
          "scene": {
           "xaxis": {
            "backgroundcolor": "#E5ECF6",
            "gridcolor": "white",
            "gridwidth": 2,
            "linecolor": "white",
            "showbackground": true,
            "ticks": "",
            "zerolinecolor": "white"
           },
           "yaxis": {
            "backgroundcolor": "#E5ECF6",
            "gridcolor": "white",
            "gridwidth": 2,
            "linecolor": "white",
            "showbackground": true,
            "ticks": "",
            "zerolinecolor": "white"
           },
           "zaxis": {
            "backgroundcolor": "#E5ECF6",
            "gridcolor": "white",
            "gridwidth": 2,
            "linecolor": "white",
            "showbackground": true,
            "ticks": "",
            "zerolinecolor": "white"
           }
          },
          "shapedefaults": {
           "line": {
            "color": "#2a3f5f"
           }
          },
          "ternary": {
           "aaxis": {
            "gridcolor": "white",
            "linecolor": "white",
            "ticks": ""
           },
           "baxis": {
            "gridcolor": "white",
            "linecolor": "white",
            "ticks": ""
           },
           "bgcolor": "#E5ECF6",
           "caxis": {
            "gridcolor": "white",
            "linecolor": "white",
            "ticks": ""
           }
          },
          "title": {
           "x": 0.05
          },
          "xaxis": {
           "automargin": true,
           "gridcolor": "white",
           "linecolor": "white",
           "ticks": "",
           "title": {
            "standoff": 15
           },
           "zerolinecolor": "white",
           "zerolinewidth": 2
          },
          "yaxis": {
           "automargin": true,
           "gridcolor": "white",
           "linecolor": "white",
           "ticks": "",
           "title": {
            "standoff": 15
           },
           "zerolinecolor": "white",
           "zerolinewidth": 2
          }
         }
        }
       }
      }
     },
     "metadata": {},
     "output_type": "display_data"
    }
   ],
   "source": [
    "import plotly.graph_objects as go\n",
    "\n",
    "aggregates_df = dfs_dict['aggregates_df_dict']['df']\n",
    "aggregates_df_category_col = dfs_dict['aggregates_df_dict']['category_col']\n",
    "aggregates_df_dollar_col = dfs_dict['aggregates_df_dict']['dollar_col']\n",
    "aggregates_df_dollar_movements_col = dfs_dict['aggregates_df_dict']['dollar_movements_col']\n",
    "aggregates_df_percentage_movements_col = dfs_dict['aggregates_df_dict']['percentage_movements_col']\n",
    "\n",
    "aggregates_df_selected_date = aggregates_df[aggregates_df[date_column] == selected_date]\n",
    "aggregates_df_selected_date.head(5)\n",
    "\n",
    "categories = aggregates_df_selected_date[aggregates_df_category_col]\n",
    "values = aggregates_df_selected_date[aggregates_df_dollar_col]\n",
    "\n",
    "# Create the treemap\n",
    "fig = go.Figure(go.Treemap(\n",
    "    labels=categories,\n",
    "    values=values,\n",
    "    parents=[\"\"] * len(categories),  # Indicates no parent for all items\n",
    "    textinfo=\"label+value\"  # Display labels and values on the treemap\n",
    "))\n",
    "\n",
    "fig.update_layout(margin=dict(t=50, l=25, r=25, b=25))\n",
    "\n",
    "fig.show()\n"
   ]
  },
  {
   "cell_type": "code",
   "execution_count": null,
   "metadata": {},
   "outputs": [],
   "source": [
    "import plotly.graph_objects as go\n",
    "\n",
    "fig = go.Figure(go.Treemap(\n",
    "    labels=[\"Parent\", \"Child 1\", \"Child 2\", \"Child 3\"],  # Names of each sector\n",
    "    parents=[\"\", \"Parent\", \"Parent\", \"Parent\"],  # Defines the hierarchy\n",
    "    values=[10, 20, 15, 5],  # Size of each sector\n",
    "    textinfo=\"label+value\"\n",
    "))\n",
    "\n",
    "fig.update_layout(margin=dict(t=50, l=25, r=25, b=25))\n",
    "\n",
    "fig.show()\n"
   ]
  },
  {
   "cell_type": "code",
   "execution_count": 48,
   "metadata": {},
   "outputs": [
    {
     "data": {
      "application/vnd.plotly.v1+json": {
       "config": {
        "plotlyServerURL": "https://plot.ly"
       },
       "data": [
        {
         "name": "2019",
         "type": "bar",
         "x": [
          "January",
          "February",
          "March",
          "April",
          "May",
          "June",
          "July",
          "August",
          "September",
          "October",
          "November",
          "December"
         ],
         "y": [
          null,
          null,
          0,
          -900000,
          -480800000,
          119300000,
          -180900000,
          256900000,
          -866400000,
          99400000,
          195400000,
          133900000
         ]
        },
        {
         "name": "2020",
         "type": "bar",
         "x": [
          "January",
          "February",
          "March",
          "April",
          "May",
          "June",
          "July",
          "August",
          "September",
          "October",
          "November",
          "December"
         ],
         "y": [
          -42600000,
          -24900000,
          149400000,
          -80400000,
          346800000,
          -294100000,
          -411800000,
          -95600000,
          1163100000,
          431600000,
          408600000,
          659700000
         ]
        },
        {
         "name": "2021",
         "type": "bar",
         "x": [
          "January",
          "February",
          "March",
          "April",
          "May",
          "June",
          "July",
          "August",
          "September",
          "October",
          "November",
          "December"
         ],
         "y": [
          72400000,
          524000000,
          572100000,
          379500000,
          117800000,
          558700000,
          146400000,
          196100000,
          -192000000,
          140000000,
          1368600000,
          136000000
         ]
        },
        {
         "name": "2022",
         "type": "bar",
         "x": [
          "January",
          "February",
          "March",
          "April",
          "May",
          "June",
          "July",
          "August",
          "September",
          "October",
          "November",
          "December"
         ],
         "y": [
          -12900000,
          31900000,
          173900000,
          61800000,
          54400000,
          1148900000,
          -484300000,
          -361600000,
          1279100000,
          -1077500000,
          -13300000,
          -19900000
         ]
        },
        {
         "name": "2023",
         "type": "bar",
         "x": [
          "January",
          "February",
          "March",
          "April",
          "May",
          "June",
          "July",
          "August",
          "September",
          "October",
          "November",
          "December"
         ],
         "y": [
          -53300000,
          233600000,
          28800000,
          286800000,
          257500000,
          292300000,
          17400000,
          19700000,
          355800000,
          346500000,
          -219300000,
          714200000
         ]
        }
       ],
       "layout": {
        "barmode": "group",
        "template": {
         "data": {
          "bar": [
           {
            "error_x": {
             "color": "#2a3f5f"
            },
            "error_y": {
             "color": "#2a3f5f"
            },
            "marker": {
             "line": {
              "color": "#E5ECF6",
              "width": 0.5
             },
             "pattern": {
              "fillmode": "overlay",
              "size": 10,
              "solidity": 0.2
             }
            },
            "type": "bar"
           }
          ],
          "barpolar": [
           {
            "marker": {
             "line": {
              "color": "#E5ECF6",
              "width": 0.5
             },
             "pattern": {
              "fillmode": "overlay",
              "size": 10,
              "solidity": 0.2
             }
            },
            "type": "barpolar"
           }
          ],
          "carpet": [
           {
            "aaxis": {
             "endlinecolor": "#2a3f5f",
             "gridcolor": "white",
             "linecolor": "white",
             "minorgridcolor": "white",
             "startlinecolor": "#2a3f5f"
            },
            "baxis": {
             "endlinecolor": "#2a3f5f",
             "gridcolor": "white",
             "linecolor": "white",
             "minorgridcolor": "white",
             "startlinecolor": "#2a3f5f"
            },
            "type": "carpet"
           }
          ],
          "choropleth": [
           {
            "colorbar": {
             "outlinewidth": 0,
             "ticks": ""
            },
            "type": "choropleth"
           }
          ],
          "contour": [
           {
            "colorbar": {
             "outlinewidth": 0,
             "ticks": ""
            },
            "colorscale": [
             [
              0,
              "#0d0887"
             ],
             [
              0.1111111111111111,
              "#46039f"
             ],
             [
              0.2222222222222222,
              "#7201a8"
             ],
             [
              0.3333333333333333,
              "#9c179e"
             ],
             [
              0.4444444444444444,
              "#bd3786"
             ],
             [
              0.5555555555555556,
              "#d8576b"
             ],
             [
              0.6666666666666666,
              "#ed7953"
             ],
             [
              0.7777777777777778,
              "#fb9f3a"
             ],
             [
              0.8888888888888888,
              "#fdca26"
             ],
             [
              1,
              "#f0f921"
             ]
            ],
            "type": "contour"
           }
          ],
          "contourcarpet": [
           {
            "colorbar": {
             "outlinewidth": 0,
             "ticks": ""
            },
            "type": "contourcarpet"
           }
          ],
          "heatmap": [
           {
            "colorbar": {
             "outlinewidth": 0,
             "ticks": ""
            },
            "colorscale": [
             [
              0,
              "#0d0887"
             ],
             [
              0.1111111111111111,
              "#46039f"
             ],
             [
              0.2222222222222222,
              "#7201a8"
             ],
             [
              0.3333333333333333,
              "#9c179e"
             ],
             [
              0.4444444444444444,
              "#bd3786"
             ],
             [
              0.5555555555555556,
              "#d8576b"
             ],
             [
              0.6666666666666666,
              "#ed7953"
             ],
             [
              0.7777777777777778,
              "#fb9f3a"
             ],
             [
              0.8888888888888888,
              "#fdca26"
             ],
             [
              1,
              "#f0f921"
             ]
            ],
            "type": "heatmap"
           }
          ],
          "heatmapgl": [
           {
            "colorbar": {
             "outlinewidth": 0,
             "ticks": ""
            },
            "colorscale": [
             [
              0,
              "#0d0887"
             ],
             [
              0.1111111111111111,
              "#46039f"
             ],
             [
              0.2222222222222222,
              "#7201a8"
             ],
             [
              0.3333333333333333,
              "#9c179e"
             ],
             [
              0.4444444444444444,
              "#bd3786"
             ],
             [
              0.5555555555555556,
              "#d8576b"
             ],
             [
              0.6666666666666666,
              "#ed7953"
             ],
             [
              0.7777777777777778,
              "#fb9f3a"
             ],
             [
              0.8888888888888888,
              "#fdca26"
             ],
             [
              1,
              "#f0f921"
             ]
            ],
            "type": "heatmapgl"
           }
          ],
          "histogram": [
           {
            "marker": {
             "pattern": {
              "fillmode": "overlay",
              "size": 10,
              "solidity": 0.2
             }
            },
            "type": "histogram"
           }
          ],
          "histogram2d": [
           {
            "colorbar": {
             "outlinewidth": 0,
             "ticks": ""
            },
            "colorscale": [
             [
              0,
              "#0d0887"
             ],
             [
              0.1111111111111111,
              "#46039f"
             ],
             [
              0.2222222222222222,
              "#7201a8"
             ],
             [
              0.3333333333333333,
              "#9c179e"
             ],
             [
              0.4444444444444444,
              "#bd3786"
             ],
             [
              0.5555555555555556,
              "#d8576b"
             ],
             [
              0.6666666666666666,
              "#ed7953"
             ],
             [
              0.7777777777777778,
              "#fb9f3a"
             ],
             [
              0.8888888888888888,
              "#fdca26"
             ],
             [
              1,
              "#f0f921"
             ]
            ],
            "type": "histogram2d"
           }
          ],
          "histogram2dcontour": [
           {
            "colorbar": {
             "outlinewidth": 0,
             "ticks": ""
            },
            "colorscale": [
             [
              0,
              "#0d0887"
             ],
             [
              0.1111111111111111,
              "#46039f"
             ],
             [
              0.2222222222222222,
              "#7201a8"
             ],
             [
              0.3333333333333333,
              "#9c179e"
             ],
             [
              0.4444444444444444,
              "#bd3786"
             ],
             [
              0.5555555555555556,
              "#d8576b"
             ],
             [
              0.6666666666666666,
              "#ed7953"
             ],
             [
              0.7777777777777778,
              "#fb9f3a"
             ],
             [
              0.8888888888888888,
              "#fdca26"
             ],
             [
              1,
              "#f0f921"
             ]
            ],
            "type": "histogram2dcontour"
           }
          ],
          "mesh3d": [
           {
            "colorbar": {
             "outlinewidth": 0,
             "ticks": ""
            },
            "type": "mesh3d"
           }
          ],
          "parcoords": [
           {
            "line": {
             "colorbar": {
              "outlinewidth": 0,
              "ticks": ""
             }
            },
            "type": "parcoords"
           }
          ],
          "pie": [
           {
            "automargin": true,
            "type": "pie"
           }
          ],
          "scatter": [
           {
            "fillpattern": {
             "fillmode": "overlay",
             "size": 10,
             "solidity": 0.2
            },
            "type": "scatter"
           }
          ],
          "scatter3d": [
           {
            "line": {
             "colorbar": {
              "outlinewidth": 0,
              "ticks": ""
             }
            },
            "marker": {
             "colorbar": {
              "outlinewidth": 0,
              "ticks": ""
             }
            },
            "type": "scatter3d"
           }
          ],
          "scattercarpet": [
           {
            "marker": {
             "colorbar": {
              "outlinewidth": 0,
              "ticks": ""
             }
            },
            "type": "scattercarpet"
           }
          ],
          "scattergeo": [
           {
            "marker": {
             "colorbar": {
              "outlinewidth": 0,
              "ticks": ""
             }
            },
            "type": "scattergeo"
           }
          ],
          "scattergl": [
           {
            "marker": {
             "colorbar": {
              "outlinewidth": 0,
              "ticks": ""
             }
            },
            "type": "scattergl"
           }
          ],
          "scattermapbox": [
           {
            "marker": {
             "colorbar": {
              "outlinewidth": 0,
              "ticks": ""
             }
            },
            "type": "scattermapbox"
           }
          ],
          "scatterpolar": [
           {
            "marker": {
             "colorbar": {
              "outlinewidth": 0,
              "ticks": ""
             }
            },
            "type": "scatterpolar"
           }
          ],
          "scatterpolargl": [
           {
            "marker": {
             "colorbar": {
              "outlinewidth": 0,
              "ticks": ""
             }
            },
            "type": "scatterpolargl"
           }
          ],
          "scatterternary": [
           {
            "marker": {
             "colorbar": {
              "outlinewidth": 0,
              "ticks": ""
             }
            },
            "type": "scatterternary"
           }
          ],
          "surface": [
           {
            "colorbar": {
             "outlinewidth": 0,
             "ticks": ""
            },
            "colorscale": [
             [
              0,
              "#0d0887"
             ],
             [
              0.1111111111111111,
              "#46039f"
             ],
             [
              0.2222222222222222,
              "#7201a8"
             ],
             [
              0.3333333333333333,
              "#9c179e"
             ],
             [
              0.4444444444444444,
              "#bd3786"
             ],
             [
              0.5555555555555556,
              "#d8576b"
             ],
             [
              0.6666666666666666,
              "#ed7953"
             ],
             [
              0.7777777777777778,
              "#fb9f3a"
             ],
             [
              0.8888888888888888,
              "#fdca26"
             ],
             [
              1,
              "#f0f921"
             ]
            ],
            "type": "surface"
           }
          ],
          "table": [
           {
            "cells": {
             "fill": {
              "color": "#EBF0F8"
             },
             "line": {
              "color": "white"
             }
            },
            "header": {
             "fill": {
              "color": "#C8D4E3"
             },
             "line": {
              "color": "white"
             }
            },
            "type": "table"
           }
          ]
         },
         "layout": {
          "annotationdefaults": {
           "arrowcolor": "#2a3f5f",
           "arrowhead": 0,
           "arrowwidth": 1
          },
          "autotypenumbers": "strict",
          "coloraxis": {
           "colorbar": {
            "outlinewidth": 0,
            "ticks": ""
           }
          },
          "colorscale": {
           "diverging": [
            [
             0,
             "#8e0152"
            ],
            [
             0.1,
             "#c51b7d"
            ],
            [
             0.2,
             "#de77ae"
            ],
            [
             0.3,
             "#f1b6da"
            ],
            [
             0.4,
             "#fde0ef"
            ],
            [
             0.5,
             "#f7f7f7"
            ],
            [
             0.6,
             "#e6f5d0"
            ],
            [
             0.7,
             "#b8e186"
            ],
            [
             0.8,
             "#7fbc41"
            ],
            [
             0.9,
             "#4d9221"
            ],
            [
             1,
             "#276419"
            ]
           ],
           "sequential": [
            [
             0,
             "#0d0887"
            ],
            [
             0.1111111111111111,
             "#46039f"
            ],
            [
             0.2222222222222222,
             "#7201a8"
            ],
            [
             0.3333333333333333,
             "#9c179e"
            ],
            [
             0.4444444444444444,
             "#bd3786"
            ],
            [
             0.5555555555555556,
             "#d8576b"
            ],
            [
             0.6666666666666666,
             "#ed7953"
            ],
            [
             0.7777777777777778,
             "#fb9f3a"
            ],
            [
             0.8888888888888888,
             "#fdca26"
            ],
            [
             1,
             "#f0f921"
            ]
           ],
           "sequentialminus": [
            [
             0,
             "#0d0887"
            ],
            [
             0.1111111111111111,
             "#46039f"
            ],
            [
             0.2222222222222222,
             "#7201a8"
            ],
            [
             0.3333333333333333,
             "#9c179e"
            ],
            [
             0.4444444444444444,
             "#bd3786"
            ],
            [
             0.5555555555555556,
             "#d8576b"
            ],
            [
             0.6666666666666666,
             "#ed7953"
            ],
            [
             0.7777777777777778,
             "#fb9f3a"
            ],
            [
             0.8888888888888888,
             "#fdca26"
            ],
            [
             1,
             "#f0f921"
            ]
           ]
          },
          "colorway": [
           "#636efa",
           "#EF553B",
           "#00cc96",
           "#ab63fa",
           "#FFA15A",
           "#19d3f3",
           "#FF6692",
           "#B6E880",
           "#FF97FF",
           "#FECB52"
          ],
          "font": {
           "color": "#2a3f5f"
          },
          "geo": {
           "bgcolor": "white",
           "lakecolor": "white",
           "landcolor": "#E5ECF6",
           "showlakes": true,
           "showland": true,
           "subunitcolor": "white"
          },
          "hoverlabel": {
           "align": "left"
          },
          "hovermode": "closest",
          "mapbox": {
           "style": "light"
          },
          "paper_bgcolor": "white",
          "plot_bgcolor": "#E5ECF6",
          "polar": {
           "angularaxis": {
            "gridcolor": "white",
            "linecolor": "white",
            "ticks": ""
           },
           "bgcolor": "#E5ECF6",
           "radialaxis": {
            "gridcolor": "white",
            "linecolor": "white",
            "ticks": ""
           }
          },
          "scene": {
           "xaxis": {
            "backgroundcolor": "#E5ECF6",
            "gridcolor": "white",
            "gridwidth": 2,
            "linecolor": "white",
            "showbackground": true,
            "ticks": "",
            "zerolinecolor": "white"
           },
           "yaxis": {
            "backgroundcolor": "#E5ECF6",
            "gridcolor": "white",
            "gridwidth": 2,
            "linecolor": "white",
            "showbackground": true,
            "ticks": "",
            "zerolinecolor": "white"
           },
           "zaxis": {
            "backgroundcolor": "#E5ECF6",
            "gridcolor": "white",
            "gridwidth": 2,
            "linecolor": "white",
            "showbackground": true,
            "ticks": "",
            "zerolinecolor": "white"
           }
          },
          "shapedefaults": {
           "line": {
            "color": "#2a3f5f"
           }
          },
          "ternary": {
           "aaxis": {
            "gridcolor": "white",
            "linecolor": "white",
            "ticks": ""
           },
           "baxis": {
            "gridcolor": "white",
            "linecolor": "white",
            "ticks": ""
           },
           "bgcolor": "#E5ECF6",
           "caxis": {
            "gridcolor": "white",
            "linecolor": "white",
            "ticks": ""
           }
          },
          "title": {
           "x": 0.05
          },
          "xaxis": {
           "automargin": true,
           "gridcolor": "white",
           "linecolor": "white",
           "ticks": "",
           "title": {
            "standoff": 15
           },
           "zerolinecolor": "white",
           "zerolinewidth": 2
          },
          "yaxis": {
           "automargin": true,
           "gridcolor": "white",
           "linecolor": "white",
           "ticks": "",
           "title": {
            "standoff": 15
           },
           "zerolinecolor": "white",
           "zerolinewidth": 2
          }
         }
        },
        "title": {
         "text": "Monthly Values Over Years"
        },
        "xaxis": {
         "categoryarray": [
          "January",
          "February",
          "March",
          "April",
          "May",
          "June",
          "July",
          "August",
          "September",
          "October",
          "November",
          "December"
         ],
         "categoryorder": "array",
         "title": {
          "text": "Month"
         }
        },
        "yaxis": {
         "title": {
          "text": "Value"
         }
        }
       }
      }
     },
     "metadata": {},
     "output_type": "display_data"
    }
   ],
   "source": [
    "from chart_generator import growth_over_time\n",
    "\n",
    "fig = growth_over_time(\n",
    "    category_df = dfs_dict['top_x_df'][dfs_dict['top_x_df'][category_column] == selected_category].copy(),\n",
    "    date_column = date_column,\n",
    "    chart_column = f'{selected_column} Movement ($)',\n",
    ")\n",
    "fig\n"
   ]
  },
  {
   "cell_type": "code",
   "execution_count": 46,
   "metadata": {},
   "outputs": [
    {
     "data": {
      "text/html": [
       "<div>\n",
       "<style scoped>\n",
       "    .dataframe tbody tr th:only-of-type {\n",
       "        vertical-align: middle;\n",
       "    }\n",
       "\n",
       "    .dataframe tbody tr th {\n",
       "        vertical-align: top;\n",
       "    }\n",
       "\n",
       "    .dataframe thead th {\n",
       "        text-align: right;\n",
       "    }\n",
       "</style>\n",
       "<table border=\"1\" class=\"dataframe\">\n",
       "  <thead>\n",
       "    <tr style=\"text-align: right;\">\n",
       "      <th></th>\n",
       "      <th>Period</th>\n",
       "      <th>Institution Name</th>\n",
       "      <th>Business Loans</th>\n",
       "      <th>Business Loans Movement ($)</th>\n",
       "      <th>Business Loans Movement (%)</th>\n",
       "    </tr>\n",
       "  </thead>\n",
       "  <tbody>\n",
       "    <tr>\n",
       "      <th>0</th>\n",
       "      <td>2019-03-31</td>\n",
       "      <td>Australia and New Zealand Banking Group Limited</td>\n",
       "      <td>1.305555e+11</td>\n",
       "      <td>NaN</td>\n",
       "      <td>NaN</td>\n",
       "    </tr>\n",
       "    <tr>\n",
       "      <th>17</th>\n",
       "      <td>2019-04-30</td>\n",
       "      <td>Australia and New Zealand Banking Group Limited</td>\n",
       "      <td>1.265449e+11</td>\n",
       "      <td>-4.010600e+09</td>\n",
       "      <td>-0.030720</td>\n",
       "    </tr>\n",
       "    <tr>\n",
       "      <th>34</th>\n",
       "      <td>2019-05-31</td>\n",
       "      <td>Australia and New Zealand Banking Group Limited</td>\n",
       "      <td>1.266298e+11</td>\n",
       "      <td>8.490000e+07</td>\n",
       "      <td>0.000671</td>\n",
       "    </tr>\n",
       "    <tr>\n",
       "      <th>51</th>\n",
       "      <td>2019-06-30</td>\n",
       "      <td>Australia and New Zealand Banking Group Limited</td>\n",
       "      <td>1.270493e+11</td>\n",
       "      <td>4.195000e+08</td>\n",
       "      <td>0.003313</td>\n",
       "    </tr>\n",
       "    <tr>\n",
       "      <th>68</th>\n",
       "      <td>2019-07-31</td>\n",
       "      <td>Australia and New Zealand Banking Group Limited</td>\n",
       "      <td>1.293160e+11</td>\n",
       "      <td>2.266700e+09</td>\n",
       "      <td>0.017841</td>\n",
       "    </tr>\n",
       "    <tr>\n",
       "      <th>...</th>\n",
       "      <td>...</td>\n",
       "      <td>...</td>\n",
       "      <td>...</td>\n",
       "      <td>...</td>\n",
       "      <td>...</td>\n",
       "    </tr>\n",
       "    <tr>\n",
       "      <th>917</th>\n",
       "      <td>2023-08-31</td>\n",
       "      <td>other</td>\n",
       "      <td>1.612986e+11</td>\n",
       "      <td>4.277000e+09</td>\n",
       "      <td>0.027238</td>\n",
       "    </tr>\n",
       "    <tr>\n",
       "      <th>934</th>\n",
       "      <td>2023-09-30</td>\n",
       "      <td>other</td>\n",
       "      <td>1.624169e+11</td>\n",
       "      <td>1.118300e+09</td>\n",
       "      <td>0.006933</td>\n",
       "    </tr>\n",
       "    <tr>\n",
       "      <th>951</th>\n",
       "      <td>2023-10-31</td>\n",
       "      <td>other</td>\n",
       "      <td>1.621575e+11</td>\n",
       "      <td>-2.594000e+08</td>\n",
       "      <td>-0.001597</td>\n",
       "    </tr>\n",
       "    <tr>\n",
       "      <th>968</th>\n",
       "      <td>2023-11-30</td>\n",
       "      <td>other</td>\n",
       "      <td>1.630558e+11</td>\n",
       "      <td>8.983000e+08</td>\n",
       "      <td>0.005540</td>\n",
       "    </tr>\n",
       "    <tr>\n",
       "      <th>985</th>\n",
       "      <td>2023-12-31</td>\n",
       "      <td>other</td>\n",
       "      <td>1.629083e+11</td>\n",
       "      <td>-1.475000e+08</td>\n",
       "      <td>-0.000905</td>\n",
       "    </tr>\n",
       "  </tbody>\n",
       "</table>\n",
       "<p>986 rows × 5 columns</p>\n",
       "</div>"
      ],
      "text/plain": [
       "        Period                                 Institution Name  \\\n",
       "0   2019-03-31  Australia and New Zealand Banking Group Limited   \n",
       "17  2019-04-30  Australia and New Zealand Banking Group Limited   \n",
       "34  2019-05-31  Australia and New Zealand Banking Group Limited   \n",
       "51  2019-06-30  Australia and New Zealand Banking Group Limited   \n",
       "68  2019-07-31  Australia and New Zealand Banking Group Limited   \n",
       "..         ...                                              ...   \n",
       "917 2023-08-31                                            other   \n",
       "934 2023-09-30                                            other   \n",
       "951 2023-10-31                                            other   \n",
       "968 2023-11-30                                            other   \n",
       "985 2023-12-31                                            other   \n",
       "\n",
       "     Business Loans  Business Loans Movement ($)  Business Loans Movement (%)  \n",
       "0      1.305555e+11                          NaN                          NaN  \n",
       "17     1.265449e+11                -4.010600e+09                    -0.030720  \n",
       "34     1.266298e+11                 8.490000e+07                     0.000671  \n",
       "51     1.270493e+11                 4.195000e+08                     0.003313  \n",
       "68     1.293160e+11                 2.266700e+09                     0.017841  \n",
       "..              ...                          ...                          ...  \n",
       "917    1.612986e+11                 4.277000e+09                     0.027238  \n",
       "934    1.624169e+11                 1.118300e+09                     0.006933  \n",
       "951    1.621575e+11                -2.594000e+08                    -0.001597  \n",
       "968    1.630558e+11                 8.983000e+08                     0.005540  \n",
       "985    1.629083e+11                -1.475000e+08                    -0.000905  \n",
       "\n",
       "[986 rows x 5 columns]"
      ]
     },
     "execution_count": 46,
     "metadata": {},
     "output_type": "execute_result"
    }
   ],
   "source": [
    "dfs_dict['top_x_df']['Business Loans Movement ($)']"
   ]
  },
  {
   "cell_type": "code",
   "execution_count": 45,
   "metadata": {},
   "outputs": [
    {
     "data": {
      "application/vnd.plotly.v1+json": {
       "config": {
        "plotlyServerURL": "https://plot.ly"
       },
       "data": [
        {
         "name": "2019",
         "type": "bar",
         "x": [
          "January",
          "February",
          "March",
          "April",
          "May",
          "June",
          "July",
          "August",
          "September",
          "October",
          "November",
          "December"
         ],
         "y": [
          null,
          null,
          11242200000,
          11241300000,
          10760500000,
          10879800000,
          10698900000,
          10955800000,
          10089400000,
          10188800000,
          10384200000,
          10518100000
         ]
        },
        {
         "name": "2020",
         "type": "bar",
         "x": [
          "January",
          "February",
          "March",
          "April",
          "May",
          "June",
          "July",
          "August",
          "September",
          "October",
          "November",
          "December"
         ],
         "y": [
          10475500000,
          10450600000,
          10600000000,
          10519600000,
          10866400000,
          10572300000,
          10160500000,
          10064900000,
          11228000000,
          11659600000,
          12068200000,
          12727900000
         ]
        },
        {
         "name": "2021",
         "type": "bar",
         "x": [
          "January",
          "February",
          "March",
          "April",
          "May",
          "June",
          "July",
          "August",
          "September",
          "October",
          "November",
          "December"
         ],
         "y": [
          12800300000,
          13324300000,
          13896400000,
          14275900000,
          14393700000,
          14952400000,
          15098800000,
          15294900000,
          15102900000,
          15242900000,
          16611500000,
          16747500000
         ]
        },
        {
         "name": "2022",
         "type": "bar",
         "x": [
          "January",
          "February",
          "March",
          "April",
          "May",
          "June",
          "July",
          "August",
          "September",
          "October",
          "November",
          "December"
         ],
         "y": [
          16734600000,
          16766500000,
          16940400000,
          17002200000,
          17056600000,
          18205500000,
          17721200000,
          17359600000,
          18638700000,
          17561200000,
          17547900000,
          17528000000
         ]
        },
        {
         "name": "2023",
         "type": "bar",
         "x": [
          "January",
          "February",
          "March",
          "April",
          "May",
          "June",
          "July",
          "August",
          "September",
          "October",
          "November",
          "December"
         ],
         "y": [
          17474700000,
          17708300000,
          17737100000,
          18023900000,
          18281400000,
          18573700000,
          18591100000,
          18610800000,
          18966600000,
          19313100000,
          19093800000,
          19808000000
         ]
        }
       ],
       "layout": {
        "barmode": "group",
        "template": {
         "data": {
          "bar": [
           {
            "error_x": {
             "color": "#2a3f5f"
            },
            "error_y": {
             "color": "#2a3f5f"
            },
            "marker": {
             "line": {
              "color": "#E5ECF6",
              "width": 0.5
             },
             "pattern": {
              "fillmode": "overlay",
              "size": 10,
              "solidity": 0.2
             }
            },
            "type": "bar"
           }
          ],
          "barpolar": [
           {
            "marker": {
             "line": {
              "color": "#E5ECF6",
              "width": 0.5
             },
             "pattern": {
              "fillmode": "overlay",
              "size": 10,
              "solidity": 0.2
             }
            },
            "type": "barpolar"
           }
          ],
          "carpet": [
           {
            "aaxis": {
             "endlinecolor": "#2a3f5f",
             "gridcolor": "white",
             "linecolor": "white",
             "minorgridcolor": "white",
             "startlinecolor": "#2a3f5f"
            },
            "baxis": {
             "endlinecolor": "#2a3f5f",
             "gridcolor": "white",
             "linecolor": "white",
             "minorgridcolor": "white",
             "startlinecolor": "#2a3f5f"
            },
            "type": "carpet"
           }
          ],
          "choropleth": [
           {
            "colorbar": {
             "outlinewidth": 0,
             "ticks": ""
            },
            "type": "choropleth"
           }
          ],
          "contour": [
           {
            "colorbar": {
             "outlinewidth": 0,
             "ticks": ""
            },
            "colorscale": [
             [
              0,
              "#0d0887"
             ],
             [
              0.1111111111111111,
              "#46039f"
             ],
             [
              0.2222222222222222,
              "#7201a8"
             ],
             [
              0.3333333333333333,
              "#9c179e"
             ],
             [
              0.4444444444444444,
              "#bd3786"
             ],
             [
              0.5555555555555556,
              "#d8576b"
             ],
             [
              0.6666666666666666,
              "#ed7953"
             ],
             [
              0.7777777777777778,
              "#fb9f3a"
             ],
             [
              0.8888888888888888,
              "#fdca26"
             ],
             [
              1,
              "#f0f921"
             ]
            ],
            "type": "contour"
           }
          ],
          "contourcarpet": [
           {
            "colorbar": {
             "outlinewidth": 0,
             "ticks": ""
            },
            "type": "contourcarpet"
           }
          ],
          "heatmap": [
           {
            "colorbar": {
             "outlinewidth": 0,
             "ticks": ""
            },
            "colorscale": [
             [
              0,
              "#0d0887"
             ],
             [
              0.1111111111111111,
              "#46039f"
             ],
             [
              0.2222222222222222,
              "#7201a8"
             ],
             [
              0.3333333333333333,
              "#9c179e"
             ],
             [
              0.4444444444444444,
              "#bd3786"
             ],
             [
              0.5555555555555556,
              "#d8576b"
             ],
             [
              0.6666666666666666,
              "#ed7953"
             ],
             [
              0.7777777777777778,
              "#fb9f3a"
             ],
             [
              0.8888888888888888,
              "#fdca26"
             ],
             [
              1,
              "#f0f921"
             ]
            ],
            "type": "heatmap"
           }
          ],
          "heatmapgl": [
           {
            "colorbar": {
             "outlinewidth": 0,
             "ticks": ""
            },
            "colorscale": [
             [
              0,
              "#0d0887"
             ],
             [
              0.1111111111111111,
              "#46039f"
             ],
             [
              0.2222222222222222,
              "#7201a8"
             ],
             [
              0.3333333333333333,
              "#9c179e"
             ],
             [
              0.4444444444444444,
              "#bd3786"
             ],
             [
              0.5555555555555556,
              "#d8576b"
             ],
             [
              0.6666666666666666,
              "#ed7953"
             ],
             [
              0.7777777777777778,
              "#fb9f3a"
             ],
             [
              0.8888888888888888,
              "#fdca26"
             ],
             [
              1,
              "#f0f921"
             ]
            ],
            "type": "heatmapgl"
           }
          ],
          "histogram": [
           {
            "marker": {
             "pattern": {
              "fillmode": "overlay",
              "size": 10,
              "solidity": 0.2
             }
            },
            "type": "histogram"
           }
          ],
          "histogram2d": [
           {
            "colorbar": {
             "outlinewidth": 0,
             "ticks": ""
            },
            "colorscale": [
             [
              0,
              "#0d0887"
             ],
             [
              0.1111111111111111,
              "#46039f"
             ],
             [
              0.2222222222222222,
              "#7201a8"
             ],
             [
              0.3333333333333333,
              "#9c179e"
             ],
             [
              0.4444444444444444,
              "#bd3786"
             ],
             [
              0.5555555555555556,
              "#d8576b"
             ],
             [
              0.6666666666666666,
              "#ed7953"
             ],
             [
              0.7777777777777778,
              "#fb9f3a"
             ],
             [
              0.8888888888888888,
              "#fdca26"
             ],
             [
              1,
              "#f0f921"
             ]
            ],
            "type": "histogram2d"
           }
          ],
          "histogram2dcontour": [
           {
            "colorbar": {
             "outlinewidth": 0,
             "ticks": ""
            },
            "colorscale": [
             [
              0,
              "#0d0887"
             ],
             [
              0.1111111111111111,
              "#46039f"
             ],
             [
              0.2222222222222222,
              "#7201a8"
             ],
             [
              0.3333333333333333,
              "#9c179e"
             ],
             [
              0.4444444444444444,
              "#bd3786"
             ],
             [
              0.5555555555555556,
              "#d8576b"
             ],
             [
              0.6666666666666666,
              "#ed7953"
             ],
             [
              0.7777777777777778,
              "#fb9f3a"
             ],
             [
              0.8888888888888888,
              "#fdca26"
             ],
             [
              1,
              "#f0f921"
             ]
            ],
            "type": "histogram2dcontour"
           }
          ],
          "mesh3d": [
           {
            "colorbar": {
             "outlinewidth": 0,
             "ticks": ""
            },
            "type": "mesh3d"
           }
          ],
          "parcoords": [
           {
            "line": {
             "colorbar": {
              "outlinewidth": 0,
              "ticks": ""
             }
            },
            "type": "parcoords"
           }
          ],
          "pie": [
           {
            "automargin": true,
            "type": "pie"
           }
          ],
          "scatter": [
           {
            "fillpattern": {
             "fillmode": "overlay",
             "size": 10,
             "solidity": 0.2
            },
            "type": "scatter"
           }
          ],
          "scatter3d": [
           {
            "line": {
             "colorbar": {
              "outlinewidth": 0,
              "ticks": ""
             }
            },
            "marker": {
             "colorbar": {
              "outlinewidth": 0,
              "ticks": ""
             }
            },
            "type": "scatter3d"
           }
          ],
          "scattercarpet": [
           {
            "marker": {
             "colorbar": {
              "outlinewidth": 0,
              "ticks": ""
             }
            },
            "type": "scattercarpet"
           }
          ],
          "scattergeo": [
           {
            "marker": {
             "colorbar": {
              "outlinewidth": 0,
              "ticks": ""
             }
            },
            "type": "scattergeo"
           }
          ],
          "scattergl": [
           {
            "marker": {
             "colorbar": {
              "outlinewidth": 0,
              "ticks": ""
             }
            },
            "type": "scattergl"
           }
          ],
          "scattermapbox": [
           {
            "marker": {
             "colorbar": {
              "outlinewidth": 0,
              "ticks": ""
             }
            },
            "type": "scattermapbox"
           }
          ],
          "scatterpolar": [
           {
            "marker": {
             "colorbar": {
              "outlinewidth": 0,
              "ticks": ""
             }
            },
            "type": "scatterpolar"
           }
          ],
          "scatterpolargl": [
           {
            "marker": {
             "colorbar": {
              "outlinewidth": 0,
              "ticks": ""
             }
            },
            "type": "scatterpolargl"
           }
          ],
          "scatterternary": [
           {
            "marker": {
             "colorbar": {
              "outlinewidth": 0,
              "ticks": ""
             }
            },
            "type": "scatterternary"
           }
          ],
          "surface": [
           {
            "colorbar": {
             "outlinewidth": 0,
             "ticks": ""
            },
            "colorscale": [
             [
              0,
              "#0d0887"
             ],
             [
              0.1111111111111111,
              "#46039f"
             ],
             [
              0.2222222222222222,
              "#7201a8"
             ],
             [
              0.3333333333333333,
              "#9c179e"
             ],
             [
              0.4444444444444444,
              "#bd3786"
             ],
             [
              0.5555555555555556,
              "#d8576b"
             ],
             [
              0.6666666666666666,
              "#ed7953"
             ],
             [
              0.7777777777777778,
              "#fb9f3a"
             ],
             [
              0.8888888888888888,
              "#fdca26"
             ],
             [
              1,
              "#f0f921"
             ]
            ],
            "type": "surface"
           }
          ],
          "table": [
           {
            "cells": {
             "fill": {
              "color": "#EBF0F8"
             },
             "line": {
              "color": "white"
             }
            },
            "header": {
             "fill": {
              "color": "#C8D4E3"
             },
             "line": {
              "color": "white"
             }
            },
            "type": "table"
           }
          ]
         },
         "layout": {
          "annotationdefaults": {
           "arrowcolor": "#2a3f5f",
           "arrowhead": 0,
           "arrowwidth": 1
          },
          "autotypenumbers": "strict",
          "coloraxis": {
           "colorbar": {
            "outlinewidth": 0,
            "ticks": ""
           }
          },
          "colorscale": {
           "diverging": [
            [
             0,
             "#8e0152"
            ],
            [
             0.1,
             "#c51b7d"
            ],
            [
             0.2,
             "#de77ae"
            ],
            [
             0.3,
             "#f1b6da"
            ],
            [
             0.4,
             "#fde0ef"
            ],
            [
             0.5,
             "#f7f7f7"
            ],
            [
             0.6,
             "#e6f5d0"
            ],
            [
             0.7,
             "#b8e186"
            ],
            [
             0.8,
             "#7fbc41"
            ],
            [
             0.9,
             "#4d9221"
            ],
            [
             1,
             "#276419"
            ]
           ],
           "sequential": [
            [
             0,
             "#0d0887"
            ],
            [
             0.1111111111111111,
             "#46039f"
            ],
            [
             0.2222222222222222,
             "#7201a8"
            ],
            [
             0.3333333333333333,
             "#9c179e"
            ],
            [
             0.4444444444444444,
             "#bd3786"
            ],
            [
             0.5555555555555556,
             "#d8576b"
            ],
            [
             0.6666666666666666,
             "#ed7953"
            ],
            [
             0.7777777777777778,
             "#fb9f3a"
            ],
            [
             0.8888888888888888,
             "#fdca26"
            ],
            [
             1,
             "#f0f921"
            ]
           ],
           "sequentialminus": [
            [
             0,
             "#0d0887"
            ],
            [
             0.1111111111111111,
             "#46039f"
            ],
            [
             0.2222222222222222,
             "#7201a8"
            ],
            [
             0.3333333333333333,
             "#9c179e"
            ],
            [
             0.4444444444444444,
             "#bd3786"
            ],
            [
             0.5555555555555556,
             "#d8576b"
            ],
            [
             0.6666666666666666,
             "#ed7953"
            ],
            [
             0.7777777777777778,
             "#fb9f3a"
            ],
            [
             0.8888888888888888,
             "#fdca26"
            ],
            [
             1,
             "#f0f921"
            ]
           ]
          },
          "colorway": [
           "#636efa",
           "#EF553B",
           "#00cc96",
           "#ab63fa",
           "#FFA15A",
           "#19d3f3",
           "#FF6692",
           "#B6E880",
           "#FF97FF",
           "#FECB52"
          ],
          "font": {
           "color": "#2a3f5f"
          },
          "geo": {
           "bgcolor": "white",
           "lakecolor": "white",
           "landcolor": "#E5ECF6",
           "showlakes": true,
           "showland": true,
           "subunitcolor": "white"
          },
          "hoverlabel": {
           "align": "left"
          },
          "hovermode": "closest",
          "mapbox": {
           "style": "light"
          },
          "paper_bgcolor": "white",
          "plot_bgcolor": "#E5ECF6",
          "polar": {
           "angularaxis": {
            "gridcolor": "white",
            "linecolor": "white",
            "ticks": ""
           },
           "bgcolor": "#E5ECF6",
           "radialaxis": {
            "gridcolor": "white",
            "linecolor": "white",
            "ticks": ""
           }
          },
          "scene": {
           "xaxis": {
            "backgroundcolor": "#E5ECF6",
            "gridcolor": "white",
            "gridwidth": 2,
            "linecolor": "white",
            "showbackground": true,
            "ticks": "",
            "zerolinecolor": "white"
           },
           "yaxis": {
            "backgroundcolor": "#E5ECF6",
            "gridcolor": "white",
            "gridwidth": 2,
            "linecolor": "white",
            "showbackground": true,
            "ticks": "",
            "zerolinecolor": "white"
           },
           "zaxis": {
            "backgroundcolor": "#E5ECF6",
            "gridcolor": "white",
            "gridwidth": 2,
            "linecolor": "white",
            "showbackground": true,
            "ticks": "",
            "zerolinecolor": "white"
           }
          },
          "shapedefaults": {
           "line": {
            "color": "#2a3f5f"
           }
          },
          "ternary": {
           "aaxis": {
            "gridcolor": "white",
            "linecolor": "white",
            "ticks": ""
           },
           "baxis": {
            "gridcolor": "white",
            "linecolor": "white",
            "ticks": ""
           },
           "bgcolor": "#E5ECF6",
           "caxis": {
            "gridcolor": "white",
            "linecolor": "white",
            "ticks": ""
           }
          },
          "title": {
           "x": 0.05
          },
          "xaxis": {
           "automargin": true,
           "gridcolor": "white",
           "linecolor": "white",
           "ticks": "",
           "title": {
            "standoff": 15
           },
           "zerolinecolor": "white",
           "zerolinewidth": 2
          },
          "yaxis": {
           "automargin": true,
           "gridcolor": "white",
           "linecolor": "white",
           "ticks": "",
           "title": {
            "standoff": 15
           },
           "zerolinecolor": "white",
           "zerolinewidth": 2
          }
         }
        },
        "title": {
         "text": "Monthly Values Over Years"
        },
        "xaxis": {
         "categoryarray": [
          "January",
          "February",
          "March",
          "April",
          "May",
          "June",
          "July",
          "August",
          "September",
          "October",
          "November",
          "December"
         ],
         "categoryorder": "array",
         "title": {
          "text": "Month"
         }
        },
        "yaxis": {
         "title": {
          "text": "Value"
         }
        }
       }
      }
     },
     "metadata": {},
     "output_type": "display_data"
    }
   ],
   "source": [
    "import pandas as pd\n",
    "import plotly.graph_objects as go\n",
    "import datetime as dt\n",
    "\n",
    "category_df = dfs_dict['top_x_df'][dfs_dict['top_x_df'][category_column] == selected_category].copy()\n",
    "category_df\n",
    "\n",
    "# Preparing the DataFrame\n",
    "category_df['Year'] = category_df[date_column].dt.year\n",
    "category_df['Month'] = category_df[date_column].dt.strftime('%B')  # Full month name\n",
    "category_df['MonthIndex'] = category_df[date_column].dt.month  # To ensure correct month sorting\n",
    "\n",
    "pivot_df = category_df.pivot_table(index=['Month', 'MonthIndex'], columns='Year', values=selected_column, aggfunc='sum').reset_index().sort_values('MonthIndex')\n",
    "pivot_df\n",
    "\n",
    "# Plotly graph\n",
    "fig = go.Figure()\n",
    "\n",
    "# Add a bar trace for each year\n",
    "for year in pivot_df.columns[2:]:  # Skipping 'Month' and 'MonthIndex' columns\n",
    "    fig.add_trace(go.Bar(\n",
    "        x=pivot_df['Month'],\n",
    "        y=pivot_df[year],\n",
    "        name=str(year),\n",
    "    ))\n",
    "\n",
    "# Customize layout\n",
    "fig.update_layout(\n",
    "    title='Monthly Values Over Years',\n",
    "    xaxis_title='Month',\n",
    "    yaxis_title='Value',\n",
    "    barmode='group',  # Grouped bar chart\n",
    "    xaxis={'categoryorder':'array', 'categoryarray':pivot_df['Month']}  # Ensure correct month order\n",
    ")\n",
    "\n",
    "# Show figure\n",
    "fig.show()"
   ]
  },
  {
   "cell_type": "code",
   "execution_count": null,
   "metadata": {},
   "outputs": [],
   "source": [
    "import pandas as pd\n",
    "import plotly.graph_objects as go\n",
    "\n",
    "# Sample data creation\n",
    "# Create a date range from January of the first year to December of the fifth year\n",
    "dates = pd.date_range(start='2016-01-01', end='2020-12-31', freq='M')\n",
    "\n",
    "# Create sample data for demonstration\n",
    "import numpy as np\n",
    "data = {\n",
    "    'Date': dates,\n",
    "    'Series1': np.random.rand(len(dates)) * 1000,  # Example data series\n",
    "    'Series2': np.random.rand(len(dates)) * 1000,  # Another example data series\n",
    "    # Add more series if needed\n",
    "}\n",
    "\n",
    "df = pd.DataFrame(data)\n",
    "\n",
    "# Convert 'Date' to datetime and extract year and month for grouping\n",
    "df['Year'] = df['Date'].dt.year\n",
    "df['Month'] = df['Date'].dt.strftime('%b')  # Convert month to abbreviated name\n",
    "\n",
    "# Plotly graph\n",
    "fig = go.Figure()\n",
    "\n",
    "# Add traces for each year\n",
    "for year in df['Year'].unique():\n",
    "    for series in ['Series1', 'Series2']:  # Loop through each data series\n",
    "        fig.add_trace(go.Bar(\n",
    "            x=df[df['Year'] == year]['Month'],\n",
    "            y=df[df['Year'] == year][series],\n",
    "            name=f'{series} {year}',\n",
    "            # Customize further as needed\n",
    "        ))\n",
    "\n",
    "# Customize layout\n",
    "fig.update_layout(\n",
    "    title='Monthly Data for 5 Years',\n",
    "    xaxis_title='Month',\n",
    "    yaxis_title='Value',\n",
    "    barmode='group',  # Use 'group' for grouped bar chart, 'stack' for stacked\n",
    ")\n",
    "\n",
    "# Show figure\n",
    "fig.show()\n"
   ]
  },
  {
   "cell_type": "code",
   "execution_count": 21,
   "metadata": {},
   "outputs": [
    {
     "data": {
      "application/vnd.plotly.v1+json": {
       "config": {
        "plotlyServerURL": "https://plot.ly"
       },
       "data": [
        {
         "alignmentgroup": "True",
         "hovertemplate": "Institution Name=%{y}<br>Business Loans=%{x}<extra></extra>",
         "legendgroup": "National Australia Bank Limited",
         "marker": {
          "color": "#2D373C",
          "pattern": {
           "shape": ""
          }
         },
         "name": "National Australia Bank Limited",
         "offsetgroup": "National Australia Bank Limited",
         "orientation": "h",
         "showlegend": true,
         "textposition": "auto",
         "type": "bar",
         "x": [
          246430500000
         ],
         "xaxis": "x",
         "y": [
          "National Australia Bank Limited"
         ],
         "yaxis": "y"
        },
        {
         "alignmentgroup": "True",
         "hovertemplate": "Institution Name=%{y}<br>Business Loans=%{x}<extra></extra>",
         "legendgroup": "Commonwealth Bank of Australia",
         "marker": {
          "color": "#fee215",
          "pattern": {
           "shape": ""
          }
         },
         "name": "Commonwealth Bank of Australia",
         "offsetgroup": "Commonwealth Bank of Australia",
         "orientation": "h",
         "showlegend": true,
         "textposition": "auto",
         "type": "bar",
         "x": [
          204025600000
         ],
         "xaxis": "x",
         "y": [
          "Commonwealth Bank of Australia"
         ],
         "yaxis": "y"
        },
        {
         "alignmentgroup": "True",
         "hovertemplate": "Institution Name=%{y}<br>Business Loans=%{x}<extra></extra>",
         "legendgroup": "Westpac Banking Corporation",
         "marker": {
          "color": "#E21D26",
          "pattern": {
           "shape": ""
          }
         },
         "name": "Westpac Banking Corporation",
         "offsetgroup": "Westpac Banking Corporation",
         "orientation": "h",
         "showlegend": true,
         "textposition": "auto",
         "type": "bar",
         "x": [
          188435400000
         ],
         "xaxis": "x",
         "y": [
          "Westpac Banking Corporation"
         ],
         "yaxis": "y"
        },
        {
         "alignmentgroup": "True",
         "hovertemplate": "Institution Name=%{y}<br>Business Loans=%{x}<extra></extra>",
         "legendgroup": "Australia and New Zealand Banking Group Limited",
         "marker": {
          "color": "#004165",
          "pattern": {
           "shape": ""
          }
         },
         "name": "Australia and New Zealand Banking Group Limited",
         "offsetgroup": "Australia and New Zealand Banking Group Limited",
         "orientation": "h",
         "showlegend": true,
         "textposition": "auto",
         "type": "bar",
         "x": [
          155933500000
         ],
         "xaxis": "x",
         "y": [
          "Australia and New Zealand Banking Group Limited"
         ],
         "yaxis": "y"
        },
        {
         "alignmentgroup": "True",
         "hovertemplate": "Institution Name=%{y}<br>Business Loans=%{x}<extra></extra>",
         "legendgroup": "Sumitomo Mitsui Banking Corporation",
         "marker": {
          "color": "#83C9FF",
          "pattern": {
           "shape": ""
          }
         },
         "name": "Sumitomo Mitsui Banking Corporation",
         "offsetgroup": "Sumitomo Mitsui Banking Corporation",
         "orientation": "h",
         "showlegend": true,
         "textposition": "auto",
         "type": "bar",
         "x": [
          29000600000
         ],
         "xaxis": "x",
         "y": [
          "Sumitomo Mitsui Banking Corporation"
         ],
         "yaxis": "y"
        },
        {
         "alignmentgroup": "True",
         "hovertemplate": "Institution Name=%{y}<br>Business Loans=%{x}<extra></extra>",
         "legendgroup": "MUFG Bank, Ltd.",
         "marker": {
          "color": "#83C9FF",
          "pattern": {
           "shape": ""
          }
         },
         "name": "MUFG Bank, Ltd.",
         "offsetgroup": "MUFG Bank, Ltd.",
         "orientation": "h",
         "showlegend": true,
         "textposition": "auto",
         "type": "bar",
         "x": [
          22273000000
         ],
         "xaxis": "x",
         "y": [
          "MUFG Bank, Ltd."
         ],
         "yaxis": "y"
        },
        {
         "alignmentgroup": "True",
         "hovertemplate": "Institution Name=%{y}<br>Business Loans=%{x}<extra></extra>",
         "legendgroup": "Bank of China Limited",
         "marker": {
          "color": "#83C9FF",
          "pattern": {
           "shape": ""
          }
         },
         "name": "Bank of China Limited",
         "offsetgroup": "Bank of China Limited",
         "orientation": "h",
         "showlegend": true,
         "textposition": "auto",
         "type": "bar",
         "x": [
          20453800000
         ],
         "xaxis": "x",
         "y": [
          "Bank of China Limited"
         ],
         "yaxis": "y"
        },
        {
         "alignmentgroup": "True",
         "hovertemplate": "Institution Name=%{y}<br>Business Loans=%{x}<extra></extra>",
         "legendgroup": "Macquarie Bank Limited",
         "marker": {
          "color": "#000000",
          "pattern": {
           "shape": ""
          }
         },
         "name": "Macquarie Bank Limited",
         "offsetgroup": "Macquarie Bank Limited",
         "orientation": "h",
         "showlegend": true,
         "textposition": "auto",
         "type": "bar",
         "x": [
          19808000000
         ],
         "xaxis": "x",
         "y": [
          "Macquarie Bank Limited"
         ],
         "yaxis": "y"
        },
        {
         "alignmentgroup": "True",
         "hovertemplate": "Institution Name=%{y}<br>Business Loans=%{x}<extra></extra>",
         "legendgroup": "Rabobank Australia Limited",
         "marker": {
          "color": "#83C9FF",
          "pattern": {
           "shape": ""
          }
         },
         "name": "Rabobank Australia Limited",
         "offsetgroup": "Rabobank Australia Limited",
         "orientation": "h",
         "showlegend": true,
         "textposition": "auto",
         "type": "bar",
         "x": [
          19632400000
         ],
         "xaxis": "x",
         "y": [
          "Rabobank Australia Limited"
         ],
         "yaxis": "y"
        },
        {
         "alignmentgroup": "True",
         "hovertemplate": "Institution Name=%{y}<br>Business Loans=%{x}<extra></extra>",
         "legendgroup": "Bank of America, National Association",
         "marker": {
          "color": "#83C9FF",
          "pattern": {
           "shape": ""
          }
         },
         "name": "Bank of America, National Association",
         "offsetgroup": "Bank of America, National Association",
         "orientation": "h",
         "showlegend": true,
         "textposition": "auto",
         "type": "bar",
         "x": [
          19404200000
         ],
         "xaxis": "x",
         "y": [
          "Bank of America, National Association"
         ],
         "yaxis": "y"
        },
        {
         "alignmentgroup": "True",
         "hovertemplate": "Institution Name=%{y}<br>Business Loans=%{x}<extra></extra>",
         "legendgroup": "Mizuho Bank, Ltd.",
         "marker": {
          "color": "#83C9FF",
          "pattern": {
           "shape": ""
          }
         },
         "name": "Mizuho Bank, Ltd.",
         "offsetgroup": "Mizuho Bank, Ltd.",
         "orientation": "h",
         "showlegend": true,
         "textposition": "auto",
         "type": "bar",
         "x": [
          19301200000
         ],
         "xaxis": "x",
         "y": [
          "Mizuho Bank, Ltd."
         ],
         "yaxis": "y"
        },
        {
         "alignmentgroup": "True",
         "hovertemplate": "Institution Name=%{y}<br>Business Loans=%{x}<extra></extra>",
         "legendgroup": "Bendigo and Adelaide Bank Limited",
         "marker": {
          "color": "#83C9FF",
          "pattern": {
           "shape": ""
          }
         },
         "name": "Bendigo and Adelaide Bank Limited",
         "offsetgroup": "Bendigo and Adelaide Bank Limited",
         "orientation": "h",
         "showlegend": true,
         "textposition": "auto",
         "type": "bar",
         "x": [
          16223300000
         ],
         "xaxis": "x",
         "y": [
          "Bendigo and Adelaide Bank Limited"
         ],
         "yaxis": "y"
        },
        {
         "alignmentgroup": "True",
         "hovertemplate": "Institution Name=%{y}<br>Business Loans=%{x}<extra></extra>",
         "legendgroup": "The Hongkong and Shanghai Banking Corporation Limited",
         "marker": {
          "color": "#83C9FF",
          "pattern": {
           "shape": ""
          }
         },
         "name": "The Hongkong and Shanghai Banking Corporation Limited",
         "offsetgroup": "The Hongkong and Shanghai Banking Corporation Limited",
         "orientation": "h",
         "showlegend": true,
         "textposition": "auto",
         "type": "bar",
         "x": [
          14831900000
         ],
         "xaxis": "x",
         "y": [
          "The Hongkong and Shanghai Banking Corporation Limited"
         ],
         "yaxis": "y"
        },
        {
         "alignmentgroup": "True",
         "hovertemplate": "Institution Name=%{y}<br>Business Loans=%{x}<extra></extra>",
         "legendgroup": "Bank of Queensland Limited",
         "marker": {
          "color": "#83C9FF",
          "pattern": {
           "shape": ""
          }
         },
         "name": "Bank of Queensland Limited",
         "offsetgroup": "Bank of Queensland Limited",
         "orientation": "h",
         "showlegend": true,
         "textposition": "auto",
         "type": "bar",
         "x": [
          13834500000
         ],
         "xaxis": "x",
         "y": [
          "Bank of Queensland Limited"
         ],
         "yaxis": "y"
        },
        {
         "alignmentgroup": "True",
         "hovertemplate": "Institution Name=%{y}<br>Business Loans=%{x}<extra></extra>",
         "legendgroup": "ING Bank (Australia) Limited",
         "marker": {
          "color": "#83C9FF",
          "pattern": {
           "shape": ""
          }
         },
         "name": "ING Bank (Australia) Limited",
         "offsetgroup": "ING Bank (Australia) Limited",
         "orientation": "h",
         "showlegend": true,
         "textposition": "auto",
         "type": "bar",
         "x": [
          13698900000
         ],
         "xaxis": "x",
         "y": [
          "ING Bank (Australia) Limited"
         ],
         "yaxis": "y"
        },
        {
         "alignmentgroup": "True",
         "hovertemplate": "Institution Name=%{y}<br>Business Loans=%{x}<extra></extra>",
         "legendgroup": "Suncorp-Metway Limited",
         "marker": {
          "color": "#83C9FF",
          "pattern": {
           "shape": ""
          }
         },
         "name": "Suncorp-Metway Limited",
         "offsetgroup": "Suncorp-Metway Limited",
         "orientation": "h",
         "showlegend": true,
         "textposition": "auto",
         "type": "bar",
         "x": [
          13439500000
         ],
         "xaxis": "x",
         "y": [
          "Suncorp-Metway Limited"
         ],
         "yaxis": "y"
        },
        {
         "alignmentgroup": "True",
         "hovertemplate": "Institution Name=%{y}<br>Business Loans=%{x}<extra></extra>",
         "legendgroup": "other",
         "marker": {
          "color": "#83C9FF",
          "pattern": {
           "shape": ""
          }
         },
         "name": "other",
         "offsetgroup": "other",
         "orientation": "h",
         "showlegend": true,
         "textposition": "auto",
         "type": "bar",
         "x": [
          162908300000
         ],
         "xaxis": "x",
         "y": [
          "other"
         ],
         "yaxis": "y"
        }
       ],
       "layout": {
        "barmode": "relative",
        "height": 800,
        "legend": {
         "orientation": "h",
         "title": {
          "text": "Institution Name"
         },
         "tracegroupgap": 0,
         "x": 1,
         "xanchor": "right",
         "y": 1.02,
         "yanchor": "bottom"
        },
        "showlegend": false,
        "template": {
         "data": {
          "bar": [
           {
            "error_x": {
             "color": "#2a3f5f"
            },
            "error_y": {
             "color": "#2a3f5f"
            },
            "marker": {
             "line": {
              "color": "#E5ECF6",
              "width": 0.5
             },
             "pattern": {
              "fillmode": "overlay",
              "size": 10,
              "solidity": 0.2
             }
            },
            "type": "bar"
           }
          ],
          "barpolar": [
           {
            "marker": {
             "line": {
              "color": "#E5ECF6",
              "width": 0.5
             },
             "pattern": {
              "fillmode": "overlay",
              "size": 10,
              "solidity": 0.2
             }
            },
            "type": "barpolar"
           }
          ],
          "carpet": [
           {
            "aaxis": {
             "endlinecolor": "#2a3f5f",
             "gridcolor": "white",
             "linecolor": "white",
             "minorgridcolor": "white",
             "startlinecolor": "#2a3f5f"
            },
            "baxis": {
             "endlinecolor": "#2a3f5f",
             "gridcolor": "white",
             "linecolor": "white",
             "minorgridcolor": "white",
             "startlinecolor": "#2a3f5f"
            },
            "type": "carpet"
           }
          ],
          "choropleth": [
           {
            "colorbar": {
             "outlinewidth": 0,
             "ticks": ""
            },
            "type": "choropleth"
           }
          ],
          "contour": [
           {
            "colorbar": {
             "outlinewidth": 0,
             "ticks": ""
            },
            "colorscale": [
             [
              0,
              "#0d0887"
             ],
             [
              0.1111111111111111,
              "#46039f"
             ],
             [
              0.2222222222222222,
              "#7201a8"
             ],
             [
              0.3333333333333333,
              "#9c179e"
             ],
             [
              0.4444444444444444,
              "#bd3786"
             ],
             [
              0.5555555555555556,
              "#d8576b"
             ],
             [
              0.6666666666666666,
              "#ed7953"
             ],
             [
              0.7777777777777778,
              "#fb9f3a"
             ],
             [
              0.8888888888888888,
              "#fdca26"
             ],
             [
              1,
              "#f0f921"
             ]
            ],
            "type": "contour"
           }
          ],
          "contourcarpet": [
           {
            "colorbar": {
             "outlinewidth": 0,
             "ticks": ""
            },
            "type": "contourcarpet"
           }
          ],
          "heatmap": [
           {
            "colorbar": {
             "outlinewidth": 0,
             "ticks": ""
            },
            "colorscale": [
             [
              0,
              "#0d0887"
             ],
             [
              0.1111111111111111,
              "#46039f"
             ],
             [
              0.2222222222222222,
              "#7201a8"
             ],
             [
              0.3333333333333333,
              "#9c179e"
             ],
             [
              0.4444444444444444,
              "#bd3786"
             ],
             [
              0.5555555555555556,
              "#d8576b"
             ],
             [
              0.6666666666666666,
              "#ed7953"
             ],
             [
              0.7777777777777778,
              "#fb9f3a"
             ],
             [
              0.8888888888888888,
              "#fdca26"
             ],
             [
              1,
              "#f0f921"
             ]
            ],
            "type": "heatmap"
           }
          ],
          "heatmapgl": [
           {
            "colorbar": {
             "outlinewidth": 0,
             "ticks": ""
            },
            "colorscale": [
             [
              0,
              "#0d0887"
             ],
             [
              0.1111111111111111,
              "#46039f"
             ],
             [
              0.2222222222222222,
              "#7201a8"
             ],
             [
              0.3333333333333333,
              "#9c179e"
             ],
             [
              0.4444444444444444,
              "#bd3786"
             ],
             [
              0.5555555555555556,
              "#d8576b"
             ],
             [
              0.6666666666666666,
              "#ed7953"
             ],
             [
              0.7777777777777778,
              "#fb9f3a"
             ],
             [
              0.8888888888888888,
              "#fdca26"
             ],
             [
              1,
              "#f0f921"
             ]
            ],
            "type": "heatmapgl"
           }
          ],
          "histogram": [
           {
            "marker": {
             "pattern": {
              "fillmode": "overlay",
              "size": 10,
              "solidity": 0.2
             }
            },
            "type": "histogram"
           }
          ],
          "histogram2d": [
           {
            "colorbar": {
             "outlinewidth": 0,
             "ticks": ""
            },
            "colorscale": [
             [
              0,
              "#0d0887"
             ],
             [
              0.1111111111111111,
              "#46039f"
             ],
             [
              0.2222222222222222,
              "#7201a8"
             ],
             [
              0.3333333333333333,
              "#9c179e"
             ],
             [
              0.4444444444444444,
              "#bd3786"
             ],
             [
              0.5555555555555556,
              "#d8576b"
             ],
             [
              0.6666666666666666,
              "#ed7953"
             ],
             [
              0.7777777777777778,
              "#fb9f3a"
             ],
             [
              0.8888888888888888,
              "#fdca26"
             ],
             [
              1,
              "#f0f921"
             ]
            ],
            "type": "histogram2d"
           }
          ],
          "histogram2dcontour": [
           {
            "colorbar": {
             "outlinewidth": 0,
             "ticks": ""
            },
            "colorscale": [
             [
              0,
              "#0d0887"
             ],
             [
              0.1111111111111111,
              "#46039f"
             ],
             [
              0.2222222222222222,
              "#7201a8"
             ],
             [
              0.3333333333333333,
              "#9c179e"
             ],
             [
              0.4444444444444444,
              "#bd3786"
             ],
             [
              0.5555555555555556,
              "#d8576b"
             ],
             [
              0.6666666666666666,
              "#ed7953"
             ],
             [
              0.7777777777777778,
              "#fb9f3a"
             ],
             [
              0.8888888888888888,
              "#fdca26"
             ],
             [
              1,
              "#f0f921"
             ]
            ],
            "type": "histogram2dcontour"
           }
          ],
          "mesh3d": [
           {
            "colorbar": {
             "outlinewidth": 0,
             "ticks": ""
            },
            "type": "mesh3d"
           }
          ],
          "parcoords": [
           {
            "line": {
             "colorbar": {
              "outlinewidth": 0,
              "ticks": ""
             }
            },
            "type": "parcoords"
           }
          ],
          "pie": [
           {
            "automargin": true,
            "type": "pie"
           }
          ],
          "scatter": [
           {
            "fillpattern": {
             "fillmode": "overlay",
             "size": 10,
             "solidity": 0.2
            },
            "type": "scatter"
           }
          ],
          "scatter3d": [
           {
            "line": {
             "colorbar": {
              "outlinewidth": 0,
              "ticks": ""
             }
            },
            "marker": {
             "colorbar": {
              "outlinewidth": 0,
              "ticks": ""
             }
            },
            "type": "scatter3d"
           }
          ],
          "scattercarpet": [
           {
            "marker": {
             "colorbar": {
              "outlinewidth": 0,
              "ticks": ""
             }
            },
            "type": "scattercarpet"
           }
          ],
          "scattergeo": [
           {
            "marker": {
             "colorbar": {
              "outlinewidth": 0,
              "ticks": ""
             }
            },
            "type": "scattergeo"
           }
          ],
          "scattergl": [
           {
            "marker": {
             "colorbar": {
              "outlinewidth": 0,
              "ticks": ""
             }
            },
            "type": "scattergl"
           }
          ],
          "scattermapbox": [
           {
            "marker": {
             "colorbar": {
              "outlinewidth": 0,
              "ticks": ""
             }
            },
            "type": "scattermapbox"
           }
          ],
          "scatterpolar": [
           {
            "marker": {
             "colorbar": {
              "outlinewidth": 0,
              "ticks": ""
             }
            },
            "type": "scatterpolar"
           }
          ],
          "scatterpolargl": [
           {
            "marker": {
             "colorbar": {
              "outlinewidth": 0,
              "ticks": ""
             }
            },
            "type": "scatterpolargl"
           }
          ],
          "scatterternary": [
           {
            "marker": {
             "colorbar": {
              "outlinewidth": 0,
              "ticks": ""
             }
            },
            "type": "scatterternary"
           }
          ],
          "surface": [
           {
            "colorbar": {
             "outlinewidth": 0,
             "ticks": ""
            },
            "colorscale": [
             [
              0,
              "#0d0887"
             ],
             [
              0.1111111111111111,
              "#46039f"
             ],
             [
              0.2222222222222222,
              "#7201a8"
             ],
             [
              0.3333333333333333,
              "#9c179e"
             ],
             [
              0.4444444444444444,
              "#bd3786"
             ],
             [
              0.5555555555555556,
              "#d8576b"
             ],
             [
              0.6666666666666666,
              "#ed7953"
             ],
             [
              0.7777777777777778,
              "#fb9f3a"
             ],
             [
              0.8888888888888888,
              "#fdca26"
             ],
             [
              1,
              "#f0f921"
             ]
            ],
            "type": "surface"
           }
          ],
          "table": [
           {
            "cells": {
             "fill": {
              "color": "#EBF0F8"
             },
             "line": {
              "color": "white"
             }
            },
            "header": {
             "fill": {
              "color": "#C8D4E3"
             },
             "line": {
              "color": "white"
             }
            },
            "type": "table"
           }
          ]
         },
         "layout": {
          "annotationdefaults": {
           "arrowcolor": "#2a3f5f",
           "arrowhead": 0,
           "arrowwidth": 1
          },
          "autotypenumbers": "strict",
          "coloraxis": {
           "colorbar": {
            "outlinewidth": 0,
            "ticks": ""
           }
          },
          "colorscale": {
           "diverging": [
            [
             0,
             "#8e0152"
            ],
            [
             0.1,
             "#c51b7d"
            ],
            [
             0.2,
             "#de77ae"
            ],
            [
             0.3,
             "#f1b6da"
            ],
            [
             0.4,
             "#fde0ef"
            ],
            [
             0.5,
             "#f7f7f7"
            ],
            [
             0.6,
             "#e6f5d0"
            ],
            [
             0.7,
             "#b8e186"
            ],
            [
             0.8,
             "#7fbc41"
            ],
            [
             0.9,
             "#4d9221"
            ],
            [
             1,
             "#276419"
            ]
           ],
           "sequential": [
            [
             0,
             "#0d0887"
            ],
            [
             0.1111111111111111,
             "#46039f"
            ],
            [
             0.2222222222222222,
             "#7201a8"
            ],
            [
             0.3333333333333333,
             "#9c179e"
            ],
            [
             0.4444444444444444,
             "#bd3786"
            ],
            [
             0.5555555555555556,
             "#d8576b"
            ],
            [
             0.6666666666666666,
             "#ed7953"
            ],
            [
             0.7777777777777778,
             "#fb9f3a"
            ],
            [
             0.8888888888888888,
             "#fdca26"
            ],
            [
             1,
             "#f0f921"
            ]
           ],
           "sequentialminus": [
            [
             0,
             "#0d0887"
            ],
            [
             0.1111111111111111,
             "#46039f"
            ],
            [
             0.2222222222222222,
             "#7201a8"
            ],
            [
             0.3333333333333333,
             "#9c179e"
            ],
            [
             0.4444444444444444,
             "#bd3786"
            ],
            [
             0.5555555555555556,
             "#d8576b"
            ],
            [
             0.6666666666666666,
             "#ed7953"
            ],
            [
             0.7777777777777778,
             "#fb9f3a"
            ],
            [
             0.8888888888888888,
             "#fdca26"
            ],
            [
             1,
             "#f0f921"
            ]
           ]
          },
          "colorway": [
           "#636efa",
           "#EF553B",
           "#00cc96",
           "#ab63fa",
           "#FFA15A",
           "#19d3f3",
           "#FF6692",
           "#B6E880",
           "#FF97FF",
           "#FECB52"
          ],
          "font": {
           "color": "#2a3f5f"
          },
          "geo": {
           "bgcolor": "white",
           "lakecolor": "white",
           "landcolor": "#E5ECF6",
           "showlakes": true,
           "showland": true,
           "subunitcolor": "white"
          },
          "hoverlabel": {
           "align": "left"
          },
          "hovermode": "closest",
          "mapbox": {
           "style": "light"
          },
          "paper_bgcolor": "white",
          "plot_bgcolor": "#E5ECF6",
          "polar": {
           "angularaxis": {
            "gridcolor": "white",
            "linecolor": "white",
            "ticks": ""
           },
           "bgcolor": "#E5ECF6",
           "radialaxis": {
            "gridcolor": "white",
            "linecolor": "white",
            "ticks": ""
           }
          },
          "scene": {
           "xaxis": {
            "backgroundcolor": "#E5ECF6",
            "gridcolor": "white",
            "gridwidth": 2,
            "linecolor": "white",
            "showbackground": true,
            "ticks": "",
            "zerolinecolor": "white"
           },
           "yaxis": {
            "backgroundcolor": "#E5ECF6",
            "gridcolor": "white",
            "gridwidth": 2,
            "linecolor": "white",
            "showbackground": true,
            "ticks": "",
            "zerolinecolor": "white"
           },
           "zaxis": {
            "backgroundcolor": "#E5ECF6",
            "gridcolor": "white",
            "gridwidth": 2,
            "linecolor": "white",
            "showbackground": true,
            "ticks": "",
            "zerolinecolor": "white"
           }
          },
          "shapedefaults": {
           "line": {
            "color": "#2a3f5f"
           }
          },
          "ternary": {
           "aaxis": {
            "gridcolor": "white",
            "linecolor": "white",
            "ticks": ""
           },
           "baxis": {
            "gridcolor": "white",
            "linecolor": "white",
            "ticks": ""
           },
           "bgcolor": "#E5ECF6",
           "caxis": {
            "gridcolor": "white",
            "linecolor": "white",
            "ticks": ""
           }
          },
          "title": {
           "x": 0.05
          },
          "xaxis": {
           "automargin": true,
           "gridcolor": "white",
           "linecolor": "white",
           "ticks": "",
           "title": {
            "standoff": 15
           },
           "zerolinecolor": "white",
           "zerolinewidth": 2
          },
          "yaxis": {
           "automargin": true,
           "gridcolor": "white",
           "linecolor": "white",
           "ticks": "",
           "title": {
            "standoff": 15
           },
           "zerolinecolor": "white",
           "zerolinewidth": 2
          }
         }
        },
        "title": {
         "text": "Business Loans"
        },
        "xaxis": {
         "anchor": "y",
         "domain": [
          0,
          1
         ],
         "gridcolor": "Grey",
         "gridwidth": 1,
         "showgrid": true,
         "title": {
          "text": "Business Loans"
         }
        },
        "yaxis": {
         "anchor": "x",
         "categoryarray": [
          "other",
          "Suncorp-Metway Limited",
          "ING Bank (Australia) Limited",
          "Bank of Queensland Limited",
          "The Hongkong and Shanghai Banking Corporation Limited",
          "Bendigo and Adelaide Bank Limited",
          "Mizuho Bank, Ltd.",
          "Bank of America, National Association",
          "Rabobank Australia Limited",
          "Macquarie Bank Limited",
          "Bank of China Limited",
          "MUFG Bank, Ltd.",
          "Sumitomo Mitsui Banking Corporation",
          "Australia and New Zealand Banking Group Limited",
          "Westpac Banking Corporation",
          "Commonwealth Bank of Australia",
          "National Australia Bank Limited"
         ],
         "categoryorder": "array",
         "domain": [
          0,
          1
         ],
         "title": {
          "text": "Institution Name"
         }
        }
       }
      }
     },
     "metadata": {},
     "output_type": "display_data"
    }
   ],
   "source": [
    "charts_dict[selected_column]\n",
    "dfs_dict['original_df']"
   ]
  },
  {
   "cell_type": "code",
   "execution_count": null,
   "metadata": {},
   "outputs": [],
   "source": [
    "import plotly.graph_objects as go\n",
    "\n",
    "def chart_treemap(\n",
    "        categories,\n",
    "        values,\n",
    "):\n",
    "\n",
    "    # Create the treemap\n",
    "    fig = go.Figure(go.Treemap(\n",
    "        labels=categories,\n",
    "        values=values,\n",
    "        parents=[\"\"] * len(categories),  # Indicates no parent for all items\n",
    "        textinfo=\"label+value\"  # Display labels and values on the treemap\n",
    "    ))\n",
    "\n",
    "    fig.update_layout(margin=dict(t=50, l=25, r=25, b=25))\n",
    "\n",
    "    fig.show()\n",
    "\n",
    "aggregates_df = dfs_dict['aggregates_df']\n",
    "aggregates_df_dated = aggregates_df[aggregates_df[date_column] == selected_date]\n",
    "\n",
    "\n",
    "chart_treemap(\n",
    "        categories = aggregates_df_dated['Account'],\n",
    "        values = aggregates_df_dated['Value'],\n",
    ")"
   ]
  },
  {
   "cell_type": "markdown",
   "metadata": {},
   "source": [
    "# Tabs"
   ]
  },
  {
   "cell_type": "code",
   "execution_count": 33,
   "metadata": {},
   "outputs": [
    {
     "name": "stderr",
     "output_type": "stream",
     "text": [
      "INFO:utils:1.18\n",
      "INFO:utils:1.18\n"
     ]
    },
    {
     "data": {
      "text/plain": [
       "'\\\\$&nbsp;1.18&nbsp;Trn'"
      ]
     },
     "execution_count": 33,
     "metadata": {},
     "output_type": "execute_result"
    }
   ],
   "source": [
    "from utils import rounded_dollars_md, escape_dollar_signs\n",
    "\n",
    "details_dicts['ordered_category_list']\n",
    "aggregates_df = dfs_dict['aggregates_df']\n",
    "aggregates_df_account = aggregates_df[aggregates_df['Account'] == selected_column]\n",
    "\n",
    "\n",
    "rounded_dollars_md(aggregates_df_account['Value'].iloc[-1])\n",
    "aggregates_df_account['Value'].iloc[-2]\n",
    "escape_dollar_signs(rounded_dollars_md(aggregates_df_account['Value'].iloc[-1]))"
   ]
  },
  {
   "cell_type": "code",
   "execution_count": 73,
   "metadata": {},
   "outputs": [
    {
     "data": {
      "text/html": [
       "<div>\n",
       "<style scoped>\n",
       "    .dataframe tbody tr th:only-of-type {\n",
       "        vertical-align: middle;\n",
       "    }\n",
       "\n",
       "    .dataframe tbody tr th {\n",
       "        vertical-align: top;\n",
       "    }\n",
       "\n",
       "    .dataframe thead th {\n",
       "        text-align: right;\n",
       "    }\n",
       "</style>\n",
       "<table border=\"1\" class=\"dataframe\">\n",
       "  <thead>\n",
       "    <tr style=\"text-align: right;\">\n",
       "      <th></th>\n",
       "      <th>Period</th>\n",
       "      <th>Account</th>\n",
       "      <th>Value</th>\n",
       "      <th>Value Movement ($)</th>\n",
       "      <th>Value Movement (%)</th>\n",
       "    </tr>\n",
       "  </thead>\n",
       "  <tbody>\n",
       "    <tr>\n",
       "      <th>928</th>\n",
       "      <td>2019-03-31</td>\n",
       "      <td>Acceptances</td>\n",
       "      <td>2.654000e+08</td>\n",
       "      <td>NaN</td>\n",
       "      <td>NaN</td>\n",
       "    </tr>\n",
       "    <tr>\n",
       "      <th>929</th>\n",
       "      <td>2019-04-30</td>\n",
       "      <td>Acceptances</td>\n",
       "      <td>3.185000e+08</td>\n",
       "      <td>5.310000e+07</td>\n",
       "      <td>0.200075</td>\n",
       "    </tr>\n",
       "    <tr>\n",
       "      <th>930</th>\n",
       "      <td>2019-05-31</td>\n",
       "      <td>Acceptances</td>\n",
       "      <td>3.752000e+08</td>\n",
       "      <td>5.670000e+07</td>\n",
       "      <td>0.178022</td>\n",
       "    </tr>\n",
       "    <tr>\n",
       "      <th>931</th>\n",
       "      <td>2019-06-30</td>\n",
       "      <td>Acceptances</td>\n",
       "      <td>6.384000e+08</td>\n",
       "      <td>2.632000e+08</td>\n",
       "      <td>0.701493</td>\n",
       "    </tr>\n",
       "    <tr>\n",
       "      <th>932</th>\n",
       "      <td>2019-07-31</td>\n",
       "      <td>Acceptances</td>\n",
       "      <td>2.715000e+08</td>\n",
       "      <td>-3.669000e+08</td>\n",
       "      <td>-0.574718</td>\n",
       "    </tr>\n",
       "    <tr>\n",
       "      <th>...</th>\n",
       "      <td>...</td>\n",
       "      <td>...</td>\n",
       "      <td>...</td>\n",
       "      <td>...</td>\n",
       "      <td>...</td>\n",
       "    </tr>\n",
       "    <tr>\n",
       "      <th>111</th>\n",
       "      <td>2023-08-31</td>\n",
       "      <td>Trading securities</td>\n",
       "      <td>8.481230e+10</td>\n",
       "      <td>-2.611500e+09</td>\n",
       "      <td>-0.029872</td>\n",
       "    </tr>\n",
       "    <tr>\n",
       "      <th>112</th>\n",
       "      <td>2023-09-30</td>\n",
       "      <td>Trading securities</td>\n",
       "      <td>8.460500e+10</td>\n",
       "      <td>-2.073000e+08</td>\n",
       "      <td>-0.002444</td>\n",
       "    </tr>\n",
       "    <tr>\n",
       "      <th>113</th>\n",
       "      <td>2023-10-31</td>\n",
       "      <td>Trading securities</td>\n",
       "      <td>8.424410e+10</td>\n",
       "      <td>-3.609000e+08</td>\n",
       "      <td>-0.004266</td>\n",
       "    </tr>\n",
       "    <tr>\n",
       "      <th>114</th>\n",
       "      <td>2023-11-30</td>\n",
       "      <td>Trading securities</td>\n",
       "      <td>9.157700e+10</td>\n",
       "      <td>7.332900e+09</td>\n",
       "      <td>0.087043</td>\n",
       "    </tr>\n",
       "    <tr>\n",
       "      <th>115</th>\n",
       "      <td>2023-12-31</td>\n",
       "      <td>Trading securities</td>\n",
       "      <td>9.317160e+10</td>\n",
       "      <td>1.594600e+09</td>\n",
       "      <td>0.017413</td>\n",
       "    </tr>\n",
       "  </tbody>\n",
       "</table>\n",
       "<p>1624 rows × 5 columns</p>\n",
       "</div>"
      ],
      "text/plain": [
       "        Period             Account         Value  Value Movement ($)  \\\n",
       "928 2019-03-31         Acceptances  2.654000e+08                 NaN   \n",
       "929 2019-04-30         Acceptances  3.185000e+08        5.310000e+07   \n",
       "930 2019-05-31         Acceptances  3.752000e+08        5.670000e+07   \n",
       "931 2019-06-30         Acceptances  6.384000e+08        2.632000e+08   \n",
       "932 2019-07-31         Acceptances  2.715000e+08       -3.669000e+08   \n",
       "..         ...                 ...           ...                 ...   \n",
       "111 2023-08-31  Trading securities  8.481230e+10       -2.611500e+09   \n",
       "112 2023-09-30  Trading securities  8.460500e+10       -2.073000e+08   \n",
       "113 2023-10-31  Trading securities  8.424410e+10       -3.609000e+08   \n",
       "114 2023-11-30  Trading securities  9.157700e+10        7.332900e+09   \n",
       "115 2023-12-31  Trading securities  9.317160e+10        1.594600e+09   \n",
       "\n",
       "     Value Movement (%)  \n",
       "928                 NaN  \n",
       "929            0.200075  \n",
       "930            0.178022  \n",
       "931            0.701493  \n",
       "932           -0.574718  \n",
       "..                  ...  \n",
       "111           -0.029872  \n",
       "112           -0.002444  \n",
       "113           -0.004266  \n",
       "114            0.087043  \n",
       "115            0.017413  \n",
       "\n",
       "[1624 rows x 5 columns]"
      ]
     },
     "execution_count": 73,
     "metadata": {},
     "output_type": "execute_result"
    }
   ],
   "source": [
    "aggregates_df_account\n",
    "dfs_dict['aggregates_df']\n",
    "# dfs_dict['top_x_df']"
   ]
  },
  {
   "cell_type": "code",
   "execution_count": 53,
   "metadata": {},
   "outputs": [
    {
     "name": "stderr",
     "output_type": "stream",
     "text": [
      "INFO:utils:1.18\n"
     ]
    },
    {
     "data": {
      "text/markdown": [
       "\\$&nbsp;1.18&nbsp;Trn"
      ],
      "text/plain": [
       "<IPython.core.display.Markdown object>"
      ]
     },
     "metadata": {},
     "output_type": "display_data"
    },
    {
     "name": "stderr",
     "output_type": "stream",
     "text": [
      "INFO:utils:1.18\n"
     ]
    },
    {
     "name": "stdout",
     "output_type": "stream",
     "text": [
      "<IPython.core.display.Markdown object>\n"
     ]
    },
    {
     "data": {
      "text/markdown": [
       "**Hi** hello"
      ],
      "text/plain": [
       "<IPython.core.display.Markdown object>"
      ]
     },
     "metadata": {},
     "output_type": "display_data"
    }
   ],
   "source": [
    "from IPython.display import display, Markdown, Latex\n",
    "display(Markdown(escape_dollar_signs(rounded_dollars_md(aggregates_df_account['Value'].iloc[-1]))))\n",
    "tst = Markdown(escape_dollar_signs(rounded_dollars_md(aggregates_df_account['Value'].iloc[-1])))\n",
    "print(tst)\n",
    "display(Markdown('**Hi** hello'))"
   ]
  },
  {
   "cell_type": "code",
   "execution_count": 49,
   "metadata": {},
   "outputs": [
    {
     "ename": "NameError",
     "evalue": "name 'reference_col' is not defined",
     "output_type": "error",
     "traceback": [
      "\u001b[1;31m---------------------------------------------------------------------------\u001b[0m",
      "\u001b[1;31mNameError\u001b[0m                                 Traceback (most recent call last)",
      "Cell \u001b[1;32mIn[49], line 2\u001b[0m\n\u001b[0;32m      1\u001b[0m escape_dollar_signs(\n\u001b[1;32m----> 2\u001b[0m         \u001b[38;5;124mf\u001b[39m\u001b[38;5;124m\"\u001b[39m\u001b[38;5;124m - The Net Total for \u001b[39m\u001b[38;5;132;01m{\u001b[39;00m\u001b[43mreference_col\u001b[49m\u001b[38;5;132;01m}\u001b[39;00m\u001b[38;5;124m is \u001b[39m\u001b[38;5;132;01m{\u001b[39;00mrounded_dollars_md(df[reference_col]\u001b[38;5;241m.\u001b[39msum())\u001b[38;5;132;01m}\u001b[39;00m\u001b[38;5;124m\"\u001b[39m\n\u001b[0;32m      3\u001b[0m     )\n",
      "\u001b[1;31mNameError\u001b[0m: name 'reference_col' is not defined"
     ]
    }
   ],
   "source": [
    "escape_dollar_signs(\n",
    "        f\" - The Net Total for {reference_col} is {rounded_dollars_md(df[reference_col].sum())}\"\n",
    "    )"
   ]
  },
  {
   "cell_type": "code",
   "execution_count": null,
   "metadata": {},
   "outputs": [],
   "source": [
    "import pandas as pd\n",
    "import numpy as np\n",
    "import matplotlib.pyplot as plt\n",
    "\n",
    "# Sample data: Months and values for Variable1 and Variable2\n",
    "data = {\n",
    "    'Date': pd.date_range(start='2023-01-01', periods=6, freq='M'),\n",
    "    'Variable1': np.random.randint(10, 50, size=6),\n",
    "    'Variable2': np.random.randint(20, 60, size=6),\n",
    "}\n",
    "\n",
    "df = pd.DataFrame(data)\n",
    "df['Total'] = df['Variable1'] + df['Variable2']\n",
    "\n",
    "# Calculate the percentage of each variable\n",
    "df['Variable1_pct'] = df['Variable1'] / df['Total']\n",
    "df['Variable2_pct'] = df['Variable2'] / df['Total']\n",
    "\n",
    "# Plotting\n",
    "fig, ax = plt.subplots(figsize=(10, 6))\n",
    "ax.stackplot(df['Date'], df['Variable1_pct'], df['Variable2_pct'], labels=['Variable1', 'Variable2'], alpha=0.8)\n",
    "\n",
    "# Formatting the plot\n",
    "ax.set_title('100% Stacked Area Chart')\n",
    "ax.set_ylabel('Percentage')\n",
    "ax.margins(0, 0)  # Remove empty space around the plot\n",
    "ax.legend(loc='upper left')\n",
    "\n",
    "plt.xticks(rotation=45)  # Rotate date labels for better readability\n",
    "plt.tight_layout()\n",
    "plt.show()\n"
   ]
  }
 ],
 "metadata": {
  "kernelspec": {
   "display_name": "Python 3",
   "language": "python",
   "name": "python3"
  },
  "language_info": {
   "codemirror_mode": {
    "name": "ipython",
    "version": 3
   },
   "file_extension": ".py",
   "mimetype": "text/x-python",
   "name": "python",
   "nbconvert_exporter": "python",
   "pygments_lexer": "ipython3",
   "version": "3.11.9"
  }
 },
 "nbformat": 4,
 "nbformat_minor": 2
}
